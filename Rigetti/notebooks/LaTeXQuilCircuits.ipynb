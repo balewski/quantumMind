{
 "cells": [
  {
   "cell_type": "code",
   "execution_count": 1,
   "metadata": {},
   "outputs": [],
   "source": [
    "import numpy as np\n",
    "from pyquil.quil import Program, Declare, MemoryReference\n",
    "from pyquil.gates import *\n",
    "from pyquil.latex import to_latex, display"
   ]
  },
  {
   "cell_type": "markdown",
   "metadata": {},
   "source": [
    "# Basic Functionality: LaTeX generation and inline IPython display\n",
    "\n",
    "There are two main functions exposed:\n",
    "\n",
    "- `to_latex` produces LaTeX source code for producing figures.\n",
    "- `display` renders to an `IPython.display.Image` object.\n",
    "\n",
    "**NOTE**: The `display` function requires that `pdflatex` and Imagemagick's `convert` are installed and available in the user's path."
   ]
  },
  {
   "cell_type": "code",
   "execution_count": 2,
   "metadata": {},
   "outputs": [
    {
     "name": "stdout",
     "output_type": "stream",
     "text": [
      "\\documentclass[convert={density=300,outext=.png}]{standalone}\n",
      "\\usepackage[margin=1in]{geometry}\n",
      "\\usepackage{tikz}\n",
      "\\usetikzlibrary{quantikz}\n",
      "\\begin{document}\n",
      "\\begin{tikzcd}\n",
      "\\lstick{\\ket{q_{0}}} & \\gate{X} & \\ctrl{1} & \\qw & \\meter{} & \\qw \\\\\n",
      "\\lstick{\\ket{q_{1}}} & \\qw & \\targ{} & \\gate{H} & \\meter{} & \\qw\n",
      "\\end{tikzcd}\n",
      "\\end{document}\n"
     ]
    }
   ],
   "source": [
    "p = Program()\n",
    "ro = p.declare('ro', 'BIT', 2)\n",
    "p += X(0)\n",
    "p += CNOT(0, 1)\n",
    "p += H(1)\n",
    "p += MEASURE(0, ro[0])\n",
    "p += MEASURE(1, ro[1])\n",
    "\n",
    "print(to_latex(p))"
   ]
  },
  {
   "cell_type": "code",
   "execution_count": 3,
   "metadata": {},
   "outputs": [
    {
     "ename": "FileNotFoundError",
     "evalue": "Unable to locate 'pdflatex'.",
     "output_type": "error",
     "traceback": [
      "\u001b[0;31m---------------------------------------------------------------------------\u001b[0m",
      "\u001b[0;31mFileNotFoundError\u001b[0m                         Traceback (most recent call last)",
      "\u001b[0;32m/tmp/ipykernel_137/1755809031.py\u001b[0m in \u001b[0;36m<module>\u001b[0;34m\u001b[0m\n\u001b[1;32m      1\u001b[0m \u001b[0;31m# extra kwargs are passed are passed straight to `IPython.display.Image`\u001b[0m\u001b[0;34m\u001b[0m\u001b[0;34m\u001b[0m\u001b[0;34m\u001b[0m\u001b[0m\n\u001b[0;32m----> 2\u001b[0;31m \u001b[0mdisplay\u001b[0m\u001b[0;34m(\u001b[0m\u001b[0mp\u001b[0m\u001b[0;34m,\u001b[0m \u001b[0mwidth\u001b[0m\u001b[0;34m=\u001b[0m\u001b[0;36m300\u001b[0m\u001b[0;34m)\u001b[0m\u001b[0;34m\u001b[0m\u001b[0;34m\u001b[0m\u001b[0m\n\u001b[0m",
      "\u001b[0;32m/usr/local/lib/python3.7/site-packages/pyquil/latex/_ipython.py\u001b[0m in \u001b[0;36mdisplay\u001b[0;34m(circuit, settings, **image_options)\u001b[0m\n\u001b[1;32m     52\u001b[0m \u001b[0;34m\u001b[0m\u001b[0m\n\u001b[1;32m     53\u001b[0m     \u001b[0;32mif\u001b[0m \u001b[0mpdflatex_path\u001b[0m \u001b[0;32mis\u001b[0m \u001b[0;32mNone\u001b[0m\u001b[0;34m:\u001b[0m\u001b[0;34m\u001b[0m\u001b[0;34m\u001b[0m\u001b[0m\n\u001b[0;32m---> 54\u001b[0;31m         \u001b[0;32mraise\u001b[0m \u001b[0mFileNotFoundError\u001b[0m\u001b[0;34m(\u001b[0m\u001b[0;34m\"Unable to locate 'pdflatex'.\"\u001b[0m\u001b[0;34m)\u001b[0m\u001b[0;34m\u001b[0m\u001b[0;34m\u001b[0m\u001b[0m\n\u001b[0m\u001b[1;32m     55\u001b[0m     \u001b[0;32mif\u001b[0m \u001b[0mconvert_path\u001b[0m \u001b[0;32mis\u001b[0m \u001b[0;32mNone\u001b[0m\u001b[0;34m:\u001b[0m\u001b[0;34m\u001b[0m\u001b[0;34m\u001b[0m\u001b[0m\n\u001b[1;32m     56\u001b[0m         \u001b[0;32mraise\u001b[0m \u001b[0mFileNotFoundError\u001b[0m\u001b[0;34m(\u001b[0m\u001b[0;34m\"Unable to locate 'convert'.\"\u001b[0m\u001b[0;34m)\u001b[0m\u001b[0;34m\u001b[0m\u001b[0;34m\u001b[0m\u001b[0m\n",
      "\u001b[0;31mFileNotFoundError\u001b[0m: Unable to locate 'pdflatex'."
     ]
    }
   ],
   "source": [
    "# extra kwargs are passed are passed straight to `IPython.display.Image`\n",
    "display(p, width=300)"
   ]
  },
  {
   "cell_type": "markdown",
   "metadata": {},
   "source": [
    "# Controlling display through DiagramSettings\n",
    "\n",
    "Certain options may be controlled via a `DiagramSettings` object, which may be provided to either `to_latex` or `display`. For more info, read the docstrings on `DiagramSettings`!"
   ]
  },
  {
   "cell_type": "code",
   "execution_count": null,
   "metadata": {},
   "outputs": [],
   "source": [
    "from pyquil.latex import DiagramSettings\n",
    "\n",
    "custom_p = Program()\n",
    "custom_p += RX(np.pi/2, 0)\n",
    "custom_p += RX(np.pi/2, 1)\n",
    "custom_p += CNOT(0,1)\n",
    "custom_p += X(1).dagger()\n",
    "\n",
    "settings = DiagramSettings(\n",
    "    label_qubit_lines=False,  # no leading q_0, q_1\n",
    "    abbreviate_controlled_rotations=True,  # RX(pi/2) -> X_{pi/2}\n",
    ")\n",
    "\n",
    "display(custom_p, settings, width=300)"
   ]
  },
  {
   "cell_type": "markdown",
   "metadata": {},
   "source": [
    "# Controlling layout via gate groups\n",
    "\n",
    "In general, we do not give much explicit control over circuit layout. One exception is if a subcircuit should be grouped together (for example, to label this within the larger figure). The mechanism exposed for this is via two new pragmas:\n",
    "- `PRAGMA LATEX_GATE_GROUP <name>?` marks a start of a block of instructions for rendering as a group. If a string `<name>` is provided, this will serve as a label in the resulting diagram.\n",
    "- `PRAGMA END_LATEX_GATE_GROUP` marks the end of a grouped block of instructions."
   ]
  },
  {
   "cell_type": "code",
   "execution_count": null,
   "metadata": {},
   "outputs": [],
   "source": [
    "cool_p = Program(\"\"\"H 1\n",
    "CNOT 2 1\n",
    "DAGGER T 1\n",
    "CNOT 0 1\n",
    "T 1\n",
    "CNOT 2 1\n",
    "PRAGMA LATEX_GATE_GROUP \"cool gates\"\n",
    "DAGGER T 1\n",
    "CNOT 0 1\n",
    "SWAP 0 1\n",
    "T 0\n",
    "PRAGMA END_LATEX_GATE_GROUP\n",
    "DAGGER T 2\n",
    "CNOT 1 2\n",
    "H 0\n",
    "DAGGER T 2\n",
    "CNOT 1 2\n",
    "T 0\n",
    "S 2\n",
    "\"\"\")\n",
    "\n",
    "display(cool_p)"
   ]
  }
 ],
 "metadata": {
  "kernelspec": {
   "display_name": "Python 3 (ipykernel)",
   "language": "python",
   "name": "python3"
  },
  "language_info": {
   "codemirror_mode": {
    "name": "ipython",
    "version": 3
   },
   "file_extension": ".py",
   "mimetype": "text/x-python",
   "name": "python",
   "nbconvert_exporter": "python",
   "pygments_lexer": "ipython3",
   "version": "3.7.14"
  },
  "toc": {
   "base_numbering": 1,
   "nav_menu": {},
   "number_sections": true,
   "sideBar": true,
   "skip_h1_title": false,
   "title_cell": "Table of Contents",
   "title_sidebar": "Contents",
   "toc_cell": false,
   "toc_position": {},
   "toc_section_display": true,
   "toc_window_display": false
  }
 },
 "nbformat": 4,
 "nbformat_minor": 4
}
