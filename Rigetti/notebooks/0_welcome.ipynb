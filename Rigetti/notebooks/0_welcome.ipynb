{
 "cells": [
  {
   "cell_type": "code",
   "execution_count": 1,
   "id": "459b57f7",
   "metadata": {},
   "outputs": [],
   "source": [
    "from pyquil import get_qc, Program\n",
    "from pyquil.gates import H, CNOT, MEASURE"
   ]
  },
  {
   "cell_type": "code",
   "execution_count": 2,
   "id": "25f78b00",
   "metadata": {},
   "outputs": [],
   "source": [
    "# fire once the servers: /src/pyquil/entrypoint.sh \n",
    "# Get a quantum virtual machine (simulator)\n",
    "qvm = get_qc(\"2q-qvm\")"
   ]
  },
  {
   "cell_type": "code",
   "execution_count": 3,
   "id": "a922a92f",
   "metadata": {},
   "outputs": [
    {
     "name": "stdout",
     "output_type": "stream",
     "text": [
      "H 0\n",
      "CNOT 0 1\n",
      "DECLARE ro BIT[2]\n",
      "MEASURE 0 ro[0]\n",
      "MEASURE 1 ro[1]\n",
      "\n"
     ]
    }
   ],
   "source": [
    "# Build a program\n",
    "p = Program()\n",
    "p += H(0)\n",
    "p += CNOT(0, 1)\n",
    "ro = p.declare(\"ro\", \"BIT\", 2)\n",
    "p += MEASURE(0, ro[0])\n",
    "p += MEASURE(1, ro[1])\n",
    "p.wrap_in_numshots_loop(10) # to perform multi-shot execution\n",
    "print(p)"
   ]
  },
  {
   "cell_type": "code",
   "execution_count": 4,
   "id": "c5feb249",
   "metadata": {},
   "outputs": [
    {
     "data": {
      "text/plain": [
       "array([[0, 0],\n",
       "       [1, 1],\n",
       "       [0, 0],\n",
       "       [0, 0],\n",
       "       [1, 1],\n",
       "       [1, 1],\n",
       "       [0, 0],\n",
       "       [0, 0],\n",
       "       [0, 0],\n",
       "       [1, 1]])"
      ]
     },
     "execution_count": 4,
     "metadata": {},
     "output_type": "execute_result"
    }
   ],
   "source": [
    "# Execute the program synchronously\n",
    "qvm.run(p).readout_data.get(\"ro\")"
   ]
  },
  {
   "cell_type": "code",
   "execution_count": 5,
   "id": "1c6ee8d3",
   "metadata": {},
   "outputs": [
    {
     "name": "stdout",
     "output_type": "stream",
     "text": [
      "[[0 0]\n",
      " [1 1]\n",
      " [0 0]\n",
      " [0 0]\n",
      " [1 1]\n",
      " [1 1]\n",
      " [1 1]\n",
      " [1 1]\n",
      " [1 1]\n",
      " [1 1]]\n"
     ]
    }
   ],
   "source": [
    "# Alternately, asynchronous execution is supported\n",
    "#  run this program on the Quantum Virtual Machine (QVM)\n",
    "executable = qvm.compile(p)\n",
    "result = qvm.run(executable)\n",
    "bitstrings = result.readout_data.get('ro')\n",
    "print(bitstrings)"
   ]
  },
  {
   "cell_type": "code",
   "execution_count": 12,
   "id": "8216dfcd",
   "metadata": {},
   "outputs": [
    {
     "name": "stdout",
     "output_type": "stream",
     "text": [
      "DECLARE ro BIT[2]\n",
      "RZ(pi/2) 0\n",
      "RX(pi/2) 0\n",
      "RZ(-pi/2) 1\n",
      "RX(pi/2) 1\n",
      "CZ 1 0\n",
      "RX(-pi/2) 1\n",
      "RZ(pi/2) 1\n",
      "MEASURE 1 ro[1]\n",
      "RZ(-pi/2) 0\n",
      "MEASURE 0 ro[0]\n",
      "HALT\n",
      "\n"
     ]
    }
   ],
   "source": [
    "print(executable)"
   ]
  },
  {
   "cell_type": "code",
   "execution_count": 14,
   "id": "4b685d01",
   "metadata": {},
   "outputs": [
    {
     "name": "stdout",
     "output_type": "stream",
     "text": [
      "DECLARE ro BIT[2]\n",
      "RZ(-pi/2) 0\n",
      "RX(-pi/2) 0\n",
      "RZ(pi) 1\n",
      "XY(pi) 0 1\n",
      "RZ(-pi/2) 0\n",
      "RX(-pi/2) 0\n",
      "RZ(pi/2) 0\n",
      "XY(pi) 0 1\n",
      "MEASURE 0 ro[0]\n",
      "RX(-pi/2) 1\n",
      "MEASURE 1 ro[1]\n",
      "HALT\n",
      "\n"
     ]
    }
   ],
   "source": [
    "# repeat the same execution on simulated HW\n",
    "device_name = 'Aspen-11'\n",
    "qvmA11 = get_qc(device_name, as_qvm=True)\n",
    "executableA11 = qvmA11.compile(p)\n",
    "print(executableA11)"
   ]
  },
  {
   "cell_type": "code",
   "execution_count": 20,
   "id": "1a41c5f0",
   "metadata": {
    "scrolled": true
   },
   "outputs": [
    {
     "ename": "AttributeError",
     "evalue": "'Program' object has no attribute 'metadata'",
     "output_type": "error",
     "traceback": [
      "\u001b[0;31m---------------------------------------------------------------------------\u001b[0m",
      "\u001b[0;31mAttributeError\u001b[0m                            Traceback (most recent call last)",
      "\u001b[0;32m/tmp/ipykernel_44/2022790035.py\u001b[0m in \u001b[0;36m<module>\u001b[0;34m\u001b[0m\n\u001b[1;32m      1\u001b[0m \u001b[0mnp\u001b[0m \u001b[0;34m=\u001b[0m \u001b[0mqvmA11\u001b[0m\u001b[0;34m.\u001b[0m\u001b[0mcompiler\u001b[0m\u001b[0;34m.\u001b[0m\u001b[0mquil_to_native_quil\u001b[0m\u001b[0;34m(\u001b[0m\u001b[0mp\u001b[0m\u001b[0;34m,\u001b[0m \u001b[0mprotoquil\u001b[0m\u001b[0;34m=\u001b[0m\u001b[0;32mTrue\u001b[0m\u001b[0;34m)\u001b[0m\u001b[0;34m\u001b[0m\u001b[0;34m\u001b[0m\u001b[0m\n\u001b[0;32m----> 2\u001b[0;31m \u001b[0mprint\u001b[0m\u001b[0;34m(\u001b[0m\u001b[0mnp\u001b[0m\u001b[0;34m.\u001b[0m\u001b[0mmetadata\u001b[0m\u001b[0;34m)\u001b[0m\u001b[0;34m\u001b[0m\u001b[0;34m\u001b[0m\u001b[0m\n\u001b[0m",
      "\u001b[0;31mAttributeError\u001b[0m: 'Program' object has no attribute 'metadata'"
     ]
    }
   ],
   "source": [
    "np = qvmA11.compiler.quil_to_native_quil(p, protoquil=True)\n",
    "print(np.metadata)"
   ]
  },
  {
   "cell_type": "code",
   "execution_count": 24,
   "id": "b8437435",
   "metadata": {},
   "outputs": [
    {
     "data": {
      "text/plain": [
       "[<DECLARE ro>,\n",
       " <Gate RZ(-pi/2) 0>,\n",
       " <Gate RX(-pi/2) 0>,\n",
       " <Gate RZ(pi) 1>,\n",
       " <Gate XY(pi) 0 1>,\n",
       " <Gate RZ(-pi/2) 0>,\n",
       " <Gate RX(-pi/2) 0>,\n",
       " <Gate RZ(pi/2) 0>,\n",
       " <Gate XY(pi) 0 1>,\n",
       " <Gate RX(-pi/2) 1>,\n",
       " <pyquil.quilbase.Measurement at 0x7f203f4e9950>,\n",
       " <pyquil.quilbase.Measurement at 0x7f203f4e9750>]"
      ]
     },
     "execution_count": 24,
     "metadata": {},
     "output_type": "execute_result"
    }
   ],
   "source": [
    "list(np)"
   ]
  },
  {
   "cell_type": "code",
   "execution_count": 25,
   "id": "3099283d",
   "metadata": {},
   "outputs": [
    {
     "name": "stdout",
     "output_type": "stream",
     "text": [
      "H 0\n",
      "CNOT 0 1\n",
      "DECLARE ro BIT[2]\n",
      "MEASURE 0 ro[0]\n",
      "MEASURE 1 ro[1]\n",
      "\n"
     ]
    }
   ],
   "source": [
    "from pyquil.quil import address_qubits\n",
    "print(address_qubits(p))"
   ]
  },
  {
   "cell_type": "code",
   "execution_count": 1,
   "id": "2d56ff72",
   "metadata": {},
   "outputs": [],
   "source": [
    "from qiskit_rigetti import RigettiQCSProvider, QuilCircuit"
   ]
  },
  {
   "cell_type": "code",
   "execution_count": null,
   "id": "18349ea1",
   "metadata": {},
   "outputs": [],
   "source": []
  }
 ],
 "metadata": {
  "kernelspec": {
   "display_name": "Python 3 (ipykernel)",
   "language": "python",
   "name": "python3"
  },
  "language_info": {
   "codemirror_mode": {
    "name": "ipython",
    "version": 3
   },
   "file_extension": ".py",
   "mimetype": "text/x-python",
   "name": "python",
   "nbconvert_exporter": "python",
   "pygments_lexer": "ipython3",
   "version": "3.7.14"
  }
 },
 "nbformat": 4,
 "nbformat_minor": 5
}
