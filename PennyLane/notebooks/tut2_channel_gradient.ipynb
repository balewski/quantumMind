{
 "cells": [
  {
   "cell_type": "markdown",
   "id": "3dfa51db-249f-45cc-9f38-d4b3d5d32185",
   "metadata": {},
   "source": [
    "### Channel gradients\n",
    "The ability to compute gradients of any operation is an essential ingredient of **quantum differentiable programming**.\n",
    "(see bottom of The ability to compute gradients of any operation is an essential ingredient of quantum differentiable programming. )\n",
    "\n",
    "Assume HW has only depolarizing channel and we want to use  gradient descent method to find p resulting with the target EV for the bell-circuit"
   ]
  },
  {
   "cell_type": "code",
   "execution_count": 34,
   "id": "07c499d4-678e-42a7-94ee-c121853b2d81",
   "metadata": {},
   "outputs": [],
   "source": [
    "import pennylane as qml\n",
    "from jax import numpy as np\n",
    "import jax\n",
    "import jaxopt\n",
    "import matplotlib.pyplot as plt\n",
    "qcstyle=\"black_white\"\n",
    "\n",
    "jax.config.update(\"jax_platform_name\", \"cpu\")\n",
    "jax.config.update('jax_enable_x64', True)\n",
    "\n",
    "# dev == backend\n",
    "dev = qml.device('default.mixed', wires=2) # density-matrix\n"
   ]
  },
  {
   "cell_type": "code",
   "execution_count": 35,
   "id": "ded39b7a-3961-4d3c-9e11-f3f9a5517b52",
   "metadata": {},
   "outputs": [
    {
     "data": {
      "image/png": "[encoded data removed]",
      "text/plain": [
       "<Figure size 600x300 with 1 Axes>"
      ]
     },
     "metadata": {},
     "output_type": "display_data"
    },
    {
     "name": "stdout",
     "output_type": "stream",
     "text": [
      "QNode EV=0.965\n"
     ]
    }
   ],
   "source": [
    "target_ev = 0.888  # observed expectation value\n",
    "\n",
    "def sigmoid(x):\n",
    "    return 1/(1+np.exp(-x))\n",
    "\n",
    "def cost(x, target):\n",
    "    return (circuit(x) - target)**2\n",
    "    \n",
    "@qml.qnode(dev)\n",
    "def circuit(x):\n",
    "    qml.Hadamard(wires=0)\n",
    "    qml.CNOT(wires=[0, 1])\n",
    "    qml.AmplitudeDamping(sigmoid(x), wires=0)  # p = sigmoid(x)\n",
    "    qml.AmplitudeDamping(sigmoid(x), wires=1)\n",
    "    return qml.expval(qml.PauliZ(0) @ qml.PauliZ(1))\n",
    "\n",
    "x0=4.0\n",
    "qml.draw_mpl(circuit, decimals=3, style=qcstyle)(x0)\n",
    "plt.show()\n",
    "print(\"QNode EV=%.3f\"%circuit(x0) )"
   ]
  },
  {
   "cell_type": "code",
   "execution_count": 41,
   "id": "e7ad47eb-2d51-4c0e-8673-93b346c92a52",
   "metadata": {},
   "outputs": [
    {
     "name": "stdout",
     "output_type": "stream",
     "text": [
      "Cost after step    20:  0.1503516\n",
      "Cost after step    40:  0.1468454\n",
      "Cost after step    60:  0.1056063\n",
      "Cost after step    80:  0.0353816\n",
      "Cost after step   100:  0.0125573\n",
      "Cost after step   120:  0.0056630\n",
      "Cost after step   140:  0.0029602\n",
      "Cost after step   160:  0.0016938\n",
      "Cost after step   180:  0.0010283\n",
      "Cost after step   200:  0.0006506\n",
      "Cost after step   220:  0.0004240\n",
      "Cost after step   240:  0.0002826\n",
      "Cost after step   260:  0.0001917\n",
      "Cost after step   280:  0.0001317\n",
      "Cost after step   300:  0.0000915\n",
      "Optimized x: 2.6660084608635493\n",
      "Optimized noise parameter p = 0.9350\n",
      "QNode output after optimization = 0.8784\n",
      "Experimental expectation value = 0.888\n"
     ]
    }
   ],
   "source": [
    "opt = jaxopt.GradientDescent(cost, stepsize=0.4, acceleration = False)\n",
    "steps = 300\n",
    "params = x\n",
    "opt_state = opt.init_state(params)\n",
    "for i in range(steps):\n",
    "    params, opt_state = opt.update(params, opt_state,target=target_ev)\n",
    "    if (i + 1) % 20 == 0:\n",
    "        print(\"Cost after step {:5d}: {: .7f}\".format(i + 1, cost(params,target=target_ev)))\n",
    "\n",
    "print(\"Optimized x: {}\".format(params))\n",
    "print(f\"Optimized noise parameter p = {sigmoid(params.take(0)):.4f}\")\n",
    "print(f\"QNode output after optimization = {circuit(params):.4f}\")\n",
    "print(f\"Experimental expectation value = {target_ev}\")"
   ]
  },
  {
   "cell_type": "code",
   "execution_count": null,
   "id": "6e2c730a-858c-446c-8da6-bde4a06f6681",
   "metadata": {},
   "outputs": [],
   "source": []
  }
 ],
 "metadata": {
  "kernelspec": {
   "display_name": "Python 3 (ipykernel)",
   "language": "python",
   "name": "python3"
  },
  "language_info": {
   "codemirror_mode": {
    "name": "ipython",
    "version": 3
   },
   "file_extension": ".py",
   "mimetype": "text/x-python",
   "name": "python",
   "nbconvert_exporter": "python",
   "pygments_lexer": "ipython3",
   "version": "3.10.12"
  }
 },
 "nbformat": 4,
 "nbformat_minor": 5
}
