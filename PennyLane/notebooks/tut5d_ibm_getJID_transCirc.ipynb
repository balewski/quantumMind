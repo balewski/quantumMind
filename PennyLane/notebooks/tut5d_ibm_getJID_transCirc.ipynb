{
 "cells": [
  {
   "cell_type": "code",
   "execution_count": 54,
   "id": "91f3b7c1-2090-41ae-8a9e-417d9640fd42",
   "metadata": {},
   "outputs": [
    {
     "name": "stdout",
     "output_type": "stream",
     "text": [
      "backend: <IBMBackend('ibm_hanoi')>\n",
      "0: ──H─╭●─╭●─╭●─╭●─┤ ╭Probs\n",
      "1: ────╰X─│──│──│──┤ ├Probs\n",
      "2: ───────╰X─│──│──┤ ├Probs\n",
      "3: ──────────╰X─│──┤ ├Probs\n",
      "4: ─────────────╰X─┤ ╰Probs\n"
     ]
    }
   ],
   "source": [
    "import pennylane as qml\n",
    "num_wires = 5\n",
    "if 1:\n",
    "    from qiskit_ibm_provider import IBMProvider\n",
    "    provider = IBMProvider()\n",
    "    backend = provider.get_backend('ibm_hanoi')\n",
    "    dev = qml.device('qiskit.ibmq', wires=num_wires, backend=backend, shots=200)\n",
    "else:\n",
    "    dev = qml.device('default.qubit', wires=num_wires)\n",
    "\n",
    "def ghz(dev):\n",
    "    @qml.qnode(dev)\n",
    "    def circuit():\n",
    "        n=num_wires\n",
    "        qml.Hadamard(wires=0)\n",
    "        for i in range(1, n):  \n",
    "            qml.CNOT(wires=[0,i])\n",
    "        return qml.probs(wires=range(n))\n",
    "    return circuit\n",
    "circ = ghz(dev)\n",
    "print('backend:',backend)\n",
    "print(qml.draw(circ)()) "
   ]
  },
  {
   "cell_type": "raw",
   "id": "14c7d186-b02b-4c75-88c0-29825a2693be",
   "metadata": {},
   "source": [
    "4q - maps to HW w/o swaps\n",
    "5q - requires?? CX gates"
   ]
  },
  {
   "cell_type": "code",
   "execution_count": 55,
   "id": "4e7d81ab-8ecf-4fca-9372-ee667acbd32d",
   "metadata": {},
   "outputs": [
    {
     "name": "stdout",
     "output_type": "stream",
     "text": [
      "probs: [0.455 0.    0.005 0.    0.005 0.    0.005 0.005 0.015 0.    0.    0.\n",
      " 0.005 0.005 0.    0.01  0.01  0.    0.    0.01  0.    0.    0.    0.025\n",
      " 0.    0.005 0.    0.01  0.    0.    0.015 0.415]\n",
      "IBM job ID cpxcrvvn8rag008qk2y0\n"
     ]
    }
   ],
   "source": [
    "probTens = circ()  # run circuit on IBM device\n",
    "print('probs:',probTens)\n",
    "jid=dev._current_job.job_id()\n",
    "print('IBM job ID',jid) "
   ]
  },
  {
   "cell_type": "code",
   "execution_count": 56,
   "id": "84fe22d2-8de6-476c-8995-8e9f7c64976a",
   "metadata": {},
   "outputs": [
    {
     "name": "stdout",
     "output_type": "stream",
     "text": [
      "M: got 1 circ+results JID= cpxcrvvn8rag008qk2y0\n"
     ]
    }
   ],
   "source": [
    "job = provider.retrieve_job(jid)\n",
    "# Retrieve the results from the job\n",
    "jobRes = job.result()\n",
    "resL=jobRes.results  \n",
    "nqc=len(resL)  # number of circuit in the job\n",
    "counts=jobRes.get_counts()\n",
    "if nqc==1: counts=[counts]  # this is poor design\n",
    "print('M: got %d circ+results'%nqc, 'JID=',jid)"
   ]
  },
  {
   "cell_type": "code",
   "execution_count": 59,
   "id": "15a04b77-e698-4a8a-b4fe-e53648055b4f",
   "metadata": {},
   "outputs": [
    {
     "name": "stdout",
     "output_type": "stream",
     "text": [
      "\n",
      "M: circ=0 circ0\n",
      "counts: {'00010': 3, '10011': 1, '00000': 91, '11110': 2, '11101': 5, '00001': 2, '00100': 1, '01000': 1, '01100': 1, '00110': 1, '11011': 2, '01111': 3, '11111': 83, '11100': 1, '10110': 1, '11001': 2}\n",
      "circuit q2_depth=11 , gate count: {'cx': 10, 'measure': 5, 'rz': 2, 'sx': 1, 'barrier': 1}\n",
      "global phase: π/4\n",
      "                                                                                              ┌───┐                    »\n",
      "       Qubit(QuantumRegister(5, 'q'), 2) -> 0 ────────────────────────────────────────────────┤ X ├────────────────────»\n",
      "                                                                               ┌───┐     ┌───┐└─┬─┘          ┌───┐     »\n",
      "       Qubit(QuantumRegister(5, 'q'), 3) -> 1 ─────────────────────────────────┤ X ├──■──┤ X ├──■────■────■──┤ X ├──■──»\n",
      "                                                                               └─┬─┘  │  └─┬─┘       │  ┌─┴─┐└─┬─┘┌─┴─┐»\n",
      "Qubit(QuantumRegister(22, 'ancilla'), 3) -> 2 ───────────────────────────────────┼────┼────┼─────────┼──┤ X ├──■──┤ X ├»\n",
      "                                                                                 │    │    │         │  └───┘     └───┘»\n",
      "       Qubit(QuantumRegister(5, 'q'), 4) -> 3 ───────────────────────────────────┼────┼────┼─────────┼─────────────────»\n",
      "                                              ┌─────────┐┌────┐┌─────────┐       │  ┌─┴─┐  │       ┌─┴─┐               »\n",
      "       Qubit(QuantumRegister(5, 'q'), 0) -> 4 ┤ Rz(π/2) ├┤ √X ├┤ Rz(π/2) ├──■────■──┤ X ├──■───────┤ X ├───────────────»\n",
      "                                              └─────────┘└────┘└─────────┘┌─┴─┐     └───┘          └───┘               »\n",
      "       Qubit(QuantumRegister(5, 'q'), 1) -> 7 ────────────────────────────┤ X ├────────────────────────────────────────»\n",
      "                                                                          └───┘                                        »\n",
      "                                         c: 5/═════════════════════════════════════════════════════════════════════════»\n",
      "                                                                                                                       »\n",
      "«                                                    ░       ┌─┐      \n",
      "«       Qubit(QuantumRegister(5, 'q'), 2) -> 0 ──────░───────┤M├──────\n",
      "«                                                    ░       └╥┘      \n",
      "«       Qubit(QuantumRegister(5, 'q'), 3) -> 1 ───────────────╫───────\n",
      "«                                                    ░ ┌─┐    ║       \n",
      "«Qubit(QuantumRegister(22, 'ancilla'), 3) -> 2 ──■───░─┤M├────╫───────\n",
      "«                                              ┌─┴─┐ ░ └╥┘    ║    ┌─┐\n",
      "«       Qubit(QuantumRegister(5, 'q'), 4) -> 3 ┤ X ├─░──╫─────╫────┤M├\n",
      "«                                              └───┘ ░  ║     ║ ┌─┐└╥┘\n",
      "«       Qubit(QuantumRegister(5, 'q'), 0) -> 4 ──────░──╫─────╫─┤M├─╫─\n",
      "«                                                    ░  ║ ┌─┐ ║ └╥┘ ║ \n",
      "«       Qubit(QuantumRegister(5, 'q'), 1) -> 7 ──────░──╫─┤M├─╫──╫──╫─\n",
      "«                                                    ░  ║ └╥┘ ║  ║  ║ \n",
      "«                                         c: 5/═════════╩══╩══╩══╩══╩═\n",
      "«                                                       0  1  2  3  4 \n",
      "result header: QobjExperimentHeader(qubit_labels=[['q', 0], ['q', 1], ['q', 2], ['q', 3], ['q', 4], ['q', 5], ['q', 6], ['q', 7], ['q', 8], ['q', 9], ['q', 10], ['q', 11], ['q', 12], ['q', 13], ['q', 14], ['q', 15], ['q', 16], ['q', 17], ['q', 18], ['q', 19], ['q', 20], ['q', 21], ['q', 22], ['q', 23], ['q', 24], ['q', 25], ['q', 26]], n_qubits=27, qreg_sizes=[['q', 27]], clbit_labels=[['c', 0], ['c', 1], ['c', 2], ['c', 3], ['c', 4]], memory_slots=5, creg_sizes=[['c', 5]], name='circ0', global_phase=0.7853981633974483, metadata={})\n"
     ]
    }
   ],
   "source": [
    "for ic in range(nqc):\n",
    "    qc=job.circuits()[ic]  # transpiled circuit \n",
    "    resHead=resL[ic].header # auxiliary info about used hardware\n",
    "    print('\\nM: circ=%d %s'%(ic,qc.name))\n",
    "    print('counts:',counts[ic])\n",
    "    q2_depth=qc.depth(filter_function=lambda x: x.operation.num_qubits > 1)\n",
    "    print('circuit q2_depth=%d , gate count:'%q2_depth,dict(qc.count_ops()))\n",
    "    print(qc.draw(output=\"text\", idle_wires=False,fold=120))\n",
    "    print('result header: ',end=''); print(resHead)\n"
   ]
  },
  {
   "cell_type": "code",
   "execution_count": null,
   "id": "44a3a2f6-9b7e-41e0-a2ff-55e37749dd97",
   "metadata": {},
   "outputs": [],
   "source": []
  }
 ],
 "metadata": {
  "kernelspec": {
   "display_name": "Python 3 (ipykernel)",
   "language": "python",
   "name": "python3"
  },
  "language_info": {
   "codemirror_mode": {
    "name": "ipython",
    "version": 3
   },
   "file_extension": ".py",
   "mimetype": "text/x-python",
   "name": "python",
   "nbconvert_exporter": "python",
   "pygments_lexer": "ipython3",
   "version": "3.10.12"
  }
 },
 "nbformat": 4,
 "nbformat_minor": 5
}
