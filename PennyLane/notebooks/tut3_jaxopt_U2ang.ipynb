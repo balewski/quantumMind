{
 "cells": [
  {
   "cell_type": "code",
   "execution_count": 6,
   "id": "fb430f15-45db-4a14-9f83-872f05b89f65",
   "metadata": {},
   "outputs": [],
   "source": [
    "# use of PennyLane’s built-in optimizers to optimize the 2 angles of U2 to rotate qubit form 0 to 1\n",
    "#  avaliable gradient-based optimizers : https://docs.pennylane.ai/en/stable/introduction/interfaces.html\n",
    "import pennylane as qml\n",
    "from jax import numpy as np\n",
    "import jax\n",
    "import jaxopt\n",
    "import matplotlib.pyplot as plt\n",
    "qcstyle=\"black_white\"\n",
    "\n",
    "dev1 = qml.device(\"lightning.qubit\", wires=1)  # high performance simulator PennyLane-Lightning"
   ]
  },
  {
   "cell_type": "code",
   "execution_count": 3,
   "id": "fd8f355f-cd0b-4532-9d91-4758c353753e",
   "metadata": {},
   "outputs": [],
   "source": [
    "@qml.qnode(dev1)\n",
    "def circuit(params):\n",
    "    qml.RX(params[0], wires=0)\n",
    "    qml.RY(params[1], wires=0)\n",
    "    return qml.expval(qml.PauliZ(0))"
   ]
  },
  {
   "cell_type": "code",
   "execution_count": 11,
   "id": "4966ce1a-97b5-4349-9d84-c8d2bb7c6269",
   "metadata": {},
   "outputs": [
    {
     "data": {
      "image/png": "[encoded data removed]",
      "text/plain": [
       "<Figure size 500x200 with 1 Axes>"
      ]
     },
     "metadata": {},
     "output_type": "display_data"
    },
    {
     "name": "stdout",
     "output_type": "stream",
     "text": [
      "input=[0.54 0.12],  EV=0.852\n"
     ]
    }
   ],
   "source": [
    "x0 = np.array([0.54, 0.12])\n",
    "qml.draw_mpl(circuit, decimals=3, style=qcstyle)(x0)\n",
    "plt.show()\n",
    "print('input=%s,  EV=%.3f'%(str(x0),circuit(x0)))"
   ]
  },
  {
   "cell_type": "markdown",
   "id": "9e39c93b-22fe-4b65-a180-ec079f9f17d9",
   "metadata": {},
   "source": [
    "### Calculating quantum gradients\n",
    "The gradient of the function circuit, encapsulated within the QNode, \n",
    "\n",
    " jax.grad function returns another function,representing the gradient (i.e., the vector of partial derivatives) of circuit.\n",
    " The gradient can be evaluated in the same way as the original function\n",
    "\n",
    " The function jax.grad itself returns a function, representing the derivative of the QNode with respect to the argument specified in argnums. In this case, the function circuit takes one argument (params), so we specify argnums=0. Because the argument has two elements, the returned gradient is two-dimensional. We can then evaluate this gradient function at any point in the parameter space.\n",
    " "
   ]
  },
  {
   "cell_type": "code",
   "execution_count": 4,
   "id": "2e3382e9-9715-41d6-af10-0c76e83c9f9f",
   "metadata": {},
   "outputs": [
    {
     "name": "stdout",
     "output_type": "stream",
     "text": [
      "<class 'function'>\n",
      "input=[1.01 2.01],  gradient=[ 0.36008886 -0.48138213]\n"
     ]
    }
   ],
   "source": [
    "x0 = np.array([1.01, 2.01])\n",
    "dcircuit = jax.grad(circuit, argnums=0) ; print(type(dcircuit))\n",
    "print('input=%s,  gradient=%s'%(str(x0),str(dcircuit(x0))))"
   ]
  },
  {
   "cell_type": "code",
   "execution_count": 5,
   "id": "c29bc4dd-cb8d-4208-b7f3-38c1d2764267",
   "metadata": {},
   "outputs": [
    {
     "name": "stdout",
     "output_type": "stream",
     "text": [
      "(Array([-0.51043874], dtype=float32), Array([-0.1026782], dtype=float32))\n"
     ]
    }
   ],
   "source": [
    "# alternative definition of circuit with 2 positional arguments\n",
    "@qml.qnode(dev1)\n",
    "def circuit2(phi1, phi2):\n",
    "    qml.RX(phi1, wires=0)\n",
    "    qml.RY(phi2, wires=0)\n",
    "    return qml.expval(qml.PauliZ(0))\n",
    "# to compute gradient we need to say vs. which argument\n",
    "'''\n",
    " In this case, argnums=0 will return the gradient with respect to only the first parameter (phi1),\n",
    " and argnums=1 will give the gradient for phi2. \n",
    " To get the gradient with respect to both parameters, we can use argnums=[0,1]:\n",
    " '''\n",
    "phi1 = np.array([0.54])\n",
    "phi2 = np.array([0.12])\n",
    "\n",
    "dcircuit = jax.grad(circuit2, argnums=[0, 1])\n",
    "print(dcircuit(phi1, phi2))"
   ]
  },
  {
   "cell_type": "code",
   "execution_count": 21,
   "id": "2ba11398-5027-4716-b9a8-fddf694c0568",
   "metadata": {},
   "outputs": [
    {
     "name": "stdout",
     "output_type": "stream",
     "text": [
      "0.9937743\n"
     ]
    }
   ],
   "source": [
    "# setup minimzation problem\n",
    "def cost(x):\n",
    "    return circuit(x)\n",
    "\n",
    "init_params = np.array([0.111, -0.012])\n",
    "print(cost(init_params))"
   ]
  },
  {
   "cell_type": "code",
   "execution_count": 22,
   "id": "23e98440-716e-479d-931a-257e22e6eca6",
   "metadata": {},
   "outputs": [
    {
     "name": "stdout",
     "output_type": "stream",
     "text": [
      "Cost after step     5:  0.8312094\n",
      "Cost after step    10: -0.6049964\n",
      "Cost after step    15: -0.9964512\n",
      "Cost after step    20: -0.9999785\n",
      "Cost after step    25: -0.9999999\n",
      "Cost after step    30: -1.0000000\n",
      "Cost after step    35: -1.0000000\n",
      "Cost after step    40: -1.0000000\n",
      "Cost after step    45: -1.0000000\n",
      "Cost after step    50: -1.0000000\n",
      "Cost after step    55: -1.0000000\n",
      "Cost after step    60: -1.0000000\n",
      "Cost after step    65: -1.0000000\n",
      "Cost after step    70: -1.0000000\n",
      "Cost after step    75: -1.0000000\n",
      "Cost after step    80: -1.0000000\n",
      "Cost after step    85: -1.0000000\n",
      "Cost after step    90: -1.0000000\n",
      "Cost after step    95: -1.0000000\n",
      "Cost after step   100: -1.0000000\n",
      "Optimized rotation angles: [ 3.1415925e+00 -3.1603587e-08]\n"
     ]
    },
    {
     "data": {
      "image/png": "[encoded data removed]",
      "text/plain": [
       "<Figure size 500x200 with 1 Axes>"
      ]
     },
     "metadata": {},
     "output_type": "display_data"
    }
   ],
   "source": [
    "# run minimization\n",
    "# initialise the optimizer\n",
    "opt = jaxopt.GradientDescent(cost, stepsize=0.4, acceleration = False)\n",
    "steps = 100\n",
    "params = init_params  # set the initial parameter values\n",
    "opt_state = opt.init_state(params)\n",
    "\n",
    "for i in range(steps):\n",
    "    # update the circuit parameters\n",
    "    params, opt_state = opt.update(params, opt_state)\n",
    "\n",
    "    if (i + 1) % 5 == 0:\n",
    "        print(\"Cost after step {:5d}: {: .7f}\".format(i + 1, cost(params)))\n",
    "\n",
    "print(\"Optimized rotation angles: {}\".format(params))\n",
    "qml.draw_mpl(circuit, decimals=3, style=qcstyle)(params)\n",
    "plt.show()"
   ]
  },
  {
   "cell_type": "code",
   "execution_count": null,
   "id": "f9865fbe-3526-48b9-b43c-6582342ded0d",
   "metadata": {},
   "outputs": [],
   "source": []
  }
 ],
 "metadata": {
  "kernelspec": {
   "display_name": "Python 3 (ipykernel)",
   "language": "python",
   "name": "python3"
  },
  "language_info": {
   "codemirror_mode": {
    "name": "ipython",
    "version": 3
   },
   "file_extension": ".py",
   "mimetype": "text/x-python",
   "name": "python",
   "nbconvert_exporter": "python",
   "pygments_lexer": "ipython3",
   "version": "3.10.12"
  }
 },
 "nbformat": 4,
 "nbformat_minor": 5
}
