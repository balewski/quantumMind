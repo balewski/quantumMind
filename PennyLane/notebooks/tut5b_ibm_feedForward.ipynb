{
 "cells": [
  {
   "cell_type": "code",
   "execution_count": null,
   "id": "7ff9e8c5-f0b9-4a29-8898-724a7a9f4326",
   "metadata": {},
   "outputs": [],
   "source": [
    "# acccess IBM\n",
    "#!/dataVault/activate_IBMProvider.py"
   ]
  },
  {
   "cell_type": "code",
   "execution_count": 94,
   "id": "234c2d2e-fd2e-4e57-aafe-da5402247b04",
   "metadata": {},
   "outputs": [
    {
     "name": "stdout",
     "output_type": "stream",
     "text": [
      "0: ──H─╭●─╭●──┤↗├─────||─┤ ╭Probs\n",
      "1: ────╰X─│────║──────||─┤ ├Probs\n",
      "2: ───────╰X───║──────||─┤ ├Probs\n",
      "3: ────────────║───X──||─┤ ╰Probs\n",
      "               ╚═══╝  ||         \n"
     ]
    }
   ],
   "source": [
    "import pennylane as qml\n",
    "\n",
    "def feedForwardGHZ(n=4):\n",
    "    qml.Hadamard(wires=0)\n",
    "    for i in range(1, n-1):  \n",
    "        qml.CNOT(wires=[0,i])\n",
    "    m0 = qml.measure(0)\n",
    "    qml.cond(m0, qml.PauliX)(n-1)\n",
    "    qml.Barrier()\n",
    "    return qml.probs(wires=range(n))\n",
    "    \n",
    "if 0:\n",
    "    from qiskit_ibm_provider import IBMProvider\n",
    "    provider = IBMProvider()\n",
    "    backend = provider.get_backend('ibm_cairo')\n",
    "    dev = qml.device('qiskit.ibmq', wires=range(4), backend=backend, shots=2000)\n",
    "else:\n",
    "    dev = qml.device('default.qubit', wires=range(4))\n",
    "    \n",
    "qnode = qml.QNode(feedForwardGHZ, dev)\n",
    "print(qml.draw(qnode)()) \n",
    " "
   ]
  },
  {
   "cell_type": "code",
   "execution_count": 92,
   "id": "778ae09b-d4fb-4e41-b784-22c54c4859ff",
   "metadata": {},
   "outputs": [
    {
     "ename": "WireError",
     "evalue": "Did not find some of the wires <Wires = [0, 4]> on device with wires <Wires = [0, 1, 2, 3]>.",
     "output_type": "error",
     "traceback": [
      "\u001b[0;31m---------------------------------------------------------------------------\u001b[0m",
      "\u001b[0;31mWireError\u001b[0m                                 Traceback (most recent call last)",
      "File \u001b[0;32m/usr/local/lib/python3.10/dist-packages/pennylane/_device.py:384\u001b[0m, in \u001b[0;36mDevice.map_wires\u001b[0;34m(self, wires)\u001b[0m\n\u001b[1;32m    383\u001b[0m \u001b[38;5;28;01mtry\u001b[39;00m:\n\u001b[0;32m--> 384\u001b[0m     mapped_wires \u001b[38;5;241m=\u001b[39m \u001b[43mwires\u001b[49m\u001b[38;5;241;43m.\u001b[39;49m\u001b[43mmap\u001b[49m\u001b[43m(\u001b[49m\u001b[38;5;28;43mself\u001b[39;49m\u001b[38;5;241;43m.\u001b[39;49m\u001b[43mwire_map\u001b[49m\u001b[43m)\u001b[49m\n\u001b[1;32m    385\u001b[0m \u001b[38;5;28;01mexcept\u001b[39;00m WireError \u001b[38;5;28;01mas\u001b[39;00m e:\n",
      "File \u001b[0;32m/usr/local/lib/python3.10/dist-packages/pennylane/wires.py:293\u001b[0m, in \u001b[0;36mWires.map\u001b[0;34m(self, wire_map)\u001b[0m\n\u001b[1;32m    292\u001b[0m     \u001b[38;5;28;01mif\u001b[39;00m w \u001b[38;5;129;01mnot\u001b[39;00m \u001b[38;5;129;01min\u001b[39;00m wire_map:\n\u001b[0;32m--> 293\u001b[0m         \u001b[38;5;28;01mraise\u001b[39;00m WireError(\u001b[38;5;124mf\u001b[39m\u001b[38;5;124m\"\u001b[39m\u001b[38;5;124mNo mapping for wire label \u001b[39m\u001b[38;5;132;01m{\u001b[39;00mw\u001b[38;5;132;01m}\u001b[39;00m\u001b[38;5;124m specified in wire map \u001b[39m\u001b[38;5;132;01m{\u001b[39;00mwire_map\u001b[38;5;132;01m}\u001b[39;00m\u001b[38;5;124m.\u001b[39m\u001b[38;5;124m\"\u001b[39m)\n\u001b[1;32m    295\u001b[0m new_wires \u001b[38;5;241m=\u001b[39m [wire_map[w] \u001b[38;5;28;01mfor\u001b[39;00m w \u001b[38;5;129;01min\u001b[39;00m \u001b[38;5;28mself\u001b[39m]\n",
      "\u001b[0;31mWireError\u001b[0m: No mapping for wire label 4 specified in wire map OrderedDict([(0, 0), (1, 1), (2, 2), (3, 3)]).",
      "\nThe above exception was the direct cause of the following exception:\n",
      "\u001b[0;31mWireError\u001b[0m                                 Traceback (most recent call last)",
      "Cell \u001b[0;32mIn[92], line 1\u001b[0m\n\u001b[0;32m----> 1\u001b[0m probTens \u001b[38;5;241m=\u001b[39m \u001b[43mqnode\u001b[49m\u001b[43m(\u001b[49m\u001b[43m)\u001b[49m  \u001b[38;5;66;03m# >>> pennylane.numpy.tensor.tensor\u001b[39;00m\n\u001b[1;32m      2\u001b[0m \u001b[38;5;66;03m# Print the probabilities\u001b[39;00m\n\u001b[1;32m      3\u001b[0m \u001b[38;5;28mprint\u001b[39m(\u001b[38;5;124m\"\u001b[39m\u001b[38;5;124mProbability of each computational basis state:\u001b[39m\u001b[38;5;124m\"\u001b[39m)\n",
      "File \u001b[0;32m/usr/local/lib/python3.10/dist-packages/pennylane/qnode.py:1039\u001b[0m, in \u001b[0;36mQNode.__call__\u001b[0;34m(self, *args, **kwargs)\u001b[0m\n\u001b[1;32m   1034\u001b[0m         full_transform_program\u001b[38;5;241m.\u001b[39m_set_all_argnums(\n\u001b[1;32m   1035\u001b[0m             \u001b[38;5;28mself\u001b[39m, args, kwargs, argnums\n\u001b[1;32m   1036\u001b[0m         )  \u001b[38;5;66;03m# pylint: disable=protected-access\u001b[39;00m\n\u001b[1;32m   1038\u001b[0m \u001b[38;5;66;03m# pylint: disable=unexpected-keyword-arg\u001b[39;00m\n\u001b[0;32m-> 1039\u001b[0m res \u001b[38;5;241m=\u001b[39m \u001b[43mqml\u001b[49m\u001b[38;5;241;43m.\u001b[39;49m\u001b[43mexecute\u001b[49m\u001b[43m(\u001b[49m\n\u001b[1;32m   1040\u001b[0m \u001b[43m    \u001b[49m\u001b[43m(\u001b[49m\u001b[38;5;28;43mself\u001b[39;49m\u001b[38;5;241;43m.\u001b[39;49m\u001b[43m_tape\u001b[49m\u001b[43m,\u001b[49m\u001b[43m)\u001b[49m\u001b[43m,\u001b[49m\n\u001b[1;32m   1041\u001b[0m \u001b[43m    \u001b[49m\u001b[43mdevice\u001b[49m\u001b[38;5;241;43m=\u001b[39;49m\u001b[38;5;28;43mself\u001b[39;49m\u001b[38;5;241;43m.\u001b[39;49m\u001b[43mdevice\u001b[49m\u001b[43m,\u001b[49m\n\u001b[1;32m   1042\u001b[0m \u001b[43m    \u001b[49m\u001b[43mgradient_fn\u001b[49m\u001b[38;5;241;43m=\u001b[39;49m\u001b[38;5;28;43mself\u001b[39;49m\u001b[38;5;241;43m.\u001b[39;49m\u001b[43mgradient_fn\u001b[49m\u001b[43m,\u001b[49m\n\u001b[1;32m   1043\u001b[0m \u001b[43m    \u001b[49m\u001b[43minterface\u001b[49m\u001b[38;5;241;43m=\u001b[39;49m\u001b[38;5;28;43mself\u001b[39;49m\u001b[38;5;241;43m.\u001b[39;49m\u001b[43minterface\u001b[49m\u001b[43m,\u001b[49m\n\u001b[1;32m   1044\u001b[0m \u001b[43m    \u001b[49m\u001b[43mtransform_program\u001b[49m\u001b[38;5;241;43m=\u001b[39;49m\u001b[43mfull_transform_program\u001b[49m\u001b[43m,\u001b[49m\n\u001b[1;32m   1045\u001b[0m \u001b[43m    \u001b[49m\u001b[43mconfig\u001b[49m\u001b[38;5;241;43m=\u001b[39;49m\u001b[43mconfig\u001b[49m\u001b[43m,\u001b[49m\n\u001b[1;32m   1046\u001b[0m \u001b[43m    \u001b[49m\u001b[43mgradient_kwargs\u001b[49m\u001b[38;5;241;43m=\u001b[39;49m\u001b[38;5;28;43mself\u001b[39;49m\u001b[38;5;241;43m.\u001b[39;49m\u001b[43mgradient_kwargs\u001b[49m\u001b[43m,\u001b[49m\n\u001b[1;32m   1047\u001b[0m \u001b[43m    \u001b[49m\u001b[43moverride_shots\u001b[49m\u001b[38;5;241;43m=\u001b[39;49m\u001b[43moverride_shots\u001b[49m\u001b[43m,\u001b[49m\n\u001b[1;32m   1048\u001b[0m \u001b[43m    \u001b[49m\u001b[38;5;241;43m*\u001b[39;49m\u001b[38;5;241;43m*\u001b[39;49m\u001b[38;5;28;43mself\u001b[39;49m\u001b[38;5;241;43m.\u001b[39;49m\u001b[43mexecute_kwargs\u001b[49m\u001b[43m,\u001b[49m\n\u001b[1;32m   1049\u001b[0m \u001b[43m\u001b[49m\u001b[43m)\u001b[49m\n\u001b[1;32m   1051\u001b[0m res \u001b[38;5;241m=\u001b[39m res[\u001b[38;5;241m0\u001b[39m]\n\u001b[1;32m   1053\u001b[0m \u001b[38;5;66;03m# convert result to the interface in case the qfunc has no parameters\u001b[39;00m\n",
      "File \u001b[0;32m/usr/local/lib/python3.10/dist-packages/pennylane/interfaces/execution.py:808\u001b[0m, in \u001b[0;36mexecute\u001b[0;34m(tapes, device, gradient_fn, interface, transform_program, config, grad_on_execution, gradient_kwargs, cache, cachesize, max_diff, override_shots, expand_fn, max_expansion, device_batch_transform, device_vjp)\u001b[0m\n\u001b[1;32m    803\u001b[0m ml_boundary_execute \u001b[38;5;241m=\u001b[39m _get_ml_boundary_execute(\n\u001b[1;32m    804\u001b[0m     interface, _grad_on_execution, config\u001b[38;5;241m.\u001b[39muse_device_jacobian_product\n\u001b[1;32m    805\u001b[0m )\n\u001b[1;32m    807\u001b[0m \u001b[38;5;28;01mif\u001b[39;00m interface \u001b[38;5;129;01min\u001b[39;00m jpc_interfaces:\n\u001b[0;32m--> 808\u001b[0m     results \u001b[38;5;241m=\u001b[39m \u001b[43mml_boundary_execute\u001b[49m\u001b[43m(\u001b[49m\u001b[43mtapes\u001b[49m\u001b[43m,\u001b[49m\u001b[43m \u001b[49m\u001b[43mexecute_fn\u001b[49m\u001b[43m,\u001b[49m\u001b[43m \u001b[49m\u001b[43mjpc\u001b[49m\u001b[43m,\u001b[49m\u001b[43m \u001b[49m\u001b[43mdevice\u001b[49m\u001b[38;5;241;43m=\u001b[39;49m\u001b[43mdevice\u001b[49m\u001b[43m)\u001b[49m\n\u001b[1;32m    809\u001b[0m \u001b[38;5;28;01melse\u001b[39;00m:\n\u001b[1;32m    810\u001b[0m     results \u001b[38;5;241m=\u001b[39m ml_boundary_execute(\n\u001b[1;32m    811\u001b[0m         tapes, device, execute_fn, gradient_fn, gradient_kwargs, _n\u001b[38;5;241m=\u001b[39m\u001b[38;5;241m1\u001b[39m, max_diff\u001b[38;5;241m=\u001b[39mmax_diff\n\u001b[1;32m    812\u001b[0m     )\n",
      "File \u001b[0;32m/usr/local/lib/python3.10/dist-packages/pennylane/interfaces/autograd.py:147\u001b[0m, in \u001b[0;36mautograd_execute\u001b[0;34m(tapes, execute_fn, jpc, device)\u001b[0m\n\u001b[1;32m    142\u001b[0m \u001b[38;5;66;03m# pylint misidentifies autograd.builtins as a dict\u001b[39;00m\n\u001b[1;32m    143\u001b[0m \u001b[38;5;66;03m# pylint: disable=no-member\u001b[39;00m\n\u001b[1;32m    144\u001b[0m parameters \u001b[38;5;241m=\u001b[39m autograd\u001b[38;5;241m.\u001b[39mbuiltins\u001b[38;5;241m.\u001b[39mtuple(\n\u001b[1;32m    145\u001b[0m     [autograd\u001b[38;5;241m.\u001b[39mbuiltins\u001b[38;5;241m.\u001b[39mlist(t\u001b[38;5;241m.\u001b[39mget_parameters()) \u001b[38;5;28;01mfor\u001b[39;00m t \u001b[38;5;129;01min\u001b[39;00m tapes]\n\u001b[1;32m    146\u001b[0m )\n\u001b[0;32m--> 147\u001b[0m \u001b[38;5;28;01mreturn\u001b[39;00m \u001b[43m_execute\u001b[49m\u001b[43m(\u001b[49m\u001b[43mparameters\u001b[49m\u001b[43m,\u001b[49m\u001b[43m \u001b[49m\u001b[38;5;28;43mtuple\u001b[39;49m\u001b[43m(\u001b[49m\u001b[43mtapes\u001b[49m\u001b[43m)\u001b[49m\u001b[43m,\u001b[49m\u001b[43m \u001b[49m\u001b[43mexecute_fn\u001b[49m\u001b[43m,\u001b[49m\u001b[43m \u001b[49m\u001b[43mjpc\u001b[49m\u001b[43m)\u001b[49m\n",
      "File \u001b[0;32m/usr/local/lib/python3.10/dist-packages/autograd/tracer.py:48\u001b[0m, in \u001b[0;36mprimitive.<locals>.f_wrapped\u001b[0;34m(*args, **kwargs)\u001b[0m\n\u001b[1;32m     46\u001b[0m     \u001b[38;5;28;01mreturn\u001b[39;00m new_box(ans, trace, node)\n\u001b[1;32m     47\u001b[0m \u001b[38;5;28;01melse\u001b[39;00m:\n\u001b[0;32m---> 48\u001b[0m     \u001b[38;5;28;01mreturn\u001b[39;00m \u001b[43mf_raw\u001b[49m\u001b[43m(\u001b[49m\u001b[38;5;241;43m*\u001b[39;49m\u001b[43margs\u001b[49m\u001b[43m,\u001b[49m\u001b[43m \u001b[49m\u001b[38;5;241;43m*\u001b[39;49m\u001b[38;5;241;43m*\u001b[39;49m\u001b[43mkwargs\u001b[49m\u001b[43m)\u001b[49m\n",
      "File \u001b[0;32m/usr/local/lib/python3.10/dist-packages/pennylane/interfaces/autograd.py:168\u001b[0m, in \u001b[0;36m_execute\u001b[0;34m(parameters, tapes, execute_fn, jpc)\u001b[0m\n\u001b[1;32m    150\u001b[0m \u001b[38;5;129m@autograd\u001b[39m\u001b[38;5;241m.\u001b[39mextend\u001b[38;5;241m.\u001b[39mprimitive\n\u001b[1;32m    151\u001b[0m \u001b[38;5;28;01mdef\u001b[39;00m \u001b[38;5;21m_execute\u001b[39m(\n\u001b[1;32m    152\u001b[0m     parameters,\n\u001b[0;32m   (...)\u001b[0m\n\u001b[1;32m    155\u001b[0m     jpc,\n\u001b[1;32m    156\u001b[0m ):  \u001b[38;5;66;03m# pylint: disable=unused-argument\u001b[39;00m\n\u001b[1;32m    157\u001b[0m \u001b[38;5;250m    \u001b[39m\u001b[38;5;124;03m\"\"\"Autodifferentiable wrapper around a way of executing tapes.\u001b[39;00m\n\u001b[1;32m    158\u001b[0m \n\u001b[1;32m    159\u001b[0m \u001b[38;5;124;03m    Args:\u001b[39;00m\n\u001b[0;32m   (...)\u001b[0m\n\u001b[1;32m    166\u001b[0m \n\u001b[1;32m    167\u001b[0m \u001b[38;5;124;03m    \"\"\"\u001b[39;00m\n\u001b[0;32m--> 168\u001b[0m     \u001b[38;5;28;01mreturn\u001b[39;00m \u001b[43mexecute_fn\u001b[49m\u001b[43m(\u001b[49m\u001b[43mtapes\u001b[49m\u001b[43m)\u001b[49m\n",
      "File \u001b[0;32m/usr/local/lib/python3.10/dist-packages/pennylane/interfaces/execution.py:261\u001b[0m, in \u001b[0;36m_make_inner_execute.<locals>.inner_execute\u001b[0;34m(tapes, **_)\u001b[0m\n\u001b[1;32m    259\u001b[0m \u001b[38;5;28;01mif\u001b[39;00m numpy_only:\n\u001b[1;32m    260\u001b[0m     tapes \u001b[38;5;241m=\u001b[39m \u001b[38;5;28mtuple\u001b[39m(qml\u001b[38;5;241m.\u001b[39mtransforms\u001b[38;5;241m.\u001b[39mconvert_to_numpy_parameters(t) \u001b[38;5;28;01mfor\u001b[39;00m t \u001b[38;5;129;01min\u001b[39;00m tapes)\n\u001b[0;32m--> 261\u001b[0m \u001b[38;5;28;01mreturn\u001b[39;00m \u001b[43mcached_device_execution\u001b[49m\u001b[43m(\u001b[49m\u001b[43mtapes\u001b[49m\u001b[43m)\u001b[49m\n",
      "File \u001b[0;32m/usr/local/lib/python3.10/dist-packages/pennylane/interfaces/execution.py:383\u001b[0m, in \u001b[0;36mcache_execute.<locals>.wrapper\u001b[0;34m(tapes, **kwargs)\u001b[0m\n\u001b[1;32m    378\u001b[0m         \u001b[38;5;28;01mreturn\u001b[39;00m (res, []) \u001b[38;5;28;01mif\u001b[39;00m return_tuple \u001b[38;5;28;01melse\u001b[39;00m res\n\u001b[1;32m    380\u001b[0m \u001b[38;5;28;01melse\u001b[39;00m:\n\u001b[1;32m    381\u001b[0m     \u001b[38;5;66;03m# execute all unique tapes that do not exist in the cache\u001b[39;00m\n\u001b[1;32m    382\u001b[0m     \u001b[38;5;66;03m# convert to list as new device interface returns a tuple\u001b[39;00m\n\u001b[0;32m--> 383\u001b[0m     res \u001b[38;5;241m=\u001b[39m \u001b[38;5;28mlist\u001b[39m(\u001b[43mfn\u001b[49m\u001b[43m(\u001b[49m\u001b[38;5;28;43mtuple\u001b[39;49m\u001b[43m(\u001b[49m\u001b[43mexecution_tapes\u001b[49m\u001b[38;5;241;43m.\u001b[39;49m\u001b[43mvalues\u001b[49m\u001b[43m(\u001b[49m\u001b[43m)\u001b[49m\u001b[43m)\u001b[49m\u001b[43m,\u001b[49m\u001b[43m \u001b[49m\u001b[38;5;241;43m*\u001b[39;49m\u001b[38;5;241;43m*\u001b[39;49m\u001b[43mkwargs\u001b[49m\u001b[43m)\u001b[49m)\n\u001b[1;32m    385\u001b[0m final_res \u001b[38;5;241m=\u001b[39m []\n\u001b[1;32m    387\u001b[0m \u001b[38;5;28;01mfor\u001b[39;00m i, tape \u001b[38;5;129;01min\u001b[39;00m \u001b[38;5;28menumerate\u001b[39m(tapes):\n",
      "File \u001b[0;32m/usr/lib/python3.10/contextlib.py:79\u001b[0m, in \u001b[0;36mContextDecorator.__call__.<locals>.inner\u001b[0;34m(*args, **kwds)\u001b[0m\n\u001b[1;32m     76\u001b[0m \u001b[38;5;129m@wraps\u001b[39m(func)\n\u001b[1;32m     77\u001b[0m \u001b[38;5;28;01mdef\u001b[39;00m \u001b[38;5;21minner\u001b[39m(\u001b[38;5;241m*\u001b[39margs, \u001b[38;5;241m*\u001b[39m\u001b[38;5;241m*\u001b[39mkwds):\n\u001b[1;32m     78\u001b[0m     \u001b[38;5;28;01mwith\u001b[39;00m \u001b[38;5;28mself\u001b[39m\u001b[38;5;241m.\u001b[39m_recreate_cm():\n\u001b[0;32m---> 79\u001b[0m         \u001b[38;5;28;01mreturn\u001b[39;00m \u001b[43mfunc\u001b[49m\u001b[43m(\u001b[49m\u001b[38;5;241;43m*\u001b[39;49m\u001b[43margs\u001b[49m\u001b[43m,\u001b[49m\u001b[43m \u001b[49m\u001b[38;5;241;43m*\u001b[39;49m\u001b[38;5;241;43m*\u001b[39;49m\u001b[43mkwds\u001b[49m\u001b[43m)\u001b[49m\n",
      "File \u001b[0;32m/usr/local/lib/python3.10/dist-packages/pennylane_qiskit/ibmq.py:91\u001b[0m, in \u001b[0;36mIBMQDevice.batch_execute\u001b[0;34m(self, circuits)\u001b[0m\n\u001b[1;32m     90\u001b[0m \u001b[38;5;28;01mdef\u001b[39;00m \u001b[38;5;21mbatch_execute\u001b[39m(\u001b[38;5;28mself\u001b[39m, circuits):  \u001b[38;5;66;03m# pragma: no cover, pylint:disable=arguments-differ\u001b[39;00m\n\u001b[0;32m---> 91\u001b[0m     res \u001b[38;5;241m=\u001b[39m \u001b[38;5;28;43msuper\u001b[39;49m\u001b[43m(\u001b[49m\u001b[43m)\u001b[49m\u001b[38;5;241;43m.\u001b[39;49m\u001b[43mbatch_execute\u001b[49m\u001b[43m(\u001b[49m\u001b[43mcircuits\u001b[49m\u001b[43m,\u001b[49m\u001b[43m \u001b[49m\u001b[43mtimeout\u001b[49m\u001b[38;5;241;43m=\u001b[39;49m\u001b[38;5;28;43mself\u001b[39;49m\u001b[38;5;241;43m.\u001b[39;49m\u001b[43mtimeout_secs\u001b[49m\u001b[43m)\u001b[49m\n\u001b[1;32m     92\u001b[0m     \u001b[38;5;28;01mif\u001b[39;00m \u001b[38;5;28mself\u001b[39m\u001b[38;5;241m.\u001b[39mtracker\u001b[38;5;241m.\u001b[39mactive:\n\u001b[1;32m     93\u001b[0m         \u001b[38;5;28mself\u001b[39m\u001b[38;5;241m.\u001b[39m_track_run()\n",
      "File \u001b[0;32m/usr/local/lib/python3.10/dist-packages/pennylane_qiskit/qiskit_device.py:495\u001b[0m, in \u001b[0;36mQiskitDevice.batch_execute\u001b[0;34m(self, circuits, timeout)\u001b[0m\n\u001b[1;32m    492\u001b[0m \u001b[38;5;28;01mdef\u001b[39;00m \u001b[38;5;21mbatch_execute\u001b[39m(\u001b[38;5;28mself\u001b[39m, circuits, timeout: \u001b[38;5;28mint\u001b[39m \u001b[38;5;241m=\u001b[39m \u001b[38;5;28;01mNone\u001b[39;00m):\n\u001b[1;32m    493\u001b[0m     \u001b[38;5;66;03m# pylint: disable=missing-function-docstring\u001b[39;00m\n\u001b[0;32m--> 495\u001b[0m     compiled_circuits \u001b[38;5;241m=\u001b[39m \u001b[38;5;28;43mself\u001b[39;49m\u001b[38;5;241;43m.\u001b[39;49m\u001b[43mcompile_circuits\u001b[49m\u001b[43m(\u001b[49m\u001b[43mcircuits\u001b[49m\u001b[43m)\u001b[49m\n\u001b[1;32m    497\u001b[0m     \u001b[38;5;66;03m# Send the batch of circuit objects using backend.run\u001b[39;00m\n\u001b[1;32m    498\u001b[0m     \u001b[38;5;28mself\u001b[39m\u001b[38;5;241m.\u001b[39m_current_job \u001b[38;5;241m=\u001b[39m \u001b[38;5;28mself\u001b[39m\u001b[38;5;241m.\u001b[39mbackend\u001b[38;5;241m.\u001b[39mrun(compiled_circuits, shots\u001b[38;5;241m=\u001b[39m\u001b[38;5;28mself\u001b[39m\u001b[38;5;241m.\u001b[39mshots, \u001b[38;5;241m*\u001b[39m\u001b[38;5;241m*\u001b[39m\u001b[38;5;28mself\u001b[39m\u001b[38;5;241m.\u001b[39mrun_args)\n",
      "File \u001b[0;32m/usr/local/lib/python3.10/dist-packages/pennylane_qiskit/qiskit_device.py:484\u001b[0m, in \u001b[0;36mQiskitDevice.compile_circuits\u001b[0;34m(self, circuits)\u001b[0m\n\u001b[1;32m    480\u001b[0m \u001b[38;5;28;01mfor\u001b[39;00m circuit \u001b[38;5;129;01min\u001b[39;00m circuits:\n\u001b[1;32m    481\u001b[0m     \u001b[38;5;66;03m# We need to reset the device here, else it will\u001b[39;00m\n\u001b[1;32m    482\u001b[0m     \u001b[38;5;66;03m# not start the next computation in the zero state\u001b[39;00m\n\u001b[1;32m    483\u001b[0m     \u001b[38;5;28mself\u001b[39m\u001b[38;5;241m.\u001b[39mreset()\n\u001b[0;32m--> 484\u001b[0m     \u001b[38;5;28;43mself\u001b[39;49m\u001b[38;5;241;43m.\u001b[39;49m\u001b[43mcreate_circuit_object\u001b[49m\u001b[43m(\u001b[49m\u001b[43mcircuit\u001b[49m\u001b[38;5;241;43m.\u001b[39;49m\u001b[43moperations\u001b[49m\u001b[43m,\u001b[49m\u001b[43m \u001b[49m\u001b[43mrotations\u001b[49m\u001b[38;5;241;43m=\u001b[39;49m\u001b[43mcircuit\u001b[49m\u001b[38;5;241;43m.\u001b[39;49m\u001b[43mdiagonalizing_gates\u001b[49m\u001b[43m)\u001b[49m\n\u001b[1;32m    486\u001b[0m     compiled_circ \u001b[38;5;241m=\u001b[39m \u001b[38;5;28mself\u001b[39m\u001b[38;5;241m.\u001b[39mcompile()\n\u001b[1;32m    487\u001b[0m     compiled_circ\u001b[38;5;241m.\u001b[39mname \u001b[38;5;241m=\u001b[39m \u001b[38;5;124mf\u001b[39m\u001b[38;5;124m\"\u001b[39m\u001b[38;5;124mcirc\u001b[39m\u001b[38;5;132;01m{\u001b[39;00m\u001b[38;5;28mlen\u001b[39m(compiled_circuits)\u001b[38;5;132;01m}\u001b[39;00m\u001b[38;5;124m\"\u001b[39m\n",
      "File \u001b[0;32m/usr/local/lib/python3.10/dist-packages/pennylane_qiskit/qiskit_device.py:295\u001b[0m, in \u001b[0;36mQiskitDevice.create_circuit_object\u001b[0;34m(self, operations, **kwargs)\u001b[0m\n\u001b[1;32m    283\u001b[0m \u001b[38;5;250m\u001b[39m\u001b[38;5;124;03m\"\"\"Builds the circuit objects based on the operations and measurements\u001b[39;00m\n\u001b[1;32m    284\u001b[0m \u001b[38;5;124;03mspecified to apply.\u001b[39;00m\n\u001b[1;32m    285\u001b[0m \n\u001b[0;32m   (...)\u001b[0m\n\u001b[1;32m    291\u001b[0m \u001b[38;5;124;03m        pre-measurement into the eigenbasis of the observables.\u001b[39;00m\n\u001b[1;32m    292\u001b[0m \u001b[38;5;124;03m\"\"\"\u001b[39;00m\n\u001b[1;32m    293\u001b[0m rotations \u001b[38;5;241m=\u001b[39m kwargs\u001b[38;5;241m.\u001b[39mget(\u001b[38;5;124m\"\u001b[39m\u001b[38;5;124mrotations\u001b[39m\u001b[38;5;124m\"\u001b[39m, [])\n\u001b[0;32m--> 295\u001b[0m applied_operations \u001b[38;5;241m=\u001b[39m \u001b[38;5;28;43mself\u001b[39;49m\u001b[38;5;241;43m.\u001b[39;49m\u001b[43mapply_operations\u001b[49m\u001b[43m(\u001b[49m\u001b[43moperations\u001b[49m\u001b[43m)\u001b[49m\n\u001b[1;32m    297\u001b[0m \u001b[38;5;66;03m# Rotating the state for measurement in the computational basis\u001b[39;00m\n\u001b[1;32m    298\u001b[0m rotation_circuits \u001b[38;5;241m=\u001b[39m \u001b[38;5;28mself\u001b[39m\u001b[38;5;241m.\u001b[39mapply_operations(rotations)\n",
      "File \u001b[0;32m/usr/local/lib/python3.10/dist-packages/pennylane_qiskit/qiskit_device.py:334\u001b[0m, in \u001b[0;36mQiskitDevice.apply_operations\u001b[0;34m(self, operations)\u001b[0m\n\u001b[1;32m    330\u001b[0m circuits \u001b[38;5;241m=\u001b[39m []\n\u001b[1;32m    332\u001b[0m \u001b[38;5;28;01mfor\u001b[39;00m operation \u001b[38;5;129;01min\u001b[39;00m operations:\n\u001b[1;32m    333\u001b[0m     \u001b[38;5;66;03m# Apply the circuit operations\u001b[39;00m\n\u001b[0;32m--> 334\u001b[0m     device_wires \u001b[38;5;241m=\u001b[39m \u001b[38;5;28;43mself\u001b[39;49m\u001b[38;5;241;43m.\u001b[39;49m\u001b[43mmap_wires\u001b[49m\u001b[43m(\u001b[49m\u001b[43moperation\u001b[49m\u001b[38;5;241;43m.\u001b[39;49m\u001b[43mwires\u001b[49m\u001b[43m)\u001b[49m\n\u001b[1;32m    335\u001b[0m     par \u001b[38;5;241m=\u001b[39m operation\u001b[38;5;241m.\u001b[39mparameters\n\u001b[1;32m    337\u001b[0m     \u001b[38;5;28;01mfor\u001b[39;00m idx, p \u001b[38;5;129;01min\u001b[39;00m \u001b[38;5;28menumerate\u001b[39m(par):\n",
      "File \u001b[0;32m/usr/local/lib/python3.10/dist-packages/pennylane/_device.py:386\u001b[0m, in \u001b[0;36mDevice.map_wires\u001b[0;34m(self, wires)\u001b[0m\n\u001b[1;32m    384\u001b[0m     mapped_wires \u001b[38;5;241m=\u001b[39m wires\u001b[38;5;241m.\u001b[39mmap(\u001b[38;5;28mself\u001b[39m\u001b[38;5;241m.\u001b[39mwire_map)\n\u001b[1;32m    385\u001b[0m \u001b[38;5;28;01mexcept\u001b[39;00m WireError \u001b[38;5;28;01mas\u001b[39;00m e:\n\u001b[0;32m--> 386\u001b[0m     \u001b[38;5;28;01mraise\u001b[39;00m WireError(\n\u001b[1;32m    387\u001b[0m         \u001b[38;5;124mf\u001b[39m\u001b[38;5;124m\"\u001b[39m\u001b[38;5;124mDid not find some of the wires \u001b[39m\u001b[38;5;132;01m{\u001b[39;00mwires\u001b[38;5;132;01m}\u001b[39;00m\u001b[38;5;124m on device with wires \u001b[39m\u001b[38;5;132;01m{\u001b[39;00m\u001b[38;5;28mself\u001b[39m\u001b[38;5;241m.\u001b[39mwires\u001b[38;5;132;01m}\u001b[39;00m\u001b[38;5;124m.\u001b[39m\u001b[38;5;124m\"\u001b[39m\n\u001b[1;32m    388\u001b[0m     ) \u001b[38;5;28;01mfrom\u001b[39;00m \u001b[38;5;21;01me\u001b[39;00m\n\u001b[1;32m    390\u001b[0m \u001b[38;5;28;01mreturn\u001b[39;00m mapped_wires\n",
      "\u001b[0;31mWireError\u001b[0m: Did not find some of the wires <Wires = [0, 4]> on device with wires <Wires = [0, 1, 2, 3]>."
     ]
    }
   ],
   "source": [
    "probTens = qnode()  # >>> pennylane.numpy.tensor.tensor\n",
    "# Print the probabilities\n",
    "print(\"Probability of each computational basis state:\")\n",
    "for state, prob in enumerate(probTens):\n",
    "    print(\"State %2d=%s  prob=%.3f\"%(state,format(state, '04b'),prob))"
   ]
  },
  {
   "cell_type": "code",
   "execution_count": 87,
   "id": "55b17dc7-a11f-4ae2-8426-b7a3ff4c26a0",
   "metadata": {},
   "outputs": [
    {
     "name": "stdout",
     "output_type": "stream",
     "text": [
      "0: ──H─╭●─╭●─╭●─────||─┤ ╭Probs\n",
      "1: ────╰X─│──│──────||─┤ ├Probs\n",
      "2: ───────╰X─│──────||─┤ ├Probs\n",
      "3: ──────────│──╭X──||─┤ ╰Probs\n",
      "4: ──────────╰X─╰●──||─┤       \n"
     ]
    }
   ],
   "source": [
    "qml.draw_mpl(qnode, decimals=2, style=qcstyle)()"
   ]
  },
  {
   "cell_type": "code",
   "execution_count": 95,
   "id": "1de74595-7c38-4c3e-99cb-c49b719bdd7d",
   "metadata": {},
   "outputs": [
    {
     "name": "stdout",
     "output_type": "stream",
     "text": [
      "Name: PennyLane\n",
      "Version: 0.34.0\n",
      "Summary: PennyLane is a Python quantum machine learning library by Xanadu Inc.\n",
      "Home-page: https://github.com/PennyLaneAI/pennylane\n",
      "Author: \n",
      "Author-email: \n",
      "License: Apache License 2.0\n",
      "Location: /usr/local/lib/python3.10/dist-packages\n",
      "Requires: appdirs, autograd, autoray, cachetools, networkx, numpy, pennylane-lightning, requests, rustworkx, scipy, semantic-version, toml, typing-extensions\n",
      "Required-by: PennyLane-Cirq, PennyLane-Lightning, PennyLane-Lightning-GPU, PennyLane-qiskit, PennyLane-SF\n",
      "\n",
      "Platform info:           Linux-6.6.9-200.fc39.x86_64-x86_64-with-glibc2.35\n",
      "Python version:          3.10.12\n",
      "Numpy version:           1.23.5\n",
      "Scipy version:           1.11.4\n",
      "Installed devices:\n",
      "- default.gaussian (PennyLane-0.34.0)\n",
      "- default.mixed (PennyLane-0.34.0)\n",
      "- default.qubit (PennyLane-0.34.0)\n",
      "- default.qubit.autograd (PennyLane-0.34.0)\n",
      "- default.qubit.jax (PennyLane-0.34.0)\n",
      "- default.qubit.legacy (PennyLane-0.34.0)\n",
      "- default.qubit.tf (PennyLane-0.34.0)\n",
      "- default.qubit.torch (PennyLane-0.34.0)\n",
      "- default.qutrit (PennyLane-0.34.0)\n",
      "- null.qubit (PennyLane-0.34.0)\n",
      "- cirq.mixedsimulator (PennyLane-Cirq-0.34.0)\n",
      "- cirq.pasqal (PennyLane-Cirq-0.34.0)\n",
      "- cirq.qsim (PennyLane-Cirq-0.34.0)\n",
      "- cirq.qsimh (PennyLane-Cirq-0.34.0)\n",
      "- cirq.simulator (PennyLane-Cirq-0.34.0)\n",
      "- lightning.qubit (PennyLane-Lightning-0.34.0)\n",
      "- lightning.gpu (PennyLane-Lightning-GPU-0.34.0)\n",
      "- strawberryfields.fock (PennyLane-SF-0.29.0)\n",
      "- strawberryfields.gaussian (PennyLane-SF-0.29.0)\n",
      "- strawberryfields.gbs (PennyLane-SF-0.29.0)\n",
      "- strawberryfields.remote (PennyLane-SF-0.29.0)\n",
      "- strawberryfields.tf (PennyLane-SF-0.29.0)\n",
      "- qiskit.aer (PennyLane-qiskit-0.34.0)\n",
      "- qiskit.basicaer (PennyLane-qiskit-0.34.0)\n",
      "- qiskit.ibmq (PennyLane-qiskit-0.34.0)\n",
      "- qiskit.ibmq.circuit_runner (PennyLane-qiskit-0.34.0)\n",
      "- qiskit.ibmq.sampler (PennyLane-qiskit-0.34.0)\n",
      "- qiskit.remote (PennyLane-qiskit-0.34.0)\n"
     ]
    }
   ],
   "source": [
    "qml.about()"
   ]
  },
  {
   "cell_type": "code",
   "execution_count": 96,
   "id": "fdd1c758-1ead-4bea-a612-b2ee08014bd9",
   "metadata": {},
   "outputs": [
    {
     "name": "stdout",
     "output_type": "stream",
     "text": [
      "PennyLane-qiskit          0.34.0\n",
      "qiskit                    0.45.1\n",
      "qiskit-aer                0.13.2\n",
      "qiskit-ibm-provider       0.8.0\n",
      "qiskit-ibm-runtime        0.17.0\n",
      "qiskit-ibmq-provider      0.20.2\n",
      "qiskit-terra              0.45.1\n"
     ]
    }
   ],
   "source": [
    "!pip3 list|grep qiskit"
   ]
  },
  {
   "cell_type": "code",
   "execution_count": null,
   "id": "fbe5c860-a279-4610-a0c2-c124bc7beedf",
   "metadata": {},
   "outputs": [],
   "source": []
  }
 ],
 "metadata": {
  "kernelspec": {
   "display_name": "Python 3 (ipykernel)",
   "language": "python",
   "name": "python3"
  },
  "language_info": {
   "codemirror_mode": {
    "name": "ipython",
    "version": 3
   },
   "file_extension": ".py",
   "mimetype": "text/x-python",
   "name": "python",
   "nbconvert_exporter": "python",
   "pygments_lexer": "ipython3",
   "version": "3.10.12"
  }
 },
 "nbformat": 4,
 "nbformat_minor": 5
}
