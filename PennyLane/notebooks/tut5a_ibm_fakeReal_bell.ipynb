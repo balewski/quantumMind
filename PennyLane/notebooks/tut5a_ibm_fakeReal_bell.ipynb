{
 "cells": [
  {
   "cell_type": "code",
   "execution_count": 2,
   "id": "1cb835b0-a5f8-4a69-b20e-806d0ea53cdf",
   "metadata": {},
   "outputs": [],
   "source": [
    "# acccess IBM\n",
    "#!/dataVault/activate_IBMProvider.py"
   ]
  },
  {
   "cell_type": "code",
   "execution_count": 4,
   "id": "1449ddc4-5e78-4873-bc6f-816b7fefaedd",
   "metadata": {},
   "outputs": [
    {
     "name": "stdout",
     "output_type": "stream",
     "text": [
      "Probability of each computational basis state:\n",
      "State 0: 0.469\n",
      "State 1: 0.0185\n",
      "State 2: 0.0125\n",
      "State 3: 0.5\n"
     ]
    }
   ],
   "source": [
    "import pennylane as qml\n",
    "\n",
    "if 1: \n",
    "    # Initialize the FakeHanoi simulator\n",
    "    from qiskit.providers.aer import AerSimulator\n",
    "    from qiskit.providers.fake_provider  import FakeHanoi\n",
    "    fake_hanoi_backend = FakeHanoi()\n",
    "    aer_simulator = AerSimulator.from_backend(fake_hanoi_backend)\n",
    "    # Use the AerSimulator with FakeHanoi configuration and 2000 shots\n",
    "    dev = qml.device('qiskit.aer', wires=2, backend=aer_simulator, shots=2000)\n",
    "if 0:\n",
    "    from qiskit_ibm_provider import IBMProvider\n",
    "    provider = IBMProvider()\n",
    "    backend = provider.get_backend('ibm_cairo')\n",
    "    dev = qml.device('qiskit.ibmq', wires=2, backend=backend, shots=200)\n",
    "if 0:\n",
    "    dev = qml.device('default.qubit', wires=2)\n",
    "    \n",
    "\n",
    "def bell_state_circuit(dev):\n",
    "    \"\"\"Create a quantum circuit to generate a Bell state.\"\"\"\n",
    "    @qml.qnode(dev)\n",
    "    def circuit():\n",
    "        qml.Hadamard(wires=0)\n",
    "        qml.CNOT(wires=[0, 1])\n",
    "        return qml.probs(wires=[0, 1])\n",
    "    return circuit\n",
    "\n",
    "# Create and run the Bell state circuit\n",
    "circ = bell_state_circuit(dev)\n",
    "probTens = circ()  # >>> pennylane.numpy.tensor.tensor\n",
    "\n",
    "# Print the probabilities\n",
    "print(\"Probability of each computational basis state:\")\n",
    "for state, prob in enumerate(probTens):\n",
    "    print(f\"State {state}: {prob}\")"
   ]
  },
  {
   "cell_type": "code",
   "execution_count": 16,
   "id": "0566424d-bc95-437b-87a5-3a067c0a6e01",
   "metadata": {},
   "outputs": [
    {
     "name": "stdout",
     "output_type": "stream",
     "text": [
      "Shape of tensor: (4,)\n",
      "Size of tensor: 4\n",
      "Data type of tensor: float64\n",
      "Number of dimensions: 1\n"
     ]
    }
   ],
   "source": [
    "print(\"Shape of tensor:\", probTens.shape)\n",
    "print(\"Size of tensor:\", probTens.size)\n",
    "print(\"Data type of tensor:\", probTens.dtype)\n",
    "print(\"Number of dimensions:\", probTens.ndim)"
   ]
  },
  {
   "cell_type": "code",
   "execution_count": null,
   "id": "46dca724-9cc2-44cf-b51d-5c299a2f3e8e",
   "metadata": {},
   "outputs": [],
   "source": []
  }
 ],
 "metadata": {
  "kernelspec": {
   "display_name": "Python 3 (ipykernel)",
   "language": "python",
   "name": "python3"
  },
  "language_info": {
   "codemirror_mode": {
    "name": "ipython",
    "version": 3
   },
   "file_extension": ".py",
   "mimetype": "text/x-python",
   "name": "python",
   "nbconvert_exporter": "python",
   "pygments_lexer": "ipython3",
   "version": "3.10.12"
  }
 },
 "nbformat": 4,
 "nbformat_minor": 5
}
