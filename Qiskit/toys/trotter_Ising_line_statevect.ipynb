{
 "cells": [
  {
   "cell_type": "markdown",
   "id": "dec759f6-6e7d-4a3e-bb8e-106e22c559ee",
   "metadata": {},
   "source": [
    "###  Trotterized Ising model for open line in 1D \n",
    " Following from the Schrödinger equation, the time evolution of a system initially in the state $\\vert\\psi(0)\\rangle$ takes the form:\n",
    "\n",
    "$$\n",
    "\\vert \\psi(t) \\rangle = e^{-i H t} \\vert \\psi(0) \\rangle \\text{,}\n",
    "$$\n",
    "\n",
    "where $H$ is the time-independent Hamiltonian under which the system is submitted. We consider a Hamiltonian that can be written as a weighted sum of Pauli terms $H=\\sum_j a_j H_j$, with $H_j$ representing a tensor product of Pauli terms acting on $n$ qubits. Thus, the sequence of gates that approximate a single evolution step is found under the assumption that the product of matrix exponentials is a good approximation for the sum of matrix exponentials:\n",
    "\n",
    "$$\n",
    "\\vert \\psi(t) \\rangle \\approx \\left(\\prod_j e^{-i a_j H_j t/r} \\right)^r \\vert\\psi(0) \\rangle \\text{,}\n",
    "$$\n",
    "\n",
    "where $t/r$ is the time slice (evolution step) that we are choosing. As a result, a gate to be applied $r$ times is created. A smaller timestep leads to a more accurate approximation. However, this also leads to deeper circuits which, in practice, leads to more error accumulation, becoming a critical aspect especially on NISQ devices. For the purposes of this tutorial, all simulations are Statevector simulator, which doesn't include any shot or hardware noise.\n",
    "\n",
    "We will follow paper by Jamadagni at al.: [arXiv:2401.13625v1](https://arxiv.org/html/2401.13625v1).\n",
    "The Transverse Field Ising Model (TFIM) Hamiltonian for 1D  open chain of length N (without periodic boundary condition) is\n",
    "$$\n",
    "H_{TFIM} = -  \\sum_{i=0}^{N-2} \\sigma_z^i \\sigma_z^{i+1} - g(t) \\sum_{j=0}^{N-1} \\sigma_x^i  \\text{,}\n",
    "$$\n",
    "where $ g(t)= -t/\\tau_Q $ and $\\tau_Q$ being the rate of the rate of the quanch. Since $g(t)$ is time-dependent, we'll treat it as a constant for each small time step."
   ]
  },
  {
   "cell_type": "code",
   "execution_count": 147,
   "id": "020fb8d1-f8d2-4ee1-a6f1-41de6af5ab96",
   "metadata": {},
   "outputs": [],
   "source": [
    "from qiskit.quantum_info import SparsePauliOp\n",
    "from qiskit_algorithms import TrotterQRTE\n",
    "from qiskit_algorithms import TimeEvolutionProblem\n",
    "from qiskit.quantum_info import Statevector\n",
    "from time import time\n",
    "import numpy as np"
   ]
  },
  {
   "cell_type": "code",
   "execution_count": 148,
   "id": "292584ff-1372-41b8-bec3-65e0dfe5230e",
   "metadata": {},
   "outputs": [],
   "source": [
    "N = 9  # Number of qubits\n",
    "J = 1.0  # Interaction strength\n",
    "tau_Q = 2.0  # Quench time\n",
    "final_time = 4.0  # Total evolution time\n",
    "num_timesteps = 100  # Number of time steps\n",
    "dt = final_time / num_timesteps  # Time step size\n",
    "\n",
    "# Initialize list for Hamiltonians at each time step\n",
    "HL = []\n",
    "\n",
    "for step in range(num_timesteps):\n",
    "    t = step * dt\n",
    "    g_t = -t / tau_Q\n",
    "\n",
    "    pauli_strings = []\n",
    "    coefficients = []\n",
    "\n",
    "    # Interaction terms for chain without periodic boundary\n",
    "    for i in range(N-1):\n",
    "        z_term = ['I'] * N\n",
    "        z_term[i] = 'Z'\n",
    "        z_term[(i + 1) % N] = 'Z'  # Periodic boundary conditions\n",
    "        pauli_strings.append(''.join(z_term))\n",
    "        coefficients.append(-J)\n",
    "\n",
    "    # Transverse field terms\n",
    "    for i in range(N):\n",
    "        x_term = ['I'] * N\n",
    "        x_term[i] = 'X'\n",
    "        pauli_strings.append(''.join(x_term))\n",
    "        coefficients.append(-g_t)\n",
    "\n",
    "    H = SparsePauliOp.from_list(zip(pauli_strings, coefficients))\n",
    "    HL.append(H)\n",
    "# HL"
   ]
  },
  {
   "cell_type": "code",
   "execution_count": 149,
   "id": "77b6f569-6f5d-4ebe-860b-fe338ab23a45",
   "metadata": {},
   "outputs": [
    {
     "name": "stdout",
     "output_type": "stream",
     "text": [
      "1st H-step:\n",
      " SparsePauliOp(['ZZIIIIIII', 'IZZIIIIII', 'IIZZIIIII', 'IIIZZIIII', 'IIIIZZIII', 'IIIIIZZII', 'IIIIIIZZI', 'IIIIIIIZZ', 'XIIIIIIII', 'IXIIIIIII', 'IIXIIIIII', 'IIIXIIIII', 'IIIIXIIII', 'IIIIIXIII', 'IIIIIIXII', 'IIIIIIIXI', 'IIIIIIIIX'],\n",
      "              coeffs=[-1.+0.j, -1.+0.j, -1.+0.j, -1.+0.j, -1.+0.j, -1.+0.j, -1.+0.j, -1.+0.j,\n",
      "  0.+0.j,  0.+0.j,  0.+0.j,  0.+0.j,  0.+0.j,  0.+0.j,  0.+0.j,  0.+0.j,\n",
      "  0.+0.j])\n"
     ]
    }
   ],
   "source": [
    "print('1st H-step:\\n',HL[0])"
   ]
  },
  {
   "cell_type": "code",
   "execution_count": 150,
   "id": "b888d3f0-2fdd-47bd-bf6d-303c07b27172",
   "metadata": {},
   "outputs": [
    {
     "name": "stdout",
     "output_type": "stream",
     "text": [
      "last H-step:\n",
      " SparsePauliOp(['ZZIIIIIII', 'IZZIIIIII', 'IIZZIIIII', 'IIIZZIIII', 'IIIIZZIII', 'IIIIIZZII', 'IIIIIIZZI', 'IIIIIIIZZ', 'XIIIIIIII', 'IXIIIIIII', 'IIXIIIIII', 'IIIXIIIII', 'IIIIXIIII', 'IIIIIXIII', 'IIIIIIXII', 'IIIIIIIXI', 'IIIIIIIIX'],\n",
      "              coeffs=[-1.  +0.j, -1.  +0.j, -1.  +0.j, -1.  +0.j, -1.  +0.j, -1.  +0.j,\n",
      " -1.  +0.j, -1.  +0.j,  1.98+0.j,  1.98+0.j,  1.98+0.j,  1.98+0.j,\n",
      "  1.98+0.j,  1.98+0.j,  1.98+0.j,  1.98+0.j,  1.98+0.j])\n"
     ]
    }
   ],
   "source": [
    "print('last H-step:\\n',HL[-1])"
   ]
  },
  {
   "cell_type": "code",
   "execution_count": 151,
   "id": "d317b6c6-c645-402e-8d52-e255cf6561db",
   "metadata": {},
   "outputs": [
    {
     "name": "stdout",
     "output_type": "stream",
     "text": [
      "N=9 initPatt:001000000\n"
     ]
    }
   ],
   "source": [
    "# Prepare the Initial State, all qubits in the $\\ket{0}$ state\n",
    "#initPatt= ['0']*N\n",
    "initPatt= ''.join(['1' if i==2 else '0' for i in  range(N)])  # single bit\n",
    "#initPatt= ''.join(['1' if i==N//2 or i+1==N//2 else '0' for i in  range(N)])  # 2bit in the middle\n",
    "initial_state = Statevector.from_label(initPatt)\n",
    "print('N=%d initPatt:%s'%(N,initPatt))"
   ]
  },
  {
   "cell_type": "code",
   "execution_count": 152,
   "id": "c6468f6c-fc4c-498d-83e1-8aee58c892cd",
   "metadata": {},
   "outputs": [],
   "source": [
    "problem = TimeEvolutionProblem(\n",
    "    HL,\n",
    "    initial_state=initial_state,\n",
    "    time=final_time\n",
    ")"
   ]
  },
  {
   "cell_type": "markdown",
   "id": "4e4342f7-abad-4cba-81e4-489dead67a36",
   "metadata": {},
   "source": [
    "Let compute exact Trotter evolution.  We compute this exponential using SciPy's linalg.expm function, and then we let the initial system evolve using the Statevector's evolve method. This becomes too costly to be performed on larger systems very quickly."
   ]
  },
  {
   "cell_type": "code",
   "execution_count": 153,
   "id": "6abba959-508a-48bd-a92b-c92bcb707cdf",
   "metadata": {},
   "outputs": [
    {
     "name": "stdout",
     "output_type": "stream",
     "text": [
      "elaT=24.3 sec\n"
     ]
    }
   ],
   "source": [
    "import scipy as sc\n",
    "# We define a slightly denser time mesh\n",
    "exact_times = np.linspace(0, final_time, num_timesteps)\n",
    "\n",
    "# We compute the exact evolution using the exp\n",
    "T0=time()\n",
    "exact_evolution = []\n",
    "for i,t in enumerate(exact_times):\n",
    "    H_array = HL[i].to_matrix()\n",
    "    exact_evolution.append(initial_state.evolve(sc.linalg.expm(-1j * t * H_array)) )\n",
    "T1=time()\n",
    "print('elaT=%.1f sec'%(T1-T0))"
   ]
  },
  {
   "cell_type": "code",
   "execution_count": 154,
   "id": "87141eb9-6ee0-47c2-aa59-cf2bff86cfbc",
   "metadata": {},
   "outputs": [],
   "source": [
    "magnetization_op = SparsePauliOp.from_sparse_list(\n",
    "    [(\"Z\", [i], 1.0) for i in range(0, N)], num_qubits=N)\n",
    "correlation_op = SparsePauliOp.from_sparse_list(\n",
    "    [(\"ZZ\", [i, i + 1], 1.0) for i in range(0, N - 1)], num_qubits=N) / (N - 1)"
   ]
  },
  {
   "cell_type": "code",
   "execution_count": 155,
   "id": "676ad982-674f-410a-b2e2-2a44085b13ee",
   "metadata": {},
   "outputs": [
    {
     "data": {
      "text/plain": [
       "<matplotlib.colorbar.Colorbar at 0xffff1efee270>"
      ]
     },
     "execution_count": 155,
     "metadata": {},
     "output_type": "execute_result"
    },
    {
     "data": {
      "image/png": "[encoded data removed]",
      "text/plain": [
       "<Figure size 1400x200 with 2 Axes>"
      ]
     },
     "metadata": {},
     "output_type": "display_data"
    }
   ],
   "source": [
    "import matplotlib.pyplot as plt\n",
    "from matplotlib import cm\n",
    "\n",
    "# An inner list comprehension loops over the terms of the SparsePauliOp magnetization_op,\n",
    "# which corresponds to the magnetization of each one of the sites\n",
    "magnetizations = np.real(\n",
    "    [[sv.expectation_value(term) for term in magnetization_op] for sv in exact_evolution]\n",
    ")\n",
    "fig, ax = plt.subplots(figsize=(14, 2))\n",
    "# Create the 2-dim xx and yy arrays tiling the grid with the x and y values\n",
    "xx, yy = np.meshgrid(exact_times, np.arange(N))\n",
    "c = ax.pcolor(xx, yy, magnetizations.T, vmin=-1, vmax=+1, cmap=\"RdBu\")\n",
    "# Force the figure to have all y ticks from 0 to 5\n",
    "ax.set_yticks(np.arange(N))\n",
    "tit=r'N=%d  $\\tau_Q=%.1f$ '%(N,tau_Q)\n",
    "ax.set(ylabel=\"Site $i$\",xlabel=\"Time\",title=tit)\n",
    "\n",
    "fig.colorbar(c, ax=ax, label=\"$\\\\langle Z_i \\\\rangle$\", aspect=2.5)"
   ]
  }
 ],
 "metadata": {
  "kernelspec": {
   "display_name": "Python 3 (ipykernel)",
   "language": "python",
   "name": "python3"
  },
  "language_info": {
   "codemirror_mode": {
    "name": "ipython",
    "version": 3
   },
   "file_extension": ".py",
   "mimetype": "text/x-python",
   "name": "python",
   "nbconvert_exporter": "python",
   "pygments_lexer": "ipython3",
   "version": "3.12.3"
  }
 },
 "nbformat": 4,
 "nbformat_minor": 5
}
