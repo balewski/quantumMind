{
 "cells": [
  {
   "cell_type": "code",
   "execution_count": 55,
   "id": "188dead7",
   "metadata": {},
   "outputs": [],
   "source": [
    "# initialize random multi-qubit state\n",
    "from qiskit import QuantumCircuit, assemble, Aer, transpile\n",
    "from qiskit.quantum_info import random_statevector, Statevector\n",
    "from qiskit.tools.visualization import plot_histogram"
   ]
  },
  {
   "cell_type": "code",
   "execution_count": 56,
   "id": "c03f6d49",
   "metadata": {},
   "outputs": [
    {
     "name": "stdout",
     "output_type": "stream",
     "text": [
      "ivec Statevector([-0.37337305+0.00484307j, -0.66439266-0.34898123j,\n",
      "             -0.18077766+0.1459521j , -0.05551021+0.49020367j],\n",
      "            dims=(2, 2))\n"
     ]
    }
   ],
   "source": [
    "nq=2\n",
    "ivec = random_statevector(2**nq) # 2^M dimensional Hilbert space    \n",
    "print('ivec',ivec)"
   ]
  },
  {
   "cell_type": "code",
   "execution_count": 57,
   "id": "391af36e",
   "metadata": {},
   "outputs": [
    {
     "name": "stdout",
     "output_type": "stream",
     "text": [
      "     »\n",
      "q_0: »\n",
      "     »\n",
      "q_1: »\n",
      "     »\n",
      "c: 2/»\n",
      "     »\n",
      "«     ┌───────────────────────────────────────────────────────────────────────────────────────┐\n",
      "«q_0: ┤0                                                                                      ├\n",
      "«     │  Initialize(-0.37337+0.0048431j,-0.66439-0.34898j,-0.18078+0.14595j,-0.05551+0.4902j) │\n",
      "«q_1: ┤1                                                                                      ├\n",
      "«     └───────────────────────────────────────────────────────────────────────────────────────┘\n",
      "«c: 2/═════════════════════════════════════════════════════════════════════════════════════════\n",
      "«                                                                                              \n"
     ]
    }
   ],
   "source": [
    "qc = QuantumCircuit(nq,nq) \n",
    "qc.initialize(ivec) #,qubits=nq)\n",
    "print(qc)"
   ]
  },
  {
   "cell_type": "code",
   "execution_count": 58,
   "id": "8f63c611",
   "metadata": {},
   "outputs": [
    {
     "data": {
      "text/html": [
       "<pre style=\"word-wrap: normal;white-space: pre;background: #fff0;line-height: 1.1;font-family: &quot;Courier New&quot;,Courier,monospace\">     »\n",
       "q_0: »\n",
       "     »\n",
       "q_1: »\n",
       "     »\n",
       "c: 2/»\n",
       "     »\n",
       "«     ┌───────────────────────────────────────────────────────────────────────────────────────┐\n",
       "«q_0: ┤0                                                                                      ├\n",
       "«     │  Initialize(-0.37337+0.0048431j,-0.66439-0.34898j,-0.18078+0.14595j,-0.05551+0.4902j) │\n",
       "«q_1: ┤1                                                                                      ├\n",
       "«     └───────────────────────────────────────────────────────────────────────────────────────┘\n",
       "«c: 2/═════════════════════════════════════════════════════════════════════════════════════════\n",
       "«                                                                                              </pre>"
      ],
      "text/plain": [
       "     »\n",
       "q_0: »\n",
       "     »\n",
       "q_1: »\n",
       "     »\n",
       "c: 2/»\n",
       "     »\n",
       "«     ┌───────────────────────────────────────────────────────────────────────────────────────┐\n",
       "«q_0: ┤0                                                                                      ├\n",
       "«     │  Initialize(-0.37337+0.0048431j,-0.66439-0.34898j,-0.18078+0.14595j,-0.05551+0.4902j) │\n",
       "«q_1: ┤1                                                                                      ├\n",
       "«     └───────────────────────────────────────────────────────────────────────────────────────┘\n",
       "«c: 2/═════════════════════════════════════════════════════════════════════════════════════════\n",
       "«                                                                                              "
      ]
     },
     "execution_count": 58,
     "metadata": {},
     "output_type": "execute_result"
    }
   ],
   "source": [
    "qc.draw()"
   ]
  },
  {
   "cell_type": "code",
   "execution_count": 60,
   "id": "7573235d",
   "metadata": {},
   "outputs": [
    {
     "name": "stdout",
     "output_type": "stream",
     "text": [
      "{'00': 37, '01': 163}\n"
     ]
    },
    {
     "data": {
      "image/png": "[encoded data removed]",
      "text/plain": [
       "<Figure size 700x500 with 1 Axes>"
      ]
     },
     "execution_count": 60,
     "metadata": {},
     "output_type": "execute_result"
    }
   ],
   "source": [
    "qc.measure([0],[0])\n",
    "\n",
    "# Transpile for simulator\n",
    "simulator = Aer.get_backend('aer_simulator')\n",
    "#qcT = transpile(qc, simulator)\n",
    "\n",
    "# Run and get counts\n",
    "result = simulator.run(qc, shots=200).result()\n",
    "counts = result.get_counts(qc)\n",
    "print(counts)\n",
    "plot_histogram(counts, title='Bell-State counts')"
   ]
  },
  {
   "cell_type": "code",
   "execution_count": 62,
   "id": "65df93ff",
   "metadata": {},
   "outputs": [
    {
     "data": {
      "text/html": [
       "<pre style=\"word-wrap: normal;white-space: pre;background: #fff0;line-height: 1.1;font-family: &quot;Courier New&quot;,Courier,monospace\">     ┌─────────┐      ┌─────────┐      ┌─────────┐\n",
       "q_0: ┤ Ry(1.1) ├─■──■─┤ Ry(2.1) ├────■─┤ Ry(3.1) ├\n",
       "     ├─────────┤ │  │ ├─────────┤    │ ├─────────┤\n",
       "q_1: ┤ Ry(1.2) ├─■──┼─┤ Ry(2.2) ├─■──┼─┤ Ry(3.2) ├\n",
       "     ├─────────┤    │ ├─────────┤ │  │ ├─────────┤\n",
       "q_2: ┤ Ry(1.3) ├────■─┤ Ry(2.3) ├─■──■─┤ Ry(3.3) ├\n",
       "     └─────────┘      └─────────┘      └─────────┘</pre>"
      ],
      "text/plain": [
       "     ┌─────────┐      ┌─────────┐      ┌─────────┐\n",
       "q_0: ┤ Ry(1.1) ├─■──■─┤ Ry(2.1) ├────■─┤ Ry(3.1) ├\n",
       "     ├─────────┤ │  │ ├─────────┤    │ ├─────────┤\n",
       "q_1: ┤ Ry(1.2) ├─■──┼─┤ Ry(2.2) ├─■──┼─┤ Ry(3.2) ├\n",
       "     ├─────────┤    │ ├─────────┤ │  │ ├─────────┤\n",
       "q_2: ┤ Ry(1.3) ├────■─┤ Ry(2.3) ├─■──■─┤ Ry(3.3) ├\n",
       "     └─────────┘      └─────────┘      └─────────┘"
      ]
     },
     "execution_count": 62,
     "metadata": {},
     "output_type": "execute_result"
    }
   ],
   "source": [
    "def apply_fixed_ansatz(qubits, parameters):\n",
    "\n",
    "    for iz in range (0, len(qubits)):\n",
    "        circ.ry(parameters[0][iz], qubits[iz])\n",
    "\n",
    "    circ.cz(qubits[0], qubits[1])\n",
    "    circ.cz(qubits[2], qubits[0])\n",
    "\n",
    "    for iz in range (0, len(qubits)):\n",
    "        circ.ry(parameters[1][iz], qubits[iz])\n",
    "\n",
    "    circ.cz(qubits[1], qubits[2])\n",
    "    circ.cz(qubits[2], qubits[0])\n",
    "\n",
    "    for iz in range (0, len(qubits)):\n",
    "        circ.ry(parameters[2][iz], qubits[iz])\n",
    "\n",
    "circ = QuantumCircuit(3)\n",
    "apply_fixed_ansatz([0, 1, 2], [[1.1, 1.2, 1.3], [2.1, 2.2, 2.3], [3.1, 3.2, 3.3]])\n",
    "circ.draw()"
   ]
  },
  {
   "cell_type": "code",
   "execution_count": null,
   "id": "0043b70f",
   "metadata": {},
   "outputs": [],
   "source": []
  }
 ],
 "metadata": {
  "kernelspec": {
   "display_name": "Python 3 (ipykernel)",
   "language": "python",
   "name": "python3"
  },
  "language_info": {
   "codemirror_mode": {
    "name": "ipython",
    "version": 3
   },
   "file_extension": ".py",
   "mimetype": "text/x-python",
   "name": "python",
   "nbconvert_exporter": "python",
   "pygments_lexer": "ipython3",
   "version": "3.8.10"
  }
 },
 "nbformat": 4,
 "nbformat_minor": 5
}
