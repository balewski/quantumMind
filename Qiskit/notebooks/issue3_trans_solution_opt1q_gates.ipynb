{
 "cells": [
  {
   "cell_type": "markdown",
   "id": "f4c6263e",
   "metadata": {},
   "source": [
    "solution for issue3_trans_vary.py\n",
    "(Aziz - June 20,2022, 5;20 am, to bnl emails)\n",
    "\n",
    " specific pass call Optimize1qGatesDecomposition which make possible to reduce ZXZXZ to U2 - if possible.\n",
    " \n",
    "To avoid this and use only ZXZXZ decomposition, you can use the optimization level 0(but the circuit layout will not be noise optimized) or\n",
    "you can create the level 3 pass manager manually and remove the Optimize1qGatesDecomposition pass, I attached a notebook for this.\n",
    " "
   ]
  },
  {
   "cell_type": "code",
   "execution_count": 1,
   "id": "8bf1d56d",
   "metadata": {},
   "outputs": [
    {
     "name": "stderr",
     "output_type": "stream",
     "text": [
      "/tmp/ipykernel_602/2692642352.py:3: DeprecationWarning: The module 'qiskit.test.mock' is deprecated since Qiskit Terra 0.21.0, and will be removed 3 months or more later. Instead, you should import the desired object directly 'qiskit.providers.fake_provider'.\n",
      "  from qiskit.test.mock import FakeLima\n"
     ]
    },
    {
     "name": "stdout",
     "output_type": "stream",
     "text": [
      "backend= aer_simulator(fake_lima) 111\n"
     ]
    }
   ],
   "source": [
    "#!/usr/bin/env python3\n",
    "\n",
    "from qiskit.test.mock import FakeLima\n",
    "from qiskit.providers.aer import AerSimulator\n",
    "from qiskit.transpiler.preset_passmanagers import level_3_pass_manager\n",
    "from qiskit.transpiler import PassManagerConfig\n",
    "from qiskit.transpiler import CouplingMap\n",
    "import qiskit as qk\n",
    "from pprint import pprint\n",
    "\n",
    "device_backend = FakeLima()\n",
    "backend=AerSimulator.from_backend(device_backend)\n",
    "seed=111\n",
    "print('backend=',backend,seed)\n"
   ]
  },
  {
   "cell_type": "code",
   "execution_count": 2,
   "id": "9f15637e",
   "metadata": {},
   "outputs": [],
   "source": [
    "pm_config = PassManagerConfig(initial_layout=None,\n",
    "        basis_gates=backend.configuration().basis_gates,\n",
    "        inst_map=None,\n",
    "        coupling_map=CouplingMap(backend.configuration().coupling_map),\n",
    "        layout_method=None,\n",
    "        routing_method=None,\n",
    "        translation_method=None,\n",
    "        scheduling_method=None,\n",
    "        instruction_durations=None,\n",
    "        backend_properties=backend.properties(),\n",
    "        approximation_degree=None,\n",
    "        seed_transpiler=seed,\n",
    "        timing_constraints=None,\n",
    "        unitary_synthesis_method=\"default\",\n",
    "        unitary_synthesis_plugin_config=None,\n",
    "        target=None)"
   ]
  },
  {
   "cell_type": "code",
   "execution_count": 18,
   "id": "7d9eb486",
   "metadata": {},
   "outputs": [
    {
     "name": "stdout",
     "output_type": "stream",
     "text": [
      "[{'flow_controllers': {},\n",
      "  'passes': [<qiskit.transpiler.passes.synthesis.unitary_synthesis.UnitarySynthesis object at 0x7efea597d4c0>,\n",
      "             <qiskit.transpiler.passes.basis.unroll_3q_or_more.Unroll3qOrMore object at 0x7efea597d850>]},\n",
      " {'flow_controllers': {},\n",
      "  'passes': [<qiskit.transpiler.passes.optimization.remove_reset_in_zero_state.RemoveResetInZeroState object at 0x7efea46a8f40>,\n",
      "             <qiskit.transpiler.passes.optimization.optimize_swap_before_measure.OptimizeSwapBeforeMeasure object at 0x7efea46a0910>,\n",
      "             <qiskit.transpiler.passes.optimization.remove_diagonal_gates_before_measure.RemoveDiagonalGatesBeforeMeasure object at 0x7efea46a09d0>]},\n",
      " {'flow_controllers': {},\n",
      "  'passes': [<qiskit.transpiler.passes.layout.set_layout.SetLayout object at 0x7efea597da00>]},\n",
      " {'flow_controllers': {'condition'},\n",
      "  'passes': [<qiskit.transpiler.passes.layout.vf2_layout.VF2Layout object at 0x7efea597db50>]},\n",
      " {'flow_controllers': {'condition'},\n",
      "  'passes': [<qiskit.transpiler.passes.layout.sabre_layout.SabreLayout object at 0x7efea597dbb0>]},\n",
      " {'flow_controllers': {},\n",
      "  'passes': [<qiskit.transpiler.passes.layout.full_ancilla_allocation.FullAncillaAllocation object at 0x7efea597da30>,\n",
      "             <qiskit.transpiler.passes.layout.enlarge_with_ancilla.EnlargeWithAncilla object at 0x7efea597d790>,\n",
      "             <qiskit.transpiler.passes.layout.apply_layout.ApplyLayout object at 0x7efea597d700>]},\n",
      " {'flow_controllers': {},\n",
      "  'passes': [<qiskit.transpiler.passes.utils.check_map.CheckMap object at 0x7efea597ddf0>]},\n",
      " {'flow_controllers': {'condition'},\n",
      "  'passes': [<qiskit.transpiler.passes.utils.barrier_before_final_measurements.BarrierBeforeFinalMeasurements object at 0x7efea597df70>,\n",
      "             <qiskit.transpiler.passes.routing.sabre_swap.SabreSwap object at 0x7efea597d580>]},\n",
      " {'flow_controllers': {},\n",
      "  'passes': [<qiskit.transpiler.passes.synthesis.unitary_synthesis.UnitarySynthesis object at 0x7efea597d550>,\n",
      "             <qiskit.transpiler.passes.basis.unroll_custom_definitions.UnrollCustomDefinitions object at 0x7efea597d640>,\n",
      "             <qiskit.transpiler.passes.basis.basis_translator.BasisTranslator object at 0x7efea597da60>]},\n",
      " {'flow_controllers': {},\n",
      "  'passes': [<qiskit.transpiler.passes.optimization.remove_reset_in_zero_state.RemoveResetInZeroState object at 0x7efea46a8f40>]},\n",
      " {'flow_controllers': {},\n",
      "  'passes': [<qiskit.transpiler.passes.analysis.depth.Depth object at 0x7efea46a8d00>,\n",
      "             <qiskit.transpiler.passes.utils.fixed_point.FixedPoint object at 0x7efea46a8340>,\n",
      "             <qiskit.transpiler.passes.analysis.size.Size object at 0x7efea46a8670>,\n",
      "             <qiskit.transpiler.passes.utils.fixed_point.FixedPoint object at 0x7efea46a8ca0>]},\n",
      " {'flow_controllers': {'do_while'},\n",
      "  'passes': [<qiskit.transpiler.passes.optimization.collect_2q_blocks.Collect2qBlocks object at 0x7efea46a0640>,\n",
      "             <qiskit.transpiler.passes.optimization.consolidate_blocks.ConsolidateBlocks object at 0x7efea46a0880>,\n",
      "             <qiskit.transpiler.passes.synthesis.unitary_synthesis.UnitarySynthesis object at 0x7efea46a0c10>,\n",
      "             <qiskit.transpiler.passes.optimization.optimize_1q_decomposition.Optimize1qGatesDecomposition object at 0x7efea46a0850>,\n",
      "             <qiskit.transpiler.passes.optimization.commutative_cancellation.CommutativeCancellation object at 0x7efea46a0a00>,\n",
      "             <qiskit.transpiler.passes.synthesis.unitary_synthesis.UnitarySynthesis object at 0x7efea597d550>,\n",
      "             <qiskit.transpiler.passes.basis.unroll_custom_definitions.UnrollCustomDefinitions object at 0x7efea597d640>,\n",
      "             <qiskit.transpiler.passes.basis.basis_translator.BasisTranslator object at 0x7efea597da60>,\n",
      "             <qiskit.transpiler.passes.analysis.depth.Depth object at 0x7efea46a8d00>,\n",
      "             <qiskit.transpiler.passes.utils.fixed_point.FixedPoint object at 0x7efea46a8340>,\n",
      "             <qiskit.transpiler.passes.analysis.size.Size object at 0x7efea46a8670>,\n",
      "             <qiskit.transpiler.passes.utils.fixed_point.FixedPoint object at 0x7efea46a8ca0>]}]\n"
     ]
    }
   ],
   "source": [
    "pm = level_3_pass_manager(pm_config)\n",
    "pprint(pm.passes())"
   ]
  },
  {
   "cell_type": "code",
   "execution_count": 19,
   "id": "290ad279",
   "metadata": {},
   "outputs": [],
   "source": [
    "# delete the Optimize1qGatesDecomposition pass - IMPORTANT to avoid gate merging\n",
    "del pm.passes()[-1]['passes'][3]"
   ]
  },
  {
   "cell_type": "code",
   "execution_count": 20,
   "id": "3b13d39d",
   "metadata": {},
   "outputs": [
    {
     "name": "stdout",
     "output_type": "stream",
     "text": [
      "-------------------TRANSPILE 2----------------------------------\n",
      "       ┌────────────┐┌───┐┌──────────────┐┌───┐┌───────────┐┌───┐┌───────────┐»\n",
      "  q_0: ┤ Ry(1.6035) ├┤ X ├┤ Ry(-0.35997) ├┤ X ├┤ Ry(-π/96) ├┤ X ├┤ Ry(-π/96) ├»\n",
      "       └───┬───┬────┘└─┬─┘└──────────────┘└─┬─┘└───────────┘└─┬─┘└───────────┘»\n",
      "  q_1: ────┤ H ├───────■────────────────────┼─────────────────■───────────────»\n",
      "           ├───┤                            │                                 »\n",
      "  q_2: ────┤ H ├────────────────────────────■─────────────────────────────────»\n",
      "           ├───┤                                                              »\n",
      "  q_3: ────┤ H ├──────────────────────────────────────────────────────────────»\n",
      "           └───┘                                                              »\n",
      "c28: 4/═══════════════════════════════════════════════════════════════════════»\n",
      "                                                                              »\n",
      "«       ┌───┐┌─────────────┐┌───┐┌──────────┐┌───┐┌──────────────┐┌───┐»\n",
      "«  q_0: ┤ X ├┤ Ry(0.16362) ├┤ X ├┤ Ry(π/96) ├┤ X ├┤ Ry(-0.16362) ├┤ X ├»\n",
      "«       └─┬─┘└─────────────┘└─┬─┘└──────────┘└─┬─┘└──────────────┘└─┬─┘»\n",
      "«  q_1: ──┼───────────────────■────────────────┼────────────────────■──»\n",
      "«         │                                    │                       »\n",
      "«  q_2: ──┼────────────────────────────────────■───────────────────────»\n",
      "«         │                                                            »\n",
      "«  q_3: ──■────────────────────────────────────────────────────────────»\n",
      "«                                                                      »\n",
      "«c28: 4/═══════════════════════════════════════════════════════════════»\n",
      "«                                                                      »\n",
      "«       ┌──────────────┐ ░ ┌─┐         \n",
      "«  q_0: ┤ Ry(-0.16362) ├─░─┤M├─────────\n",
      "«       └──────────────┘ ░ └╥┘┌─┐      \n",
      "«  q_1: ─────────────────░──╫─┤M├──────\n",
      "«                        ░  ║ └╥┘┌─┐   \n",
      "«  q_2: ─────────────────░──╫──╫─┤M├───\n",
      "«                        ░  ║  ║ └╥┘┌─┐\n",
      "«  q_3: ─────────────────░──╫──╫──╫─┤M├\n",
      "«                        ░  ║  ║  ║ └╥┘\n",
      "«c28: 4/════════════════════╩══╩══╩══╩═\n",
      "«                           0  1  2  3 \n",
      "-------------------TRANSPILE 2----------------------------------\n",
      "       ┌─────────┐┌───┐┌───────────┐┌───┐┌──────────┐┌───┐┌──────────┐┌───┐»\n",
      "  q_0: ┤ Ry(π/2) ├┤ X ├┤ Ry(π/100) ├┤ X ├┤ Ry(π/16) ├┤ X ├┤ Ry(π/48) ├┤ X ├»\n",
      "       └──┬───┬──┘└─┬─┘└───────────┘└─┬─┘└──────────┘└─┬─┘└──────────┘└─┬─┘»\n",
      "  q_1: ───┤ H ├─────■─────────────────┼────────────────■────────────────┼──»\n",
      "          ├───┤                       │                                 │  »\n",
      "  q_2: ───┤ H ├───────────────────────■─────────────────────────────────┼──»\n",
      "          ├───┤                                                         │  »\n",
      "  q_3: ───┤ H ├─────────────────────────────────────────────────────────■──»\n",
      "          └───┘                                                            »\n",
      "c29: 4/════════════════════════════════════════════════════════════════════»\n",
      "                                                                           »\n",
      "«       ┌──────────┐┌───┐┌──────────┐┌───┐┌───────────┐┌───┐┌──────────────┐ ░ »\n",
      "«  q_0: ┤ Ry(π/24) ├┤ X ├┤ Ry(π/24) ├┤ X ├┤ Ry(-π/16) ├┤ X ├┤ Ry(-0.32725) ├─░─»\n",
      "«       └──────────┘└─┬─┘└──────────┘└─┬─┘└───────────┘└─┬─┘└──────────────┘ ░ »\n",
      "«  q_1: ──────────────■────────────────┼─────────────────■───────────────────░─»\n",
      "«                                      │                                     ░ »\n",
      "«  q_2: ───────────────────────────────■─────────────────────────────────────░─»\n",
      "«                                                                            ░ »\n",
      "«  q_3: ─────────────────────────────────────────────────────────────────────░─»\n",
      "«                                                                            ░ »\n",
      "«c29: 4/═══════════════════════════════════════════════════════════════════════»\n",
      "«                                                                              »\n",
      "«       ┌─┐         \n",
      "«  q_0: ┤M├─────────\n",
      "«       └╥┘┌─┐      \n",
      "«  q_1: ─╫─┤M├──────\n",
      "«        ║ └╥┘┌─┐   \n",
      "«  q_2: ─╫──╫─┤M├───\n",
      "«        ║  ║ └╥┘┌─┐\n",
      "«  q_3: ─╫──╫──╫─┤M├\n",
      "«        ║  ║  ║ └╥┘\n",
      "«c29: 4/═╩══╩══╩══╩═\n",
      "«        0  1  2  3 \n",
      "qc1 transp depth= 48 OrderedDict([('rz', 30), ('sx', 19), ('cx', 7), ('measure', 4), ('barrier', 1)])\n",
      "qc2 transp depth= 48 OrderedDict([('rz', 30), ('sx', 19), ('cx', 7), ('measure', 4), ('barrier', 1)])\n",
      "M:ok\n"
     ]
    }
   ],
   "source": [
    "qc1=qk.QuantumCircuit.from_qasm_file('circ28.qasm')\n",
    "print(\"-------------------TRANSPILE 2----------------------------------\")\n",
    "qc1t=pm.run(qc1)\n",
    "print(qc1)\n",
    "\n",
    "qc2=qk.QuantumCircuit.from_qasm_file('circ29.qasm')\n",
    "print(\"-------------------TRANSPILE 2----------------------------------\")\n",
    "qc2t=pm.run(qc2)\n",
    "print(qc2)\n",
    "\n",
    "#  compare results\n",
    "sum1=str(qc1t.count_ops())\n",
    "sum2=str(qc2t.count_ops())\n",
    "\n",
    "print('qc1 transp depth=',qc1t.depth(),sum1)\n",
    "print('qc2 transp depth=',qc2t.depth(),sum2)\n",
    "assert qc1t.depth()==qc2t.depth()  #test\n",
    "assert sum1==sum2 # test 2 count gates and all other details\n",
    "print('M:ok')"
   ]
  }
 ],
 "metadata": {
  "kernelspec": {
   "display_name": "Python 3 (ipykernel)",
   "language": "python",
   "name": "python3"
  },
  "language_info": {
   "codemirror_mode": {
    "name": "ipython",
    "version": 3
   },
   "file_extension": ".py",
   "mimetype": "text/x-python",
   "name": "python",
   "nbconvert_exporter": "python",
   "pygments_lexer": "ipython3",
   "version": "3.8.10"
  }
 },
 "nbformat": 4,
 "nbformat_minor": 5
}
