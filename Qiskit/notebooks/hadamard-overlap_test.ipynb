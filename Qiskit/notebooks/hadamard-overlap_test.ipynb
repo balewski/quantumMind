{
 "cells": [
  {
   "cell_type": "code",
   "execution_count": 1,
   "id": "e4a6446a",
   "metadata": {},
   "outputs": [
    {
     "name": "stderr",
     "output_type": "stream",
     "text": [
      "OpenBLAS WARNING - could not determine the L2 cache size on this system, assuming 256k\n",
      "OpenBLAS WARNING - could not determine the L2 cache size on this system, assuming 256k\n"
     ]
    }
   ],
   "source": [
    "from qiskit import QuantumCircuit, assemble, Aer\n",
    "from qiskit.quantum_info import random_statevector, Statevector\n",
    "import numpy as np\n",
    "sim = Aer.get_backend('aer_simulator')  # Tell Qiskit how to simulate our circuit"
   ]
  },
  {
   "cell_type": "code",
   "execution_count": 2,
   "id": "cb6418fc",
   "metadata": {},
   "outputs": [],
   "source": [
    "def evolve_1q(ini_vec,op): # evolves 1 qubit initial sate by applying one pauli gate\n",
    "    qc = QuantumCircuit(1)  # Create a quantum circuit with one qubit\n",
    "    qc.initialize(ini_vec, 0) # Apply initialisation operation to the 0th qubit\n",
    "    if op=='x': qc.x(0)\n",
    "    if op=='y': qc.y(0)\n",
    "    if op=='z': qc.z(0)\n",
    "    print(qc)\n",
    "    return qc"
   ]
  },
  {
   "cell_type": "code",
   "execution_count": 3,
   "id": "3baf5961",
   "metadata": {},
   "outputs": [],
   "source": [
    "def hadamOverlap_2q(ivecL,opL,type='re'): # Hadamard-overlap for 2 qubita initial state and one pauli gate\n",
    "    qc = QuantumCircuit(3) \n",
    "    qc.h(0)\n",
    "    if type=='im': qc.sdg(0)  # will compute imaginary component\n",
    "    for i in range(2):\n",
    "        qc.initialize(ivecL[i], i+1) # Apply initialisation \n",
    "        op=opL[i]\n",
    "        if op=='x': qc.cx(0,i+1)\n",
    "        elif op=='y': qc.cy(0,i+1)\n",
    "        elif op=='z': qc.cz(0,i+1)    \n",
    "        else:  bad_op\n",
    "    qc.h(0)\n",
    "    print(qc)\n",
    "    return qc"
   ]
  },
  {
   "cell_type": "code",
   "execution_count": 4,
   "id": "dfd81f7a",
   "metadata": {},
   "outputs": [
    {
     "name": "stdout",
     "output_type": "stream",
     "text": [
      "ini_vec1: [-0.11026209-0.40442706j -0.85724807+0.29900964j] \n",
      "ini_vec2: [0.36448251+0.38405974j 0.13992355-0.83670306j] Uop: zy\n"
     ]
    }
   ],
   "source": [
    "ini_vec1 = random_statevector(2)    \n",
    "ini_vec2 = random_statevector(2)  \n",
    "Uop='zy'  # choose unitary operators for both qubits: x,y,z\n",
    "print('ini_vec1:',ini_vec1.data,'\\nini_vec2:',ini_vec2.data,'Uop:',Uop )"
   ]
  },
  {
   "cell_type": "code",
   "execution_count": 5,
   "id": "46d7495f",
   "metadata": {},
   "outputs": [
    {
     "name": "stdout",
     "output_type": "stream",
     "text": [
      "   ┌─────────────────────────────────────────────────┐┌───┐\n",
      "q: ┤ Initialize(-0.11026-0.40443j,-0.85725+0.29901j) ├┤ Z ├\n",
      "   └─────────────────────────────────────────────────┘└───┘\n",
      "out vec 1 [-0.11026209-0.40442706j  0.85724807-0.29900964j]\n",
      "TRUTH_A: <iv1|ov1>=  (-0.6485620443114151+0j)\n"
     ]
    }
   ],
   "source": [
    "# use Qiskit’s simulators apply two different us on two different initial states\n",
    "qc=evolve_1q(ini_vec1,op=Uop[0])\n",
    "qc.save_statevector('o1')\n",
    "result = sim.run(qc).result() # Do the simulation and return the result\n",
    "ov1 = result.data(0)['o1']\n",
    "print('out vec 1', ov1.data)\n",
    "over1=ini_vec1.inner(ov1)\n",
    "print('TRUTH_A: <iv1|ov1>= ',over1)"
   ]
  },
  {
   "cell_type": "code",
   "execution_count": 6,
   "id": "586094ff",
   "metadata": {},
   "outputs": [
    {
     "name": "stdout",
     "output_type": "stream",
     "text": [
      "   ┌──────────────────────────────────────────────┐┌───┐\n",
      "q: ┤ Initialize(0.36448+0.38406j,0.13992-0.8367j) ├┤ Y ├\n",
      "   └──────────────────────────────────────────────┘└───┘\n",
      "out vec 2 [-0.83670306-0.13992355j -0.38405974+0.36448251j]\n",
      "TRUTH_B: <iv2|ov2>=  (-0.7174052698816521+0j)\n"
     ]
    }
   ],
   "source": [
    "qc=evolve_1q(ini_vec2,op=Uop[1])\n",
    "qc.save_statevector('o2')\n",
    "result = sim.run(qc).result() # Do the simulation and return the result\n",
    "ov2 = result.data(0)['o2']\n",
    "print('out vec 2', ov2.data)\n",
    "over2=ini_vec2.inner(ov2)\n",
    "print('TRUTH_B: <iv2|ov2>= ',over2)"
   ]
  },
  {
   "cell_type": "code",
   "execution_count": 7,
   "id": "fc9679a9",
   "metadata": {},
   "outputs": [
    {
     "name": "stdout",
     "output_type": "stream",
     "text": [
      "TRUTH: <iv1|ov1>*<iv2|ov2>=  (0.4652818284342267-0j)\n"
     ]
    }
   ],
   "source": [
    "over12=over1*over2\n",
    "print('TRUTH: <iv1|ov1>*<iv2|ov2>= ',over12)"
   ]
  },
  {
   "cell_type": "code",
   "execution_count": 8,
   "id": "02850993",
   "metadata": {},
   "outputs": [
    {
     "name": "stdout",
     "output_type": "stream",
     "text": [
      "                            ┌───┐                               ┌───┐\n",
      "q_0: ───────────────────────┤ H ├────────────────────────■───■──┤ H ├\n",
      "     ┌──────────────────────┴───┴──────────────────────┐ │   │  └───┘\n",
      "q_1: ┤ Initialize(-0.11026-0.40443j,-0.85725+0.29901j) ├─■───┼───────\n",
      "     └─┬──────────────────────────────────────────────┬┘   ┌─┴─┐     \n",
      "q_2: ──┤ Initialize(0.36448+0.38406j,0.13992-0.8367j) ├────┤ Y ├─────\n",
      "       └──────────────────────────────────────────────┘    └───┘     \n",
      "out vec3 len: 8\n",
      "p0,p1: 0.7326409142171132 0.2673590857828867 p0-p1: 0.4652818284342265\n"
     ]
    }
   ],
   "source": [
    "qc3=hadamOverlap_2q([ini_vec1,ini_vec2],opL=Uop)\n",
    "qc3.save_statevector('ov3')\n",
    "result3 = sim.run(qc3).result() # Do the simulation and return the result\n",
    "ov3 = result3.data(0)['ov3']\n",
    "print('out vec3 len:', len(ov3.data))\n",
    "p0,p1=ov3.probabilities([0])\n",
    "print('p0,p1:',p0,p1, 'p0-p1:',p0-p1)"
   ]
  },
  {
   "cell_type": "code",
   "execution_count": 9,
   "id": "99862ea7",
   "metadata": {},
   "outputs": [
    {
     "name": "stdout",
     "output_type": "stream",
     "text": [
      "CHECK Real PASSED diff=0.000  Uop=zy  over12=(0.4652818284342267-0j)\n"
     ]
    }
   ],
   "source": [
    "diff=np.real(over12)-(p0-p1)\n",
    "if abs(diff)<1e-4:\n",
    "    print('CHECK Real PASSED diff=%.3f  Uop=%s  over12=%s'%(diff,Uop,over12))\n",
    "else:\n",
    "    print('CHECK Real *** FAILED***',diff)  "
   ]
  },
  {
   "cell_type": "code",
   "execution_count": null,
   "id": "339c63f1",
   "metadata": {},
   "outputs": [],
   "source": []
  }
 ],
 "metadata": {
  "kernelspec": {
   "display_name": "Python 3 (ipykernel)",
   "language": "python",
   "name": "python3"
  },
  "language_info": {
   "codemirror_mode": {
    "name": "ipython",
    "version": 3
   },
   "file_extension": ".py",
   "mimetype": "text/x-python",
   "name": "python",
   "nbconvert_exporter": "python",
   "pygments_lexer": "ipython3",
   "version": "3.10.12"
  }
 },
 "nbformat": 4,
 "nbformat_minor": 5
}
