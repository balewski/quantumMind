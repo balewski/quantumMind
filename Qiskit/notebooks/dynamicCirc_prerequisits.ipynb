{
 "cells": [
  {
   "cell_type": "code",
   "execution_count": 1,
   "id": "e8246d5c",
   "metadata": {},
   "outputs": [
    {
     "name": "stdout",
     "output_type": "stream",
     "text": [
      "started2\n"
     ]
    }
   ],
   "source": [
    "# based on https://quantum-computing.ibm.com/services/programs/docs/runtime/manage/systems/dynamic-circuits/Getting-started-with-Dynamic-Circuits\n",
    "print('started2')"
   ]
  },
  {
   "cell_type": "code",
   "execution_count": 3,
   "id": "b9326b2c",
   "metadata": {},
   "outputs": [
    {
     "name": "stderr",
     "output_type": "stream",
     "text": [
      "OpenBLAS WARNING - could not determine the L2 cache size on this system, assuming 256k\n",
      "OpenBLAS WARNING - could not determine the L2 cache size on this system, assuming 256k\n",
      "OpenBLAS WARNING - could not determine the L2 cache size on this system, assuming 256k\n"
     ]
    },
    {
     "data": {
      "text/html": [
       "<h3>Version Information</h3><table><tr><th>Qiskit Software</th><th>Version</th></tr><tr><td><code>qiskit-terra</code></td><td>0.23.1</td></tr><tr><td><code>qiskit-aer</code></td><td>0.11.2</td></tr><tr><td><code>qiskit</code></td><td>0.41.0</td></tr><tr><th>System information</th></tr><tr><td>Python version</td><td>3.10.6</td></tr><tr><td>Python compiler</td><td>GCC 11.3.0</td></tr><tr><td>Python build</td><td>main, Nov 14 2022 16:10:14</td></tr><tr><td>OS</td><td>Linux</td></tr><tr><td>CPUs</td><td>7</td></tr><tr><td>Memory (Gb)</td><td>19.534034729003906</td></tr><tr><td colspan='2'>Tue Feb 14 17:37:17 2023 PST</td></tr></table>"
      ],
      "text/plain": [
       "<IPython.core.display.HTML object>"
      ]
     },
     "metadata": {},
     "output_type": "display_data"
    }
   ],
   "source": [
    "import qiskit.tools.jupyter\n",
    "%qiskit_version_table"
   ]
  },
  {
   "cell_type": "code",
   "execution_count": 4,
   "id": "d2974a61",
   "metadata": {},
   "outputs": [
    {
     "name": "stdout",
     "output_type": "stream",
     "text": [
      "PASSED\n"
     ]
    }
   ],
   "source": [
    "# Running checks for the correct dependencies\n",
    "import qiskit\n",
    "from packaging import version\n",
    "\n",
    "if not(version.parse(qiskit.__qiskit_version__[\"qiskit-terra\"]) >= version.parse(\"0.22\")):\n",
    "    print(\n",
    "        \"Incorrect dependencies. Found qiskit-terra: \"\n",
    "        + qiskit.__qiskit_version__[\"qiskit-terra\"]\n",
    "        + \"\\nNeed qiskit-terra >= 0.22\"\n",
    "    )\n",
    "\n",
    "    print(\n",
    "        \"You must install the qiskit_ibm_provider with 'pip install qiskit_ibm_provider'\"\n",
    "    )\n",
    "else:\n",
    "    print('PASSED')"
   ]
  },
  {
   "cell_type": "code",
   "execution_count": 5,
   "id": "a2bd8f43",
   "metadata": {},
   "outputs": [],
   "source": [
    "# Ignoring warnings\n",
    "import sys\n",
    "import warnings\n",
    "\n",
    "if not sys.warnoptions:\n",
    "    warnings.simplefilter(\"ignore\")"
   ]
  },
  {
   "cell_type": "code",
   "execution_count": null,
   "id": "b782a961",
   "metadata": {},
   "outputs": [],
   "source": [
    "! /dataVault/activate_IBMProvider.py # activates my IBMQ credencials"
   ]
  },
  {
   "cell_type": "code",
   "execution_count": 27,
   "id": "522185b4",
   "metadata": {},
   "outputs": [
    {
     "name": "stdout",
     "output_type": "stream",
     "text": [
      "hgp: ibm-q-ornl/lbnl/chm170\n"
     ]
    }
   ],
   "source": [
    "# Testing OpenQASM 3 support\n",
    "# Note: This can be any hub/group/project that has access to the required device and the Qiskit runtime.\n",
    "hub = 'ibm-q-ornl'\n",
    "group = \"lbnl\"\n",
    "project = \"chm170\"\n",
    "backend_name = \"ibmq_jakarta\"\n",
    "backend_name = \"ibmq_manila\"\n",
    "hgp = f\"{hub}/{group}/{project}\"\n",
    "print('hgp:',hgp)"
   ]
  },
  {
   "cell_type": "code",
   "execution_count": 28,
   "id": "531a32e5",
   "metadata": {},
   "outputs": [
    {
     "name": "stdout",
     "output_type": "stream",
     "text": [
      "\n",
      "my backend= <IBMBackend('ibmq_manila')>\n"
     ]
    }
   ],
   "source": [
    "import qiskit\n",
    "from qiskit_ibm_provider import IBMProvider\n",
    "# Save token if necessary\n",
    "#IBMProvider.save_account(token=myToken)\n",
    " \n",
    "# Get our backend\n",
    "provider = IBMProvider()\n",
    "backend = provider.get_backend(backend_name, instance=hgp)\n",
    "print('\\nmy backend=',backend)"
   ]
  },
  {
   "cell_type": "code",
   "execution_count": 29,
   "id": "42e7eed8",
   "metadata": {},
   "outputs": [
    {
     "name": "stdout",
     "output_type": "stream",
     "text": [
      "The following backends support dynamic circuits: {'ibmq_kolkata', 'ibm_sherbrooke', 'ibmq_manila', 'ibmq_jakarta', 'ibm_oslo', 'ibm_geneva', 'ibm_auckland', 'ibmq_mumbai', 'ibm_washington', 'ibm_nairobi'}\n"
     ]
    }
   ],
   "source": [
    "# Make sure to use any OpenQASM 3-enabled backend.\n",
    "qasm3_backends = set(\n",
    "    backend.name for backend in provider.backends(dynamic_circuits=True)\n",
    ")\n",
    "\n",
    "print(f\"The following backends support dynamic circuits: {qasm3_backends}\")"
   ]
  },
  {
   "cell_type": "code",
   "execution_count": 30,
   "id": "800ce814",
   "metadata": {},
   "outputs": [
    {
     "data": {
      "image/png": "[encoded data removed]",
      "text/plain": [
       "<Figure size 269.064x200.667 with 1 Axes>"
      ]
     },
     "execution_count": 30,
     "metadata": {},
     "output_type": "execute_result"
    }
   ],
   "source": [
    "#Now we prepare our circuit.\n",
    "qubit = 0\n",
    "shots = 2000\n",
    "from qiskit import QuantumCircuit, QuantumRegister, ClassicalRegister\n",
    "\n",
    "h_qc = QuantumCircuit(1, 1, name=\"|+> Prep\")\n",
    "h_qc.h(0)\n",
    "h_qc.measure(0, 0)\n",
    "h_qc.draw(idle_wires=False, output=\"mpl\")"
   ]
  },
  {
   "cell_type": "code",
   "execution_count": 31,
   "id": "77a11230",
   "metadata": {},
   "outputs": [
    {
     "data": {
      "image/png": "[encoded data removed]",
      "text/plain": [
       "<Figure size 506.997x200.667 with 1 Axes>"
      ]
     },
     "execution_count": 31,
     "metadata": {},
     "output_type": "execute_result"
    }
   ],
   "source": [
    "#Next, transpile our quantum circuit for the hardware basis gates. \n",
    "from qiskit import transpile\n",
    "\n",
    "h_qc_transpiled = transpile(h_qc, backend, initial_layout=[2])\n",
    "h_qc_transpiled.draw(idle_wires=False, output=\"mpl\")"
   ]
  },
  {
   "cell_type": "code",
   "execution_count": 32,
   "id": "a0a6c7ea",
   "metadata": {},
   "outputs": [
    {
     "name": "stdout",
     "output_type": "stream",
     "text": [
      "Your job's id:cfm3ktjm6bfvlaha2q2g on backend=<IBMBackend('ibmq_manila')>\n",
      "|+> preparation results: {'0': 531, '1': 469}\n"
     ]
    }
   ],
   "source": [
    "#Note that we have to set dynamic=True to communicate to the backend that we want to run a dynamic circuit.\n",
    "job = backend.run(h_qc_transpiled, shots=shots, dynamic=True)\n",
    "print(f\"Your job's id:%s on backend=%s\"%(job.job_id(),backend))\n",
    "result = job.result()\n",
    "print(f\"|+> preparation results: {result.get_counts(0)}\")"
   ]
  },
  {
   "cell_type": "code",
   "execution_count": 35,
   "id": "189e1ce9",
   "metadata": {},
   "outputs": [
    {
     "data": {
      "image/png": "[encoded data removed]",
      "text/plain": [
       "<Figure size 710.991x284.278 with 1 Axes>"
      ]
     },
     "execution_count": 35,
     "metadata": {},
     "output_type": "execute_result"
    }
   ],
   "source": [
    "# Step 2: Write a dynamic circuit with Qiskit\n",
    "from qiskit import QuantumCircuit, QuantumRegister, ClassicalRegister\n",
    "qr = QuantumRegister(1)\n",
    "crx = ClassicalRegister(1, name=\"xresult\")\n",
    "crm = ClassicalRegister(1, name=\"measureresult\")\n",
    "qc_reset = QuantumCircuit(qr, crx, crm, name=\"Reset\")\n",
    "qc_reset.x(0)\n",
    "qc_reset.measure(0, crx)\n",
    "\n",
    "with qc_reset.if_test((crx, 1)): # new style conditional block \n",
    "    qc_reset.x(0)\n",
    "qc_reset.measure(0, crm)\n",
    "\n",
    "qc_reset = transpile(qc_reset, backend, initial_layout=[0])\n",
    "qc_reset.draw(output=\"mpl\", idle_wires=False)"
   ]
  },
  {
   "cell_type": "code",
   "execution_count": 39,
   "id": "8a3a07fd",
   "metadata": {},
   "outputs": [
    {
     "name": "stdout",
     "output_type": "stream",
     "text": [
      "Your job's id:cfm3npllosijf09237t0 on backend=<IBMBackend('ibmq_manila')>\n",
      "Full counts including reset: {'0 0': 21, '0 1': 937, '1 0': 3, '1 1': 39}\n"
     ]
    }
   ],
   "source": [
    "job = backend.run(qc_reset, shots=shots, dynamic=True)\n",
    "print(f\"Your job's id:%s on backend=%s\"%(job.job_id(),backend))\n",
    "result = job.result()\n",
    "print(f\"Full counts including reset: {result.get_counts(0)}, backend=\",backend)\n",
    "# >>> Full counts including reset: {'0 0': 87, '0 1': 3290, '1 0': 20, '1 1': 603}"
   ]
  },
  {
   "cell_type": "code",
   "execution_count": 40,
   "id": "beccb95d",
   "metadata": {},
   "outputs": [],
   "source": [
    "from qiskit import Aer\n",
    "backend_sim = Aer.get_backend('aer_simulator')"
   ]
  },
  {
   "cell_type": "code",
   "execution_count": 41,
   "id": "5f59676a",
   "metadata": {},
   "outputs": [
    {
     "name": "stdout",
     "output_type": "stream",
     "text": [
      "Your job's id:8234bf44-c2ff-469b-ab30-601b6611f9eb on backend=<IBMBackend('ibmq_manila')>\n",
      "Full counts including reset: {'0 1': 1000}, backend= aer_simulator\n"
     ]
    }
   ],
   "source": [
    "job = backend_sim.run(qc_reset, shots=shots, dynamic=True)\n",
    "print(f\"Your job's id:%s on backend=%s\"%(job.job_id(),backend))\n",
    "result = job.result()\n",
    "print(f\"Full counts including reset: {result.get_counts(0)}, backend=\",backend_sim)"
   ]
  },
  {
   "cell_type": "code",
   "execution_count": 43,
   "id": "9230d5d6",
   "metadata": {},
   "outputs": [
    {
     "name": "stdout",
     "output_type": "stream",
     "text": [
      "OPENQASM 3;\n",
      "bit[1] xresult;\n",
      "bit[1] measureresult;\n",
      "x $0;\n",
      "xresult[0] = measure $0;\n",
      "if (xresult == 1) {\n",
      "  x $0;\n",
      "}\n",
      "measureresult[0] = measure $0;\n",
      "\n"
     ]
    }
   ],
   "source": [
    "#Conditional Reset with OpenQASM 3\n",
    "from qiskit import qasm3\n",
    "def dump_qasm3(circuit, backend=backend):\n",
    "    return qasm3.Exporter(\n",
    "        includes=[],\n",
    "        basis_gates=backend.configuration().basis_gates,\n",
    "        disable_constants=True,\n",
    "    ).dumps(circuit)\n",
    "\n",
    "\n",
    "qc_reset_qasm3 = dump_qasm3(qc_reset)\n",
    "print(qc_reset_qasm3)"
   ]
  },
  {
   "cell_type": "code",
   "execution_count": 45,
   "id": "ef403416",
   "metadata": {},
   "outputs": [
    {
     "name": "stdout",
     "output_type": "stream",
     "text": [
      "Your QASM3 job's id:cfm3tmpte0bckvou8mi0 on backend=<IBMBackend('ibmq_manila')>\n",
      "Full counts including reset: {'0': 40, '1': 912, '11': 48}, backend= <IBMBackend('ibmq_manila')>\n"
     ]
    }
   ],
   "source": [
    "# Submit an OpenQASM 3 string directly\n",
    "job = backend.run(qc_reset_qasm3, shots=shots, dynamic=True)\n",
    "print(f\"Your QASM3 job's id:%s on backend=%s\"%(job.job_id(),backend))\n",
    "result = job.result()\n",
    "print(f\"Full counts including reset: {result.get_counts(0)}, backend=\",backend)"
   ]
  },
  {
   "cell_type": "code",
   "execution_count": null,
   "id": "9c6afed8",
   "metadata": {},
   "outputs": [],
   "source": []
  }
 ],
 "metadata": {
  "kernelspec": {
   "display_name": "Python 3 (ipykernel)",
   "language": "python",
   "name": "python3"
  },
  "language_info": {
   "codemirror_mode": {
    "name": "ipython",
    "version": 3
   },
   "file_extension": ".py",
   "mimetype": "text/x-python",
   "name": "python",
   "nbconvert_exporter": "python",
   "pygments_lexer": "ipython3",
   "version": "3.10.6"
  }
 },
 "nbformat": 4,
 "nbformat_minor": 5
}
