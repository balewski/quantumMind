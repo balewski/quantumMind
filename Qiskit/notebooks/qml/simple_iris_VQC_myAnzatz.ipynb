{
 "cells": [
  {
   "cell_type": "code",
   "execution_count": 16,
   "id": "25361127-056f-414d-9c58-dc3e4dcf87a7",
   "metadata": {},
   "outputs": [],
   "source": [
    "# resetting the entire session\n",
    "%reset -f  \n",
    "# Iris data-set\n",
    "from sklearn.datasets import load_iris\n",
    "\n",
    "# Load Iris dataset\n",
    "iris = load_iris()\n",
    "X, y = iris.data, iris.target"
   ]
  },
  {
   "cell_type": "code",
   "execution_count": 17,
   "id": "71f35ce4-97e4-420e-afb2-818389e57e82",
   "metadata": {},
   "outputs": [
    {
     "data": {
      "text/plain": [
       "((120, 4), (120,))"
      ]
     },
     "execution_count": 17,
     "metadata": {},
     "output_type": "execute_result"
    }
   ],
   "source": [
    "from sklearn.model_selection import train_test_split\n",
    "from sklearn.preprocessing import MinMaxScaler\n",
    "\n",
    "# Normalize data\n",
    "scaler = MinMaxScaler(feature_range=(-1, 1))\n",
    "X = scaler.fit_transform(X)\n",
    "\n",
    "# Split into training and test sets\n",
    "X_train, X_test, y_train, y_test = train_test_split(X, y, test_size=0.2, random_state=42)\n",
    "\n",
    "X_train.shape, y_train.shape"
   ]
  },
  {
   "cell_type": "markdown",
   "id": "75d059d7-cd06-4128-b564-eaa3c7d4c663",
   "metadata": {},
   "source": [
    "### Quantum Machine Learning Model\n",
    "we’ll train a variational quantum classifier (VQC), available in Qiskit Machine Learning \n",
    " Two of its central elements are the feature map and ansatz."
   ]
  },
  {
   "cell_type": "code",
   "execution_count": 18,
   "id": "3db1023f-ea1d-497e-b5ab-519cddc257e8",
   "metadata": {},
   "outputs": [
    {
     "data": {
      "text/html": [
       "<pre style=\"word-wrap: normal;white-space: pre;background: #fff0;line-height: 1.1;font-family: &quot;Courier New&quot;,Courier,monospace\">     ┌───┐┌─────────────┐                                                                                                                                                                                                                            \n",
       "q_0: ┤ H ├┤ P(2.0*x[0]) ├──■────────────────────────────────────■────■────────────────────────────────────■─────────■─────────────────────────────────────────■──────────────────────────────────────────────────────────────────────────────────────\n",
       "     ├───┤├─────────────┤┌─┴─┐┌──────────────────────────────┐┌─┴─┐  │                                    │         │                                         │                                                                                      \n",
       "q_1: ┤ H ├┤ P(2.0*x[1]) ├┤ X ├┤ P(2.0*(π - x[0])*(π - x[1])) ├┤ X ├──┼────────────────────────────────────┼────■────┼────────────────────────────────────■────┼────■────────────────────────────────────■────────────────────────────────────────────\n",
       "     ├───┤├─────────────┤└───┘└──────────────────────────────┘└───┘┌─┴─┐┌──────────────────────────────┐┌─┴─┐┌─┴─┐  │  ┌──────────────────────────────┐┌─┴─┐  │    │                                    │                                            \n",
       "q_2: ┤ H ├┤ P(2.0*x[2]) ├──────────────────────────────────────────┤ X ├┤ P(2.0*(π - x[0])*(π - x[2])) ├┤ X ├┤ X ├──┼──┤ P(2.0*(π - x[1])*(π - x[2])) ├┤ X ├──┼────┼────────────────────────────────────┼────■────────────────────────────────────■──\n",
       "     ├───┤├─────────────┤                                          └───┘└──────────────────────────────┘└───┘└───┘┌─┴─┐├──────────────────────────────┤└───┘┌─┴─┐┌─┴─┐┌──────────────────────────────┐┌─┴─┐┌─┴─┐┌──────────────────────────────┐┌─┴─┐\n",
       "q_3: ┤ H ├┤ P(2.0*x[3]) ├─────────────────────────────────────────────────────────────────────────────────────────┤ X ├┤ P(2.0*(π - x[0])*(π - x[3])) ├─────┤ X ├┤ X ├┤ P(2.0*(π - x[1])*(π - x[3])) ├┤ X ├┤ X ├┤ P(2.0*(π - x[2])*(π - x[3])) ├┤ X ├\n",
       "     └───┘└─────────────┘                                                                                         └───┘└──────────────────────────────┘     └───┘└───┘└──────────────────────────────┘└───┘└───┘└──────────────────────────────┘└───┘</pre>"
      ],
      "text/plain": [
       "     ┌───┐┌─────────────┐                                                                                                                                                                                                                            \n",
       "q_0: ┤ H ├┤ P(2.0*x[0]) ├──■────────────────────────────────────■────■────────────────────────────────────■─────────■─────────────────────────────────────────■──────────────────────────────────────────────────────────────────────────────────────\n",
       "     ├───┤├─────────────┤┌─┴─┐┌──────────────────────────────┐┌─┴─┐  │                                    │         │                                         │                                                                                      \n",
       "q_1: ┤ H ├┤ P(2.0*x[1]) ├┤ X ├┤ P(2.0*(π - x[0])*(π - x[1])) ├┤ X ├──┼────────────────────────────────────┼────■────┼────────────────────────────────────■────┼────■────────────────────────────────────■────────────────────────────────────────────\n",
       "     ├───┤├─────────────┤└───┘└──────────────────────────────┘└───┘┌─┴─┐┌──────────────────────────────┐┌─┴─┐┌─┴─┐  │  ┌──────────────────────────────┐┌─┴─┐  │    │                                    │                                            \n",
       "q_2: ┤ H ├┤ P(2.0*x[2]) ├──────────────────────────────────────────┤ X ├┤ P(2.0*(π - x[0])*(π - x[2])) ├┤ X ├┤ X ├──┼──┤ P(2.0*(π - x[1])*(π - x[2])) ├┤ X ├──┼────┼────────────────────────────────────┼────■────────────────────────────────────■──\n",
       "     ├───┤├─────────────┤                                          └───┘└──────────────────────────────┘└───┘└───┘┌─┴─┐├──────────────────────────────┤└───┘┌─┴─┐┌─┴─┐┌──────────────────────────────┐┌─┴─┐┌─┴─┐┌──────────────────────────────┐┌─┴─┐\n",
       "q_3: ┤ H ├┤ P(2.0*x[3]) ├─────────────────────────────────────────────────────────────────────────────────────────┤ X ├┤ P(2.0*(π - x[0])*(π - x[3])) ├─────┤ X ├┤ X ├┤ P(2.0*(π - x[1])*(π - x[3])) ├┤ X ├┤ X ├┤ P(2.0*(π - x[2])*(π - x[3])) ├┤ X ├\n",
       "     └───┘└─────────────┘                                                                                         └───┘└──────────────────────────────┘     └───┘└───┘└──────────────────────────────┘└───┘└───┘└──────────────────────────────┘└───┘"
      ]
     },
     "execution_count": 18,
     "metadata": {},
     "output_type": "execute_result"
    }
   ],
   "source": [
    "# features circuit\n",
    "from qiskit.circuit.library import ZZFeatureMap\n",
    "num_features = X.shape[1]\n",
    "feature_circ = ZZFeatureMap(feature_dimension=num_features, reps=1)\n",
    "feature_circ.decompose().draw(output='text', fold=-1)"
   ]
  },
  {
   "cell_type": "code",
   "execution_count": 19,
   "id": "dd14b779-86ef-47e3-98ef-40fb58257f07",
   "metadata": {},
   "outputs": [],
   "source": [
    "from qiskit import QuantumCircuit, ClassicalRegister, QuantumRegister\n",
    "from qiskit.circuit import ParameterVector\n",
    "\n",
    "def rotation_block(circuit, parameters):\n",
    "    # assumes nb of params equal to num of qubits\n",
    "    for i in range(circuit.num_qubits):\n",
    "        circuit.ry(parameters[i],i)\n",
    "\n",
    "def non_linear(circuit, param, qubit):\n",
    "    # the circuit, the parameter and the qubit of interest\n",
    "    circuit.ry(param, qubit)\n",
    "    circuit.measure(qubit, 0)\n",
    "    circuit.ry(-param, qubit)\n",
    "\n",
    "def myAnsatz(nFeat, reps, nonlin_qubits, barrier=True, final_rotation=True):\n",
    "    # nFeat number of qubits here\n",
    "    # nonlin_qubits list of qubits where we want to have non linearity\n",
    "    nb = len(nonlin_qubits)\n",
    "    n=nFeat+nb\n",
    "    # nFeat+nb parameters for each step of the reps, plus nFeat depending on whether we want a final rotation layer or not\n",
    "    if final_rotation:\n",
    "        params=(n)*reps+nFeat\n",
    "    else:\n",
    "        params=(n)*reps\n",
    "    beta = ParameterVector('beta', length=params)\n",
    "    qubits = QuantumRegister(nFeat,'q')\n",
    "    \n",
    "    meas = ClassicalRegister(nFeat,'meas')\n",
    "    test = QuantumCircuit(qubits, meas)\n",
    "\n",
    "    #we'll look at the parameters mod n, the first nFeat\n",
    "    for p in range(reps):\n",
    "        #rotation block, looking at the nFeat parameters first\n",
    "        rotation_block(test, beta[n*p:n*p+nFeat])\n",
    "        if barrier: test.barrier()\n",
    "        \n",
    "        #entanglement block, here linear but can easily be changed depending on what you want to test by changing the cx connexions\n",
    "        test.cx(range(nFeat-2,-1,-1), range(nFeat-1,0,-1))\n",
    "        if barrier: test.barrier()\n",
    "    \n",
    "        # non-linear part, we'll check the last nb of parameters mod n \n",
    "        for k,qubit in enumerate(nonlin_qubits):\n",
    "            par=n*p+nFeat+k\n",
    "            non_linear(test, beta[par],qubit)\n",
    "        if barrier: test.barrier()\n",
    "        \n",
    "    #final rotation block, optional\n",
    "    if final_rotation: \n",
    "        rotation_block(test,beta[params-nFeat:params])\n",
    "        if barrier: test.barrier()\n",
    "    test.measure(range(nFeat),meas)\n",
    "    return test, qubits, meas\n",
    "# Function to extract parameter names from a circuit"
   ]
  },
  {
   "cell_type": "code",
   "execution_count": 20,
   "id": "ad70ce90-cbc1-4867-b4b2-42bc3bd817d5",
   "metadata": {},
   "outputs": [
    {
     "data": {
      "text/html": [
       "<pre style=\"word-wrap: normal;white-space: pre;background: #fff0;line-height: 1.1;font-family: &quot;Courier New&quot;,Courier,monospace\">        ┌────────────────┐ ░                 ░  ░ ┌────────────────┐ ░                 ░  ░  ┌────────────────┐ ░                 ░  ░ ┌─────────────────┐ ░ ┌─┐         \n",
       "   q_0: ┤ R(beta[0],π/2) ├─░─────────────■───░──░─┤ R(beta[4],π/2) ├─░─────────────■───░──░──┤ R(beta[8],π/2) ├─░─────────────■───░──░─┤ R(beta[12],π/2) ├─░─┤M├─────────\n",
       "        ├────────────────┤ ░           ┌─┴─┐ ░  ░ ├────────────────┤ ░           ┌─┴─┐ ░  ░  ├────────────────┤ ░           ┌─┴─┐ ░  ░ ├─────────────────┤ ░ └╥┘┌─┐      \n",
       "   q_1: ┤ R(beta[1],π/2) ├─░────────■──┤ X ├─░──░─┤ R(beta[5],π/2) ├─░────────■──┤ X ├─░──░──┤ R(beta[9],π/2) ├─░────────■──┤ X ├─░──░─┤ R(beta[13],π/2) ├─░──╫─┤M├──────\n",
       "        ├────────────────┤ ░      ┌─┴─┐└───┘ ░  ░ ├────────────────┤ ░      ┌─┴─┐└───┘ ░  ░ ┌┴────────────────┤ ░      ┌─┴─┐└───┘ ░  ░ ├─────────────────┤ ░  ║ └╥┘┌─┐   \n",
       "   q_2: ┤ R(beta[2],π/2) ├─░───■──┤ X ├──────░──░─┤ R(beta[6],π/2) ├─░───■──┤ X ├──────░──░─┤ R(beta[10],π/2) ├─░───■──┤ X ├──────░──░─┤ R(beta[14],π/2) ├─░──╫──╫─┤M├───\n",
       "        ├────────────────┤ ░ ┌─┴─┐└───┘      ░  ░ ├────────────────┤ ░ ┌─┴─┐└───┘      ░  ░ ├─────────────────┤ ░ ┌─┴─┐└───┘      ░  ░ ├─────────────────┤ ░  ║  ║ └╥┘┌─┐\n",
       "   q_3: ┤ R(beta[3],π/2) ├─░─┤ X ├───────────░──░─┤ R(beta[7],π/2) ├─░─┤ X ├───────────░──░─┤ R(beta[11],π/2) ├─░─┤ X ├───────────░──░─┤ R(beta[15],π/2) ├─░──╫──╫──╫─┤M├\n",
       "        └────────────────┘ ░ └───┘           ░  ░ └────────────────┘ ░ └───┘           ░  ░ └─────────────────┘ ░ └───┘           ░  ░ └─────────────────┘ ░  ║  ║  ║ └╥┘\n",
       "meas: 4/══════════════════════════════════════════════════════════════════════════════════════════════════════════════════════════════════════════════════════╩══╩══╩══╩═\n",
       "                                                                                                                                                              0  1  2  3 </pre>"
      ],
      "text/plain": [
       "        ┌────────────────┐ ░                 ░  ░ ┌────────────────┐ ░                 ░  ░  ┌────────────────┐ ░                 ░  ░ ┌─────────────────┐ ░ ┌─┐         \n",
       "   q_0: ┤ R(beta[0],π/2) ├─░─────────────■───░──░─┤ R(beta[4],π/2) ├─░─────────────■───░──░──┤ R(beta[8],π/2) ├─░─────────────■───░──░─┤ R(beta[12],π/2) ├─░─┤M├─────────\n",
       "        ├────────────────┤ ░           ┌─┴─┐ ░  ░ ├────────────────┤ ░           ┌─┴─┐ ░  ░  ├────────────────┤ ░           ┌─┴─┐ ░  ░ ├─────────────────┤ ░ └╥┘┌─┐      \n",
       "   q_1: ┤ R(beta[1],π/2) ├─░────────■──┤ X ├─░──░─┤ R(beta[5],π/2) ├─░────────■──┤ X ├─░──░──┤ R(beta[9],π/2) ├─░────────■──┤ X ├─░──░─┤ R(beta[13],π/2) ├─░──╫─┤M├──────\n",
       "        ├────────────────┤ ░      ┌─┴─┐└───┘ ░  ░ ├────────────────┤ ░      ┌─┴─┐└───┘ ░  ░ ┌┴────────────────┤ ░      ┌─┴─┐└───┘ ░  ░ ├─────────────────┤ ░  ║ └╥┘┌─┐   \n",
       "   q_2: ┤ R(beta[2],π/2) ├─░───■──┤ X ├──────░──░─┤ R(beta[6],π/2) ├─░───■──┤ X ├──────░──░─┤ R(beta[10],π/2) ├─░───■──┤ X ├──────░──░─┤ R(beta[14],π/2) ├─░──╫──╫─┤M├───\n",
       "        ├────────────────┤ ░ ┌─┴─┐└───┘      ░  ░ ├────────────────┤ ░ ┌─┴─┐└───┘      ░  ░ ├─────────────────┤ ░ ┌─┴─┐└───┘      ░  ░ ├─────────────────┤ ░  ║  ║ └╥┘┌─┐\n",
       "   q_3: ┤ R(beta[3],π/2) ├─░─┤ X ├───────────░──░─┤ R(beta[7],π/2) ├─░─┤ X ├───────────░──░─┤ R(beta[11],π/2) ├─░─┤ X ├───────────░──░─┤ R(beta[15],π/2) ├─░──╫──╫──╫─┤M├\n",
       "        └────────────────┘ ░ └───┘           ░  ░ └────────────────┘ ░ └───┘           ░  ░ └─────────────────┘ ░ └───┘           ░  ░ └─────────────────┘ ░  ║  ║  ║ └╥┘\n",
       "meas: 4/══════════════════════════════════════════════════════════════════════════════════════════════════════════════════════════════════════════════════════╩══╩══╩══╩═\n",
       "                                                                                                                                                              0  1  2  3 "
      ]
     },
     "execution_count": 20,
     "metadata": {},
     "output_type": "execute_result"
    }
   ],
   "source": [
    "# Anzatz circuit\n",
    "nReps=3\n",
    "nonLinQL=[]  # make list empty to revert to 'standard' anztatz\n",
    "ansatz_circ = myAnsatz(num_features, reps=nReps, nonlin_qubits=nonLinQL, barrier=True, final_rotation=True)[0]\n",
    "ansatz_circ.decompose().draw(output='text', fold=-1)"
   ]
  },
  {
   "cell_type": "code",
   "execution_count": 21,
   "id": "d70fc474-e782-4f56-bced-f1045ef04baa",
   "metadata": {},
   "outputs": [],
   "source": [
    "# tools for minimizer\n",
    "# To make the training process faster, we choose a gradient-free optimizer.\n",
    "from qiskit.algorithms.optimizers import COBYLA\n",
    "nIter=3\n",
    "optimizer = COBYLA(maxiter=nIter)"
   ]
  },
  {
   "cell_type": "code",
   "execution_count": 22,
   "id": "46066e5b-7667-469f-a754-6803e7c52069",
   "metadata": {},
   "outputs": [],
   "source": [
    "from matplotlib import pyplot as plt\n",
    "from IPython.display import clear_output\n",
    "import time\n",
    "\n",
    "objective_func_vals = []\n",
    "plt.rcParams[\"figure.figsize\"] = (12, 6)\n",
    "plt.tstart=time.time()\n",
    "\n",
    "def callback_graph(weights, obj_func_eval):\n",
    "    clear_output(wait=True)\n",
    "    objective_func_vals.append(obj_func_eval)\n",
    "    nEp=len(objective_func_vals)\n",
    "    elaT = time.time() - plt.tstart\n",
    "    txt='epoch:%d  elaT=%.0f (sec)'%(nEp,elaT)\n",
    "    if nEp<10 or nEp%10==0: print()\n",
    "    plt.title(\"Objective function, \"+txt)\n",
    "    plt.xlabel(\"Iteration\")\n",
    "    plt.ylabel(\"Objective function value\")\n",
    "    plt.plot(range(len(objective_func_vals)), objective_func_vals)\n",
    "    plt.grid(color='b', linestyle='--', linewidth=0.5)\n",
    "    plt.show()"
   ]
  },
  {
   "cell_type": "markdown",
   "id": "ccef1cd8-64cb-407a-a9ea-7eab7cb60752",
   "metadata": {},
   "source": [
    "### Training of VQC= variational quantum classifier "
   ]
  },
  {
   "cell_type": "code",
   "execution_count": 23,
   "id": "865a672c-c054-46f7-ad2c-a6674be7be85",
   "metadata": {},
   "outputs": [],
   "source": [
    "if 1:  # backend = density matrix simulator\n",
    "    from qiskit_ibm_runtime import QiskitRuntimeService, Sampler, Options, Session\n",
    "    #load the service\n",
    "    service = QiskitRuntimeService(channel = 'ibm_quantum')\n",
    "    backend = service.get_backend('ibmq_qasm_simulator') # change this for a real execution\n",
    "    # create the program for samplig results on a backend\n",
    "    options = Options()\n",
    "    options.resilience_level = 0  # no need to post-process for ideal backend\n",
    "    options.execution.shots =10000\n",
    "    session = Session(backend=backend)\n",
    "    sampler = Sampler(session=session, options=options)\n",
    "    #sampler = Sampler(backend, options) #if you do not want to use sessions\n",
    "else:  # backend= state vector \n",
    "    assert len(nonLinQL)==0  # it can't handle mid-circui measurements\n",
    "    from qiskit.primitives import Sampler  # state vector\n",
    "    sampler = Sampler()\n"
   ]
  },
  {
   "cell_type": "code",
   "execution_count": 24,
   "id": "fbcc27a8-ab99-472a-855f-af45994a980b",
   "metadata": {},
   "outputs": [
    {
     "name": "stdout",
     "output_type": "stream",
     "text": [
      "\n"
     ]
    },
    {
     "data": {
      "image/png": "[encoded data removed]",
      "text/plain": [
       "<Figure size 1200x600 with 1 Axes>"
      ]
     },
     "metadata": {},
     "output_type": "display_data"
    },
    {
     "name": "stdout",
     "output_type": "stream",
     "text": [
      "Training time: 46 seconds, last value:1.65\n"
     ]
    }
   ],
   "source": [
    "# Training may take some time. Please, be patient.\n",
    "from qiskit_machine_learning.algorithms.classifiers import VQC\n",
    "\n",
    "vqc = VQC(\n",
    "    sampler=sampler,\n",
    "    feature_map=feature_circ,\n",
    "    ansatz=ansatz_circ,\n",
    "    optimizer=optimizer,\n",
    "    callback=callback_graph,\n",
    ")\n",
    "\n",
    "# clear objective value history\n",
    "objective_func_vals = []\n",
    "\n",
    "start = time.time()\n",
    "# Fit the VQC on the training data\n",
    "vqc.fit(X_train, y_train)\n",
    "elapsed = time.time() - start\n",
    "\n",
    "print(f\"Training time: {round(elapsed)} seconds, last value:%.2f\"%objective_func_vals[-1])"
   ]
  },
  {
   "cell_type": "markdown",
   "id": "b9fb237c-da6e-4790-a2c2-bb0b4ed1f174",
   "metadata": {},
   "source": [
    "### predict for few samples"
   ]
  },
  {
   "cell_type": "code",
   "execution_count": 25,
   "id": "dd3470b8-cf3f-4ff8-9548-3e0b8fff2fed",
   "metadata": {},
   "outputs": [
    {
     "name": "stdout",
     "output_type": "stream",
     "text": [
      "[[5 5 0]\n",
      " [0 1 8]\n",
      " [3 0 8]]\n"
     ]
    }
   ],
   "source": [
    "# Predict labels for the test data\n",
    "y_pred = vqc.predict(X_test)\n",
    "\n",
    "# Compute the confusion matrix\n",
    "from sklearn.metrics import confusion_matrix\n",
    "conf_matrix = confusion_matrix(y_test, y_pred)\n",
    "\n",
    "print(conf_matrix)"
   ]
  },
  {
   "cell_type": "code",
   "execution_count": 26,
   "id": "008c6efb-4814-4662-b261-061aa88d91eb",
   "metadata": {},
   "outputs": [
    {
     "name": "stdout",
     "output_type": "stream",
     "text": [
      "mean accuracy  on the training dataset: 0.37\n",
      "mean accuracy on the test dataset:     0.53\n"
     ]
    }
   ],
   "source": [
    "# Now we check out how well our classical model performs. \n",
    "# mean accuracy of the classifier\n",
    "train_score_c4 = vqc.score(X_train, y_train)\n",
    "test_score_c4 = vqc.score(X_test, y_test)\n",
    "\n",
    "print(f\"mean accuracy  on the training dataset: {train_score_c4:.2f}\")\n",
    "print(f\"mean accuracy on the test dataset:     {test_score_c4:.2f}\")"
   ]
  },
  {
   "cell_type": "code",
   "execution_count": 27,
   "id": "c553e26d-7e10-4262-80f0-0ba1701b7dd1",
   "metadata": {},
   "outputs": [
    {
     "data": {
      "text/plain": [
       "((16,),\n",
       " array([0.28574262, 1.85188927, 0.8028427 , 0.90653314, 0.91396501,\n",
       "        0.95526302, 0.91765914, 0.79514921, 0.57620692, 0.4852991 ,\n",
       "        0.37739301, 0.9363768 , 0.97888526, 0.64392566, 0.7809044 ,\n",
       "        0.05171217]))"
      ]
     },
     "execution_count": 27,
     "metadata": {},
     "output_type": "execute_result"
    }
   ],
   "source": [
    "# run full circuit for \n",
    "weights=vqc.weights\n",
    "weights.shape, weights"
   ]
  },
  {
   "cell_type": "code",
   "execution_count": 28,
   "id": "d097aba3-2344-4e1b-bd46-4d47dd431d3c",
   "metadata": {},
   "outputs": [
    {
     "name": "stdout",
     "output_type": "stream",
     "text": [
      "2 1 False\n",
      "1 0 False\n",
      "2 2 True\n",
      "2 1 False\n",
      "2 1 False\n",
      "1 0 False\n",
      "2 1 False\n",
      "0 2 False\n",
      "2 1 False\n",
      "2 1 False\n",
      "2 2 True\n",
      "0 0 True\n",
      "1 0 False\n",
      "0 0 True\n",
      "1 0 False\n",
      "1 1 True\n",
      "2 2 True\n",
      "2 1 False\n",
      "2 1 False\n",
      "2 2 True\n",
      "avr prob=0.35\n"
     ]
    }
   ],
   "source": [
    "nSamp=20\n",
    "samples=X_test[:nSamp]\n",
    "labels=y_test[:nSamp]\n",
    "pred=vqc.predict(samples)\n",
    "nok=0\n",
    "for p,t in zip(pred,labels):\n",
    "    print(p,t,p==t)\n",
    "    nok+=p==t\n",
    "print('avr prob=%.2f'%(nok/nSamp))"
   ]
  },
  {
   "cell_type": "code",
   "execution_count": 29,
   "id": "4aa87b85-39e2-4bbc-a7bc-78598610d3a6",
   "metadata": {},
   "outputs": [
    {
     "data": {
      "text/html": [
       "<pre style=\"word-wrap: normal;white-space: pre;background: #fff0;line-height: 1.1;font-family: &quot;Courier New&quot;,Courier,monospace\">        ┌────────────────────────────────────┐┌─────────────┐ ░                 ░  ░ ┌─────────────┐ ░                 ░  ░ »\n",
       "   q_0: ┤0                                   ├┤ Ry(beta[0]) ├─░─────────────■───░──░─┤ Ry(beta[4]) ├─░─────────────■───░──░─»\n",
       "        │                                    │├─────────────┤ ░           ┌─┴─┐ ░  ░ ├─────────────┤ ░           ┌─┴─┐ ░  ░ »\n",
       "   q_1: ┤1                                   ├┤ Ry(beta[1]) ├─░────────■──┤ X ├─░──░─┤ Ry(beta[5]) ├─░────────■──┤ X ├─░──░─»\n",
       "        │  ZZFeatureMap(x[0],x[1],x[2],x[3]) │├─────────────┤ ░      ┌─┴─┐└───┘ ░  ░ ├─────────────┤ ░      ┌─┴─┐└───┘ ░  ░ »\n",
       "   q_2: ┤2                                   ├┤ Ry(beta[2]) ├─░───■──┤ X ├──────░──░─┤ Ry(beta[6]) ├─░───■──┤ X ├──────░──░─»\n",
       "        │                                    │├─────────────┤ ░ ┌─┴─┐└───┘      ░  ░ ├─────────────┤ ░ ┌─┴─┐└───┘      ░  ░ »\n",
       "   q_3: ┤3                                   ├┤ Ry(beta[3]) ├─░─┤ X ├───────────░──░─┤ Ry(beta[7]) ├─░─┤ X ├───────────░──░─»\n",
       "        └────────────────────────────────────┘└─────────────┘ ░ └───┘           ░  ░ └─────────────┘ ░ └───┘           ░  ░ »\n",
       "meas: 4/════════════════════════════════════════════════════════════════════════════════════════════════════════════════════»\n",
       "                                                                                                                            »\n",
       "«        ┌─────────────┐  ░                 ░  ░ ┌──────────────┐ ░ ┌─┐         \n",
       "«   q_0: ┤ Ry(beta[8]) ├──░─────────────■───░──░─┤ Ry(beta[12]) ├─░─┤M├─────────\n",
       "«        ├─────────────┤  ░           ┌─┴─┐ ░  ░ ├──────────────┤ ░ └╥┘┌─┐      \n",
       "«   q_1: ┤ Ry(beta[9]) ├──░────────■──┤ X ├─░──░─┤ Ry(beta[13]) ├─░──╫─┤M├──────\n",
       "«        ├─────────────┴┐ ░      ┌─┴─┐└───┘ ░  ░ ├──────────────┤ ░  ║ └╥┘┌─┐   \n",
       "«   q_2: ┤ Ry(beta[10]) ├─░───■──┤ X ├──────░──░─┤ Ry(beta[14]) ├─░──╫──╫─┤M├───\n",
       "«        ├──────────────┤ ░ ┌─┴─┐└───┘      ░  ░ ├──────────────┤ ░  ║  ║ └╥┘┌─┐\n",
       "«   q_3: ┤ Ry(beta[11]) ├─░─┤ X ├───────────░──░─┤ Ry(beta[15]) ├─░──╫──╫──╫─┤M├\n",
       "«        └──────────────┘ ░ └───┘           ░  ░ └──────────────┘ ░  ║  ║  ║ └╥┘\n",
       "«meas: 4/════════════════════════════════════════════════════════════╩══╩══╩══╩═\n",
       "«                                                                    0  1  2  3 </pre>"
      ],
      "text/plain": [
       "        ┌────────────────────────────────────┐┌─────────────┐ ░                 ░  ░ ┌─────────────┐ ░                 ░  ░ »\n",
       "   q_0: ┤0                                   ├┤ Ry(beta[0]) ├─░─────────────■───░──░─┤ Ry(beta[4]) ├─░─────────────■───░──░─»\n",
       "        │                                    │├─────────────┤ ░           ┌─┴─┐ ░  ░ ├─────────────┤ ░           ┌─┴─┐ ░  ░ »\n",
       "   q_1: ┤1                                   ├┤ Ry(beta[1]) ├─░────────■──┤ X ├─░──░─┤ Ry(beta[5]) ├─░────────■──┤ X ├─░──░─»\n",
       "        │  ZZFeatureMap(x[0],x[1],x[2],x[3]) │├─────────────┤ ░      ┌─┴─┐└───┘ ░  ░ ├─────────────┤ ░      ┌─┴─┐└───┘ ░  ░ »\n",
       "   q_2: ┤2                                   ├┤ Ry(beta[2]) ├─░───■──┤ X ├──────░──░─┤ Ry(beta[6]) ├─░───■──┤ X ├──────░──░─»\n",
       "        │                                    │├─────────────┤ ░ ┌─┴─┐└───┘      ░  ░ ├─────────────┤ ░ ┌─┴─┐└───┘      ░  ░ »\n",
       "   q_3: ┤3                                   ├┤ Ry(beta[3]) ├─░─┤ X ├───────────░──░─┤ Ry(beta[7]) ├─░─┤ X ├───────────░──░─»\n",
       "        └────────────────────────────────────┘└─────────────┘ ░ └───┘           ░  ░ └─────────────┘ ░ └───┘           ░  ░ »\n",
       "meas: 4/════════════════════════════════════════════════════════════════════════════════════════════════════════════════════»\n",
       "                                                                                                                            »\n",
       "«        ┌─────────────┐  ░                 ░  ░ ┌──────────────┐ ░ ┌─┐         \n",
       "«   q_0: ┤ Ry(beta[8]) ├──░─────────────■───░──░─┤ Ry(beta[12]) ├─░─┤M├─────────\n",
       "«        ├─────────────┤  ░           ┌─┴─┐ ░  ░ ├──────────────┤ ░ └╥┘┌─┐      \n",
       "«   q_1: ┤ Ry(beta[9]) ├──░────────■──┤ X ├─░──░─┤ Ry(beta[13]) ├─░──╫─┤M├──────\n",
       "«        ├─────────────┴┐ ░      ┌─┴─┐└───┘ ░  ░ ├──────────────┤ ░  ║ └╥┘┌─┐   \n",
       "«   q_2: ┤ Ry(beta[10]) ├─░───■──┤ X ├──────░──░─┤ Ry(beta[14]) ├─░──╫──╫─┤M├───\n",
       "«        ├──────────────┤ ░ ┌─┴─┐└───┘      ░  ░ ├──────────────┤ ░  ║  ║ └╥┘┌─┐\n",
       "«   q_3: ┤ Ry(beta[11]) ├─░─┤ X ├───────────░──░─┤ Ry(beta[15]) ├─░──╫──╫──╫─┤M├\n",
       "«        └──────────────┘ ░ └───┘           ░  ░ └──────────────┘ ░  ║  ║  ║ └╥┘\n",
       "«meas: 4/════════════════════════════════════════════════════════════╩══╩══╩══╩═\n",
       "«                                                                    0  1  2  3 "
      ]
     },
     "execution_count": 29,
     "metadata": {},
     "output_type": "execute_result"
    }
   ],
   "source": [
    "vqc.circuit.draw(output='text', fold=130)"
   ]
  },
  {
   "cell_type": "code",
   "execution_count": null,
   "id": "15df2ab7-7931-463a-8bd2-33a7569fbfc8",
   "metadata": {},
   "outputs": [],
   "source": []
  }
 ],
 "metadata": {
  "kernelspec": {
   "display_name": "Python 3 (ipykernel)",
   "language": "python",
   "name": "python3"
  },
  "language_info": {
   "codemirror_mode": {
    "name": "ipython",
    "version": 3
   },
   "file_extension": ".py",
   "mimetype": "text/x-python",
   "name": "python",
   "nbconvert_exporter": "python",
   "pygments_lexer": "ipython3",
   "version": "3.10.12"
  }
 },
 "nbformat": 4,
 "nbformat_minor": 5
}
