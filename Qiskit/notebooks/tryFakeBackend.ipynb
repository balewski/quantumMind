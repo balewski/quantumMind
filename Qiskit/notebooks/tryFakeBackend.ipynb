{
 "cells": [
  {
   "cell_type": "code",
   "execution_count": null,
   "id": "69c905df-9134-4fcc-a614-16da657183b2",
   "metadata": {},
   "outputs": [],
   "source": [
    "import site\n",
    "import os\n",
    "import json\n",
    "from datetime import datetime\n",
    "from qiskit.circuit.parameterexpression import ParameterExpression\n",
    "from qiskit_ibm_runtime import QiskitRuntimeService\n",
    "from qiskit_ibm_runtime.fake_provider import fake_backend\n",
    "\n",
    "class BackendEncoder(json.JSONEncoder):\n",
    "    \"\"\"A json encoder for qobj\"\"\"\n",
    "\n",
    "    def default(self, o):\n",
    "        # Convert numpy arrays:\n",
    "        if hasattr(o, \"tolist\"):\n",
    "            return o.tolist()\n",
    "        # Use Qobj complex json format:\n",
    "        if isinstance(o, complex):\n",
    "            return [o.real, o.imag]\n",
    "        if isinstance(o, ParameterExpression):\n",
    "            return float(o)\n",
    "        if isinstance(o, datetime):\n",
    "            return o.isoformat()\n",
    "        return json.JSONEncoder.default(self, o)\n",
    "\n",
    "class FakeBackend(fake_backend.FakeBackendV2):\n",
    "    \n",
    "    def __init__(self, backend):\n",
    "\n",
    "        package_name = 'qiskit_ibm_runtime'\n",
    "        package_dirs = site.getsitepackages()\n",
    "        backends_dir = None\n",
    "        for dir in package_dirs:\n",
    "            package_path = os.path.join(dir, package_name)\n",
    "            if os.path.exists(package_path):\n",
    "                backends_dir = os.path.join(package_path, \"fake_provider\", \"backends\")\n",
    "                break\n",
    "\n",
    "        backend_og_name = backend.name.split(\"_\")[1]\n",
    "        self.conf_filename = f\"conf_{backend_og_name}.json\" \n",
    "        self.props_filename = f\"props_{backend_og_name}.json\" \n",
    "        self.defs_filename = f\"defs_{backend_og_name}.json\"\n",
    "        self.backend_name = f\"fake_{backend_og_name}\"\n",
    "        self.dirname = os.path.join(backends_dir, backend_og_name)\n",
    "        if not os.path.exists(self.dirname):\n",
    "            os.mkdir(self.dirname)\n",
    "            config = backend.configuration()\n",
    "            props = backend.properties()\n",
    "            defs = backend.defaults()\n",
    "            if config:\n",
    "                config_path = os.path.join(self.dirname, self.conf_filename)\n",
    "                config_dict = config.to_dict()\n",
    "                with open(config_path, \"w\") as fd:\n",
    "                    fd.write(json.dumps(config_dict, cls=BackendEncoder))\n",
    "            if props:\n",
    "                props_path = os.path.join(self.dirname, self.props_filename)\n",
    "                with open(props_path, \"w\") as fd:\n",
    "                    fd.write(json.dumps(props.to_dict(), cls=BackendEncoder))\n",
    "            if defs:\n",
    "                defs_path = os.path.join(self.dirname, self.defs_filename)\n",
    "                with open(defs_path, \"w\") as fd:\n",
    "                    fd.write(json.dumps(defs.to_dict(), cls=BackendEncoder))\n",
    "\n",
    "        super().__init__()"
   ]
  },
  {
   "cell_type": "code",
   "execution_count": null,
   "id": "6058a837-3346-4789-8525-86a828598a40",
   "metadata": {},
   "outputs": [],
   "source": [
    "service = QiskitRuntimeService()\n",
    "instance = service.instances()[0] # Or put your instance manually\n",
    "print(instance)\n",
    "backend = service.get_backend(\"ibm_torino\")"
   ]
  },
  {
   "cell_type": "code",
   "execution_count": null,
   "id": "6ee0ef99-9f00-44b3-b570-23a04cfc2869",
   "metadata": {},
   "outputs": [],
   "source": [
    "fake_backend = FakeBackend(backend)"
   ]
  }
 ],
 "metadata": {
  "kernelspec": {
   "display_name": "Python 3 (ipykernel)",
   "language": "python",
   "name": "python3"
  },
  "language_info": {
   "codemirror_mode": {
    "name": "ipython",
    "version": 3
   },
   "file_extension": ".py",
   "mimetype": "text/x-python",
   "name": "python",
   "nbconvert_exporter": "python",
   "pygments_lexer": "ipython3",
   "version": "3.9.6"
  }
 },
 "nbformat": 4,
 "nbformat_minor": 5
}
