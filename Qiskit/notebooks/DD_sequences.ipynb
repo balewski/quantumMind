{
 "cells": [
  {
   "cell_type": "code",
   "execution_count": null,
   "id": "aad3aaa2",
   "metadata": {},
   "outputs": [],
   "source": [
    "import qiskit as qk\n",
    "from qiskit.tools.monitor import job_monitor\n",
    "from qiskit import IBMQ\n",
    "import pprint as pprint\n",
    "#....\n",
    "from qiskit.circuit.library import XGate\n",
    "from qiskit.transpiler import PassManager, InstructionDurations\n",
    "from qiskit.transpiler.passes import ALAPSchedule, DynamicalDecoupling\n",
    "import matplotlib.pyplot as plt\n",
    "from qiskit.transpiler.passes import PadDynamicalDecoupling, ALAPScheduleAnalysis\n",
    "from qiskit import transpile\n",
    "import numpy as np\n",
    "import mapomatic as mm\n",
    "from qiskit.quantum_info import hellinger_fidelity\n",
    "from qiskit import Aer\n",
    "from qiskit.circuit.equivalence_library import SessionEquivalenceLibrary\n",
    "from qiskit.converters import circuit_to_dag, dag_to_circuit\n",
    "from qiskit.providers.models import BackendConfiguration\n",
    "from qiskit.transpiler.passes import BasisTranslator\n",
    "from qiskit.transpiler.passes.scheduling import ALAPScheduleAnalysis"
   ]
  },
  {
   "cell_type": "code",
   "execution_count": null,
   "id": "2d6817b5",
   "metadata": {},
   "outputs": [],
   "source": [
    "! /dataVault/activate_ibmq.py \n",
    "IBMQ.load_account()"
   ]
  },
  {
   "cell_type": "code",
   "execution_count": null,
   "id": "f2a98363",
   "metadata": {},
   "outputs": [],
   "source": [
    "backName='ibmq_guadalupe'\n",
    "#provider = IBMQ.get_provider(hub='ibm-q-internal', group='support', project='core-team')\n",
    "provider = IBMQ.get_provider(hub='ibm-q-ornl', group='lbnl', project='chm170')\n",
    "backend = provider.get_backend(backName)\n",
    "print('\\nmy backend=',backend)\n",
    "from qiskit.visualization import plot_histogram, plot_gate_map, plot_circuit_layout\n",
    "plot_gate_map(backend, plot_directed=True)"
   ]
  },
  {
   "cell_type": "code",
   "execution_count": null,
   "id": "acd3128a",
   "metadata": {},
   "outputs": [],
   "source": [
    "try:\n",
    "    from kaleidoscope.qiskit import system_error_map\n",
    "except:\n",
    "    pass\n",
    "else:\n",
    "    display(system_error_map(backend))"
   ]
  },
  {
   "cell_type": "code",
   "execution_count": null,
   "id": "e5a4dd47",
   "metadata": {},
   "outputs": [],
   "source": [
    "#...!...!....................\n",
    "def make_ghz_circ(nq):\n",
    "    name='ghz_%dq'%nq\n",
    "    ghz = qk.QuantumCircuit(nq, nq,name=name)\n",
    "    ghz.h(0)\n",
    "    for idx in range(1,nq):\n",
    "        ghz.cx(0,idx)\n",
    "    \n",
    "    ghz.barrier(range(nq))\n",
    "    ghz.measure(range(nq), range(nq))\n",
    "    print(ghz)\n",
    "    return ghz\n"
   ]
  },
  {
   "cell_type": "markdown",
   "id": "5d11cb59",
   "metadata": {},
   "source": [
    "# use mapomatic to select the best layout"
   ]
  },
  {
   "cell_type": "code",
   "execution_count": null,
   "id": "8a285c5b",
   "metadata": {},
   "outputs": [],
   "source": [
    "nq=6; ncirc=5\n",
    "circ=make_ghz_circ(nq)\n",
    "trans_circs = transpile([circ]*ncirc, backend,\n",
    "                     basis_gates=backend.configuration().basis_gates+['swap'],\n",
    "                     optimization_level=3,\n",
    "                     seed_transpiler=[kk for kk in range(ncirc)])"
   ]
  },
  {
   "cell_type": "code",
   "execution_count": null,
   "id": "7af1a85b",
   "metadata": {},
   "outputs": [],
   "source": [
    "try:\n",
    "    swap_count = np.array([circ.count_ops()['swap'] for circ in trans_circs])\n",
    "    print('swap count: ', swap_count)\n",
    "except:\n",
    "    swap_count = np.array([circ.count_ops()['cx'] for circ in trans_circs])\n",
    "    print('cx count: ', swap_count)\n",
    "best_idx = np.where(swap_count == min(swap_count))[0][0] # layout with minimum swap or cx\n",
    "trans_qc = transpile(trans_circs[best_idx], backend, optimization_level=3)"
   ]
  },
  {
   "cell_type": "code",
   "execution_count": null,
   "id": "0e9333d5",
   "metadata": {},
   "outputs": [],
   "source": [
    "plot_circuit_layout(trans_circs[0],backend,view = \"physical\")\n",
    "#print(trans_circs[0])"
   ]
  },
  {
   "cell_type": "code",
   "execution_count": null,
   "id": "e9d96a0d",
   "metadata": {},
   "outputs": [],
   "source": [
    "circ.count_ops()['cx']"
   ]
  },
  {
   "cell_type": "code",
   "execution_count": null,
   "id": "856693ae",
   "metadata": {},
   "outputs": [],
   "source": [
    "trans_qc.draw(output='mpl')"
   ]
  },
  {
   "cell_type": "code",
   "execution_count": null,
   "id": "e9131440",
   "metadata": {},
   "outputs": [],
   "source": [
    "#reduce the circuit\n",
    "small_circ = mm.deflate_circuit(trans_qc)\n",
    "small_circ.draw('mpl')"
   ]
  },
  {
   "cell_type": "code",
   "execution_count": null,
   "id": "15aae968",
   "metadata": {},
   "outputs": [],
   "source": [
    "# all layouts that can run the circuit on the backend\n",
    "layouts = mm.matching_layouts(small_circ, backend)"
   ]
  },
  {
   "cell_type": "code",
   "execution_count": null,
   "id": "0c38aa36",
   "metadata": {},
   "outputs": [],
   "source": [
    "#compare the different layouts\n",
    "scores = mm.evaluate_layouts(small_circ, layouts, backend)\n",
    "scores"
   ]
  },
  {
   "cell_type": "code",
   "execution_count": null,
   "id": "334ebe30",
   "metadata": {},
   "outputs": [],
   "source": [
    "best_trans_qc = transpile(small_circ, backend, initial_layout=scores[0][0])"
   ]
  },
  {
   "cell_type": "code",
   "execution_count": null,
   "id": "3d7fd6cd",
   "metadata": {},
   "outputs": [],
   "source": [
    "best_trans_qc.draw('mpl')"
   ]
  },
  {
   "cell_type": "code",
   "execution_count": null,
   "id": "efc8126d",
   "metadata": {},
   "outputs": [],
   "source": [
    "simulator = Aer.get_backend('qasm_simulator')\n",
    "ideal_counts = simulator.run(circ, backend).result().get_counts()\n",
    "ideal_counts"
   ]
  },
  {
   "cell_type": "code",
   "execution_count": null,
   "id": "6784ea7e",
   "metadata": {},
   "outputs": [],
   "source": [
    "target_dist = {'000000': 0.5, '111111': 0.5}"
   ]
  },
  {
   "cell_type": "markdown",
   "id": "d07dbe40",
   "metadata": {},
   "source": [
    "## example of  dynamical decoupling with X2 sequence"
   ]
  },
  {
   "cell_type": "code",
   "execution_count": null,
   "id": "3a896c20",
   "metadata": {},
   "outputs": [],
   "source": [
    "# unroll circuit to basis gates\n",
    "from qiskit.converters import circuit_to_dag, dag_to_circuit\n",
    "def translate_circuit_to_basis(input_circuit, configuration):\n",
    "    \"\"\"Unroll the given circuit with the basis in the given configuration.\"\"\"\n",
    "    basis = configuration.basis_gates\n",
    "    translator = BasisTranslator(SessionEquivalenceLibrary, basis)\n",
    "    unrolled_dag = translator.run(circuit_to_dag(input_circuit))\n",
    "    return dag_to_circuit(unrolled_dag)"
   ]
  },
  {
   "cell_type": "code",
   "execution_count": null,
   "id": "b37ae658",
   "metadata": {},
   "outputs": [],
   "source": [
    "# Instruction durations\n",
    "durations = InstructionDurations.from_backend(backend)\n",
    "# Sequence for DD (recall that only sx and x gates are physical 1Q rotations)\n",
    "dd_sequence = [XGate(), XGate()]\n",
    "# Get the alignment definition for the backend.\n",
    "pulse_alignment  = backend.configuration().timing_constraints['pulse_alignment']"
   ]
  },
  {
   "cell_type": "code",
   "execution_count": null,
   "id": "d70d1dbf",
   "metadata": {},
   "outputs": [],
   "source": [
    "pm = PassManager([ALAPScheduleAnalysis(durations),\n",
    "                  PadDynamicalDecoupling(durations,\n",
    "                                         dd_sequence,\n",
    "                                         pulse_alignment=pulse_alignment)\n",
    "                 ]\n",
    "                )\n",
    "\n",
    "circ_with_dd = pm.run(best_trans_qc)\n",
    "best_with_dd = translate_circuit_to_basis(circ_with_dd, backend.configuration())"
   ]
  },
  {
   "cell_type": "code",
   "execution_count": null,
   "id": "3f3de33f",
   "metadata": {},
   "outputs": [],
   "source": [
    "job = backend.run([best_trans_qc, best_with_dd], shots=10000) # The first circuit has no dd"
   ]
  },
  {
   "cell_type": "code",
   "execution_count": null,
   "id": "425cef01",
   "metadata": {},
   "outputs": [],
   "source": [
    "dd_count = job.result().get_counts()"
   ]
  },
  {
   "cell_type": "code",
   "execution_count": null,
   "id": "3793c687",
   "metadata": {},
   "outputs": [],
   "source": [
    "print('fidelity without dd')\n",
    "hellinger_fidelity(dd_count[0], target_dist)"
   ]
  },
  {
   "cell_type": "code",
   "execution_count": null,
   "id": "d0a8f90a",
   "metadata": {},
   "outputs": [],
   "source": [
    "print('fidelity with dd')\n",
    "hellinger_fidelity(dd_count[1], target_dist)"
   ]
  },
  {
   "cell_type": "markdown",
   "id": "5558e1db",
   "metadata": {},
   "source": [
    "### Using qiskit-research kit https://github.com/nbronn/qiskit-research/tree/user-guide(see the steps on github for the installation) "
   ]
  },
  {
   "cell_type": "code",
   "execution_count": null,
   "id": "e36bdfb5",
   "metadata": {},
   "outputs": [],
   "source": [
    "backends= [provider.get_backend(i) for i in ['ibmq_montreal','ibmq_jakarta', 'ibmq_guadalupe']]\n",
    "# find the best layout across several backends\n",
    "best_layouts = mm.best_overall_layout(small_circ, backends, successors=True)\n",
    "best_layouts"
   ]
  },
  {
   "cell_type": "code",
   "execution_count": null,
   "id": "1dd2bea8",
   "metadata": {},
   "outputs": [],
   "source": [
    "DD_SEQUENCE = [\"X2\",\"X2pm\",\"XY4\",\"XY4pm\",\"XY8\",\"XY8pm\"]\n",
    "\n",
    "'''DD_SEQUENCE = {\n",
    "    \"X2\": (X, X),\n",
    "    \"X2pm\": (Xp, Xm),\n",
    "    \"XY4\": (X, Y, X, Y),\n",
    "    \"XY4pm\": (Xp, Yp, Xm, Ym),\n",
    "    \"XY8\": (X, Y, X, Y, Y, X, Y, X),\n",
    "    \"XY8pm\": (Xp, Yp, Xm, Ym, Ym, Xm, Yp, Xp),\n",
    "}'''"
   ]
  },
  {
   "cell_type": "code",
   "execution_count": null,
   "id": "e9929b15",
   "metadata": {},
   "outputs": [],
   "source": [
    "from qiskit_research.utils.convenience import add_dynamical_decoupling\n",
    "\n",
    "jobs = []\n",
    "for layouts in best_layouts:\n",
    "    device = provider.get_backend(layouts[1])\n",
    "    best_trans_qc = transpile(small_circ, device, initial_layout=layouts[0], scheduling_method='alap')\n",
    "    circ_dd =[]\n",
    "    for sequence in DD_SEQUENCE:\n",
    "        dd = add_dynamical_decoupling(\n",
    "        best_trans_qc, device, sequence, add_pulse_cals=True)\n",
    "        circ_dd.append(dd)\n",
    "    job = device.run([best_trans_qc]+circ_dd, shots=10000) # 1st is without DD\n",
    "    print('job sent on ',device.name())\n",
    "    jobs.append(job)"
   ]
  },
  {
   "cell_type": "code",
   "execution_count": null,
   "id": "c09b36e1",
   "metadata": {},
   "outputs": [],
   "source": [
    "from qiskit.visualization import timeline_drawer\n",
    "\n",
    "# this just displays a small range for 1 circuit\n",
    "timeline_drawer(circ_dd[2], time_range=[1, 12000], show_idle=False)"
   ]
  },
  {
   "cell_type": "code",
   "execution_count": null,
   "id": "cd8e44fc",
   "metadata": {},
   "outputs": [],
   "source": [
    "counts = job.result().get_counts()"
   ]
  },
  {
   "cell_type": "code",
   "execution_count": null,
   "id": "52d4e6bf",
   "metadata": {
    "scrolled": true
   },
   "outputs": [],
   "source": [
    "# compute the hellinger fidelity for all the jobs\n",
    "target_dist = {'000000': 0.5, '111111': 0.5} # ideal probability of the circuit\n",
    "for job in jobs:\n",
    "    print(job.backend().name())\n",
    "    if job.status()==job.status().DONE:\n",
    "        counts = job.result().get_counts()\n",
    "        print('NoDD: ', hellinger_fidelity(counts[0], target_dist))\n",
    "        for i in range(len(DD_SEQUENCE)):\n",
    "            print(DD_SEQUENCE[i],': ', hellinger_fidelity(counts[i+1], target_dist))"
   ]
  },
  {
   "cell_type": "code",
   "execution_count": null,
   "id": "5e208712",
   "metadata": {},
   "outputs": [],
   "source": []
  },
  {
   "cell_type": "code",
   "execution_count": null,
   "id": "934184f2",
   "metadata": {},
   "outputs": [],
   "source": [
    "def uhrig_pulse_location(k, n):\n",
    "    return np.sin(np.pi * (k + 1) / (2 * n + 2)) ** 2\n",
    "\n",
    "\n",
    "def construct_udd_sequence(rep: int,\n",
    "                        rep_gate,):\n",
    "    udd_sequence = [rep_gate] * rep\n",
    "    spacing = []\n",
    "    for k in range(rep):\n",
    "        spacing.append(uhrig_pulse_location(k, rep) - sum(spacing))\n",
    "    spacing.append(1 - sum(spacing))\n",
    "    return udd_sequence, spacing\n",
    "\n",
    "def theta_phi(theta, phi):\n",
    "    return [RZGate(phi), RXGate(-theta), RZGate(-phi)]\n",
    "\n",
    "def one_sequence(phi):\n",
    "    sequence = []\n",
    "    sequence.extend(theta_phi(np.pi, np.pi/6 + phi))\n",
    "    sequence.extend(theta_phi(np.pi, phi))\n",
    "    sequence.extend(theta_phi(np.pi, np.pi/2 + phi))\n",
    "    sequence.extend(theta_phi(np.pi, phi))\n",
    "    sequence.extend(theta_phi(np.pi, np.pi/6 + phi))\n",
    "    return sequence\n",
    "\n",
    "def kdd_sequences():\n",
    "    seqences = []\n",
    "    seqences.extend(one_sequence(0))\n",
    "    seqences.extend(one_sequence(np.pi / 2))\n",
    "    seqences.extend(one_sequence(0))\n",
    "    seqences.extend(one_sequence(np.pi / 2))\n",
    "    return seqences\n",
    "\n",
    "def kdd_spacing(num_pulse=20):\n",
    "    mid = 1 / num_pulse\n",
    "    end = mid / 2\n",
    "    spacing = []\n",
    "    spacing.append(end)\n",
    "    interval = [0] * 2\n",
    "    for i in range(num_pulse):\n",
    "        spacing.extend(interval)\n",
    "        if i < num_pulse - 1:\n",
    "            spacing.append(mid)\n",
    "    spacing.append(end)\n",
    "    return spacing"
   ]
  },
  {
   "cell_type": "code",
   "execution_count": null,
   "id": "b2b791c8",
   "metadata": {},
   "outputs": [],
   "source": [
    "from qiskit.circuit.library import XGate, YGate, RXGate, RYGate, RZGate\n",
    "udd_sequence1, udd_spacing1 = construct_udd_sequence(8, XGate())\n",
    "udd_sequence2, udd_spacing2 = construct_udd_sequence(8, YGate())\n",
    "kdd_spaces = kdd_spacing()\n",
    "kdd_sequence = kdd_sequences()"
   ]
  },
  {
   "cell_type": "code",
   "execution_count": null,
   "id": "3b5bbb7a",
   "metadata": {},
   "outputs": [],
   "source": [
    "sequences = [udd_sequence1, udd_sequence2]\n",
    "spaces = [udd_spacing1, udd_spacing2]\n",
    "for i in range(len(spaces)):\n",
    "    if sum(spaces[i]) != 1:\n",
    "        spaces[i][0]= spaces[i][0] + 1-sum(spaces[i])"
   ]
  },
  {
   "cell_type": "code",
   "execution_count": null,
   "id": "f3b9824e",
   "metadata": {},
   "outputs": [],
   "source": [
    "spaces[i][0]"
   ]
  },
  {
   "cell_type": "code",
   "execution_count": null,
   "id": "79495a52",
   "metadata": {},
   "outputs": [],
   "source": [
    "# DD using udd1 and udd2 (x)^n and (Y)^n with spacing between gates\n",
    "from qiskit_research.utils.convenience import add_periodic_dynamical_decoupling\n",
    "\n",
    "jobs = []\n",
    "for layouts in best_layouts:\n",
    "    device = provider.get_backend(layouts[1])\n",
    "    best_trans_qc = transpile(small_circ, device, initial_layout=layouts[0], scheduling_method='alap')\n",
    "    circ_dd =[]\n",
    "    for i in range(len(sequences)):\n",
    "        dd = add_periodic_dynamical_decoupling(\n",
    "        best_trans_qc, device, sequences[i],spaces[i], add_pulse_cals=True)\n",
    "        circ_dd.append(dd)\n",
    "    job = device.run([best_trans_qc]+circ_dd, shots=10000) # 1st is without DD\n",
    "    print('job sent on ',device.name())\n",
    "    jobs.append(job)"
   ]
  },
  {
   "cell_type": "code",
   "execution_count": null,
   "id": "5ee43dbc",
   "metadata": {},
   "outputs": [],
   "source": [
    "target_dist = {'000000': 0.5, '111111': 0.5}\n",
    "for job in jobs2:\n",
    "    print(job.backend().name())\n",
    "    if job.status()==job.status().DONE:\n",
    "        counts = job.result().get_counts()\n",
    "        seq = ['NoDD', 'udd1','udd2']\n",
    "        for i in range(len(seq)):\n",
    "            print(seq[i],': ', hellinger_fidelity(counts[i], target_dist))"
   ]
  },
  {
   "cell_type": "markdown",
   "id": "13fe067f",
   "metadata": {},
   "source": [
    "## Example using directly padDynamicalDecoupling"
   ]
  },
  {
   "cell_type": "code",
   "execution_count": null,
   "id": "0ebdc782",
   "metadata": {},
   "outputs": [],
   "source": [
    "from qiskit_research.utils.dynamical_decoupling import get_instruction_durations\n",
    "def get_durations(backend):\n",
    "    durations = InstructionDurations.from_backend(backend)\n",
    "    ## add duration of y gates which are used for DD sequences\n",
    "    bconf = backend.configuration()\n",
    "    for i in range(bconf.num_qubits):\n",
    "        x_duration = durations.get('x', i)\n",
    "        durations.update(InstructionDurations(\n",
    "            [('y', i, x_duration)]\n",
    "            ))\n",
    "\n",
    "        durations.update(InstructionDurations( # add rotations gates for kdd sequences\n",
    "            [('rx', i, x_duration)]\n",
    "            ))\n",
    "\n",
    "        durations.update(InstructionDurations(\n",
    "            [('ry', i, x_duration)]\n",
    "            ))\n",
    "    return durations"
   ]
  },
  {
   "cell_type": "code",
   "execution_count": null,
   "id": "7b489577",
   "metadata": {},
   "outputs": [],
   "source": [
    "sequences = [udd_sequence1, udd_sequence2, kdd_sequence]\n",
    "spaces = [udd_spacing1, udd_spacing2, kdd_spaces]\n",
    "jobs2 = []\n",
    "for layouts in best_layouts:\n",
    "    device = provider.get_backend(layouts[1])\n",
    "    durations = get_durations(device)\n",
    "    best_trans_qc = transpile(small_circ, device, initial_layout=layouts[0],scheduling_method='alap')\n",
    "    circ_dd =[]\n",
    "    for i in range(len(sequences)):\n",
    "        pm = PassManager([ALAPScheduleAnalysis(durations),\n",
    "                          PadDynamicalDecoupling(durations, sequences[i], spacing=spaces[i])])\n",
    "        dd_circuit = pm.run(best_trans_qc)\n",
    "        qc_transpile_base = translate_circuit_to_basis(dd_circuit, device.configuration())\n",
    "        circ_dd.append(qc_transpile_base)\n",
    "    job = device.run([best_trans_qc]+circ_dd, shots=10000) # 1st is without DD\n",
    "    print('job sent on ',device.name())\n",
    "    jobs2.append(job)\n"
   ]
  },
  {
   "cell_type": "code",
   "execution_count": null,
   "id": "840828c0",
   "metadata": {},
   "outputs": [],
   "source": [
    "#1st run\n",
    "target_dist = {'000000': 0.5, '111111': 0.5}\n",
    "for job in jobs2:\n",
    "    print(job.backend().name())\n",
    "    if job.status()==job.status().DONE:\n",
    "        counts = job.result().get_counts()\n",
    "        seq = ['NoDD', 'udd1','udd2','kdd']\n",
    "        for i in range(len(seq)):\n",
    "            print(seq[i],': ', hellinger_fidelity(counts[i], target_dist))"
   ]
  },
  {
   "cell_type": "code",
   "execution_count": null,
   "id": "a73a2df3",
   "metadata": {},
   "outputs": [],
   "source": [
    "#2nd run\n",
    "target_dist = {'000000': 0.5, '111111': 0.5}\n",
    "for job in jobs2:\n",
    "    print(job.backend().name())\n",
    "    if job.status()==job.status().DONE:\n",
    "        counts = job.result().get_counts()\n",
    "        seq = ['NoDD', 'udd1','udd2','kdd']\n",
    "        for i in range(len(seq)):\n",
    "            print(seq[i],': ', hellinger_fidelity(counts[i], target_dist))"
   ]
  },
  {
   "cell_type": "code",
   "execution_count": null,
   "id": "9cda97cc",
   "metadata": {},
   "outputs": [],
   "source": []
  }
 ],
 "metadata": {
  "kernelspec": {
   "display_name": "Python 3 (ipykernel)",
   "language": "python",
   "name": "python3"
  },
  "language_info": {
   "codemirror_mode": {
    "name": "ipython",
    "version": 3
   },
   "file_extension": ".py",
   "mimetype": "text/x-python",
   "name": "python",
   "nbconvert_exporter": "python",
   "pygments_lexer": "ipython3",
   "version": "3.8.10"
  }
 },
 "nbformat": 4,
 "nbformat_minor": 5
}
