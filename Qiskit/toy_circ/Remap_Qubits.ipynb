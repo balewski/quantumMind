{
 "cells": [
  {
   "cell_type": "code",
   "execution_count": null,
   "metadata": {},
   "outputs": [],
   "source": [
    "from qiskit import QuantumCircuit, QuantumRegister, ClassicalRegister\n",
    "from qiskit import QuantumRegister\n",
    "\n",
    "# Using operators in circuits\n",
    "\n",
    "# Create circuit with 6 qubits\n",
    "# QuantumRegister needs to be instantiated to create the Layout\n",
    "qr = QuantumRegister(6)\n",
    "cr = ClassicalRegister(2)\n",
    "qc = QuantumCircuit(qr, cr)\n",
    "# Add gates & meas\n",
    "qc.ch(1,3)\n",
    "qc.s(1)\n",
    "qc.t(0)\n",
    "qc.cx(0,1)\n",
    "qc.x(0)\n",
    "qc.sdg(0)\n",
    "qc.s(1)\n",
    "qc.barrier([0,1])\n",
    "qc.measure([0,1], range(2))\n",
    "qc.draw()"
   ]
  },
  {
   "cell_type": "code",
   "execution_count": null,
   "metadata": {},
   "outputs": [],
   "source": [
    "# Import the required modules\n",
    "from qiskit.transpiler import PassManager, Layout\n",
    "from qiskit.transpiler.passes import SetLayout, ApplyLayout\n",
    "\n",
    "# Create the PassManager that will hold the passes we will use\n",
    "pass_manager = PassManager()\n",
    "\n",
    "# Remaps q0--> q3,  q1--> q5, q3 --> q0\n",
    "layout = Layout({qr[0]: 3, qr[1]: 5, qr[2]: 2, qr[3]: 0, qr[4]: 4, qr[5]: 1})\n",
    "\n",
    "# Create the passes that will remap your circuit to the layout specified above\n",
    "set_layout = SetLayout(layout)\n",
    "apply_layout = ApplyLayout()\n",
    "\n",
    "# Add passes to the PassManager. (order matters, set_layout should be appended first)\n",
    "pass_manager.append(set_layout)\n",
    "pass_manager.append(apply_layout)\n",
    "\n",
    "# Execute the passes on your circuit\n",
    "remapped_circ = pass_manager.run(qc)"
   ]
  },
  {
   "cell_type": "code",
   "execution_count": null,
   "metadata": {},
   "outputs": [],
   "source": [
    "remapped_circ.draw()"
   ]
  }
 ],
 "metadata": {
  "kernelspec": {
   "display_name": "Python 3",
   "language": "python",
   "name": "python3"
  },
  "language_info": {
   "codemirror_mode": {
    "name": "ipython",
    "version": 3
   },
   "file_extension": ".py",
   "mimetype": "text/x-python",
   "name": "python",
   "nbconvert_exporter": "python",
   "pygments_lexer": "ipython3",
   "version": "3.6.4"
  }
 },
 "nbformat": 4,
 "nbformat_minor": 2
}
