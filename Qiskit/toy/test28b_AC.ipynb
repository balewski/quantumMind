{
 "cells": [
  {
   "cell_type": "code",
   "execution_count": 1,
   "id": "9b53b04e-7f73-48b4-a83c-6ce30b93faa9",
   "metadata": {},
   "outputs": [],
   "source": [
    "#From # https://docs.quantum.ibm.com/guides/build-noise-models\n",
    "#IBM Quantum support - AC 2024 10 02\n",
    "\n",
    "#!/usr/bin/env python3\n",
    "__author__ = \"Jan Balewski\"\n",
    "__email__ = \"janstar1122@gmail.com\"\n",
    "\n",
    "'''\n",
    "example of density matrix computation using Qiskit 1.2\n",
    "'''\n",
    "from qiskit import  QuantumCircuit, QuantumRegister, ClassicalRegister, transpile\n",
    "from qiskit.quantum_info.operators import Operator\n",
    "from qiskit_aer import AerSimulator\n",
    "from qiskit_ibm_runtime import QiskitRuntimeService\n",
    "from qiskit.transpiler.preset_passmanagers import generate_preset_pass_manager\n",
    "\n",
    "from pprint import pprint"
   ]
  },
  {
   "cell_type": "code",
   "execution_count": 2,
   "id": "2bdaf930-46a1-4d9a-aa52-beca361cb3ac",
   "metadata": {},
   "outputs": [
    {
     "name": "stdout",
     "output_type": "stream",
     "text": [
      "     ┌─────┐     ┌────────┐┌─────┐ density_matrix ┌─────┐┌────────┐     \n",
      "q_0: ┤ Sdg ├─────┤0       ├┤ Sdg ├───────░────────┤ Sdg ├┤0       ├─────\n",
      "     ├─────┤┌───┐│  iswap │└─────┘       ░        └─────┘│  iswap │┌───┐\n",
      "q_1: ┤ Sdg ├┤ H ├┤1       ├──────────────░───────────────┤1       ├┤ S ├\n",
      "     └─────┘└───┘└────────┘              ░               └────────┘└───┘\n"
     ]
    }
   ],
   "source": [
    "# iSWAP matrix operator\n",
    "iswap_op = Operator([[1, 0, 0, 0],\n",
    "                     [0, 0, 1j, 0],\n",
    "                     [0, 1j, 0, 0],\n",
    "                     [0, 0, 0, 1]])\n",
    "# Using operators in circuits\n",
    "nq=2;nb=2\n",
    "qc = QuantumCircuit(2)\n",
    "\n",
    "# Add gates\n",
    "qc.sdg(1)\n",
    "qc.h(1)\n",
    "qc.sdg(0)\n",
    "qc.unitary(iswap_op, [0, 1], label='iswap')\n",
    "qc.sdg(0)\n",
    "qc.save_density_matrix()\n",
    "qc.sdg(0)\n",
    "qc.unitary(iswap_op, [0, 1], label='iswap')\n",
    "qc.s(1)\n",
    "\n",
    "print(qc)"
   ]
  },
  {
   "cell_type": "code",
   "execution_count": 3,
   "id": "30f649f6-f696-4746-9a67-dac21ead0b8b",
   "metadata": {},
   "outputs": [
    {
     "name": "stdout",
     "output_type": "stream",
     "text": [
      "job started,  nq=2  at aer_simulator_density_matrix ...\n",
      "ideal density matrix: {'density_matrix': DensityMatrix([[0.5+0.j, 0.5+0.j, 0. +0.j, 0. +0.j],\n",
      "               [0.5+0.j, 0.5+0.j, 0. +0.j, 0. +0.j],\n",
      "               [0. +0.j, 0. +0.j, 0. +0.j, 0. +0.j],\n",
      "               [0. +0.j, 0. +0.j, 0. +0.j, 0. +0.j]],\n",
      "              dims=(2, 2))}\n"
     ]
    }
   ],
   "source": [
    "backend1 = AerSimulator(method=\"density_matrix\")\n",
    "print('job started,  nq=%d  at %s ...'%(qc.num_qubits,backend1.name))\n",
    "\n",
    "job = backend1.run(qc)\n",
    "result = job.result() \n",
    "#!pprint(result)\n",
    "print('ideal density matrix:',result.data())"
   ]
  },
  {
   "cell_type": "code",
   "execution_count": 4,
   "id": "d158787c-03ac-4811-8061-29015c244555",
   "metadata": {},
   "outputs": [
    {
     "name": "stdout",
     "output_type": "stream",
     "text": [
      "\n",
      " repeat on  fake backend ...\n"
     ]
    }
   ],
   "source": [
    "print('\\n repeat on  fake backend ...')\n",
    "service = QiskitRuntimeService(channel=\"ibm_quantum\")\n",
    "\n",
    "backName='ibm_nazca'   # EPLG=3.2%\n",
    "\n",
    "## Building noise model from existing hardware is described here :\n",
    "# https://docs.quantum.ibm.com/guides/build-noise-models\n",
    "# https://docs.quantum.ibm.com/guides/build-noise-models#initializing-a-noise-model-from-a-backend\n",
    "\n",
    "# Import from Qiskit Aer noise module\n",
    "from qiskit_aer.noise import NoiseModel\n",
    "noisy_backend = service.backend(backName)\n",
    "\n",
    "# Create noisy simulator backend\n",
    "noise_model = NoiseModel.from_backend(noisy_backend)\n",
    "\n",
    "backend2 = AerSimulator(method=\"density_matrix\", noise_model=noise_model)"
   ]
  },
  {
   "cell_type": "code",
   "execution_count": 5,
   "id": "68063584-366d-4518-8c53-b78af57d0ab8",
   "metadata": {},
   "outputs": [],
   "source": [
    "#print(noise_model)"
   ]
  },
  {
   "cell_type": "code",
   "execution_count": 6,
   "id": "d4c31af9-d345-4d5b-b4a3-021a9629b0bd",
   "metadata": {},
   "outputs": [],
   "source": [
    "# Transpiling\n",
    "circ = transpile(qc, backend2)"
   ]
  },
  {
   "cell_type": "code",
   "execution_count": 7,
   "id": "14fbfafd-e2aa-4a93-b40f-4509d1ae741b",
   "metadata": {},
   "outputs": [],
   "source": [
    "job2 = backend2.run(circ)"
   ]
  },
  {
   "cell_type": "code",
   "execution_count": 8,
   "id": "cc51d7c7-f52a-4f55-bbba-483d2d36015d",
   "metadata": {},
   "outputs": [],
   "source": [
    "#job2 = backend2.run(qcT)\n",
    "result2 = job2.result() \n",
    "#print('noisy density matrix:',result2.data())"
   ]
  },
  {
   "cell_type": "code",
   "execution_count": 9,
   "id": "ced177d4-558a-415a-bc9e-8f3d0a33671e",
   "metadata": {},
   "outputs": [],
   "source": [
    "noisy_density_matrix = result2.data()\n",
    "matrix = noisy_density_matrix['density_matrix']"
   ]
  },
  {
   "cell_type": "code",
   "execution_count": 10,
   "id": "3b414b43-3c48-4177-936e-fa98cdf6ca17",
   "metadata": {},
   "outputs": [
    {
     "name": "stdout",
     "output_type": "stream",
     "text": [
      "DensityMatrix([[ 4.89441139e-01+8.03531555e-21j,\n",
      "                 4.76946455e-01+1.07414257e-03j,\n",
      "                 1.81525056e-03+1.38870306e-03j,\n",
      "                 4.18982330e-05+1.32717589e-03j],\n",
      "               [ 4.76946455e-01-1.07414257e-03j,\n",
      "                 4.89254719e-01-8.03531555e-21j,\n",
      "                -4.18982330e-05+1.32213101e-03j,\n",
      "                 9.11492867e-04+1.38816043e-03j],\n",
      "               [ 1.81525056e-03-1.38870306e-03j,\n",
      "                -4.18982330e-05-1.32213101e-03j,\n",
      "                 1.06565681e-02+1.38640334e-17j,\n",
      "                 1.71004383e-04-1.47993693e-04j],\n",
      "               [ 4.18982330e-05-1.32717589e-03j,\n",
      "                 9.11492867e-04-1.38816043e-03j,\n",
      "                 1.71004383e-04+1.47993693e-04j,\n",
      "                 1.06475735e-02-1.38640334e-17j]],\n",
      "              dims=(2, 2))\n"
     ]
    }
   ],
   "source": [
    "print(noisy_density_matrix['density_matrix'])"
   ]
  },
  {
   "cell_type": "code",
   "execution_count": 11,
   "id": "979cfd67-0ac2-4114-910f-7819b9a0dd2a",
   "metadata": {},
   "outputs": [
    {
     "data": {
      "text/latex": [
       "$\\displaystyle \\left[\\begin{matrix}0.489441138975257 + 8.03531555312319 \\cdot 10^{-21} i & 0.476946455299398 + 0.00107414256941457 i & 0.00181525055844887 + 0.00138870306484384 i & 4.18982330476351 \\cdot 10^{-5} + 0.00132717589030297 i\\\\0.476946455299399 - 0.00107414256941457 i & 0.489254719399056 - 8.03531555312242 \\cdot 10^{-21} i & -4.18982330474688 \\cdot 10^{-5} + 0.00132213100808392 i & 0.00091149286662448 + 0.00138816042651309 i\\\\0.00181525055844885 - 0.00138870306484384 i & -4.18982330474688 \\cdot 10^{-5} - 0.00132213100808393 i & 0.010656568113963 + 1.38640334469468 \\cdot 10^{-17} i & 0.000171004383484828 - 0.00014799369284617 i\\\\4.18982330476351 \\cdot 10^{-5} - 0.001327175890303 i & 0.000911492866624493 - 0.00138816042651309 i & 0.000171004383484814 + 0.00014799369284617 i & 0.0106475735117235 - 1.38640334469468 \\cdot 10^{-17} i\\end{matrix}\\right]$"
      ],
      "text/plain": [
       "Matrix([\n",
       "[ 0.489441138975257 + 8.03531555312319e-21*I,    0.476946455299398 + 0.00107414256941457*I,  0.00181525055844887 + 0.00138870306484384*I,  4.18982330476351e-5 + 0.00132717589030297*I],\n",
       "[  0.476946455299399 - 0.00107414256941457*I,   0.489254719399056 - 8.03531555312242e-21*I, -4.18982330474688e-5 + 0.00132213100808392*I,  0.00091149286662448 + 0.00138816042651309*I],\n",
       "[0.00181525055844885 - 0.00138870306484384*I, -4.18982330474688e-5 - 0.00132213100808393*I,   0.010656568113963 + 1.38640334469468e-17*I, 0.000171004383484828 - 0.00014799369284617*I],\n",
       "[  4.18982330476351e-5 - 0.001327175890303*I, 0.000911492866624493 - 0.00138816042651309*I, 0.000171004383484814 + 0.00014799369284617*I,  0.0106475735117235 - 1.38640334469468e-17*I]])"
      ]
     },
     "execution_count": 11,
     "metadata": {},
     "output_type": "execute_result"
    }
   ],
   "source": [
    "import numpy as np\n",
    "from sympy import Matrix\n",
    "Matrix(matrix)"
   ]
  },
  {
   "cell_type": "code",
   "execution_count": 13,
   "id": "6c56fc21-c6cf-4844-a0a5-50b5d240b631",
   "metadata": {},
   "outputs": [
    {
     "name": "stdout",
     "output_type": "stream",
     "text": [
      "global phase: 3π/2\n",
      "     ┌──────────┐┌────┐┌──────┐┌─────────┐ ┌────┐┌──────────┐┌──────┐┌────┐»\n",
      "q_0: ┤ Rz(-π/2) ├┤ √X ├┤0     ├┤ Rz(π/2) ├─┤ √X ├┤ Rz(-π/2) ├┤0     ├┤ √X ├»\n",
      "     └──┬───┬───┘└────┘│  Ecr │├─────────┴┐├────┤├─────────┬┘│  Ecr │├────┤»\n",
      "q_1: ───┤ X ├──────────┤1     ├┤ Rz(-π/2) ├┤ √X ├┤ Rz(π/2) ├─┤1     ├┤ √X ├»\n",
      "        └───┘          └──────┘└──────────┘└────┘└─────────┘ └──────┘└────┘»\n",
      "«      density_matrix ┌──────────┐┌────┐┌──────┐┌─────────┐ ┌────┐┌──────────┐»\n",
      "«q_0: ───────░────────┤ Rz(-π/2) ├┤ √X ├┤0     ├┤ Rz(π/2) ├─┤ √X ├┤ Rz(-π/2) ├»\n",
      "«            ░        ├──────────┤├────┤│  Ecr │├─────────┴┐├────┤├─────────┬┘»\n",
      "«q_1: ───────░────────┤ Rz(-π/2) ├┤ √X ├┤1     ├┤ Rz(-π/2) ├┤ √X ├┤ Rz(π/2) ├─»\n",
      "«            ░        └──────────┘└────┘└──────┘└──────────┘└────┘└─────────┘ »\n",
      "«     ┌──────┐┌────┐┌─────────┐\n",
      "«q_0: ┤0     ├┤ √X ├┤ Rz(π/2) ├\n",
      "«     │  Ecr │├────┤├─────────┤\n",
      "«q_1: ┤1     ├┤ √X ├┤ Rz(π/2) ├\n",
      "«     └──────┘└────┘└─────────┘\n"
     ]
    }
   ],
   "source": [
    "print(circ.draw('text', idle_wires=False))"
   ]
  },
  {
   "cell_type": "code",
   "execution_count": 14,
   "id": "fa4ca2c3-ba5e-405a-a3e2-172bafac4d76",
   "metadata": {},
   "outputs": [
    {
     "name": "stdout",
     "output_type": "stream",
     "text": [
      "transpiled for AerSimulator('aer_simulator_density_matrix'\n",
      "             noise_model=<NoiseModel on ['ecr', 'sx', 'measure', 'x', 'reset', 'id']>)\n",
      "global phase: 3π/2\n",
      "     ┌──────────┐┌────┐┌──────┐┌─────────┐ ┌────┐┌──────────┐┌──────┐┌────┐»\n",
      "q_0: ┤ Rz(-π/2) ├┤ √X ├┤0     ├┤ Rz(π/2) ├─┤ √X ├┤ Rz(-π/2) ├┤0     ├┤ √X ├»\n",
      "     └──┬───┬───┘└────┘│  Ecr │├─────────┴┐├────┤├─────────┬┘│  Ecr │├────┤»\n",
      "q_1: ───┤ X ├──────────┤1     ├┤ Rz(-π/2) ├┤ √X ├┤ Rz(π/2) ├─┤1     ├┤ √X ├»\n",
      "        └───┘          └──────┘└──────────┘└────┘└─────────┘ └──────┘└────┘»\n",
      "«      density_matrix ┌──────────┐┌────┐┌──────┐┌─────────┐ ┌────┐┌──────────┐»\n",
      "«q_0: ───────░────────┤ Rz(-π/2) ├┤ √X ├┤0     ├┤ Rz(π/2) ├─┤ √X ├┤ Rz(-π/2) ├»\n",
      "«            ░        ├──────────┤├────┤│  Ecr │├─────────┴┐├────┤├─────────┬┘»\n",
      "«q_1: ───────░────────┤ Rz(-π/2) ├┤ √X ├┤1     ├┤ Rz(-π/2) ├┤ √X ├┤ Rz(π/2) ├─»\n",
      "«            ░        └──────────┘└────┘└──────┘└──────────┘└────┘└─────────┘ »\n",
      "«     ┌──────┐┌────┐┌─────────┐\n",
      "«q_0: ┤0     ├┤ √X ├┤ Rz(π/2) ├\n",
      "«     │  Ecr │├────┤├─────────┤\n",
      "«q_1: ┤1     ├┤ √X ├┤ Rz(π/2) ├\n",
      "«     └──────┘└────┘└─────────┘\n",
      "noisy density matrix: {'density_matrix': DensityMatrix([[ 4.89441139e-01+8.03531555e-21j,\n",
      "                 4.76946455e-01+1.07414257e-03j,\n",
      "                 1.81525056e-03+1.38870306e-03j,\n",
      "                 4.18982330e-05+1.32717589e-03j],\n",
      "               [ 4.76946455e-01-1.07414257e-03j,\n",
      "                 4.89254719e-01-8.03531555e-21j,\n",
      "                -4.18982330e-05+1.32213101e-03j,\n",
      "                 9.11492867e-04+1.38816043e-03j],\n",
      "               [ 1.81525056e-03-1.38870306e-03j,\n",
      "                -4.18982330e-05-1.32213101e-03j,\n",
      "                 1.06565681e-02+1.38640334e-17j,\n",
      "                 1.71004383e-04-1.47993693e-04j],\n",
      "               [ 4.18982330e-05-1.32717589e-03j,\n",
      "                 9.11492867e-04-1.38816043e-03j,\n",
      "                 1.71004383e-04+1.47993693e-04j,\n",
      "                 1.06475735e-02-1.38640334e-17j]],\n",
      "              dims=(2, 2))}\n"
     ]
    }
   ],
   "source": [
    "pm = generate_preset_pass_manager(optimization_level=1, backend=backend2)\n",
    "qcT = pm.run(qc)\n",
    "print('transpiled for',backend2)\n",
    "print(qcT.draw('text', idle_wires=False))\n",
    "\n",
    "\n",
    "job2 = backend2.run(qcT)\n",
    "result2 = job2.result() \n",
    "print('noisy density matrix:',result2.data())\n"
   ]
  },
  {
   "cell_type": "code",
   "execution_count": null,
   "id": "c3091661-5b86-4eb9-b164-f3afe4f051cf",
   "metadata": {},
   "outputs": [],
   "source": []
  }
 ],
 "metadata": {
  "kernelspec": {
   "display_name": "Python 3 (ipykernel)",
   "language": "python",
   "name": "python3"
  },
  "language_info": {
   "codemirror_mode": {
    "name": "ipython",
    "version": 3
   },
   "file_extension": ".py",
   "mimetype": "text/x-python",
   "name": "python",
   "nbconvert_exporter": "python",
   "pygments_lexer": "ipython3",
   "version": "3.12.3"
  }
 },
 "nbformat": 4,
 "nbformat_minor": 5
}
