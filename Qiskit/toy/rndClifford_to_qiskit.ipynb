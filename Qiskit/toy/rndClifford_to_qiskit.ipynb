{
 "cells": [
  {
   "cell_type": "code",
   "execution_count": 116,
   "id": "b7544476-9398-4040-8e9b-554e442f506d",
   "metadata": {},
   "outputs": [],
   "source": [
    "from qiskit import QuantumCircuit, transpile\n",
    "from qiskit.quantum_info import Statevector\n",
    "from qiskit_aer import AerSimulator\n",
    "import stim"
   ]
  },
  {
   "cell_type": "code",
   "execution_count": 117,
   "id": "b3a8be64-55ba-41b7-ae9d-dd87cb9fd93b",
   "metadata": {},
   "outputs": [],
   "source": [
    "def stim_to_qiskit_circuit(stim_circuit,skipMeas=False):\n",
    "    \"\"\"\n",
    "    Converts a Stim Circuit to a Qiskit QuantumCircuit.\n",
    "\n",
    "    Parameters:\n",
    "        stim_circuit: stim.Circuit\n",
    "            A Stim circuit object.\n",
    "\n",
    "    Returns:\n",
    "        QuantumCircuit:\n",
    "            A Qiskit QuantumCircuit equivalent to the Stim circuit.\n",
    "    \"\"\"\n",
    "    num_qubits = stim_circuit.num_qubits\n",
    "    qiskit_circuit = QuantumCircuit(num_qubits)\n",
    "\n",
    "    # Parse each instruction in the Stim circuit\n",
    "    for instruction in stim_circuit:\n",
    "        gate = instruction.name\n",
    "        L=instruction.target_groups()[0]\n",
    "        qubits = [ x.qubit_value for x in L]\n",
    "        #print(gate,'targets',qubits)\n",
    "\n",
    "        if gate == \"H\":  # Hadamard\n",
    "            qiskit_circuit.h(qubits[0])\n",
    "        elif gate == \"S\":  # Phase (S)\n",
    "            qiskit_circuit.s(qubits[0])\n",
    "        elif gate in [\"CNOT\", \"CX\"]:  # Controlled-NOT\n",
    "            qiskit_circuit.cx(qubits[0],qubits[1])\n",
    "        elif gate == \"X\":  # Pauli-X\n",
    "            qiskit_circuit.x(qubits[0])\n",
    "        elif gate == \"Z\":  # Pauli-Z\n",
    "            qiskit_circuit.z(qubits[0])\n",
    "        elif gate == \"M\":  # Measurement\n",
    "            if skipMeas: continue\n",
    "            assert len(instruction.target_groups()) == num_qubits\n",
    "            qiskit_circuit.measure_all() # not universal solution\n",
    "        else:\n",
    "            raise ValueError(f\"Unsupported gate: {gate}\")\n",
    "\n",
    "    return qiskit_circuit\n"
   ]
  },
  {
   "cell_type": "code",
   "execution_count": 118,
   "id": "ba2bbac5-9575-4e53-ad0e-69598a4b95a4",
   "metadata": {},
   "outputs": [
    {
     "name": "stdout",
     "output_type": "stream",
     "text": [
      "     ┌───┐     \n",
      "q_0: ┤ H ├──■──\n",
      "     ├───┤┌─┴─┐\n",
      "q_1: ┤ S ├┤ X ├\n",
      "     ├───┤└───┘\n",
      "q_2: ┤ X ├─────\n",
      "     └───┘     \n"
     ]
    }
   ],
   "source": [
    "# Create a Stim circuit\n",
    "stim_circuit = stim.Circuit(\"\"\"\n",
    "H 0\n",
    "S 1\n",
    "CNOT 0 1\n",
    "X 2\n",
    "M 0 1 2\n",
    "\"\"\")\n",
    "# \n",
    "# Convert Stim circuit to Qiskit circuit\n",
    "qc = stim_to_qiskit_circuit(stim_circuit,skipMeas=True)\n",
    "print(qc.draw())\n"
   ]
  },
  {
   "cell_type": "code",
   "execution_count": 119,
   "id": "9e19865b-9553-4eef-ac05-a0d777562c18",
   "metadata": {},
   "outputs": [
    {
     "name": "stdout",
     "output_type": "stream",
     "text": [
      "     ┌───┐┌───┐          ┌───┐                                   \n",
      "q_0: ┤ X ├┤ H ├──■───────┤ X ├───────────────────────────────────\n",
      "     └─┬─┘└───┘┌─┴─┐┌───┐└─┬─┘┌──────────────┐┌───┐    ┌───┐     \n",
      "q_1: ──■───────┤ X ├┤ H ├──■──┤ U2(π/2,-π/2) ├┤ X ├────┤ S ├─────\n",
      "               └───┘└───┘     └──────────────┘└─┬─┘┌───┴───┴────┐\n",
      "q_2: ───────────────────────────────────────────■──┤ U2(0,-π/2) ├\n",
      "                                                   └────────────┘\n"
     ]
    }
   ],
   "source": [
    "def rnd_clifford_state(nq):\n",
    "    \"\"\"\n",
    "    Generates a random Clifford state for a given number of qubits, transpiles it, and computes its statevector.\n",
    "\n",
    "    Parameters:\n",
    "        nq (int): Number of qubits for the Clifford state.\n",
    "\n",
    "    Returns:\n",
    "        tuple:\n",
    "            - qcT (QuantumCircuit): Transpiled Qiskit circuit representing the random Clifford state.\n",
    "            - state (Statevector): Statevector of the generated Clifford state.\n",
    "    \"\"\"\n",
    "    # Generate a random stabilizer tableau using Stim\n",
    "    tableau = stim.Tableau.random(nq)\n",
    "    \n",
    "    # Convert the tableau to a Stim circuit using Gaussian elimination (efficient stabilizer simulation)\n",
    "    qcSt = tableau.to_circuit(method=\"elimination\")\n",
    "    \n",
    "    # Debugging option to view the Stim circuit diagram\n",
    "    # print(qcSt.diagram())\n",
    "    \n",
    "    # Convert the Stim circuit to a Qiskit QuantumCircuit (skip measurement operations)\n",
    "    qc = stim_to_qiskit_circuit(qcSt, skipMeas=True)\n",
    "    \n",
    "    # Initialize a Qiskit simulator backend\n",
    "    backend = AerSimulator()\n",
    "    \n",
    "    # Transpile the Qiskit circuit to reduce 1-q gates\n",
    "    qcT = transpile(qc, backend=backend, optimization_level=1)\n",
    "    \n",
    "    # Compute the statevector representation of the transpiled circuit\n",
    "    state = Statevector.from_instruction(qcT)\n",
    "    return qcT, state\n",
    "\n",
    "qc,state=rnd_clifford_state(3)\n",
    "print(qc.draw())"
   ]
  },
  {
   "cell_type": "code",
   "execution_count": 120,
   "id": "e0e5ff12-f583-4087-a613-a6eae2a5a36c",
   "metadata": {},
   "outputs": [],
   "source": [
    "for _ in range(10): rnd_clifford_state(6)"
   ]
  },
  {
   "cell_type": "code",
   "execution_count": null,
   "id": "98080524-d282-4d88-86be-19aaebcf76f4",
   "metadata": {},
   "outputs": [],
   "source": []
  }
 ],
 "metadata": {
  "kernelspec": {
   "display_name": "Python 3 (ipykernel)",
   "language": "python",
   "name": "python3"
  },
  "language_info": {
   "codemirror_mode": {
    "name": "ipython",
    "version": 3
   },
   "file_extension": ".py",
   "mimetype": "text/x-python",
   "name": "python",
   "nbconvert_exporter": "python",
   "pygments_lexer": "ipython3",
   "version": "3.12.3"
  }
 },
 "nbformat": 4,
 "nbformat_minor": 5
}
