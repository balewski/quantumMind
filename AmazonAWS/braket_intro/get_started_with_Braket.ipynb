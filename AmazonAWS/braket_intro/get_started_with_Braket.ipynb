{
 "cells": [
  {
   "cell_type": "markdown",
   "id": "b538f9d4-90b0-49e8-8d89-56b550ad5a71",
   "metadata": {},
   "source": [
    "# Run circuits on simulators and QPUs with Amazon Braket\n",
    "\n",
    "In this hands-on lab, we demonstrate how you can \n",
    "1. Build a quantum circuit with the Amazon Braket SDK\n",
    "2. Instantiate a quantum device object\n",
    "3. Submit your circuit as a quantum task to the target device\n",
    "4. Retrieve the results of the computation\n",
    "5. Run Qiskit circuits directly on Braket\n",
    "\n",
    "Let us begin by importing basic modules."
   ]
  },
  {
   "cell_type": "code",
   "execution_count": 1,
   "id": "26be84c2-77a0-42c6-8cea-925977dbcf81",
   "metadata": {
    "tags": []
   },
   "outputs": [],
   "source": [
    "from braket.circuits import Circuit, Gate, circuit, observables\n",
    "from braket.devices import LocalSimulator, Devices\n",
    "from braket.aws import AwsDevice, AwsQuantumTask\n",
    "\n",
    "import string\n",
    "import numpy as np\n",
    "\n",
    "import matplotlib.pyplot as plt\n",
    "%matplotlib inline"
   ]
  },
  {
   "cell_type": "markdown",
   "id": "f24602d9-42c7-4cba-9af8-2263048eeef7",
   "metadata": {},
   "source": [
    "## Build a quantum circuit with the Braket SDK"
   ]
  },
  {
   "cell_type": "markdown",
   "id": "c2ed2532-b223-4fc5-82a9-964ba53ae73b",
   "metadata": {},
   "source": [
    "To construct a circuit, we start by instantiating an emply quantum circuit object `Circuit()` and add quantum gates to the object. By convention the qubits are initiated in `0` state. Note that you don't need to intiate a predefined qubit register. The size of the register is dynamically allocated depending on the gates added while creating a circuit."
   ]
  },
  {
   "cell_type": "code",
   "execution_count": 2,
   "id": "0be027f1-853a-40c4-93ba-82707dc3046f",
   "metadata": {
    "tags": []
   },
   "outputs": [],
   "source": [
    "circ = Circuit()"
   ]
  },
  {
   "cell_type": "markdown",
   "id": "0d5e673e-3182-4111-acd5-e95613e62085",
   "metadata": {
    "tags": []
   },
   "source": [
    "### Gates supported by the Braket SDK"
   ]
  },
  {
   "cell_type": "code",
   "execution_count": 3,
   "id": "52fa0828-52db-4133-bf72-4eb79b092825",
   "metadata": {
    "tags": []
   },
   "outputs": [
    {
     "name": "stdout",
     "output_type": "stream",
     "text": [
      "Gate set supported by SDK:\n",
      " ['CCNot', 'CNot', 'CPhaseShift', 'CPhaseShift00', 'CPhaseShift01', 'CPhaseShift10', 'CSwap', 'CV', 'CY', 'CZ', 'ECR', 'GPhase', 'GPi', 'GPi2', 'H', 'I', 'ISwap', 'MS', 'PRx', 'PSwap', 'PhaseShift', 'PulseGate', 'Rx', 'Ry', 'Rz', 'S', 'Si', 'Swap', 'T', 'Ti', 'U', 'Unitary', 'V', 'Vi', 'X', 'XX', 'XY', 'Y', 'YY', 'Z', 'ZZ']\n"
     ]
    }
   ],
   "source": [
    "gate_set = [attr for attr in dir(Gate) if attr[0] in string.ascii_uppercase]\n",
    "print('Gate set supported by SDK:\\n', gate_set)"
   ]
  },
  {
   "cell_type": "markdown",
   "id": "759ada86-6cab-4691-a53c-2d74b0eed96c",
   "metadata": {
    "tags": []
   },
   "source": [
    "### Let's build an example circuit"
   ]
  },
  {
   "cell_type": "code",
   "execution_count": 4,
   "id": "0b4671d2-a210-4495-9900-eb00a11cdd09",
   "metadata": {
    "tags": []
   },
   "outputs": [],
   "source": [
    "@circuit.subroutine(register=True)\n",
    "def ghz(n_qubits):\n",
    "    \"\"\"\n",
    "    function to return a GHZ circuit ansatz\n",
    "    input: number of qubits\n",
    "    \"\"\"\n",
    "    # instantiate circuit object\n",
    "    circuit = Circuit()\n",
    "    # add Hadamard gate on first qubit\n",
    "    circuit.h(0)\n",
    "    # apply series of CNOT gates\n",
    "    for ii in range(0, n_qubits-1):\n",
    "        circuit.cnot(control=ii, target=ii+1)\n",
    "    return circuit"
   ]
  },
  {
   "cell_type": "code",
   "execution_count": 5,
   "id": "fdf98d20-b5c3-483f-b248-69a4c6b39b42",
   "metadata": {
    "tags": []
   },
   "outputs": [
    {
     "name": "stdout",
     "output_type": "stream",
     "text": [
      "T  : │  0  │  1  │  2  │\n",
      "      ┌───┐             \n",
      "q0 : ─┤ H ├───●─────────\n",
      "      └───┘   │         \n",
      "            ┌─┴─┐       \n",
      "q1 : ───────┤ X ├───●───\n",
      "            └───┘   │   \n",
      "                  ┌─┴─┐ \n",
      "q2 : ─────────────┤ X ├─\n",
      "                  └───┘ \n",
      "T  : │  0  │  1  │  2  │\n"
     ]
    }
   ],
   "source": [
    "circ = Circuit()\n",
    "circ.ghz(3)\n",
    "\n",
    "print(circ)"
   ]
  },
  {
   "cell_type": "markdown",
   "id": "d02673c0-a1a5-4aee-b5b1-966dce452b09",
   "metadata": {
    "tags": []
   },
   "source": [
    "## Execute the circuit on a local simulator and retrieve the results\n",
    "\n",
    "In addition to the functionality to build quantum circuit, the Amazon Braket SDK comes with three local simulators allowing to execute your tasks in your local environment:\n",
    "* state vector simulator (`default` / `braket_sv`)\n",
    "* density matrix simulator (`braket_dm`)\n",
    "* simulator for Analog Hamiltonian Simulation (`braket_ahs`)\n",
    "\n",
    "The local simulator is recommended for rapid prototyping, circuit development and debugging.\n",
    "More information about supported devices can be found in the [developer guide](https://docs.aws.amazon.com/braket/latest/developerguide/braket-devices.html).\n",
    "\n",
    "### Instantiate the local state vector simulator"
   ]
  },
  {
   "cell_type": "code",
   "execution_count": 6,
   "id": "986ff96e-8ad6-4c29-9cf8-b99ade412a95",
   "metadata": {
    "tags": []
   },
   "outputs": [],
   "source": [
    "device = LocalSimulator()"
   ]
  },
  {
   "cell_type": "markdown",
   "id": "bd4a065a-9bf9-4ed9-a527-5958a6a9e35b",
   "metadata": {},
   "source": [
    "### Create a quantum task\n",
    "\n",
    "Now that we have instances of a circuit and a device, we can execute the circuit on the device by using the `device.run` API which creates a quantum task."
   ]
  },
  {
   "cell_type": "code",
   "execution_count": 7,
   "id": "526e10e2-cc8c-41e6-8dd8-0cc82b93a4c0",
   "metadata": {
    "tags": []
   },
   "outputs": [
    {
     "name": "stdout",
     "output_type": "stream",
     "text": [
      "LocalQuantumTask('id':34ee019b-b391-4219-8380-9befdd91796a) COMPLETED\n"
     ]
    }
   ],
   "source": [
    "task = device.run(circ, shots=1000)\n",
    "print(task, task.state())"
   ]
  },
  {
   "cell_type": "markdown",
   "id": "010e0405-e3b0-4634-bfd1-ffcefe7cbe32",
   "metadata": {},
   "source": [
    "Because we are executing our circuit on the local simulator, the task is a `LocalQuantumTask` which is executed synchroneously and - since the circuit is very small - completed almost immediately.\n",
    "\n",
    "### Retrieve results of computation\n",
    "\n",
    "We can now retrieve the results of the computation calling the `result` method on the task object."
   ]
  },
  {
   "cell_type": "code",
   "execution_count": 8,
   "id": "c5a487f4-3546-42ba-a20b-393e896ac112",
   "metadata": {
    "tags": []
   },
   "outputs": [
    {
     "name": "stdout",
     "output_type": "stream",
     "text": [
      "GateModelQuantumTaskResult(task_metadata=TaskMetadata(braketSchemaHeader=BraketSchemaHeader(name='braket.task_result.task_metadata', version='1'), id='34ee019b-b391-4219-8380-9befdd91796a', shots=1000, deviceId='braket_sv', deviceParameters=None, createdAt=None, endedAt=None, status=None, failureReason=None), additional_metadata=AdditionalMetadata(action=Program(braketSchemaHeader=BraketSchemaHeader(name='braket.ir.openqasm.program', version='1'), source='OPENQASM 3.0;\\nbit[3] b;\\nqubit[3] q;\\nh q[0];\\ncnot q[0], q[1];\\ncnot q[1], q[2];\\nb[0] = measure q[0];\\nb[1] = measure q[1];\\nb[2] = measure q[2];', inputs={}), dwaveMetadata=None, ionqMetadata=None, rigettiMetadata=None, oqcMetadata=None, xanaduMetadata=None, queraMetadata=None, simulatorMetadata=None, iqmMetadata=None), result_types=[], values=[], measurements=array([[0, 0, 0],\n",
      "       [1, 1, 1],\n",
      "       [0, 0, 0],\n",
      "       ...,\n",
      "       [1, 1, 1],\n",
      "       [1, 1, 1],\n",
      "       [1, 1, 1]]), measured_qubits=[0, 1, 2], measurement_counts=Counter({'000': 513, '111': 487}), measurement_probabilities={'000': 0.513, '111': 0.487}, measurements_copied_from_device=True, measurement_counts_copied_from_device=False, measurement_probabilities_copied_from_device=False, _result_types_indices={})\n"
     ]
    }
   ],
   "source": [
    "result = task.result()\n",
    "print(result)"
   ]
  },
  {
   "cell_type": "markdown",
   "id": "acf4bf9a-f03e-4257-8730-83a60ad97173",
   "metadata": {},
   "source": [
    "The result of our circuit execution is a `GateModelQuantumTaskResult`. You may review the properties of this object in the [Braket SDK documentation](https://amazon-braket-sdk-python.readthedocs.io/en/latest/_apidoc/braket.tasks.gate_model_quantum_task_result.html#braket.tasks.gate_model_quantum_task_result.GateModelQuantumTaskResult).\n",
    "\n",
    "Let's print and visualize the count of binary strings for the measurements of each qubit in computational basis."
   ]
  },
  {
   "cell_type": "code",
   "execution_count": 9,
   "id": "2d1f6831-13ca-450b-923f-7725bf8712c8",
   "metadata": {
    "tags": []
   },
   "outputs": [
    {
     "name": "stdout",
     "output_type": "stream",
     "text": [
      "Counter({'000': 513, '111': 487}) <class 'collections.Counter'>\n"
     ]
    },
    {
     "data": {
      "image/png": "[encoded data removed]",
      "text/plain": [
       "<Figure size 640x480 with 1 Axes>"
      ]
     },
     "metadata": {},
     "output_type": "display_data"
    }
   ],
   "source": [
    "counts = result.measurement_counts\n",
    "print(counts, type(counts))\n",
    "\n",
    "# plot using Counter\n",
    "plt.bar(counts.keys(), counts.values())\n",
    "plt.xlabel('bitstrings')\n",
    "plt.ylabel('counts')\n",
    "plt.draw()"
   ]
  },
  {
   "cell_type": "markdown",
   "id": "806d04c1-ddd9-461f-b278-75bf41839d02",
   "metadata": {
    "tags": []
   },
   "source": [
    "## Additional result types for circuit measurements"
   ]
  },
  {
   "cell_type": "markdown",
   "id": "b30c1dab-8d64-470e-9df4-e5e0609df369",
   "metadata": {},
   "source": [
    "So far, we have only taken measurements in the computational basis. However, it is also possible to measure in other bases, as well as estimate quantities like expectation value and variance. We do this by appending additional `ResultTypes` to our circuit.\n",
    "\n",
    "A list of all supported result types can be found in the [developer guide](https://docs.aws.amazon.com/braket/latest/developerguide/braket-result-types.html)."
   ]
  },
  {
   "cell_type": "markdown",
   "id": "d9cbb5cb-2f3e-4faa-81ab-e57bde04c1f1",
   "metadata": {},
   "source": [
    "### Result types for shot-noise-free simulations"
   ]
  },
  {
   "cell_type": "markdown",
   "id": "76a6fed2-5c73-4ab6-961b-3848cd591b4d",
   "metadata": {},
   "source": [
    "For shot-noise-free simulations (`shots=0`), result types like expecation value, variance, probability, etc. are computed exactly from the wavefunction. \n",
    "In addition, the local state vector simulator provides access to the full state vector and amplitudes of specified quantum states in the output wave function are supported for both the local and on-demand state vector simulators. "
   ]
  },
  {
   "cell_type": "code",
   "execution_count": 10,
   "id": "163c4b38-c62d-40b4-ac69-80d6ee6128e8",
   "metadata": {
    "tags": []
   },
   "outputs": [
    {
     "name": "stdout",
     "output_type": "stream",
     "text": [
      "T  : │  0  │  1  │  2  │     Result Types     │\n",
      "      ┌───┐             ┌────────────────────┐ \n",
      "q0 : ─┤ H ├───●─────────┤ Expectation(Z@Z@Z) ├─\n",
      "      └───┘   │         └─────────┬──────────┘ \n",
      "            ┌─┴─┐       ┌─────────┴──────────┐ \n",
      "q1 : ───────┤ X ├───●───┤ Expectation(Z@Z@Z) ├─\n",
      "            └───┘   │   └─────────┬──────────┘ \n",
      "                  ┌─┴─┐ ┌─────────┴──────────┐ \n",
      "q2 : ─────────────┤ X ├─┤ Expectation(Z@Z@Z) ├─\n",
      "                  └───┘ └────────────────────┘ \n",
      "T  : │  0  │  1  │  2  │     Result Types     │\n",
      "\n",
      "Additional result types: StateVector, Amplitude(000,001)\n"
     ]
    }
   ],
   "source": [
    "# Let's consider our 3-qubit GHZ circuit\n",
    "circ = Circuit().ghz(3)\n",
    "\n",
    "# add the state vector result type\n",
    "circ.state_vector()\n",
    "# add the result type for amplitudes of the states |000> and |001>\n",
    "circ.amplitude(state=[\"000\", \"001\"])\n",
    "# add expectation value for <Z0*Z1*Z2>\n",
    "circ.expectation(\n",
    "    observable=observables.Z() @ observables.Z() @ observables.Z(), \n",
    "    target=[0, 1, 2]\n",
    ")\n",
    "\n",
    "print(circ)"
   ]
  },
  {
   "cell_type": "markdown",
   "id": "5c557595-0aa4-4dba-8e8e-ccf421812cde",
   "metadata": {},
   "source": [
    "<div class=\"alert alert-block alert-info\"> Note that <code>state_vector</code> and <code>amplitude</code> result types are only available for <code>shots=0</code>.</div>"
   ]
  },
  {
   "cell_type": "code",
   "execution_count": 11,
   "id": "0fa53580-f450-4b25-a534-a74c73701476",
   "metadata": {
    "tags": []
   },
   "outputs": [
    {
     "name": "stdout",
     "output_type": "stream",
     "text": [
      "State Vector: [0.70710678+0.j 0.        +0.j 0.        +0.j 0.        +0.j\n",
      " 0.        +0.j 0.        +0.j 0.        +0.j 0.70710678+0.j] \n",
      "\n",
      "Amplitudes: {'000': np.complex128(0.7071067811865475+0j), '001': np.complex128(0j)} \n",
      "\n",
      "Expectation value of <Z0*Z1*Z2>: 0.0\n"
     ]
    }
   ],
   "source": [
    "device = LocalSimulator()\n",
    "task = device.run(circ, shots=0)\n",
    "result = task.result()\n",
    "print(\"State Vector:\", result.values[0], '\\n')\n",
    "print(\"Amplitudes:\", result.values[1], '\\n')\n",
    "print(\"Expectation value of <Z0*Z1*Z2>:\", result.values[2])"
   ]
  },
  {
   "cell_type": "markdown",
   "id": "3646a30f-fcc6-4e6f-b003-ddcd4de89015",
   "metadata": {
    "tags": []
   },
   "source": [
    "### Result types for simulations with shot noise\n",
    "\n",
    "When `shots>0` we don't have access the full state vector, but we can still get approximate expectation values as taken from measurement samples. Note that probability, sample, expectation, and variance are also supported for QPUs."
   ]
  },
  {
   "cell_type": "code",
   "execution_count": 12,
   "id": "0738be06-94c2-466e-8abb-15c52a0dbf51",
   "metadata": {
    "tags": []
   },
   "outputs": [
    {
     "name": "stdout",
     "output_type": "stream",
     "text": [
      "T  : │  0  │  1  │  2  │                        Result Types                        │\n",
      "      ┌───┐             ┌────────────────────┐ ┌─────────────────┐ ┌───────────────┐ \n",
      "q0 : ─┤ H ├───●─────────┤ Expectation(Z@Z@Z) ├─┤ Variance(Z@Z@Z) ├─┤ Sample(Z@Z@Z) ├─\n",
      "      └───┘   │         └─────────┬──────────┘ └────────┬────────┘ └───────┬───────┘ \n",
      "            ┌─┴─┐       ┌─────────┴──────────┐ ┌────────┴────────┐ ┌───────┴───────┐ \n",
      "q1 : ───────┤ X ├───●───┤ Expectation(Z@Z@Z) ├─┤ Variance(Z@Z@Z) ├─┤ Sample(Z@Z@Z) ├─\n",
      "            └───┘   │   └─────────┬──────────┘ └────────┬────────┘ └───────┬───────┘ \n",
      "                  ┌─┴─┐ ┌─────────┴──────────┐ ┌────────┴────────┐ ┌───────┴───────┐ \n",
      "q2 : ─────────────┤ X ├─┤ Expectation(Z@Z@Z) ├─┤ Variance(Z@Z@Z) ├─┤ Sample(Z@Z@Z) ├─\n",
      "                  └───┘ └────────────────────┘ └─────────────────┘ └───────────────┘ \n",
      "T  : │  0  │  1  │  2  │                        Result Types                        │\n"
     ]
    }
   ],
   "source": [
    "circ = Circuit().ghz(3)\n",
    "\n",
    "obs = observables.Z() @ observables.Z() @ observables.Z()\n",
    "target_qubits = [0, 1, 2]\n",
    "\n",
    "# add expectation value\n",
    "circ.expectation(obs, target=target_qubits)\n",
    "# add variance\n",
    "circ.variance(obs, target=target_qubits)\n",
    "# add samples\n",
    "circ.sample(obs, target=target_qubits)\n",
    "\n",
    "print(circ)"
   ]
  },
  {
   "cell_type": "markdown",
   "id": "42837090-7ab9-4320-bf26-83a6b3584a99",
   "metadata": {},
   "source": [
    "<div class=\"alert alert-block alert-info\"> Note that <code>sample</code> result type is only available for <code>shots>0</code>.</div>"
   ]
  },
  {
   "cell_type": "code",
   "execution_count": 13,
   "id": "b913f44f-2b5d-4808-a074-07761302c612",
   "metadata": {
    "tags": []
   },
   "outputs": [
    {
     "name": "stdout",
     "output_type": "stream",
     "text": [
      "Expectation value for <Z0*Z1*Z2>: -0.04\n",
      "Variance for <Z0*Z1*Z2>: 0.9983999999999997\n",
      "Measurement samples for <Z0*Z1*Z2>: [ 1.  1.  1.  1.  1.  1. -1. -1. -1. -1.  1. -1. -1. -1. -1. -1.  1. -1.\n",
      "  1. -1. -1.  1.  1.  1. -1.  1. -1. -1.  1. -1. -1. -1. -1. -1. -1.  1.\n",
      "  1. -1.  1.  1. -1. -1.  1. -1. -1.  1. -1.  1. -1. -1. -1. -1. -1. -1.\n",
      " -1. -1.  1.  1. -1.  1. -1. -1.  1.  1.  1. -1.  1.  1.  1. -1.  1.  1.\n",
      "  1. -1.  1.  1. -1. -1.  1.  1.  1. -1.  1. -1.  1. -1. -1. -1. -1.  1.\n",
      "  1.  1.  1.  1.  1.  1. -1. -1.  1. -1.]\n"
     ]
    }
   ],
   "source": [
    "device = LocalSimulator()\n",
    "task = device.run(circ, shots=100)\n",
    "result = task.result()\n",
    "print(\"Expectation value for <Z0*Z1*Z2>:\", result.values[0])\n",
    "print(\"Variance for <Z0*Z1*Z2>:\", result.values[1])\n",
    "print(\"Measurement samples for <Z0*Z1*Z2>:\", result.values[2])"
   ]
  },
  {
   "cell_type": "markdown",
   "id": "b54dc495-decf-4462-9b7c-d78f797fd41f",
   "metadata": {
    "tags": []
   },
   "source": [
    "## Execute your circuit on a real QPU\n",
    "\n",
    "Executing a circuit on a real QPU is not different to what we have done before.\n",
    "\n",
    "Let's consider a 10-qubit GHZ circuit:"
   ]
  },
  {
   "cell_type": "code",
   "execution_count": 14,
   "id": "5a4fcdf1-abe2-49d2-a9c1-db74b98188dc",
   "metadata": {
    "tags": []
   },
   "outputs": [
    {
     "name": "stdout",
     "output_type": "stream",
     "text": [
      "T  : │  0  │  1  │  2  │  3  │  4  │  5  │  6  │  7  │  8  │  9  │\n",
      "      ┌───┐                                                       \n",
      "q0 : ─┤ H ├───●───────────────────────────────────────────────────\n",
      "      └───┘   │                                                   \n",
      "            ┌─┴─┐                                                 \n",
      "q1 : ───────┤ X ├───●─────────────────────────────────────────────\n",
      "            └───┘   │                                             \n",
      "                  ┌─┴─┐                                           \n",
      "q2 : ─────────────┤ X ├───●───────────────────────────────────────\n",
      "                  └───┘   │                                       \n",
      "                        ┌─┴─┐                                     \n",
      "q3 : ───────────────────┤ X ├───●─────────────────────────────────\n",
      "                        └───┘   │                                 \n",
      "                              ┌─┴─┐                               \n",
      "q4 : ─────────────────────────┤ X ├───●───────────────────────────\n",
      "                              └───┘   │                           \n",
      "                                    ┌─┴─┐                         \n",
      "q5 : ───────────────────────────────┤ X ├───●─────────────────────\n",
      "                                    └───┘   │                     \n",
      "                                          ┌─┴─┐                   \n",
      "q6 : ─────────────────────────────────────┤ X ├───●───────────────\n",
      "                                          └───┘   │               \n",
      "                                                ┌─┴─┐             \n",
      "q7 : ───────────────────────────────────────────┤ X ├───●─────────\n",
      "                                                └───┘   │         \n",
      "                                                      ┌─┴─┐       \n",
      "q8 : ─────────────────────────────────────────────────┤ X ├───●───\n",
      "                                                      └───┘   │   \n",
      "                                                            ┌─┴─┐ \n",
      "q9 : ───────────────────────────────────────────────────────┤ X ├─\n",
      "                                                            └───┘ \n",
      "T  : │  0  │  1  │  2  │  3  │  4  │  5  │  6  │  7  │  8  │  9  │\n"
     ]
    }
   ],
   "source": [
    "circ = Circuit().ghz(10)\n",
    "\n",
    "print(circ)"
   ]
  },
  {
   "cell_type": "markdown",
   "id": "72631adf-0870-4a54-b40f-915276f4dc03",
   "metadata": {},
   "source": [
    "Now, let's check programmatically which QPUs are currently available:"
   ]
  },
  {
   "cell_type": "code",
   "execution_count": 15,
   "id": "c715e90b-1e5b-4831-8169-c71c839ec710",
   "metadata": {
    "tags": []
   },
   "outputs": [
    {
     "data": {
      "text/plain": [
       "[Device('name': Ankaa-2, 'arn': arn:aws:braket:us-west-1::device/qpu/rigetti/Ankaa-2),\n",
       " Device('name': Aquila, 'arn': arn:aws:braket:us-east-1::device/qpu/quera/Aquila),\n",
       " Device('name': Aria 1, 'arn': arn:aws:braket:us-east-1::device/qpu/ionq/Aria-1),\n",
       " Device('name': Forte 1, 'arn': arn:aws:braket:us-east-1::device/qpu/ionq/Forte-1),\n",
       " Device('name': Garnet, 'arn': arn:aws:braket:eu-north-1::device/qpu/iqm/Garnet)]"
      ]
     },
     "execution_count": 15,
     "metadata": {},
     "output_type": "execute_result"
    }
   ],
   "source": [
    "AwsDevice.get_devices(types=['QPU'], statuses=['ONLINE'])"
   ]
  },
  {
   "cell_type": "markdown",
   "id": "aebbd336-7d0b-4a14-ba4b-c04ce07c78a1",
   "metadata": {},
   "source": [
    "Again, we only have to instantiate a device object and invoke the `device.run` function to create a quantum task. Because we want to run on a real Braket backend, we have to use the `AwsDevice` module."
   ]
  },
  {
   "cell_type": "code",
   "execution_count": 16,
   "id": "f07d30b6-2db0-43d9-b294-58f3319d8eb6",
   "metadata": {
    "tags": []
   },
   "outputs": [
    {
     "ename": "NameError",
     "evalue": "name 'junk' is not defined",
     "output_type": "error",
     "traceback": [
      "\u001b[0;31m---------------------------------------------------------------------------\u001b[0m",
      "\u001b[0;31mNameError\u001b[0m                                 Traceback (most recent call last)",
      "Cell \u001b[0;32mIn[16], line 3\u001b[0m\n\u001b[1;32m      1\u001b[0m \u001b[38;5;66;03m#device = AwsDevice(Devices.IQM.Garnet)\u001b[39;00m\n\u001b[1;32m      2\u001b[0m \u001b[38;5;66;03m#device = AwsDevice(Devices.IonQ.Forte1)\u001b[39;00m\n\u001b[0;32m----> 3\u001b[0m device\u001b[38;5;241m=\u001b[39m\u001b[43mjunk\u001b[49m\n\u001b[1;32m      4\u001b[0m task \u001b[38;5;241m=\u001b[39m device\u001b[38;5;241m.\u001b[39mrun(circ, shots\u001b[38;5;241m=\u001b[39m\u001b[38;5;241m120\u001b[39m)\n\u001b[1;32m      5\u001b[0m \u001b[38;5;28mprint\u001b[39m(task\u001b[38;5;241m.\u001b[39mid, task\u001b[38;5;241m.\u001b[39mstate())\n",
      "\u001b[0;31mNameError\u001b[0m: name 'junk' is not defined"
     ]
    }
   ],
   "source": [
    "#device = AwsDevice(Devices.IQM.Garnet)\n",
    "#device = AwsDevice(Devices.IonQ.Forte1)\n",
    "device=junk\n",
    "task = device.run(circ, shots=120)\n",
    "print(task.id, task.state())"
   ]
  },
  {
   "cell_type": "markdown",
   "id": "6f25855a-6fd5-4899-b8ec-8e8a3f66e4e9",
   "metadata": {},
   "source": [
    "### When will my task run?\n",
    "\n",
    "Unlike on-demand simulators, QPUs are not a scalable resource. Therefore, your task may remain in `CREATED` or `QUEUED` state for some time. Reasons for this may be device availability windows and other tasks already created and queued.\n",
    "\n",
    "Before you create a quantum task, you can view how many other quantum tasks are already in front of you by checking device queue depth.\n",
    "\n",
    "After you have created a task, you can view the current position of your quantum task within a respective device queue."
   ]
  },
  {
   "cell_type": "code",
   "execution_count": null,
   "id": "c5235465-2c55-4302-b11e-0e19829bcecf",
   "metadata": {
    "tags": []
   },
   "outputs": [],
   "source": [
    "print(device.queue_depth(), '\\n')\n",
    "print(task.queue_position())"
   ]
  },
  {
   "cell_type": "markdown",
   "id": "b42a4635-84ba-428f-be99-b2b33ed99563",
   "metadata": {},
   "source": [
    "More information about queue visibility can be found in the [Braket developer guide](https://docs.aws.amazon.com/braket/latest/developerguide/braket-task-when.html#braket-queue-visibility)."
   ]
  },
  {
   "cell_type": "code",
   "execution_count": null,
   "id": "0cce7a54-48ef-4766-9256-eb9dca7c4f55",
   "metadata": {
    "tags": []
   },
   "outputs": [],
   "source": [
    "print(task.id, task.state())"
   ]
  },
  {
   "cell_type": "markdown",
   "id": "3ff2f399-2910-49a4-a601-33a30e0718c9",
   "metadata": {},
   "source": [
    "### Low level access and device native programming\n",
    "\n",
    "Usually, when you run a circuit on a QPU, behind the scenes, Amazon Braket will do a series of compilation steps to optimize your circuit and map the abstract circuit to the physical qubits on the QPU. One of the steps is to decompose the gates of your circuit into the _native gates_ of the QPU. \n",
    "\n",
    "We can check the list of native gates for each QPU:"
   ]
  },
  {
   "cell_type": "code",
   "execution_count": null,
   "id": "d32a69b6-71ac-4111-af04-8a613d10cb75",
   "metadata": {
    "tags": []
   },
   "outputs": [],
   "source": [
    "for qpu in AwsDevice.get_devices(types=['QPU'], order_by='provider_name'):\n",
    "    if qpu.properties.paradigm.braketSchemaHeader.name == 'braket.device_schema.gate_model_qpu_paradigm_properties':\n",
    "        print(f'{qpu.name} native gates: {qpu.properties.paradigm.nativeGateSet}')"
   ]
  },
  {
   "cell_type": "markdown",
   "id": "3541aaf3-c6a4-419b-ae1a-c61d9f0e52cc",
   "metadata": {
    "tags": []
   },
   "source": [
    "#### Working with OpenQASM\n",
    "\n",
    "Amazon Braket uses OpenQASM 3.0 as the Intermediate Representation for gate-based quantum devices. You have the choice of submitting Braket circuits built with the constructs provided by the SDK or by directly providing OpenQASM 3.0 strings to all gate-based devices.\n",
    "In [this notebook](https://github.com/amazon-braket/amazon-braket-examples/blob/main/examples/braket_features/Getting_Started_with_OpenQASM_on_Braket.ipynb) we demonstrate how to submit a quantum task for an OpenQASM circuit. To learn more about simulation of advanced OpenQASM programs with the `LocalSimulator` see [this notebook](https://github.com/amazon-braket/amazon-braket-examples/blob/main/examples/braket_features/Simulating_Advanced_OpenQASM_Programs_with_the_Local_Simulator.ipynb)."
   ]
  },
  {
   "cell_type": "markdown",
   "id": "1cbc5002-0eee-4e13-a2b6-48a1af8a24f2",
   "metadata": {},
   "source": [
    "#### Verbatim Compilation\n",
    "\n",
    "In some situations, such as for error mitigation or benchmarking experiments, researchers require full control of the qubits and the gates that are being applied. To run your circuits exactly as defined without any modification during the compilation process, you can use the _verbatim compilation_ feature of Braket.\n",
    "\n",
    "Check out [this notebook](https://github.com/amazon-braket/amazon-braket-examples/blob/main/examples/braket_features/Verbatim_Compilation.ipynb) to learn how to use verbatim compliation."
   ]
  },
  {
   "cell_type": "markdown",
   "id": "48bcef45-7282-4a94-bd01-3e78773b5045",
   "metadata": {},
   "source": [
    "#### Pulse level control\n",
    "\n",
    "Pulses are the analog signals that control the qubits in a quantum computer. With certain devices on Amazon Braket, you can access the pulse control feature to submit circuits using pulses. You can access pulse control through the `Braket SDK`, using `OpenQASM 3.0`, or directly through the `Braket APIs`. You can read more about pulse control on Amazon Braket in the [developer guide](https://docs.aws.amazon.com/braket/latest/developerguide/braket-pulse-control.html).\n",
    "\n",
    "For an example of pulse level control on Amazon Braket, take a look the [available example notebooks](https://github.com/amazon-braket/amazon-braket-examples/tree/main/examples/pulse_control)."
   ]
  },
  {
   "cell_type": "markdown",
   "id": "45a7feda-4697-46f0-a235-8ec6d9e69ff3",
   "metadata": {
    "tags": []
   },
   "source": [
    "### Task recovery\n",
    "\n",
    "You may have closed your Python session or stopped your Braket notebook instance while your quantum task has been queued. When you come back at a later point in time you can still continue and retrieve the result of the computation. \n",
    "\n",
    "In that case, it is conventient to (re-)created the `AwsQuantumTask` object of your task. All you need to know the the Amazon Resource Name (ARN) of your task."
   ]
  },
  {
   "cell_type": "code",
   "execution_count": null,
   "id": "b9649159-c1fb-48f3-b057-9b60ad7856f1",
   "metadata": {
    "tags": []
   },
   "outputs": [],
   "source": [
    "task_arn = task.id\n",
    "# task_arn = ''\n",
    "\n",
    "print(task_arn)"
   ]
  },
  {
   "cell_type": "code",
   "execution_count": null,
   "id": "a11fb47e-fea2-4d84-8c34-c2059f18a955",
   "metadata": {
    "tags": []
   },
   "outputs": [],
   "source": [
    "from braket.aws import AwsQuantumTask\n",
    "\n",
    "recovered_task = AwsQuantumTask(arn=task_arn)\n",
    "\n",
    "# print the real-time status of the task\n",
    "print('Status of (reconstructed) task:', recovered_task.state())"
   ]
  },
  {
   "cell_type": "code",
   "execution_count": null,
   "id": "8851a1ad-3dd2-4c41-94dd-ef29567667c4",
   "metadata": {
    "tags": []
   },
   "outputs": [],
   "source": [
    "if recovered_task.state() == 'COMPLETED':\n",
    "    # get task results\n",
    "    qpu_results = recovered_task.result()\n",
    "\n",
    "    metadata = recovered_task.metadata()\n",
    "    print(\"{} shots taken on machine {}.\\n\".format(metadata['shots'], metadata['deviceArn']))\n",
    "\n",
    "    qpu_counts = qpu_results.measurement_counts\n",
    "    print('Measurement counts:', qpu_counts)\n",
    "\n",
    "    plt.bar(qpu_counts.keys(), qpu_counts.values())\n",
    "    plt.xlabel('bitstrings')\n",
    "    plt.xticks(rotation=90)\n",
    "    plt.ylabel('counts')\n",
    "    plt.tight_layout()\n",
    "else:\n",
    "    # print current status\n",
    "    print(f'Sorry, your task is not (yet) completed, but in state {recovered_task.state()}')"
   ]
  },
  {
   "cell_type": "markdown",
   "id": "2628c36b-9e87-47d6-8399-d2db9c69a58d",
   "metadata": {},
   "source": [
    "### Access the compiled program\n",
    "\n",
    "The task result also contains the OpenQASM string of the complied circuit in terms of the device-specific native gates:"
   ]
  },
  {
   "cell_type": "code",
   "execution_count": null,
   "id": "9b752dda-1249-42d2-a2fd-871978ba28e0",
   "metadata": {
    "tags": []
   },
   "outputs": [],
   "source": [
    "compiled_circuit = recovered_task.result().additional_metadata.iqmMetadata.compiledProgram\n",
    "print(compiled_circuit)"
   ]
  },
  {
   "cell_type": "markdown",
   "id": "c3b1a682-9e41-49c9-9bbb-f9844fb782ad",
   "metadata": {
    "tags": []
   },
   "source": [
    "## Working with Qiskit\n",
    "\n",
    "If you prefer to build your quantum circuits with Qiskit you can continue to use it and run your Qiskit code across any of the gate-based devices on the Amazon Braket with open-source the [Qiskit-Braket provider](https://github.com/qiskit-community/qiskit-braket-provider)."
   ]
  },
  {
   "cell_type": "code",
   "execution_count": null,
   "id": "d02f3009-bd85-4b4a-a9ed-7c322a21633d",
   "metadata": {
    "tags": []
   },
   "outputs": [],
   "source": [
    "from qiskit_braket_provider import BraketLocalBackend\n",
    "from qiskit_braket_provider import BraketProvider\n",
    "\n",
    "provider = BraketProvider()"
   ]
  },
  {
   "cell_type": "code",
   "execution_count": null,
   "id": "cc3fcaa7-18bb-4f42-bf4c-2d6f162b0a69",
   "metadata": {
    "tags": []
   },
   "outputs": [],
   "source": [
    "provider.backends(statuses=[\"ONLINE\"])"
   ]
  },
  {
   "cell_type": "markdown",
   "id": "a65847b6-6f45-4da8-b558-5965cfc99ef6",
   "metadata": {},
   "source": [
    "### Define a qiskit circuit"
   ]
  },
  {
   "cell_type": "code",
   "execution_count": null,
   "id": "0bcec7cf-17c1-4708-8a77-bdb59dcff037",
   "metadata": {
    "tags": []
   },
   "outputs": [],
   "source": [
    "from qiskit import QuantumCircuit\n",
    "\n",
    "def qiskit_ghz(n):\n",
    "    circuit = QuantumCircuit(n)\n",
    "    circuit.h(0)\n",
    "    for ii in range(0, n-1):\n",
    "        circuit.cx(ii, ii+1)\n",
    "    return circuit"
   ]
  },
  {
   "cell_type": "code",
   "execution_count": null,
   "id": "02364a0f-674b-4158-aa2f-96c62a94a55d",
   "metadata": {
    "tags": []
   },
   "outputs": [],
   "source": [
    "ghz_qiskit = qiskit_ghz(10)\n",
    "ghz_qiskit.draw()"
   ]
  },
  {
   "cell_type": "markdown",
   "id": "86dd8e80-90c7-42ba-b1d5-5062343a429f",
   "metadata": {},
   "source": [
    "### Run Qiskit code on the Braket SDK LocalSimulator"
   ]
  },
  {
   "cell_type": "code",
   "execution_count": null,
   "id": "ceda2589-b331-4f8d-af13-cbe56f0f3715",
   "metadata": {
    "tags": []
   },
   "outputs": [],
   "source": [
    "local_simulator = BraketLocalBackend()\n",
    "\n",
    "simulator_task = local_simulator.run(ghz_qiskit, shots=1000)\n",
    "\n",
    "result = simulator_task.result()\n",
    "result_counts = result.data()['counts']\n",
    "print(result_counts)\n",
    "\n",
    "plt.bar(result_counts.keys(), result_counts.values())\n",
    "plt.show()"
   ]
  },
  {
   "cell_type": "markdown",
   "id": "00a1d9ab-0b9a-4988-9bf2-2c4413ca6161",
   "metadata": {},
   "source": [
    "### Run Qiskit circuit on a QPU available on Braket"
   ]
  },
  {
   "cell_type": "code",
   "execution_count": null,
   "id": "ddce9b0c-84fd-4880-bcc5-8ab0f0f00fc7",
   "metadata": {
    "tags": []
   },
   "outputs": [],
   "source": [
    "qpu_backend = provider.get_backend(\"Garnet\")\n",
    "\n",
    "qpu_task = qpu_backend.run(ghz_qiskit, shots=1000)"
   ]
  },
  {
   "cell_type": "code",
   "execution_count": null,
   "id": "d5bbea2f-9932-44a3-ae0e-cb5b953930e7",
   "metadata": {
    "tags": []
   },
   "outputs": [],
   "source": [
    "task_id = qpu_task.task_id()\n",
    "task_id"
   ]
  },
  {
   "cell_type": "code",
   "execution_count": null,
   "id": "710e0ebe-f1ad-4600-805b-52fab93373f1",
   "metadata": {
    "tags": []
   },
   "outputs": [],
   "source": [
    "task=AwsQuantumTask('arn:aws:braket:eu-north-1:977230113265:quantum-task/cb00b12e-e916-47aa-b530-fd07b6b0b6f6')\n",
    "task.metadata"
   ]
  },
  {
   "cell_type": "code",
   "execution_count": null,
   "id": "50f388f1-89f9-41fe-879f-58be5bbaa8ce",
   "metadata": {
    "tags": []
   },
   "outputs": [],
   "source": [
    "qpu_task.status()"
   ]
  },
  {
   "cell_type": "markdown",
   "id": "1c3da3e4-00bb-49b4-b3aa-5f10438664ed",
   "metadata": {},
   "source": [
    "### Retrieve quantum task data"
   ]
  },
  {
   "cell_type": "code",
   "execution_count": null,
   "id": "fa409052-afd6-4409-8abd-95ca149249c7",
   "metadata": {
    "tags": []
   },
   "outputs": [],
   "source": [
    "retrieved_task = qpu_backend.retrieve_job(task_id=task_arn)\n",
    "retrieved_task.status()"
   ]
  },
  {
   "cell_type": "markdown",
   "id": "b49dfa22-df76-492c-94f1-7e6101609b67",
   "metadata": {},
   "source": [
    "We can plot the histogram of the measurement counts:"
   ]
  },
  {
   "cell_type": "code",
   "execution_count": null,
   "id": "7c3037e4-6635-47ef-aeaa-5f77bb27acc0",
   "metadata": {
    "tags": []
   },
   "outputs": [],
   "source": [
    "result = retrieved_task.result()\n",
    "result_counts = result.data()['counts']\n",
    "\n",
    "plt.bar(result_counts.keys(), result_counts.values())\n",
    "plt.xlabel('bitstrings')\n",
    "plt.xticks(rotation=90)\n",
    "plt.ylabel('counts')\n",
    "plt.tight_layout()\n",
    "plt.show()"
   ]
  },
  {
   "cell_type": "markdown",
   "id": "4b2384e9-9747-4337-b232-3dbd82882f39",
   "metadata": {},
   "source": [
    "## Call to action\n",
    "\n",
    "In this notebook, you have learned \n",
    "* how to use the Amazon Braket SDK to\n",
    "  * build a circuit \n",
    "  * run a circuit as a task on the local simulator and on a real QPU on Amazon Braket\n",
    "  * track the task lifecycle and retrieve the result upon task completion\n",
    "* how you can run Qiskit circuits directly on Braket using the open-source Qiskit-Braket provider.\n",
    "\n",
    "<div class=\"alert alert-block alert-info\"> \n",
    "<b>You have access to this environment for the rest of the week. We encourage you to use it to explore Amazon Braket at your own pace. We are here for the rest of the day to help you. Please don't hesitate to approach us.</b>\n",
    "</div>\n",
    "\n",
    "And check out the following resources to continue learning about Amazon Braket:\n",
    "* [Amazon Braket web page](https://aws.amazon.com/braket/)\n",
    "* [Amazon Braket examples GitHub repository](https://github.com/amazon-braket/amazon-braket-examples)\n",
    "* [AWS Quantum Technologies Blog](https://aws.amazon.com/blogs/quantum-computing/)\n",
    "\n"
   ]
  }
 ],
 "metadata": {
  "kernelspec": {
   "display_name": "Python 3 (ipykernel)",
   "language": "python",
   "name": "python3"
  },
  "language_info": {
   "codemirror_mode": {
    "name": "ipython",
    "version": 3
   },
   "file_extension": ".py",
   "mimetype": "text/x-python",
   "name": "python",
   "nbconvert_exporter": "python",
   "pygments_lexer": "ipython3",
   "version": "3.12.3"
  }
 },
 "nbformat": 4,
 "nbformat_minor": 5
}
