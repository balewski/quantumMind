{
 "cells": [
  {
   "cell_type": "markdown",
   "id": "81ad08bd-d9f5-4e20-90b0-c830976997a8",
   "metadata": {},
   "source": [
    "# Phase transition of Shastry-Sutherland lattice\n",
    "\n",
    "In previous presentations, we have presented the Shastry-Sutherland lattice and its phase diagram, obtained through both classical numerical method and QuEra's Aquila device. The purpose of this notebook is to reproduce some of the results. We will demonstrate\n",
    "\n",
    "a) Analog Hamiltonian simulation with Rydberg atoms\n",
    "\n",
    "b) Simulation of Shastry-Sutherland lattice with Amazon Braket Hybrid Jobs\n",
    "\n",
    "c) Simulation of Shastry-Sutherland lattice with QuEra's Aquila device\n",
    "\n",
    "## Analog Hamiltonian simulation with Rydberg atoms\n",
    "\n",
    "Analog Hamiltonian Simulation (AHS) is a quantum computing paradigm that uses a well-controlled quantum system and tunes its parameters to mimic the dynamics of another quantum system, the one we aim to study. An AHS program is a sequence of time-dependent Hamiltonians that govern the quantum dynamics, which can be understood as a unitary acting simultaneously on all qubits. In order to run AHS program with Rydberg atoms, we will first have to understand what type of Hamiltonian can Rydberg atoms simulate.\n",
    "\n",
    "### Introduction to Rydberg Hamiltonian\n",
    "\n",
    "Depending on the atomic states we use for the Rydberg system, its Hamiltonian could take different forms. Here we shall focus on the following type of Hamiltonian\n",
    "\n",
    "\\begin{align}\n",
    "H(t) = \\sum_{j=1}^{N-1}\\sum_{k = j+1}^N H_{\\text{vdW}, j, k} + \\sum_{k=1}^N H_{\\text{drive}, k}(t),\n",
    "\\end{align}\n",
    "\n",
    "where $j, k=1,2,\\ldots N$ index the atoms (qubits) in the program register. We describe the nature and effect of each term in the Hamiltonian in the following sections, using an array with two atoms as an example.\n",
    "\n",
    "### Rydberg interaction and quantum register\n",
    "\n",
    "The first term in $H(t)$ is the van der Waals interaction between all pairs of Rydberg atoms,\n",
    "\n",
    "\\begin{align}\n",
    "H_{\\text{vdW}, j, k} =V_{j,k} \\,n_j\\, n_k = \\frac{C_6}{R_{j,k}^6} \\,n_j\\, n_k,\n",
    "\\end{align}\n",
    "\n",
    "where $C_6$ is a fixed interaction coefficient, and $R_{j,k}=|{\\bf x}_j-{\\bf x}_k|$ is the distance between atoms $j$ and $k$. Here $n_k = |r_k\\rangle\\langle r_k|$ is the number operator of atom $k$, and we will use $|g_k\\rangle$ and $|r_k\\rangle$ to denote the ground and Rydberg states of the $k$-th atom, respectively. While the overall coefficient, $C_6$ is a fixed value (determined by the nature of the Rydberg states), the strength of this interaction can be tuned by adjusting the pairwise distance $R_{j,k}$ between atoms. \n",
    "\n",
    "To define the van der Waals interaction in an AHS program, we define a quantum **register** which is a two-dimensional layout of neutral atoms."
   ]
  },
  {
   "cell_type": "code",
   "execution_count": null,
   "id": "0b3b8f98-40d9-4f4e-b5b1-aaf95afe273b",
   "metadata": {
    "tags": []
   },
   "outputs": [],
   "source": [
    "from braket.ahs.atom_arrangement import AtomArrangement\n",
    "\n",
    "register = AtomArrangement()\n",
    "\n",
    "# Two atoms with separation 4 micrometers\n",
    "register.add([0, 0])\n",
    "register.add([0.0, 4e-6]) ;"
   ]
  },
  {
   "cell_type": "markdown",
   "id": "acac99cb-02db-4043-9cc0-4b6d1280fed0",
   "metadata": {
    "tags": []
   },
   "source": [
    "Note that the coordinates of the atoms are specified with SI units. The atom arrangement can be visualized in the following way"
   ]
  },
  {
   "cell_type": "code",
   "execution_count": null,
   "id": "30900f8a-f5a2-463b-be2c-8b1c6b60d8d1",
   "metadata": {
    "tags": []
   },
   "outputs": [],
   "source": [
    "from ahs_utils import show_register\n",
    "show_register(register)"
   ]
  },
  {
   "cell_type": "markdown",
   "id": "174258b3-dcd2-4682-89de-e737e03af655",
   "metadata": {},
   "source": [
    "### Driving field\n",
    "\n",
    "The second term of the Hamiltonian represents the effect of a **driving field** that addresses the atoms simultaneously and uniformly\n",
    "\n",
    "\\begin{align}\n",
    "H_{\\text{drive}, k}(t) = \\frac{\\Omega(t)}{2}\\left(e^{i\\phi(t)}|g_k\\rangle\\langle r_k| + e^{-i\\phi(t)}|r_k\\rangle\\langle g_k|\\right) - \\Delta_\\text{global}(t)n_k,\n",
    "\\end{align}\n",
    "\n",
    "where $\\Omega$, $\\phi$, and $\\Delta_\\text{global}$ to denote the **amplitude** (Rabi frequency), laser **phase**, and the **detuning** of the driving laser field. The $\\Omega$ part of the driving term is identical to a uniform (time-dependent) _transverse_ magnetic field, whereas the $\\Delta_\\text{global}$ part implements the effect of a _longitudinal_ magnetic field, in a spin-model representation.\n",
    "\n",
    "\n",
    "For the purpose of this example, we choose a trapezoidal waveform for $\\Omega(t)$ such that $\\int_{0}^T\\Omega(t)dt=\\frac{\\pi}{\\sqrt{2}}$ where $T$ is the duration of the program. We also set phase and global detuning to zero. As we will explain below, the defined driving field prepares a Bell state on the two Rydberg atoms.\n",
    "\n"
   ]
  },
  {
   "cell_type": "code",
   "execution_count": null,
   "id": "620a883e-3d77-4594-b821-27236fef0f53",
   "metadata": {
    "tags": []
   },
   "outputs": [],
   "source": [
    "from braket.timings.time_series import TimeSeries\n",
    "from braket.ahs.driving_field import DrivingField\n",
    "import numpy as np\n",
    "\n",
    "amplitude = TimeSeries.trapezoidal_signal(\n",
    "    area=np.pi/np.sqrt(2), # rad \n",
    "    value_max = 2.5e6, # rad / seconds\n",
    "    slew_rate_max = 4e14 # rad / seconds^2\n",
    ")\n",
    "\n",
    "phase = TimeSeries.constant_like(amplitude, 0.0)\n",
    "detuning = TimeSeries.constant_like(amplitude, 0.0)\n",
    "\n",
    "drive = DrivingField(\n",
    "    amplitude=amplitude,\n",
    "    phase=phase,\n",
    "    detuning=detuning\n",
    ")"
   ]
  },
  {
   "cell_type": "markdown",
   "id": "6ae9bbfd-3e4f-4fe9-b124-44d2c46fcf91",
   "metadata": {},
   "source": [
    "Note that the time series of the driving field are specified with SI units. The driving field can be visualized in the following way"
   ]
  },
  {
   "cell_type": "code",
   "execution_count": null,
   "id": "18f9b58b-cdbf-4519-b679-5cb9740f38ea",
   "metadata": {
    "tags": []
   },
   "outputs": [],
   "source": [
    "from ahs_utils import show_global_drive\n",
    "show_global_drive(drive)"
   ]
  },
  {
   "cell_type": "markdown",
   "id": "98e5994d-c901-4cdd-96f0-ddedf286c4b3",
   "metadata": {},
   "source": [
    "### AHS program\n",
    "\n",
    "With the quantum register and driving field defined, we can simply assemble them together to define an AHS **program**."
   ]
  },
  {
   "cell_type": "code",
   "execution_count": null,
   "id": "cc5346c8-f464-4332-9dc0-edf91523ecd4",
   "metadata": {
    "tags": []
   },
   "outputs": [],
   "source": [
    "from braket.ahs.analog_hamiltonian_simulation import AnalogHamiltonianSimulation\n",
    "ahs_program = AnalogHamiltonianSimulation(\n",
    "    register=register,\n",
    "    hamiltonian=drive\n",
    ")"
   ]
  },
  {
   "cell_type": "markdown",
   "id": "f83d0175-7e90-47c9-ac89-afe4929a1bea",
   "metadata": {},
   "source": [
    "The fully-specified program can be inspected with the following command."
   ]
  },
  {
   "cell_type": "code",
   "execution_count": null,
   "id": "88b6c219-2ab9-40c2-9b68-ca50105c98d5",
   "metadata": {
    "tags": []
   },
   "outputs": [],
   "source": [
    "ahs_program.to_ir().dict()"
   ]
  },
  {
   "cell_type": "markdown",
   "id": "91ea1f5c-9255-47c8-aef7-c7b197796fec",
   "metadata": {},
   "source": [
    "### Rydberg blockade and Bell state\n",
    "\n",
    "One important characteristic of Rydberg atoms is the Rydberg blockade phenomenon. To understand that, we note that the $C_6$ interaction coefficient takes the value\n",
    "\\begin{align}\n",
    "C_6 = 5.42\\times 10^{-24} ~\\text{rad}~ \\text{m}^6/\\text{s}\n",
    "\\end{align}\n",
    "\n",
    "for $|r\\rangle = |70S_{1/2}\\rangle$ of the $^{87}$Rb atoms. For the typical scenario, where atoms are separated by $4\\times10^{-6}$ meters, the van der Waals interaction strength is $V_{jk}=1.32\\times10^9 \\text{rad}/\\text{s}$, which is much larger than the typical scale of the Rabi frequency (around $6\\times10^6 \\text{rad}/\\text{s}$). As a result, when the separation of two atoms is within certain distance, it is nearly impossible to drive them to the Rydberg state simultaneously. \n",
    "\n",
    "This is called the Rydberg blockade phenomena, illustrated in the figure below (Source: [Browaeys and Lahaye](https://arxiv.org/abs/2002.07413)), where $R$ is the separation between the atoms, and $E$ indicates the energies or frequencies of the different two-atom states as $R$ changes. The vertical arrows indicate the effect of a uniform driving field (with Rabi frequency $\\Omega$) that successfully transitions the atoms from the $|gg\\rangle$ ground state to the 1-atom excited state $|\\psi_+\\rangle = (|gr\\rangle + |rg\\rangle)/\\sqrt{2}$ (independent of $R$), but fails to get from there to the doubly-excited state $|rr\\rangle$, if $R$ is smaller than $R_b = (C_6 / \\Omega)^{1/6}$, the blockade radius.\n",
    "\n",
    "<u>Note</u>: In the presence of both global Rabi frequency and detuning, it is more accurate to estimate the blockade radius with $R_b = (C_6 / \\sqrt{\\Omega^2+\\Delta^2})^{1/6}$, see [Pichler, et. al.](https://arxiv.org/abs/1808.10816).\n",
    "\n",
    "<center><img src=\"Blockade.png\" alt=\"drawing\" style=\"width:250px;\"/>"
   ]
  },
  {
   "cell_type": "markdown",
   "id": "270b0c37-806f-492f-8711-76e606907a43",
   "metadata": {},
   "source": [
    "### Running AHS program with local simulator\n",
    "As explained, the AHS program defined above realizes a Bell state for the pair of atoms due to the Rydberg blockade phenomenon. Below we will run the AHS program on a local simulator to confirm that the program indeed realizes a Bell state."
   ]
  },
  {
   "cell_type": "code",
   "execution_count": null,
   "id": "258b584a-28f0-4298-b20c-b66980d1840b",
   "metadata": {
    "tags": []
   },
   "outputs": [],
   "source": [
    "from braket.devices import LocalSimulator\n",
    "simulator = LocalSimulator('braket_ahs')"
   ]
  },
  {
   "cell_type": "markdown",
   "id": "0812177c-d66c-46b0-995c-f8a877def438",
   "metadata": {},
   "source": [
    "We can run the AHS program just like running a quantum circuit on other Braket devices. Below we have explicitly specified the values of `steps` and `shots`, which are the number of time steps in the simulation and the number of sampling for the final stats, respectively. One could increase the accuracy of the result by increasing the values of these arguments, at the expense of longer runtime. "
   ]
  },
  {
   "cell_type": "code",
   "execution_count": null,
   "id": "a4aac703-fd1e-40f8-aab9-8b61e662bf3e",
   "metadata": {
    "tags": []
   },
   "outputs": [],
   "source": [
    "%%time\n",
    "\n",
    "result = simulator.run(ahs_program, shots=1000, steps=100).result()\n",
    "result.get_counts()"
   ]
  },
  {
   "cell_type": "markdown",
   "id": "cc68398a-1c17-4b52-99fa-9c80158ed282",
   "metadata": {},
   "source": [
    "The simulation outcome indeed confirms that the program realizes a Bell state for the two Rydberg atoms."
   ]
  },
  {
   "cell_type": "markdown",
   "id": "ba784569-c103-43e5-b820-7adf0aeda90a",
   "metadata": {},
   "source": [
    "<div class=\"alert alert-block alert-info\">\n",
    "Exercise 1: Increase the separation between the atoms and observe the increased probability of the $|rr\\rangle$ state\n",
    "</div>\n"
   ]
  },
  {
   "cell_type": "markdown",
   "id": "7f8d4bf4-7cf2-45d1-8707-93495ed0f704",
   "metadata": {},
   "source": [
    "## Simulation of Shastry-Sutherland lattice with Amazon Braket Hybrid Jobs\n",
    "\n",
    "In this section, we will study the phase transition of the Shastry-Sutherland (SS) lattice with Rydberg atoms. To recap, we show a typical SS lattice below where the interaction between the vertices are labeled as $V_1$, $V_2$ and $V_3$ respectively, and the Hamiltonian is defined as\n",
    "\\begin{align}\n",
    "H = \\frac{\\Omega(t)}{2}\\sum_i\\left(e^{i\\phi(t)}|g_i\\rangle\\langle r_i| + e^{-i\\phi(t)}|r_i\\rangle\\langle g_i|\\right) - \\Delta(t)\\sum_in_i + V_1\\sum_{\\langle i, j\\rangle}n_in_j + V_2\\sum_{\\langle i, j\\rangle}n_in_j + V_3\\sum_{\\langle i, j\\rangle}n_in_j.\n",
    "\\end{align} \n",
    "\n",
    "From previous presentations, we have seen that the phases of the SS lattice is determined by two ratios, namely $V_2/V_1$ and $\\Delta/V_1$. Depending on the values of these two ratios, the SS lattice is either in the 1/3 or 2/5 phases as shown below (we will not study the other phases in this notebook). One characteristics of these phases is the structure factor, which is calculated\n",
    "from two-point correlators according to\n",
    "\\begin{align}\n",
    "S_{\\bf q} = \\frac{1}{N_s^2}\\sum_{i,j}e^{-i{\\bf q}\\cdot({\\bf r}_i-{\\bf r}_j)}\\langle n_in_j\\rangle\n",
    "\\end{align}\n",
    "where $N_s$ is the number of sites, and ${\\bf r}_i$ is the two-dimensional indices of the $i$-th site.\n",
    "\n",
    "<center><img src=\"SSlattice.png\" alt=\"drawing\" style=\"width:350px;\"/><img src=\"phases_SS_lattice.png\" alt=\"phases of SS lattice\" width=\"400\"/><img src=\"structure_factors.png\" alt=\"phases of SS lattice\" width=\"800\"/>\n",
    "\n",
    "\n",
    "Here, we are interested in simulating the phase transition of the SS lattice with Rydberg atoms. In particular, we will demonstrate how to use Amazon Braket Hybrid Jobs to parallelize multiple simulation tasks for speeding up the simulation. \n"
   ]
  },
  {
   "cell_type": "markdown",
   "id": "c627b2c1-b7c4-4724-beb4-aff3acc5883e",
   "metadata": {},
   "source": [
    "### Register for SS lattice\n",
    "\n",
    "Similar to the simulation of Bell state, in order to simulate a given SS lattice, we will first need to specify the locations of the atoms that correspond to the vertices in the SS lattice. For convenience, we define a function `get_SS_lattice` that takes in the two ratios $V_2/V_1$ (`V2_over_V1`) and $\\Delta/V_1$ (`Delta_over_V1`) and outputs the register for the SS lattice and `filter_atoms`, the indices for the boundary atoms. As we have seen from the presentations, the boundary atoms serve to stabilize the phase (`phase`) we want to realize. Because we will simulate the SS lattice on the Aquila lattice, the lattice need to satisfy certain contraints, such as the row spacing in the lattice have to be larger than certain value (`Dmin`). "
   ]
  },
  {
   "cell_type": "code",
   "execution_count": null,
   "id": "89d19f9d-cd24-4290-839e-2deddf840d51",
   "metadata": {
    "tags": []
   },
   "outputs": [],
   "source": [
    "import numpy as np\n",
    "\n",
    "from braket.ahs.atom_arrangement import AtomArrangement\n",
    "from ahs_utils import show_register, show_global_drive, plot_avg_density_2D\n",
    "\n",
    "from SSLattice import check_geometry_fit_constraints, CheckOmegaAndDelta, get_SS_lattice_coords_filter_atoms\n",
    "\n",
    "def get_SS_lattice(\n",
    "    Nx: int, \n",
    "    Ny: int, \n",
    "    V2_over_V1: float = 1.0, \n",
    "    Delta_over_V1: float = 2.0, \n",
    "    Dmin = 2.0e-6, \n",
    "    phase: str=\"1/3\", \n",
    "    check_lattice_validity=True\n",
    "):\n",
    "    \"\"\"\n",
    "    Create a SS lattice for the specified phase\n",
    "    \n",
    "    Args:\n",
    "        Nx (int): The number of atoms along the x direction (meters)\n",
    "        Ny (int): The number of atoms along the y direction (meters)\n",
    "        V2_over_V1 (float): The ratio of the vectors V2 and V1. Default is 1.0. (unitless)\n",
    "        Delta_over_V1 (float): The ratio of final detuning with V1. Default is 2.0. (unitless)\n",
    "        Dmin (float): The minimum row spacing. Default is 2.0e-6. (meters)\n",
    "        phase (string): The phase realized on the SS lattice, either \"1/3\" or \"2/5\". Default is \"1/3\"\n",
    "        check_lattice_validity (bool): If True, check if the lattice can be realized on the Aquila device. Default is True.\n",
    "        \n",
    "    Returns:\n",
    "        register (AtomArrangement): The atom arrangement for the SS lattice\n",
    "        filter_atoms (List[Int]): The indices for the boundary atoms\n",
    "    \"\"\"    \n",
    "    \n",
    "    assert phase in [\"1/3\", \"2/5\"]\n",
    "    \n",
    "    coords, filter_atoms = get_SS_lattice_coords_filter_atoms(Nx, Ny, V2_over_V1, Delta_over_V1, Dmin, phase)\n",
    "    \n",
    "    # An AtomArrangement object is realized by\n",
    "    # putting in the coordinates of the atoms\n",
    "    register = AtomArrangement()\n",
    "    for coord in coords:\n",
    "        register.add(coord)    \n",
    "    \n",
    "    # Check Geometry Constraints\n",
    "    if check_lattice_validity:\n",
    "        check_geometry_fit_constraints(register)    \n",
    "    \n",
    "    return register, filter_atoms\n",
    "    "
   ]
  },
  {
   "cell_type": "markdown",
   "id": "fd268591-5d38-4a28-a108-492141767324",
   "metadata": {},
   "source": [
    "Below we show two example atom arrangments for the 2/5 and 1/3 phases respectively"
   ]
  },
  {
   "cell_type": "code",
   "execution_count": null,
   "id": "a32c3270-eb7f-4025-bb16-2a3a26f1c30b",
   "metadata": {
    "tags": []
   },
   "outputs": [],
   "source": [
    "## Define the lattice for the 2/5 phase\n",
    "\n",
    "Nx, Ny = 8, 9\n",
    "V2_over_V1 = 1.0\n",
    "Delta_over_V1 = 2.5\n",
    "Dmin = 2.1e-6\n",
    "\n",
    "register_25, filter_atoms_25 = get_SS_lattice(Nx, Ny, phase=\"2/5\", V2_over_V1=V2_over_V1, Delta_over_V1=Delta_over_V1, Dmin=Dmin)\n",
    "print(f\"The indices for the boundary atoms of the 2/5 phase = {filter_atoms_25}\")\n",
    "show_register(register_25)\n"
   ]
  },
  {
   "cell_type": "code",
   "execution_count": null,
   "id": "82d30222-3ff6-40cd-834e-8ffc8f956618",
   "metadata": {
    "tags": []
   },
   "outputs": [],
   "source": [
    "## Define the lattice for the 1/3 phase\n",
    "\n",
    "Nx, Ny = 8, 8\n",
    "V2_over_V1 = 1.25\n",
    "Delta_over_V1 = 1.5\n",
    "Dmin = 2.18e-6\n",
    "\n",
    "register_13, filter_atoms_13 = get_SS_lattice(Nx, Ny, phase=\"1/3\", V2_over_V1=V2_over_V1, Delta_over_V1=Delta_over_V1, Dmin=Dmin)\n",
    "print(f\"The indices for the boundary atoms of the 1/3 phase = {filter_atoms_13}\")\n",
    "show_register(register_13)\n"
   ]
  },
  {
   "cell_type": "markdown",
   "id": "5cf22dfc-6ae0-408d-be84-9ed303b3ee03",
   "metadata": {},
   "source": [
    "### Driving field for SS lattice\n",
    "\n",
    "Once the register for a SS lattice is defined, all the atoms are initialized to the ground states at the beginning of the quantum evolution. In order to realize the specified phase, we define a driving field that adiabatically evolve the system to the desired ground state, where certain atoms in the SS lattice are excited to the Rydberg states. Besides `V2_over_V1`, `Delta_over_V1` and `Dmin`, the parameters that determine the phase of interest, the driving field also depends on the parameter `Rb_over_R1`, which specifies the maximum Rabi frequency of the Hamiltonian. \n"
   ]
  },
  {
   "cell_type": "code",
   "execution_count": null,
   "id": "56cd415b-8382-4605-8284-d8d638dd5838",
   "metadata": {
    "tags": []
   },
   "outputs": [],
   "source": [
    "from braket.timings.time_series import TimeSeries\n",
    "from braket.ahs.driving_field import DrivingField\n",
    "\n",
    "from SSLattice import get_drive_params\n",
    "\n",
    "def get_drive(V2_over_V1: float = 1.1, Delta_over_V1: float = 2.0, Dmin = 2.08e-6, Rb_over_R1 = 1.1, check_drive_validity=True):\n",
    "    \"\"\"\n",
    "    Create a time dependent Hamiltonian\n",
    "    \n",
    "    Args:\n",
    "        V2_over_V1 (float): The ratio of the vectors V2 and V1. Default is 1.1 (unitless)\n",
    "        Delta_over_V1 (float): The ratio of final detuning with V1. Default is 2.0 (unitless)\n",
    "        Dmin (float): The minimum row spacing (meters)\n",
    "        Rb_over_R1 (float): The parameter determines the maximum Rabi frequency and the Rydberg blockade radius (unitless)\n",
    "        check_drive_validity (bool): If True, check if the drive can be realized on the Aquila device. Default is True.\n",
    "        \n",
    "    Returns:\n",
    "        drive (DrivingField): The time dependent Hamiltonian\n",
    "    \"\"\"    \n",
    "\n",
    "    Omega, Delta_start, Delta_end = get_drive_params(V2_over_V1, Delta_over_V1, Dmin, Rb_over_R1, check_drive_validity=check_drive_validity)\n",
    "        \n",
    "    \n",
    "    # To define a DrivingField object, \n",
    "    # we specify its parameters,\n",
    "    # amplitude, phase and detuing\n",
    "    # as time-value pairs\n",
    "    \n",
    "    time_max = 4e-6\n",
    "    time_ramp = 2.5e-07    \n",
    "    \n",
    "    delta = TimeSeries()\n",
    "    delta.put(0.0, Delta_start)\n",
    "    delta.put(time_ramp, Delta_start)\n",
    "    delta.put(time_max - time_ramp, Delta_end)\n",
    "    delta.put(time_max, Delta_end)    \n",
    "\n",
    "    omega = TimeSeries()\n",
    "    omega.put(0.0, 0.0)\n",
    "    omega.put(time_ramp, Omega)\n",
    "    omega.put(time_max - time_ramp, Omega)\n",
    "    omega.put(time_max, 0.0)\n",
    "    \n",
    "    phi = TimeSeries().put(0.0, 0.0).put(time_max, 0.0)\n",
    "\n",
    "    drive = DrivingField(amplitude=omega, phase=phi, detuning=delta)\n",
    "    \n",
    "    return drive"
   ]
  },
  {
   "cell_type": "markdown",
   "id": "c10e948e-b76e-4b57-b4b6-b4ff5e6f8779",
   "metadata": {},
   "source": [
    "Below, we show one example of the driving field. Here `amplitude`, `detuning` and `phase` correspond to the time dependent parameters in $H(t)$ defined above."
   ]
  },
  {
   "cell_type": "code",
   "execution_count": null,
   "id": "d875ef5c-c921-4894-b1e8-69482274fd0e",
   "metadata": {
    "tags": []
   },
   "outputs": [],
   "source": [
    "drive = get_drive()\n",
    "show_global_drive(drive)"
   ]
  },
  {
   "cell_type": "markdown",
   "id": "e82e765a-0a27-4e98-a807-e46fc8b23f1a",
   "metadata": {},
   "source": [
    "### Probe the phase transitions of SS lattices with tensor nework simulation using Braket hybrid jobs\n",
    "\n",
    "With the register and driving field defined, we are ready to realize different phases of the SS lattice. In particular, we are interested in studying the phase transtion of the SS lattice, by varying $\\Delta/V_1$ for both the 1/3 and 2/5 phases, followed by measuring the respective order parameters. Since each simulation, with different value of $\\Delta/V_1$, is independent from the others, we can run these simulation tasks in parallel. In particular, we will use Amazon Braket Hybrid Jobs to parallelize the tasks on a large instance to speed up our simulation.\n",
    "\n",
    "We first define the tasks for 1/3 and 2/5 phases with different values of $\\Delta/V_1$."
   ]
  },
  {
   "cell_type": "code",
   "execution_count": null,
   "id": "a0d129d0-a423-4b57-abea-083ff99391f3",
   "metadata": {
    "tags": []
   },
   "outputs": [],
   "source": [
    "def get_programs_and_filter_atoms(\n",
    "    phase:str, \n",
    "    params:list, \n",
    "    Delta_over_V1range: list, \n",
    "    check_lattice_validity: bool=True,\n",
    "    check_drive_validity: bool=True\n",
    "):\n",
    "    \"\"\"\n",
    "    Create an AHS program for the given phase and parameters\n",
    "    \n",
    "    Args:\n",
    "        phase (str): The phase of interest\n",
    "        params (list): The parameters for the phase\n",
    "        Delta_over_V1range (list): A list of varying Delta_over_V1 (the ratio between Delta and V1)\n",
    "        check_lattice_validity (bool): If True, check if the lattice can be realized on the Aquila device. Default is True.\n",
    "        check_drive_validity (bool): If True, check if the drive can be realized on the Aquila device. Default is True.\n",
    "        \n",
    "    Returns:\n",
    "        program (AnalogHamiltonianSimulation): The AHS program for the phase\n",
    "        filter_atoms (List[Int]): The indices for the boundary atoms\n",
    "        \n",
    "    Example:\n",
    "        >>> params = (8, 8, 1.0, 2.0e-6)\n",
    "        >>> phase = \"1/3\"\n",
    "        >>> programs, filter_atoms = get_programs_and_filter_atoms(phase, params, [1.0])\n",
    "    \"\"\"    \n",
    "        \n",
    "        \n",
    "    (Nx, Ny, V2_over_V1, Dmin) = params\n",
    "\n",
    "    programs = []\n",
    "    for Delta_over_V1 in Delta_over_V1range:\n",
    "\n",
    "        # `filter_atoms` is the same for different values of Delta_over_V1\n",
    "        register, filter_atoms = get_SS_lattice(\n",
    "            Nx, Ny, \n",
    "            phase=phase, \n",
    "            V2_over_V1=V2_over_V1, \n",
    "            Delta_over_V1=Delta_over_V1, \n",
    "            Dmin=Dmin, \n",
    "            check_lattice_validity=check_lattice_validity\n",
    "        )\n",
    "        drive = get_drive(\n",
    "            V2_over_V1=V2_over_V1, \n",
    "            Delta_over_V1=Delta_over_V1, \n",
    "            Dmin=Dmin, \n",
    "            check_drive_validity=check_drive_validity\n",
    "        )\n",
    "        program = AnalogHamiltonianSimulation(register=register, hamiltonian=drive)\n",
    "        programs.append(program)\n",
    "    \n",
    "    return programs, filter_atoms"
   ]
  },
  {
   "cell_type": "code",
   "execution_count": null,
   "id": "00ddca1c-9e05-4675-aeee-845551026d07",
   "metadata": {
    "tags": []
   },
   "outputs": [],
   "source": [
    "Delta_over_V1range = np.linspace(0, 4, 10)\n",
    "\n",
    "# Define the programs for the 1/3 phase\n",
    "Nx, Ny = 8, 8\n",
    "V2_over_V1_13 = 1.25\n",
    "Dmin = 2.18e-6\n",
    "\n",
    "params_13 = (Nx, Ny, V2_over_V1_13, Dmin)\n",
    "programs_13, filter_atoms_13 = get_programs_and_filter_atoms(\"1/3\", params_13, Delta_over_V1range, False, False) ;\n",
    "\n",
    "# Define the programs for the 2/5 phase\n",
    "Nx, Ny = 8, 9\n",
    "V2_over_V1_25 = 1.0\n",
    "Dmin = 2.00e-6\n",
    "\n",
    "params_25 = (Nx, Ny, V2_over_V1_25, Dmin)\n",
    "programs_25, filter_atoms_25 = get_programs_and_filter_atoms(\"2/5\", params_25, Delta_over_V1range, False, False) ;"
   ]
  },
  {
   "cell_type": "markdown",
   "id": "f9c86a5f-88e7-40ac-95d9-288d27dc15e2",
   "metadata": {},
   "source": [
    "Next we define the function `get_job_phase_transition` which parallelizes the simulation for a given phase (either 1/3 or 2/5 phase) on the instance `\"ml.c4.8xlarge\"`. Please refer to [this page](https://docs.aws.amazon.com/braket/latest/developerguide/braket-jobs-configure-job-instance-for-script.html) for detailed descriptions of all the instance available."
   ]
  },
  {
   "cell_type": "code",
   "execution_count": null,
   "id": "a171e687-2044-4536-8c9e-8cc0ededd22c",
   "metadata": {
    "tags": []
   },
   "outputs": [],
   "source": [
    "from braket.jobs import hybrid_job\n",
    "from braket.devices import LocalSimulator\n",
    "from braket.jobs.config import InstanceConfig\n",
    "import multiprocessing as mp\n",
    "\n",
    "import boto3\n",
    "account_id = boto3.client(\"sts\").get_caller_identity()[\"Account\"]\n",
    "\n",
    "image_uri = f\"{account_id}.dkr.ecr.us-east-1.amazonaws.com/amazon-braket-qcup:latest\"\n",
    "instance_type = \"ml.c4.8xlarge\"\n",
    "instance_config=InstanceConfig(instanceType=instance_type)\n",
    "\n",
    "@hybrid_job(device=\"\", image_uri=image_uri, instance_config=instance_config)\n",
    "def get_job_phase_transition(programs):\n",
    "\n",
    "    tn_simulator = LocalSimulator('braket_ahs_tn')\n",
    "    \n",
    "    with mp.Pool(min(mp.cpu_count(), len(programs))) as pool:\n",
    "        tasks = pool.map(tn_simulator.run, programs)\n",
    "        \n",
    "    return [task.result() for task in tasks]"
   ]
  },
  {
   "cell_type": "markdown",
   "id": "902375af-d428-46b7-825f-ce89bec7bd30",
   "metadata": {},
   "source": [
    "<div class=\"alert alert-block alert-info\">\n",
    "The message will appear when we are using custom image instead of the default image for Jobs. Here we have make sure that the python version in the local environment matches that of the container.\n",
    "</div>\n"
   ]
  },
  {
   "cell_type": "markdown",
   "id": "e338f7d1-7737-4ac3-8a3f-f26fae4effd0",
   "metadata": {},
   "source": [
    "We proceed to submit two jobs, for the 1/3 and 2/5 phases, respectively."
   ]
  },
  {
   "cell_type": "code",
   "execution_count": null,
   "id": "6c7b2e8f-1908-465f-9daf-3898fb100aef",
   "metadata": {
    "tags": []
   },
   "outputs": [],
   "source": [
    "job_13 = get_job_phase_transition(programs_13)\n",
    "job_25 = get_job_phase_transition(programs_25)"
   ]
  },
  {
   "cell_type": "markdown",
   "id": "209c65aa-7dcb-4a6c-a78d-8cf076ad1da8",
   "metadata": {},
   "source": [
    "For convience, we print out the ARN and the status of the jobs"
   ]
  },
  {
   "cell_type": "code",
   "execution_count": null,
   "id": "0f11351d-f690-4a31-89d7-cf3f40a7c801",
   "metadata": {
    "tags": []
   },
   "outputs": [],
   "source": [
    "print(\"For the 2/5 phase\")\n",
    "print(f\"ARN: {job_25.arn}\")\n",
    "print(f\"status: {job_25.state()}\")\n",
    "\n",
    "print(\"For the 1/3 phase\")\n",
    "print(f\"ARN: {job_13.arn}\")\n",
    "print(f\"status: {job_13.state()}\")"
   ]
  },
  {
   "cell_type": "markdown",
   "id": "4cc1788e-6624-4f62-aeed-219875de028c",
   "metadata": {},
   "source": [
    "Suppose we have lost the connection to the notebook, the job can always be recovered from its ARN. For example,\n",
    "```\n",
    "from braket.aws.aws_quantum_job import AwsQuantumJob\n",
    "job_13 = AwsQuantumJob(arn=\"arn:aws:braket:us-east-1:000000000000:job/xxxxxxx\")\n",
    "job_25 = AwsQuantumJob(arn=\"arn:aws:braket:us-east-1:000000000000:job/yyyyyyy\")\n",
    "```\n",
    "\n",
    "Once the jobs are completed, we can retrieve their results."
   ]
  },
  {
   "cell_type": "code",
   "execution_count": null,
   "id": "1a8cc016-fab9-4599-a676-f7313fc81edb",
   "metadata": {
    "tags": []
   },
   "outputs": [],
   "source": [
    "%%time\n",
    "\n",
    "results_13 = job_13.result()['result']\n",
    "results_25 = job_25.result()['result']"
   ]
  },
  {
   "cell_type": "markdown",
   "id": "e0c53177-97bd-440d-a62d-6a6dde25cfca",
   "metadata": {},
   "source": [
    "We will visualize the phase transition by plotting the change of the average densities, and the order parameters, as a function of $\\Delta/V_1$."
   ]
  },
  {
   "cell_type": "code",
   "execution_count": null,
   "id": "29eacc19-49f9-4416-8f72-2facde8ed5c2",
   "metadata": {
    "tags": []
   },
   "outputs": [],
   "source": [
    "import matplotlib.pyplot as plt\n",
    "from SSLattice import analyze\n",
    "\n",
    "def visualize_phase_transition(V2_over_V1, results, params, programs, filter_atoms, Delta_over_V1range=Delta_over_V1range):\n",
    "    (Nx, Ny, _, _) = params\n",
    "    order_params_13, order_params_25 = [], []\n",
    "    for ind, (result, program) in enumerate(zip(results, programs)):\n",
    "        \n",
    "        # Here, `analyze` calculates the 1/3 and 2/5 order parameters\n",
    "        # and plot the average Rydberg density and the structure factors\n",
    "        Delta_over_V1 = Delta_over_V1range[ind]\n",
    "        order_param_13, order_param_25 = analyze(Nx, Ny, result, program, filter_atoms, Delta_over_V1)\n",
    "        order_params_13.append(order_param_13)\n",
    "        order_params_25.append(order_param_25)\n",
    "        \n",
    "    plt.plot(Delta_over_V1range, order_params_13, label=\"1/3 order parameter\")\n",
    "    plt.plot(Delta_over_V1range, order_params_25, label=\"2/5 order parameter\")\n",
    "    plt.xlabel(r'$\\Delta/V_1$')\n",
    "    plt.ylabel('Order parameters')\n",
    "    plt.title(f'Order parameters at V2/V1 = {V2_over_V1}')\n",
    "    plt.legend()"
   ]
  },
  {
   "cell_type": "code",
   "execution_count": null,
   "id": "f22adc6b-d3cc-4954-8d64-b909bbd650ab",
   "metadata": {
    "tags": []
   },
   "outputs": [],
   "source": [
    "visualize_phase_transition(V2_over_V1_13, results_13, params_13, programs_13, filter_atoms_13)"
   ]
  },
  {
   "cell_type": "markdown",
   "id": "1b994ff3-79c3-4c60-a6f8-71e69fdfe9ea",
   "metadata": {},
   "source": [
    "We observe that the signatures of the 1/3 phase, including the peaks in the Fourier transform and 1/3 order parameters, become prominent at around $\\Delta/V_1=1.0$, and drop quickly after $\\Delta/V_1=2.5$. The 2/5 order surpasses the 1/3 order at around $\\Delta/V_1=3.2$ which signifies a phase transition from the 1/3 to 2/5 phase. Recall we have fixed ratio $V_2/V_1=1.25$ in this set of simulation, the observed phase transition agrees qualitatively from the phase diagram, as shown below.\n",
    "\n",
    "<center><img src=\"phases_SS_lattice_13.png\" alt=\"drawing\" style=\"width:350px;\"/>"
   ]
  },
  {
   "cell_type": "code",
   "execution_count": null,
   "id": "dcd46b45-542b-4d75-b518-5b871c7111c4",
   "metadata": {
    "tags": []
   },
   "outputs": [],
   "source": [
    "visualize_phase_transition(V2_over_V1_25, results_25, params_25, programs_25, filter_atoms_25)"
   ]
  },
  {
   "cell_type": "markdown",
   "id": "0d68a7fc-1100-48b9-85bb-c442e48b1820",
   "metadata": {},
   "source": [
    "Similarly, we observe that the signatures of the 2/5 phase, including the peaks in the Fourier transform and 2/5 order parameters, become prominent at around $\\Delta/V_1=1.5$, and drop slightly after $\\Delta/V_1=3.5$. Recall we have fixed ratio $V_2/V_1=1.0$ in this set of simulation, the observed phase transition agrees qualitatively from the phase diagram, as shown below.\n",
    "\n",
    "<center><img src=\"phases_SS_lattice_25.png\" alt=\"drawing\" style=\"width:350px;\"/>"
   ]
  },
  {
   "cell_type": "markdown",
   "id": "2fba9a4e-cc29-41af-acfe-ead638acd72a",
   "metadata": {},
   "source": [
    "<div class=\"alert alert-block alert-info\">\n",
    "Exercise 2: Adjust the parameters `V2_over_V1` and rerun the jobs for different phases\n",
    "    \n",
    "Exercise 3: Adjust the parameters in the driving field, such as its duration, and rerun the jobs for different phases\n",
    "</div>\n"
   ]
  },
  {
   "cell_type": "markdown",
   "id": "959b6c82-de6b-4044-bc60-0d6190765166",
   "metadata": {},
   "source": [
    "## Simulation of Shastry-Sutherland lattice with QuEra's Aquila device\n",
    "\n",
    "In previous sections, we have used classical simulators to simulate the phases of the SS lattice. Here we switch gear and show how to simulate these phases on QuEra's Aquila device. We could use the same AHS programs defined above, and simply replace the backend from classical simulator to the QPU. However, in order to showcase the full capabilities of the Aquila device, we will realize the 1/3 and 2/5 phases on bigger lattices."
   ]
  },
  {
   "cell_type": "code",
   "execution_count": null,
   "id": "b39697a6-6164-479e-977d-21fc1c4088ad",
   "metadata": {
    "tags": []
   },
   "outputs": [],
   "source": [
    "Nx, Ny = 8, 14\n",
    "\n",
    "## Define the lattice for the 2/5 phase on taller lattice of size 8x14\n",
    "V2_over_V1 = 0.82\n",
    "Delta_over_V1_25 = 2.5\n",
    "Dmin = 2.00001e-6\n",
    "params_25 = (Nx, Ny, V2_over_V1, Dmin)\n",
    "\n",
    "programs_25, filter_atoms_25 = get_programs_and_filter_atoms(\"2/5\", params_25, [Delta_over_V1_25]) ;\n",
    "program_25 = programs_25[0]\n",
    "\n",
    "## Define the lattice for the 1/3 phase on taller lattice of size 8x14\n",
    "V2_over_V1 = 1.25\n",
    "Delta_over_V1_13 = 1.5\n",
    "Dmin = 2.18e-6\n",
    "params_13 = (Nx, Ny, V2_over_V1, Dmin)\n",
    "\n",
    "programs_13, filter_atoms_13 = get_programs_and_filter_atoms(\"1/3\", params_13, [Delta_over_V1_13]) ;\n",
    "program_13 = programs_13[0]"
   ]
  },
  {
   "cell_type": "markdown",
   "id": "c6d10af6-f961-4e07-93e3-8d5ece8c3b6f",
   "metadata": {},
   "source": [
    "<div class=\"alert alert-block alert-info\">\n",
    "Here we have used the experimental capabilities of the Aquila device, namely the \"Tall geometries\" and \"Tight geometries\", which provides more flexibilities for defining atomic arrays. In order to get access to these experimental capabilities, one will need to explicitly enable them through the Amazon Braket console.\n",
    "</div>\n"
   ]
  },
  {
   "cell_type": "markdown",
   "id": "cbc07720-eba6-47c4-ad38-a31d3b507134",
   "metadata": {},
   "source": [
    "Below we show how to use Hybrid Jobs to run tasks on the Aquila device. We will run the two programs on Aquila device with 100 shots each. Note that, in order to satisfy the resolution requirements of the device, we will need to discretize the program before the submission."
   ]
  },
  {
   "cell_type": "code",
   "execution_count": null,
   "id": "0f8dc520-d242-40f9-af03-115701b0a71d",
   "metadata": {
    "tags": []
   },
   "outputs": [],
   "source": [
    "from braket.aws import AwsDevice\n",
    "from braket.devices import Devices\n",
    "\n",
    "device_arn = Devices.QuEra.Aquila\n",
    "\n",
    "@hybrid_job(device=device_arn)\n",
    "def get_job_13_25_phases(program_13, program_25, shots):\n",
    "    qpu = AwsDevice(device_arn)\n",
    "\n",
    "    qpu_task_25 = qpu.run(program_25.discretize(qpu), shots=shots)\n",
    "    qpu_task_13 = qpu.run(program_13.discretize(qpu), shots=shots)\n",
    "    \n",
    "    result_qpu_25 = qpu_task_25.result()\n",
    "    result_qpu_13 = qpu_task_13.result()\n",
    "    \n",
    "    return result_qpu_13, result_qpu_25\n"
   ]
  },
  {
   "cell_type": "code",
   "execution_count": null,
   "id": "4adf6e31-ecd5-45f9-86dd-d572e9201b23",
   "metadata": {
    "tags": []
   },
   "outputs": [],
   "source": [
    "shots = 100\n",
    "job_aquila = get_job_13_25_phases(program_13, program_25, shots)\n",
    "\n",
    "print(\"For the job running on Aquila\")\n",
    "print(f\"ARN: {job_aquila.arn}\")\n",
    "print(f\"status: {job_aquila.state()}\")"
   ]
  },
  {
   "cell_type": "markdown",
   "id": "679682cc-3456-4e24-bc18-4d1d0fc6ead2",
   "metadata": {},
   "source": [
    "Again, suppose we have lost the connection to the notebook, the job can always be recovered from its ARN as\n",
    "```\n",
    "from braket.aws.aws_quantum_job import AwsQuantumJob\n",
    "job_aquila = AwsQuantumJob(arn=\"arn:aws:braket:us-east-1:000000000000:job/xxxxxxx\")\n",
    "```\n",
    "\n",
    "The runtime for the above job depends on the length of the queue for the Aquila device. Once the job is completed, we can retrieve its result as follows."
   ]
  },
  {
   "cell_type": "code",
   "execution_count": null,
   "id": "4fd4beaf-2bac-45ee-9fb2-1f43b13198e7",
   "metadata": {
    "tags": []
   },
   "outputs": [],
   "source": [
    "result_qpu_13, result_qpu_25 = job_aquila.result()['result']"
   ]
  },
  {
   "cell_type": "code",
   "execution_count": null,
   "id": "a8eca3b4-0712-4d75-a221-62c09f3bd1ce",
   "metadata": {
    "tags": []
   },
   "outputs": [],
   "source": [
    "order_param_13, order_param_25 = analyze(Nx, Ny, result_qpu_25, program_25, filter_atoms_25, Delta_over_V1_25)\n",
    "print(f\"order_param_13 = {order_param_13}\\norder_param_25 = {order_param_25}\")"
   ]
  },
  {
   "cell_type": "code",
   "execution_count": null,
   "id": "2d54b892-2d39-443a-b8e2-08b23b793313",
   "metadata": {
    "tags": []
   },
   "outputs": [],
   "source": [
    "order_param_13, order_param_25 = analyze(Nx, Ny, result_qpu_13, program_13, filter_atoms_13, Delta_over_V1_13)\n",
    "print(f\"order_param_13 = {order_param_13}\\norder_param_25 = {order_param_25}\")"
   ]
  },
  {
   "cell_type": "markdown",
   "id": "1a9893ac-b848-47d6-83b0-a285d4da8321",
   "metadata": {},
   "source": [
    "From the above figures, we can see the signatures of both the 2/5 and 1/3 phases for the SS lattice, realized on the Aquila device."
   ]
  },
  {
   "cell_type": "markdown",
   "id": "bc06c252-18fc-4469-b6f5-ca30efad3397",
   "metadata": {},
   "source": [
    "<div class=\"alert alert-block alert-info\">\n",
    "Exercise 4: Submit a job <em>without</em> discretizing it with respect to the QPU. What did you see and why?\n",
    "    \n",
    "Exercise 5: Vary the parameters and resubmit the jobs\n",
    "</div>\n"
   ]
  },
  {
   "cell_type": "markdown",
   "id": "02f5bd85-02e3-45a5-952a-d3f33efd97ca",
   "metadata": {},
   "source": [
    "## Summary\n",
    "In this notebook, we have demonstrated several methods to simulate the phases of the SS lattice on Amazon Braket, including using local simulator, hybrid jobs and QuEra's Aquila device. For the interested readers, they are encouraged to check out [more AHS examples](https://github.com/amazon-braket/amazon-braket-examples/tree/main/examples/analog_hamiltonian_simulation) in the [amazon-braket-examples repository](https://github.com/amazon-braket/amazon-braket-examples), and research highlightes in [AWS Quantum Technologies Blog](https://aws.amazon.com/blogs/quantum-computing/).\n",
    "\n",
    "<div class=\"alert alert-block alert-info\"> \n",
    "<b>You have access to this environment for the rest of the week. We encourage you to use it to explore Amazon Braket at your own pace. We are here for the rest of the day to help you. Please don't hesitate to approach us.</b>\n",
    "</div>"
   ]
  }
 ],
 "metadata": {
  "kernelspec": {
   "display_name": "conda_braket",
   "language": "python",
   "name": "conda_braket"
  },
  "language_info": {
   "codemirror_mode": {
    "name": "ipython",
    "version": 3
   },
   "file_extension": ".py",
   "mimetype": "text/x-python",
   "name": "python",
   "nbconvert_exporter": "python",
   "pygments_lexer": "ipython3",
   "version": "3.10.14"
  }
 },
 "nbformat": 4,
 "nbformat_minor": 5
}
