{
 "cells": [
  {
   "cell_type": "code",
   "execution_count": 23,
   "id": "b8482331-b4d0-473a-9de8-76df7c4dcef7",
   "metadata": {},
   "outputs": [
    {
     "name": "stdout",
     "output_type": "stream",
     "text": [
      "perceval ver: 0.12.0\n"
     ]
    }
   ],
   "source": [
    "import os\n",
    "import numpy as np\n",
    "import perceval as pcvl\n",
    "from time import time\n",
    "## Use the symbolic skin for display\n",
    "from perceval.rendering import DisplayConfig, SymbSkin\n",
    "DisplayConfig.select_skin(SymbSkin)\n",
    "\n",
    "print('perceval ver:',pcvl.__version__)\n",
    "#token = os.environ.get('MY_QUANDELA_TOKEN')\n",
    "#assert token!=None\n",
    "#pcvl.save_token(token)"
   ]
  },
  {
   "cell_type": "code",
   "execution_count": 28,
   "id": "74b19d5c-e082-4fd5-9448-9a3a9161046a",
   "metadata": {},
   "outputs": [
    {
     "data": {
      "text/plain": [
       "'\\nt_del=3\\nproc.add(0,pcvl.PS(np.pi))\\nproc.add(1,pcvl.BS())\\nfor iq in range(2*nq):\\n    proc.add(iq,pcvl.TD(t_del))\\n'"
      ]
     },
     "execution_count": 28,
     "metadata": {},
     "output_type": "execute_result"
    }
   ],
   "source": [
    "# define circuit 1 \n",
    "nq=2\n",
    "circuit= pcvl.Circuit(2*nq) \n",
    "proc = pcvl.Processor(\"SLOS\", circuit)\n",
    "for iq in range(2*nq):\n",
    "    proc.add(iq,pcvl.PS(np.pi+iq/5.))\n",
    "\n",
    "'''\n",
    "t_del=3\n",
    "proc.add(0,pcvl.PS(np.pi))\n",
    "proc.add(1,pcvl.BS())\n",
    "for iq in range(2*nq):\n",
    "    proc.add(iq,pcvl.TD(t_del))\n",
    "'''\n"
   ]
  },
  {
   "cell_type": "code",
   "execution_count": 25,
   "id": "aa15feba-2ec4-44fc-a0a9-0cf754da4d9a",
   "metadata": {},
   "outputs": [
    {
     "name": "stdout",
     "output_type": "stream",
     "text": [
      "\n",
      "|1,0,1,0>\n"
     ]
    },
    {
     "data": {
      "image/svg+xml": [
       "<?xml version=\"1.0\" encoding=\"UTF-8\"?>\n",
       "<svg xmlns=\"http://www.w3.org/2000/svg\" xmlns:xlink=\"http://www.w3.org/1999/xlink\"\n",
       "     width=\"238.125\" height=\"281.25\" viewBox=\"-62.5 0 190.5 225.0\">\n",
       "<defs>\n",
       "</defs>\n",
       "<path d=\"M10,25.0 L25,25.0\" stroke-width=\"1\" stroke=\"black\" stroke-linejoin=\"miter\" fill=\"none\" />\n",
       "<path d=\"M10,75.0 L25,75.0\" stroke-width=\"1\" stroke=\"black\" stroke-linejoin=\"miter\" fill=\"none\" />\n",
       "<path d=\"M10,125.0 L25,125.0\" stroke-width=\"1\" stroke=\"black\" stroke-linejoin=\"miter\" fill=\"none\" />\n",
       "<path d=\"M10,175.0 L25,175.0\" stroke-width=\"1\" stroke=\"black\" stroke-linejoin=\"miter\" fill=\"none\" />\n",
       "<path d=\"M25,25 L45,25 M55,25 L75,25\" stroke-width=\"1\" stroke=\"black\" stroke-linejoin=\"miter\" fill=\"none\" />\n",
       "<path d=\"M40,15 L60,15 L60,35 L40,35 Z\" stroke=\"black\" fill=\"lightgray\" stroke-linejoin=\"miter\" />\n",
       "<text x=\"50\" y=\"44\" font-size=\"7\" text-anchor=\"middle\">Φ=pi</text>\n",
       "<path d=\"M25,75 L45,75 M55,75 L75,75\" stroke-width=\"1\" stroke=\"black\" stroke-linejoin=\"miter\" fill=\"none\" />\n",
       "<path d=\"M40,65 L60,65 L60,85 L40,85 Z\" stroke=\"black\" fill=\"lightgray\" stroke-linejoin=\"miter\" />\n",
       "<text x=\"50\" y=\"94\" font-size=\"7\" text-anchor=\"middle\">Φ=3.341593</text>\n",
       "<path d=\"M25,125 L45,125 M55,125 L75,125\" stroke-width=\"1\" stroke=\"black\" stroke-linejoin=\"miter\" fill=\"none\" />\n",
       "<path d=\"M40,115 L60,115 L60,135 L40,135 Z\" stroke=\"black\" fill=\"lightgray\" stroke-linejoin=\"miter\" />\n",
       "<text x=\"50\" y=\"144\" font-size=\"7\" text-anchor=\"middle\">Φ=3.541593</text>\n",
       "<path d=\"M25,175 L45,175 M55,175 L75,175\" stroke-width=\"1\" stroke=\"black\" stroke-linejoin=\"miter\" fill=\"none\" />\n",
       "<path d=\"M40,165 L60,165 L60,185 L40,185 Z\" stroke=\"black\" fill=\"lightgray\" stroke-linejoin=\"miter\" />\n",
       "<text x=\"50\" y=\"194\" font-size=\"7\" text-anchor=\"middle\">Φ=3.741593</text>\n",
       "<path d=\"M75,25.0 L90,25.0\" stroke-width=\"1\" stroke=\"black\" stroke-linejoin=\"miter\" fill=\"none\" />\n",
       "<path d=\"M75,75.0 L90,75.0\" stroke-width=\"1\" stroke=\"black\" stroke-linejoin=\"miter\" fill=\"none\" />\n",
       "<path d=\"M75,125.0 L90,125.0\" stroke-width=\"1\" stroke=\"black\" stroke-linejoin=\"miter\" fill=\"none\" />\n",
       "<path d=\"M75,175.0 L90,175.0\" stroke-width=\"1\" stroke=\"black\" stroke-linejoin=\"miter\" fill=\"none\" />\n",
       "<path d=\"M-12.5,25 L10.5,25\" stroke=\"black\" stroke-width=\"1\" fill=\"none\" />\n",
       "<path d=\"M-30.5,25 C-30.5,25,-30.5,15,-20.5,15 L-12.5,15 L-12.5,35 L-20.5,35 C-30.5,35,-30.5,25,-30.5,25 L-30.5,25\" stroke-width=\"1\" stroke=\"black\" stroke-linejoin=\"miter\" fill=\"white\" />\n",
       "<text x=\"-20.5\" y=\"28\" font-size=\"7\" text-anchor=\"middle\">1</text>\n",
       "<path d=\"M-12.5,75 L10.5,75\" stroke=\"black\" stroke-width=\"1\" fill=\"none\" />\n",
       "<path d=\"M-30.5,75 C-30.5,75,-30.5,65,-20.5,65 L-12.5,65 L-12.5,85 L-20.5,85 C-30.5,85,-30.5,75,-30.5,75 L-30.5,75\" stroke-width=\"1\" stroke=\"black\" stroke-linejoin=\"miter\" fill=\"white\" />\n",
       "<text x=\"-20.5\" y=\"78\" font-size=\"7\" text-anchor=\"middle\">0</text>\n",
       "<path d=\"M-12.5,125 L10.5,125\" stroke=\"black\" stroke-width=\"1\" fill=\"none\" />\n",
       "<path d=\"M-30.5,125 C-30.5,125,-30.5,115,-20.5,115 L-12.5,115 L-12.5,135 L-20.5,135 C-30.5,135,-30.5,125,-30.5,125 L-30.5,125\" stroke-width=\"1\" stroke=\"black\" stroke-linejoin=\"miter\" fill=\"white\" />\n",
       "<text x=\"-20.5\" y=\"128\" font-size=\"7\" text-anchor=\"middle\">1</text>\n",
       "<path d=\"M-12.5,175 L10.5,175\" stroke=\"black\" stroke-width=\"1\" fill=\"none\" />\n",
       "<path d=\"M-30.5,175 C-30.5,175,-30.5,165,-20.5,165 L-12.5,165 L-12.5,185 L-20.5,185 C-30.5,185,-30.5,175,-30.5,175 L-30.5,175\" stroke-width=\"1\" stroke=\"black\" stroke-linejoin=\"miter\" fill=\"white\" />\n",
       "<text x=\"-20.5\" y=\"178\" font-size=\"7\" text-anchor=\"middle\">0</text>\n",
       "<path d=\"M-2,15 L10,15 L10,35 L-2,35 Z\" stroke=\"black\" fill=\"white\" stroke-linejoin=\"miter\" />\n",
       "<path d=\"M-2,65 L10,65 L10,85 L-2,85 Z\" stroke=\"black\" fill=\"white\" stroke-linejoin=\"miter\" />\n",
       "<path d=\"M-2,115 L10,115 L10,135 L-2,135 Z\" stroke=\"black\" fill=\"white\" stroke-linejoin=\"miter\" />\n",
       "<path d=\"M-2,165 L10,165 L10,185 L-2,185 Z\" stroke=\"black\" fill=\"white\" stroke-linejoin=\"miter\" />\n",
       "<text x=\"100\" y=\"28.0\" font-size=\"6\" text-anchor=\"end\">0</text>\n",
       "<text x=\"100\" y=\"78.0\" font-size=\"6\" text-anchor=\"end\">1</text>\n",
       "<text x=\"100\" y=\"128.0\" font-size=\"6\" text-anchor=\"end\">2</text>\n",
       "<text x=\"100\" y=\"178.0\" font-size=\"6\" text-anchor=\"end\">3</text>\n",
       "<text x=\"0\" y=\"28.0\" font-size=\"6\" text-anchor=\"start\">0</text>\n",
       "<text x=\"0\" y=\"78.0\" font-size=\"6\" text-anchor=\"start\">1</text>\n",
       "<text x=\"0\" y=\"128.0\" font-size=\"6\" text-anchor=\"start\">2</text>\n",
       "<text x=\"0\" y=\"178.0\" font-size=\"6\" text-anchor=\"start\">3</text>\n",
       "</svg>"
      ],
      "text/plain": [
       "<drawsvg.drawing.Drawing at 0x7f68b1eb2c30>"
      ]
     },
     "execution_count": 25,
     "metadata": {},
     "output_type": "execute_result"
    }
   ],
   "source": [
    "# Set up input state\n",
    "inpStr='10'*nq\n",
    "print()\n",
    "inpState='|'+','.join(inpStr) +'>'\n",
    "print(inpState)\n",
    "proc.with_input(pcvl.BasicState(inpState))\n",
    "pcvl.pdisplay(proc)"
   ]
  },
  {
   "cell_type": "code",
   "execution_count": 26,
   "id": "5130766d-33a7-4b53-b759-6d3974fcba08",
   "metadata": {},
   "outputs": [
    {
     "name": "stdout",
     "output_type": "stream",
     "text": [
      "nq=2. elaT=0.0 sec\n"
     ]
    }
   ],
   "source": [
    "# Use the processor with algorithms : 1q: 0.2sec, 2q: 31 sec\n",
    "sampler = pcvl.algorithm.Sampler(proc)\n",
    "T0=time()\n",
    "job = sampler.sample_count(10)  # \n",
    "print('nq=%d. elaT=%.1f sec'%(nq,time()-T0))"
   ]
  },
  {
   "cell_type": "code",
   "execution_count": 27,
   "id": "a07babcc-27d8-4c3d-abb1-3d566ac18048",
   "metadata": {},
   "outputs": [
    {
     "name": "stdout",
     "output_type": "stream",
     "text": [
      "{'results': <exqalibur.BSCount object at 0x7f68b18d6630>, 'physical_perf': 1, 'logical_perf': 0.9999999999999998}\n",
      "|1,0,1,0> 10\n"
     ]
    }
   ],
   "source": [
    "print(job)\n",
    "results = job['results']\n",
    "for k,v in results.items():\n",
    "    print(k,v)"
   ]
  },
  {
   "cell_type": "code",
   "execution_count": null,
   "id": "cf933803-65f5-46b9-b757-8136daef21f7",
   "metadata": {},
   "outputs": [],
   "source": []
  }
 ],
 "metadata": {
  "kernelspec": {
   "display_name": "Python 3 (ipykernel)",
   "language": "python",
   "name": "python3"
  },
  "language_info": {
   "codemirror_mode": {
    "name": "ipython",
    "version": 3
   },
   "file_extension": ".py",
   "mimetype": "text/x-python",
   "name": "python",
   "nbconvert_exporter": "python",
   "pygments_lexer": "ipython3",
   "version": "3.12.3"
  }
 },
 "nbformat": 4,
 "nbformat_minor": 5
}
