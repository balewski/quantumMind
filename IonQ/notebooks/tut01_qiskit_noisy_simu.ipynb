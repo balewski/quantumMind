{
 "cells": [
  {
   "cell_type": "markdown",
   "id": "754ef844-13fd-450d-972d-baf91fd805a0",
   "metadata": {},
   "source": [
    "### Use Qiskit to run Bell-state circuit with ideal and noisy simu as if IonQ Harmony\n",
    "Qiskit intro https://ionq.com/docs/get-started-with-qiskit \n",
    "All jobs are reported : https://cloud.ionq.com/jobs "
   ]
  },
  {
   "cell_type": "code",
   "execution_count": 36,
   "id": "2b9d0df1-101c-4ba7-8a30-c0ebd1ead0df",
   "metadata": {},
   "outputs": [
    {
     "name": "stdout",
     "output_type": "stream",
     "text": [
      "[<IonQSimulatorBackend('ionq_simulator')>, <IonQQPUBackend('ionq_qpu')>]\n"
     ]
    }
   ],
   "source": [
    "from pprint import pprint\n",
    "from time import time\n",
    "from qiskit import QuantumCircuit\n",
    "from qiskit_ionq import IonQProvider\n",
    "provider = IonQProvider()   # Remember to set env IONQ_API_KEY='....'\n",
    "print(provider.backends())  # Show all backends"
   ]
  },
  {
   "cell_type": "code",
   "execution_count": 37,
   "id": "e799c857-3826-4573-8749-5e1e37c40575",
   "metadata": {},
   "outputs": [],
   "source": [
    "# Get IonQ's simulator backend to be used for both: ideal and noisy simulations\n",
    "backend = provider.get_backend(\"ionq_simulator\")"
   ]
  },
  {
   "cell_type": "code",
   "execution_count": 38,
   "id": "1bd5b181-e07a-4f44-8f31-49140c1bef5a",
   "metadata": {},
   "outputs": [
    {
     "name": "stdout",
     "output_type": "stream",
     "text": [
      "     ┌───┐     ┌─┐   \n",
      "q_0: ┤ H ├──■──┤M├───\n",
      "     └───┘┌─┴─┐└╥┘┌─┐\n",
      "q_1: ─────┤ X ├─╫─┤M├\n",
      "          └───┘ ║ └╥┘\n",
      "c: 2/═══════════╩══╩═\n",
      "                0  1 \n",
      "<class 'qiskit_ionq.ionq_job.IonQJob'> counts: {'00': 5069, '11': 4931}\n"
     ]
    }
   ],
   "source": [
    "shots=10000\n",
    "# Create a basic Bell State circuit:\n",
    "qc = QuantumCircuit(2, 2)\n",
    "qc.h(0)\n",
    "qc.cx(0, 1)\n",
    "qc.measure([0, 1], [0, 1])\n",
    "print(qc)\n",
    "# Run the circuit on IonQ's platform:\n",
    "job = backend.run(qc, shots=shots) \n",
    "\n",
    "# Print the counts\n",
    "print(type(job),'counts:',job.get_counts())"
   ]
  },
  {
   "cell_type": "code",
   "execution_count": 39,
   "id": "57be451c-8b58-483b-a9c4-5bb9c044029b",
   "metadata": {},
   "outputs": [],
   "source": [
    "# Setup noise model as one of:\n",
    "simList=['ideal', 'harmony-2', 'aria-1', 'aria-2', 'forte-1']"
   ]
  },
  {
   "cell_type": "code",
   "execution_count": 40,
   "id": "b214218e-c6ee-42d2-9799-ee34e53311c2",
   "metadata": {},
   "outputs": [
    {
     "name": "stdout",
     "output_type": "stream",
     "text": [
      "simu IonQ:ideal ....\n",
      "simu noise=ideal, counts: {'00': 4887, '11': 5113}\n",
      "simu IonQ:harmony-2 ....\n",
      "simu noise=harmony-2, counts: {'00': 4687, '01': 310, '10': 292, '11': 4711}\n",
      "simu IonQ:aria-1 ....\n",
      "simu noise=aria-1, counts: {'00': 5010, '01': 28, '10': 28, '11': 4934}\n",
      "simu IonQ:aria-2 ....\n",
      "simu noise=aria-2, counts: {'00': 4941, '01': 56, '10': 53, '11': 4950}\n",
      "simu IonQ:forte-1 ....\n",
      "simu noise=forte-1, counts: {'00': 4976, '01': 9, '10': 20, '11': 4995}\n"
     ]
    }
   ],
   "source": [
    "for noiseN in simList[:2]:\n",
    "    #noiseN='harmony-1'\n",
    "    print('simu IonQ:%s ....'%noiseN)\n",
    "    job = backend.run(qc, shots=shots, noise_model=noiseN)\n",
    "    print('simu noise=%s, counts:'%noiseN,job.get_counts())"
   ]
  },
  {
   "cell_type": "code",
   "execution_count": 42,
   "id": "e0dc4abf-ef82-4ef5-8005-d2a1f4e1e81a",
   "metadata": {},
   "outputs": [
    {
     "name": "stdout",
     "output_type": "stream",
     "text": [
      "None dc0c2c31-3734-4d38-aa38-798e1f6d1e56\n"
     ]
    }
   ],
   "source": [
    "cal=backend.calibration()\n",
    "jid=job.job_id()\n",
    "print(cal,jid)"
   ]
  },
  {
   "cell_type": "code",
   "execution_count": 43,
   "id": "151e0b73-f4f0-497b-a0bb-f4e71a4c9eb8",
   "metadata": {},
   "outputs": [
    {
     "name": "stdout",
     "output_type": "stream",
     "text": [
      "        ┌───┐      ░ ┌─┐               \n",
      "   q_0: ┤ H ├──■───░─┤M├───────────────\n",
      "        └───┘┌─┴─┐ ░ └╥┘┌─┐            \n",
      "   q_1: ─────┤ X ├─░──╫─┤M├────────────\n",
      "        ┌───┐└───┘ ░  ║ └╥┘┌─┐         \n",
      "   q_2: ┤ H ├──■───░──╫──╫─┤M├─────────\n",
      "        └───┘┌─┴─┐ ░  ║  ║ └╥┘┌─┐      \n",
      "   q_3: ─────┤ X ├─░──╫──╫──╫─┤M├──────\n",
      "        ┌───┐└───┘ ░  ║  ║  ║ └╥┘┌─┐   \n",
      "   q_4: ┤ H ├──■───░──╫──╫──╫──╫─┤M├───\n",
      "        └───┘┌─┴─┐ ░  ║  ║  ║  ║ └╥┘┌─┐\n",
      "   q_5: ─────┤ X ├─░──╫──╫──╫──╫──╫─┤M├\n",
      "             └───┘ ░  ║  ║  ║  ║  ║ └╥┘\n",
      "meas: 6/══════════════╩══╩══╩══╩══╩══╩═\n",
      "                      0  1  2  3  4  5 \n",
      "<class 'qiskit_ionq.ionq_job.IonQJob'> counts:\n",
      "{'000000': 1239,\n",
      " '000011': 1190,\n",
      " '001100': 1314,\n",
      " '001111': 1227,\n",
      " '110000': 1307,\n",
      " '110011': 1284,\n",
      " '111100': 1222,\n",
      " '111111': 1217}\n"
     ]
    }
   ],
   "source": [
    "# construct highly parallele bell-circuit\n",
    "nPar=3 \n",
    "n2=2\n",
    "# Create a basic Bell State circuit:\n",
    "qc = QuantumCircuit(n2*nPar)\n",
    "for j in range(nPar):\n",
    "    i0=j*n2; i1=i0+1\n",
    "    qc.h(i0)\n",
    "    qc.cx(i0, i1)\n",
    "qc.measure_all()\n",
    "print(qc)\n",
    "# Run the circuit on IonQ's platform:\n",
    "job = backend.run(qc, shots=shots) \n",
    "\n",
    "# Print the counts\n",
    "print(type(job),'counts:'); pprint(job.get_counts())\n"
   ]
  },
  {
   "cell_type": "code",
   "execution_count": 44,
   "id": "9d132b24-2f16-4097-89a9-2afef0f4c4e8",
   "metadata": {},
   "outputs": [
    {
     "name": "stdout",
     "output_type": "stream",
     "text": [
      "\n",
      "IonQ simu: ideal nQ=6 ....elaT=6.5 sec, num bistrings=8,  max mshot=1303 for 111100\n"
     ]
    },
    {
     "ename": "TypeError",
     "evalue": "%d format: a real number is required, not str",
     "output_type": "error",
     "traceback": [
      "\u001b[0;31m---------------------------------------------------------------------------\u001b[0m",
      "\u001b[0;31mTypeError\u001b[0m                                 Traceback (most recent call last)",
      "Cell \u001b[0;32mIn[44], line 18\u001b[0m\n\u001b[1;32m     16\u001b[0m random_samples \u001b[38;5;241m=\u001b[39m random\u001b[38;5;241m.\u001b[39msample(\u001b[38;5;28mlist\u001b[39m(counts\u001b[38;5;241m.\u001b[39mitems()), \u001b[38;5;241m5\u001b[39m)\n\u001b[1;32m     17\u001b[0m \u001b[38;5;28;01mfor\u001b[39;00m bitstring, count \u001b[38;5;129;01min\u001b[39;00m random_samples: \u001b[38;5;66;03m# Print the selected random samples\u001b[39;00m\n\u001b[0;32m---> 18\u001b[0m     \u001b[38;5;28mprint\u001b[39m(\u001b[38;5;124;43m\"\u001b[39;49m\u001b[38;5;124;43m   \u001b[39;49m\u001b[38;5;132;43;01m%s\u001b[39;49;00m\u001b[38;5;124;43m:\u001b[39;49m\u001b[38;5;132;43;01m%d\u001b[39;49;00m\u001b[38;5;124;43m,\u001b[39;49m\u001b[38;5;124;43m\"\u001b[39;49m\u001b[38;5;241;43m%\u001b[39;49m\u001b[43m(\u001b[49m\u001b[43mcount\u001b[49m\u001b[43m,\u001b[49m\u001b[43mbitstring\u001b[49m\u001b[43m)\u001b[49m,end\u001b[38;5;241m=\u001b[39m\u001b[38;5;124m'\u001b[39m\u001b[38;5;124m'\u001b[39m)\n\u001b[1;32m     19\u001b[0m \u001b[38;5;28mprint\u001b[39m()\n",
      "\u001b[0;31mTypeError\u001b[0m: %d format: a real number is required, not str"
     ]
    }
   ],
   "source": [
    "import random\n",
    "for noiseN in simList:\n",
    "    #noiseN='harmony-1'\n",
    "    print('\\nIonQ simu: %s nQ=%d ....'%(noiseN,qc.num_qubits),end='')\n",
    "    T0=time()\n",
    "    try:\n",
    "        job = backend.run(qc, shots=shots, noise_model=noiseN)\n",
    "        counts=job.get_counts()\n",
    "    except:\n",
    "        print(\"Failed\"); continue\n",
    "    \n",
    "    elaT=time()-T0\n",
    "    # Find the bitstring with the maximum count\n",
    "    max_bitstring = max(counts, key=counts.get)\n",
    "    print('elaT=%.1f sec, num bistrings=%d,  max mshot=%d for %s'%(elaT,len(counts),counts[max_bitstring],max_bitstring))\n",
    "    random_samples = random.sample(list(counts.items()), 5)\n",
    "    for bitstring, count in random_samples: # Print the selected random samples\n",
    "        print(\"   %s:%d,\"%(count,bitstring),end='')\n",
    "    print()\n",
    "   "
   ]
  },
  {
   "cell_type": "code",
   "execution_count": null,
   "id": "81043e18-1ac6-401a-8cc2-369982e1b211",
   "metadata": {},
   "outputs": [],
   "source": [
    "from qiskit import  transpile\n",
    "qcT = transpile(qc, backend=backend, optimization_level=3, seed_transpiler=42)\n",
    "print(qcT)"
   ]
  }
 ],
 "metadata": {
  "kernelspec": {
   "display_name": "Python 3 (ipykernel)",
   "language": "python",
   "name": "python3"
  },
  "language_info": {
   "codemirror_mode": {
    "name": "ipython",
    "version": 3
   },
   "file_extension": ".py",
   "mimetype": "text/x-python",
   "name": "python",
   "nbconvert_exporter": "python",
   "pygments_lexer": "ipython3",
   "version": "3.10.12"
  }
 },
 "nbformat": 4,
 "nbformat_minor": 5
}
