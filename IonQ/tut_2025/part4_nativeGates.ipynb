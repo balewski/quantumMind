{
 "cells": [
  {
   "cell_type": "markdown",
   "id": "a68e6989-85d4-4dab-9219-07c841fc9953",
   "metadata": {},
   "source": [
    "## Setup\n",
    "\n",
    "For these examples, you'll need:\n",
    "\n",
    "1. numpy\n",
    "2. matplotlib\n",
    "3. qiskit, version >=1.0 and <2.0\n",
    "4. qiskit-ionq\n",
    "5. An IonQ API key\n",
    "\n",
    "If this notebook was not launched from an environment where Qiskit and Qiskit-IonQ are installed, uncomment and run the next cell to install them in this notebook's kernel."
   ]
  },
  {
   "cell_type": "code",
   "execution_count": null,
   "id": "4bcd14fc-190b-4dd7-a0cb-d28772631327",
   "metadata": {},
   "outputs": [],
   "source": [
    "#%pip install \"qiskit==1.4\" qiskit-ionq numpy"
   ]
  },
  {
   "cell_type": "code",
   "execution_count": null,
   "id": "7cf73c22-fe33-45c7-86d7-82651517abf7",
   "metadata": {},
   "outputs": [],
   "source": [
    "import numpy as np"
   ]
  },
  {
   "cell_type": "markdown",
   "id": "323c368c-6c23-40b8-9d0f-0c7879471957",
   "metadata": {},
   "source": [
    "Set your API key as an environment variable from here, if needed:"
   ]
  },
  {
   "cell_type": "code",
   "execution_count": null,
   "id": "82417ed9-b75b-4964-8e14-858988626d13",
   "metadata": {},
   "outputs": [],
   "source": [
    "import os\n",
    "os.environ[\"IONQ_API_KEY\"] = \"YOUR API KEY HERE\""
   ]
  },
  {
   "cell_type": "markdown",
   "id": "dcd4ab53-2e24-401d-aad0-d0a06eb3495d",
   "metadata": {},
   "source": [
    "Set up the IonQProvider for Qiskit:"
   ]
  },
  {
   "cell_type": "code",
   "execution_count": null,
   "id": "c0123057-1c00-4520-87f5-891674d56a4f",
   "metadata": {},
   "outputs": [],
   "source": [
    "from qiskit_ionq import IonQProvider\n",
    "provider = IonQProvider()"
   ]
  },
  {
   "cell_type": "code",
   "execution_count": null,
   "id": "49ba4177-609d-4afc-b830-a6fa31b800ee",
   "metadata": {},
   "outputs": [],
   "source": []
  },
  {
   "cell_type": "markdown",
   "id": "2b0d69b3-f507-47b1-a48a-0d759ac15cff",
   "metadata": {},
   "source": [
    "# Transpilation and native gates"
   ]
  },
  {
   "cell_type": "markdown",
   "id": "b9537128-f4f2-483f-acab-cdd8b1c06e9e",
   "metadata": {},
   "source": [
    "## A note on accepted QIS gates\n",
    "\n",
    "Our API and compiler will directly accept [these gates](), as well as their controlled and multi-controlled variants:\n",
    "* x\tPauli X gate\n",
    "* y\tPauli Y gate\n",
    "* z\tPauli Z gate\n",
    "* rx\tX-axis rotation\n",
    "* ry\tY-axis rotation\n",
    "* rz\tZ-axis rotation\n",
    "* h\tHadamard gate\n",
    "* not\tConvenient alias for Pauli-X gate\n",
    "* cnot\tConvenient alias for controlled-not gate\n",
    "* s\tS gate\n",
    "* si\tConjugate transpose of S gate\n",
    "* t\tT gate\n",
    "* ti\tConjugate transpose of T gate\n",
    "* v\tSquare root of not gate\n",
    "* vi\tConjugate transpose of square-root-of-not gate\n",
    "* swap\tSwaps two qubits\n",
    "\n",
    "In many cases, other gates, operations, and aliases included in Qiskit (or another SDK) are automatically converted to these by qiskit-ionq (or the equivalent integration). However, in some cases you might need to use qiskit's `transpile` function to convert from special gates or higher-level operations to the set of QIS gates accepted by IonQ backends.\n",
    "\n",
    "When you submit a circuit using these QIS gates, whatever you pass in will be further optimized by IonQ's transpiler, and converted to our native gateset. However, if you submit a circuit using IonQ's native gates directly, it will fully bypass our compiler - which means it won't be optimized or modified."
   ]
  },
  {
   "cell_type": "markdown",
   "id": "8ec93c61-d845-4db7-81ec-8166ba52c379",
   "metadata": {},
   "source": [
    "## Introducing the native gates\n",
    "\n",
    "The GPi, GPi2, MS, and ZZ gates are included in `qiskit_ionq`.\n",
    "\n",
    "**Note**: All of these gates accept angle parameters in _turns_, not _radians_, where 1 turn = $2\\pi$ radians."
   ]
  },
  {
   "cell_type": "code",
   "execution_count": null,
   "id": "f093e5bb-adfc-4532-bf74-31c6f1902084",
   "metadata": {},
   "outputs": [],
   "source": [
    "from qiskit_ionq.ionq_gates import GPIGate, GPI2Gate, MSGate, ZZGate"
   ]
  },
  {
   "cell_type": "markdown",
   "id": "1d62d06a-6677-4808-930a-d9ecd86830c6",
   "metadata": {},
   "source": [
    "You can look at the values of the gate matrices with any input parameter:"
   ]
  },
  {
   "cell_type": "code",
   "execution_count": null,
   "id": "d9173f8a-ec66-4638-bf28-64d277ca3b8e",
   "metadata": {},
   "outputs": [],
   "source": [
    "GPIGate(0).to_matrix()"
   ]
  },
  {
   "cell_type": "markdown",
   "id": "76c9cfc1-a2fe-4991-a2b1-2d8e0bd4289f",
   "metadata": {},
   "source": [
    "You can compare these to QIS gate matrices:"
   ]
  },
  {
   "cell_type": "code",
   "execution_count": null,
   "id": "9b21bb54-ea9d-4934-9347-664efc4f5f19",
   "metadata": {},
   "outputs": [],
   "source": [
    "from qiskit.circuit.library import RXGate, RYGate, RXXGate"
   ]
  },
  {
   "cell_type": "code",
   "execution_count": null,
   "id": "7a0581f4-c597-426e-a462-ed1c78a13496",
   "metadata": {},
   "outputs": [],
   "source": [
    "RXXGate(np.pi/2).to_matrix() * np.sqrt(2)"
   ]
  },
  {
   "cell_type": "code",
   "execution_count": null,
   "id": "8c83a0bb-665d-47fe-ae09-1f441ccb7110",
   "metadata": {},
   "outputs": [],
   "source": [
    "MSGate(0, 0, 0.25).to_matrix() * np.sqrt(2)"
   ]
  },
  {
   "cell_type": "code",
   "execution_count": null,
   "id": "8b4040aa-d742-4eaf-bf3c-ed2228b38b03",
   "metadata": {},
   "outputs": [],
   "source": [
    "np.isclose(\n",
    "    RXXGate(np.pi/2).to_matrix() * np.sqrt(2),\n",
    "    MSGate(0, 0, 0.25).to_matrix() * np.sqrt(2)\n",
    ")"
   ]
  },
  {
   "cell_type": "markdown",
   "id": "40df5b45-6cde-412b-b2c9-ec5bf7a2204f",
   "metadata": {},
   "source": [
    "The fully entangling MS gate with no phase offset is equivalent to RXX with an angle of $\\frac{\\pi}{2}$"
   ]
  },
  {
   "cell_type": "code",
   "execution_count": null,
   "id": "b0bbe83a-7b4b-4451-affb-929d257789e0",
   "metadata": {},
   "outputs": [],
   "source": []
  },
  {
   "cell_type": "markdown",
   "id": "e3c87611-fcf9-4ed1-b182-69589079c64c",
   "metadata": {},
   "source": [
    "## Constructing a circuit in native gates\n",
    "\n",
    "You can build a circuit directly in native gates, either designing it in the native gates directly or applying gate decompositions and conversions manually (more information is available in our docs).\n",
    "\n",
    "Let's build something like the \"Hello world\" Bell state example:"
   ]
  },
  {
   "cell_type": "code",
   "execution_count": null,
   "id": "217761f6-d855-4a55-ac41-52f64bf24cb9",
   "metadata": {},
   "outputs": [],
   "source": [
    "from qiskit import QuantumCircuit\n",
    "\n",
    "qc = QuantumCircuit(2, name=\"Native gates example 1\")\n",
    "\n",
    "# Hadamard\n",
    "qc.append(GPIGate(0), [0]) # Rx(pi)\n",
    "qc.append(GPI2Gate(0.25), [0]) # Ry(pi/2)\n",
    "\n",
    "# CNOT to XX: https://arxiv.org/abs/1603.07678\n",
    "qc.append(GPI2Gate(0.25), [0]) # Ry(pi/2)\n",
    "qc.append(MSGate(0,0,0.25), [0,1]) # XX(pi/4)\n",
    "qc.append(GPI2Gate(0.5), [0]) # Rx(-pi/2)\n",
    "qc.append(GPI2Gate(0.5), [1]) # Rx(-pi/2)\n",
    "qc.append(GPI2Gate(-0.25), [0]) # Ry(pi/2)\n",
    "\n",
    "qc.measure_all()"
   ]
  },
  {
   "cell_type": "code",
   "execution_count": null,
   "id": "84508afe-03b6-47c4-808d-4edc53085246",
   "metadata": {},
   "outputs": [],
   "source": [
    "qc.draw()"
   ]
  },
  {
   "cell_type": "markdown",
   "id": "a25ae899-a1ce-4193-8137-ab12894bf011",
   "metadata": {},
   "source": [
    "We can consolidate some gates here: two consecutive GPi2 gates with the same $\\phi$ (two $\\frac{\\pi}{2}$ rotations around the same axis) are just a single GPi gate with that $\\phi$ (one $\\pi$ rotation around that axis).\n",
    "\n",
    "When we submit in native gates, we fully bypass IonQ's compiler - so these gates wouldn't be combined automatically before execution."
   ]
  },
  {
   "cell_type": "code",
   "execution_count": null,
   "id": "951aed30-dddb-4bba-b182-399e51171c21",
   "metadata": {},
   "outputs": [],
   "source": [
    "qc = QuantumCircuit(2, name=\"Native gates example 1\")\n",
    "\n",
    "qc.append(GPIGate(0), [0])\n",
    "qc.append(GPIGate(0.25), [0]) # consolidated from two GPI2Gates\n",
    "qc.append(MSGate(0,0,0.25), [0,1])\n",
    "qc.append(GPI2Gate(0.5), [0])\n",
    "qc.append(GPI2Gate(0.5), [1])\n",
    "qc.append(GPI2Gate(-0.25), [0])\n",
    "\n",
    "qc.measure_all()"
   ]
  },
  {
   "cell_type": "code",
   "execution_count": null,
   "id": "a8aa6b34-fe2f-4c12-abaf-4fdfba7d0991",
   "metadata": {},
   "outputs": [],
   "source": [
    "qc.draw()"
   ]
  },
  {
   "cell_type": "markdown",
   "id": "fb9b465b-b518-4d2f-a759-e0bdf294649e",
   "metadata": {},
   "source": [
    "To run a native gate circuit, we need a backend that is set to accept native gates. The simulator (including with noise models) and QPU can run native gate circuits when the backend is set up with the option `gateset=\"native\"`. The default gateset is `qis`.\n",
    "\n",
    "Note that MS gates are accepted by Aria systems and the simulator with Aria noise model, while ZZ gates are accepted by Forte systems and the simulator with Forte noise model."
   ]
  },
  {
   "cell_type": "code",
   "execution_count": null,
   "id": "024fec8a-c5ed-48ff-9487-bc0b5e390432",
   "metadata": {},
   "outputs": [],
   "source": [
    "backend_sim_native = provider.get_backend(\"simulator\", gateset=\"native\")"
   ]
  },
  {
   "cell_type": "markdown",
   "id": "99c92c75-a905-493f-858f-a84d8e8b7402",
   "metadata": {},
   "source": [
    "Let's run this circuit with the ideal simulator:"
   ]
  },
  {
   "cell_type": "code",
   "execution_count": null,
   "id": "a28a48b4-1ccd-41cc-95c1-2326564e35f2",
   "metadata": {},
   "outputs": [],
   "source": [
    "job1_ideal = backend_sim_native.run(qc)"
   ]
  },
  {
   "cell_type": "code",
   "execution_count": null,
   "id": "9cc6e34b-68de-4073-a51a-e695e7e33a59",
   "metadata": {},
   "outputs": [],
   "source": [
    "job1_ideal.get_probabilities()"
   ]
  },
  {
   "cell_type": "markdown",
   "id": "0f0572c4-2811-4943-9c55-bf8572ca32b4",
   "metadata": {},
   "source": [
    "Similarly we can run with a noise model (making sure the noise model matches the gates we're using - MS for Aria, ZZ for Forte)"
   ]
  },
  {
   "cell_type": "code",
   "execution_count": null,
   "id": "5fd846c1-cade-48ac-9eaf-070280d415de",
   "metadata": {},
   "outputs": [],
   "source": [
    "backend_sim_native_aria = provider.get_backend(\"simulator\", gateset=\"native\")\n",
    "backend_sim_native_aria.set_options(noise_model=\"aria-1\")"
   ]
  },
  {
   "cell_type": "code",
   "execution_count": null,
   "id": "ef500a6d-774d-41c4-9a13-acc1b15af51e",
   "metadata": {},
   "outputs": [],
   "source": [
    "job1_noisy = backend_sim_native_aria.run(qc, shots=1000)"
   ]
  },
  {
   "cell_type": "code",
   "execution_count": null,
   "id": "f60ab3f9-24bc-4a02-9eba-a621a9ae4048",
   "metadata": {},
   "outputs": [],
   "source": [
    "job1_noisy.get_counts()"
   ]
  },
  {
   "cell_type": "markdown",
   "id": "67381e8f-c2dc-47df-b914-f8eb8a24969e",
   "metadata": {},
   "source": [
    "And we can run on QPU (optional):"
   ]
  },
  {
   "cell_type": "code",
   "execution_count": null,
   "id": "c5d0ed88-9cf8-4109-9c21-96ee656a1186",
   "metadata": {},
   "outputs": [],
   "source": [
    "backend_aria_native = provider.get_backend(\"qpu.aria-1\", gateset=\"native\")\n",
    "job1_aria = backend_aria_native.run(qc, shots=100)"
   ]
  },
  {
   "cell_type": "markdown",
   "id": "9f69bc4b-0124-4ac5-9101-4c0aa14769c2",
   "metadata": {},
   "source": [
    "Cancel the job, or retrieve it later:"
   ]
  },
  {
   "cell_type": "code",
   "execution_count": null,
   "id": "5e21c751-57e1-4b1b-abea-346e5e83feda",
   "metadata": {},
   "outputs": [],
   "source": [
    "job1_aria.cancel()"
   ]
  },
  {
   "cell_type": "code",
   "execution_count": null,
   "id": "62a46d90-0934-4307-906e-4beb397fde99",
   "metadata": {},
   "outputs": [],
   "source": [
    "#job1_aria = aria_native.retrieve_job(job1_aria.job_id())\n",
    "#job1_aria.get_counts()"
   ]
  },
  {
   "cell_type": "code",
   "execution_count": null,
   "id": "548222c3-b98a-4f7e-9e50-989d633ca3ff",
   "metadata": {},
   "outputs": [],
   "source": []
  },
  {
   "cell_type": "markdown",
   "id": "d6afa292-1d11-4afc-b139-422d2e3a8672",
   "metadata": {},
   "source": [
    "## Transpiling a circuit to native gates\n",
    "\n",
    "We can also use Qiskit's transpiler to convert a circuit from standard QIS gates to native gates before submitting to an IonQ native-gate backend. This is only supported for Aria systems (MS gates) currently, but support for Forte systems (ZZ gates) will be coming soon.\n",
    "\n",
    "First build another \"Hello world\" circuit using QIS gates:"
   ]
  },
  {
   "cell_type": "code",
   "execution_count": null,
   "id": "51cf6d4f-57e9-45ed-80d9-23c890c5b7ff",
   "metadata": {},
   "outputs": [],
   "source": [
    "qc_qis = QuantumCircuit(2, name=\"QIS gate example\")\n",
    "qc_qis.h(0)\n",
    "qc_qis.cx(0, 1)\n",
    "qc_qis.measure_all()"
   ]
  },
  {
   "cell_type": "markdown",
   "id": "84c34f16-9919-4ac9-9c6f-dab3511d1504",
   "metadata": {},
   "source": [
    "Use Qiskit's transpiler with an IonQ native gate backend:"
   ]
  },
  {
   "cell_type": "code",
   "execution_count": null,
   "id": "12c4469e-fce1-40ba-a0af-cde51df19cdb",
   "metadata": {},
   "outputs": [],
   "source": [
    "backend_sim_native = provider.get_backend(\"simulator\", gateset=\"native\")"
   ]
  },
  {
   "cell_type": "code",
   "execution_count": null,
   "id": "1cb10466-1fdd-4a84-aed0-c54038a0e315",
   "metadata": {},
   "outputs": [],
   "source": [
    "from qiskit import transpile"
   ]
  },
  {
   "cell_type": "code",
   "execution_count": null,
   "id": "7ecfc2ef-4f38-45f4-af58-2c5317601463",
   "metadata": {},
   "outputs": [],
   "source": [
    "qc_native = transpile(qc_qis, backend=backend_sim_native)"
   ]
  },
  {
   "attachments": {},
   "cell_type": "markdown",
   "id": "2c33ff77-0b47-4b36-96b4-674715dd9dc6",
   "metadata": {},
   "source": [
    "This uses qiskit's optimization (which you can control via the `optimization_level` parameters) and then conversion to IonQ's native gates.\n",
    "\n",
    "Submit the same way as before:"
   ]
  },
  {
   "cell_type": "code",
   "execution_count": null,
   "id": "d4bf2950-f273-4089-8493-6404b707c4e3",
   "metadata": {},
   "outputs": [],
   "source": [
    "job2_ideal = backend_sim_native.run(qc_native)\n",
    "job2_ideal.get_probabilities()"
   ]
  },
  {
   "cell_type": "markdown",
   "id": "d46f2596-5430-4551-b8a2-e36ea96f1fde",
   "metadata": {},
   "source": [
    "With this approach, you have more direct control over the circuit that is being submitted and run (for example, if you wanted to submit a circuit containing gates that would be optimized out, you could set qiskit's optimization_level to zero when transpiling to IonQ's native gates), but you won't get the potential performance benefit from IonQ's compiler.\n",
    "\n",
    "More compiler options and visibility will be available in the future.\n",
    "\n",
    "More information about native gates, including different SDK examples, can be found in our docs [here](https://docs.ionq.com/guides/getting-started-with-native-gates)."
   ]
  },
  {
   "cell_type": "code",
   "execution_count": null,
   "id": "7f837d7d-3c9c-41be-becf-a711de9b8f2d",
   "metadata": {},
   "outputs": [],
   "source": []
  },
  {
   "cell_type": "code",
   "execution_count": null,
   "id": "eca5de55-0910-4d2f-8834-1ce6715e21fc",
   "metadata": {},
   "outputs": [],
   "source": []
  }
 ],
 "metadata": {
  "kernelspec": {
   "display_name": "Python 3 (ipykernel)",
   "language": "python",
   "name": "python3"
  },
  "language_info": {
   "codemirror_mode": {
    "name": "ipython",
    "version": 3
   },
   "file_extension": ".py",
   "mimetype": "text/x-python",
   "name": "python",
   "nbconvert_exporter": "python",
   "pygments_lexer": "ipython3",
   "version": "3.10.12"
  }
 },
 "nbformat": 4,
 "nbformat_minor": 5
}
