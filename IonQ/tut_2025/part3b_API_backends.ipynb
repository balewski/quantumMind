{
 "cells": [
  {
   "cell_type": "markdown",
   "id": "f14b2e91-8ff9-40d3-8e65-9420c542d656",
   "metadata": {},
   "source": [
    "## Setup\n",
    "\n",
    "To run these examples, you'll need an IonQ API key.\n",
    "\n",
    "As before, we'll make sure the API key is set up as an environment variable:"
   ]
  },
  {
   "cell_type": "code",
   "execution_count": null,
   "id": "98734bba-3651-447b-9b27-7d4b61c72fe6",
   "metadata": {},
   "outputs": [],
   "source": [
    "import os\n",
    "os.environ[\"IONQ_API_KEY\"] = \"YOUR API KEY HERE\""
   ]
  },
  {
   "cell_type": "markdown",
   "id": "d0df6b2d-fc92-4b08-8de3-18eb6855ce80",
   "metadata": {},
   "source": [
    "We'll use some built-in Python libraries as well (though you can work with the API directly in the command line or using other programming languages)."
   ]
  },
  {
   "cell_type": "code",
   "execution_count": null,
   "id": "8d7762bd-83ca-4e89-be47-d72bc1ff27e8",
   "metadata": {},
   "outputs": [],
   "source": [
    "import json\n",
    "import requests"
   ]
  },
  {
   "cell_type": "markdown",
   "id": "7187523d-5f4a-402d-b8dc-2631a7ff1fac",
   "metadata": {},
   "source": [
    "## API v0.4\n",
    "\n",
    "We're in the process of launching API v0.4 and upgrading our platform and integrations from API v0.3. We'll continue to support v0.3, and much of v0.4 will look similar, but there are some differences.\n",
    "\n",
    "Using the API is not required (you may find that an SDK is more convenient, and is sufficient for everything you need to do), but knowing what it does can provide a deeper understanding of how our SDK integrations and our systems work, and can provide access to some capabilities that aren't fully integrated into all SDKs."
   ]
  },
  {
   "attachments": {},
   "cell_type": "markdown",
   "id": "29378ca5-dd82-407c-8f2c-d7422e60d0ce",
   "metadata": {},
   "source": [
    "## Check access and credentials\n",
    "\n",
    "To check if we can connect to the API, we'll send a `GET` request to an endpoint that doesn't require authorization. If the response code is 200, this worked."
   ]
  },
  {
   "cell_type": "code",
   "execution_count": null,
   "id": "0aa4ea13-188d-49ac-93fb-bfdeab4acf69",
   "metadata": {},
   "outputs": [],
   "source": [
    "response = requests.get(\"https://api.ionq.co/v0.4/backends\")"
   ]
  },
  {
   "cell_type": "code",
   "execution_count": null,
   "id": "12b1a9dd-d87f-489d-bfa6-b0eaa03529df",
   "metadata": {},
   "outputs": [],
   "source": [
    "response"
   ]
  },
  {
   "cell_type": "markdown",
   "id": "fe5dcd58-be8a-4b93-a836-f61e5cc0b137",
   "metadata": {},
   "source": [
    "You might also see examples with slightly different formatting, as in our docs. Here, `requests.get(...)` is equivalent to `requests.request(\"GET\"...)`."
   ]
  },
  {
   "cell_type": "code",
   "execution_count": null,
   "id": "694f07fe-b1c8-45b8-b747-dbf0e4d7541b",
   "metadata": {},
   "outputs": [],
   "source": [
    "response = requests.request(\"GET\", \"https://api.ionq.co/v0.4/backends\")"
   ]
  },
  {
   "cell_type": "code",
   "execution_count": null,
   "id": "1e2a34e7-aa14-4d6b-b297-5c1652765477",
   "metadata": {},
   "outputs": [],
   "source": [
    "response"
   ]
  },
  {
   "cell_type": "markdown",
   "id": "43807fb8-2f61-4304-b9c3-81d38ea2bfcc",
   "metadata": {},
   "source": [
    "Next, set up the API request headers, which will include our authentication (API key). Here we're retrieving the key that was stored as an environment variable above (or external to this notebook), but you could also just put your API key here. We'll use the same headers for all requests that require authentication."
   ]
  },
  {
   "cell_type": "code",
   "execution_count": null,
   "id": "913719c7-3e4a-405f-bee5-faa116e1df59",
   "metadata": {},
   "outputs": [],
   "source": [
    "headers = {\n",
    "    \"Authorization\": f\"apiKey {os.getenv('IONQ_API_KEY')}\",\n",
    "    \"Content-Type\": \"application/json\",\n",
    "}"
   ]
  },
  {
   "cell_type": "code",
   "execution_count": null,
   "id": "35a26d0a-dca1-4c3a-84d9-bae326184801",
   "metadata": {},
   "outputs": [],
   "source": []
  },
  {
   "cell_type": "markdown",
   "id": "565c0b01-63c3-41ff-a4a2-afa402344d21",
   "metadata": {},
   "source": [
    "Look at the headers (note that this prints your API key):"
   ]
  },
  {
   "cell_type": "code",
   "execution_count": null,
   "id": "502018bb-463c-45a1-b5c1-194b976fda9b",
   "metadata": {},
   "outputs": [],
   "source": [
    "headers"
   ]
  },
  {
   "cell_type": "code",
   "execution_count": null,
   "id": "e50369ee-640e-4a08-b762-9dba0d492319",
   "metadata": {},
   "outputs": [],
   "source": []
  },
  {
   "cell_type": "markdown",
   "id": "2de21e7c-76e8-4f3a-ba4c-a6af37527243",
   "metadata": {},
   "source": [
    "## API key info\n",
    "\n",
    "The \"who am I\" API endpoint returns information about the API key that was used to send the request. This can be especially useful if you're managing multiple API keys from different projects, and you want to confirm that jobs submitted with this API key will be sent to the correct project."
   ]
  },
  {
   "cell_type": "code",
   "execution_count": null,
   "id": "b9cb5825-b472-4048-834a-e8e47cd6a476",
   "metadata": {},
   "outputs": [],
   "source": [
    "response_whoami = requests.get(\n",
    "    f\"https://api.ionq.co/v0.4/whoami\",\n",
    "    headers=headers\n",
    ")"
   ]
  },
  {
   "cell_type": "markdown",
   "id": "db2838e2-26ce-41d0-81fc-70bfc3865861",
   "metadata": {},
   "source": [
    "View the response as json (effectively a Python dictionary):"
   ]
  },
  {
   "cell_type": "code",
   "execution_count": null,
   "id": "c8361894-c7c9-4a21-8765-5ee54b94ca96",
   "metadata": {},
   "outputs": [],
   "source": [
    "response_whoami.json()"
   ]
  },
  {
   "cell_type": "markdown",
   "id": "c8cb72ce-eb11-48df-aa4e-c8e463575262",
   "metadata": {},
   "source": [
    "This gives us a unique identifier for the key, the name we gave the key when we created it, and the unique identifier for the project it's tied to.\n",
    "\n",
    "Check the cloud console to see which project this key corresponds to."
   ]
  },
  {
   "cell_type": "code",
   "execution_count": null,
   "id": "0f6d202e-13bb-47bc-8c3f-db21f0fa5345",
   "metadata": {},
   "outputs": [],
   "source": [
    "print(f\"https://cloud.ionq.com/projects/{response_whoami.json()['project_id']}\")"
   ]
  },
  {
   "cell_type": "code",
   "execution_count": null,
   "id": "fe35db73-4d49-4354-a583-45f37cf3787a",
   "metadata": {},
   "outputs": [],
   "source": []
  },
  {
   "cell_type": "code",
   "execution_count": null,
   "id": "c1ca817e-9b1e-4ae5-b6ca-17091583044e",
   "metadata": {},
   "outputs": [],
   "source": [
    "job_data = {\n",
    "    \"name\": \"API example - sim\",\n",
    "    \"type\": \"ionq.circuit.v1\",\n",
    "    \n",
    "    \"backend\": \"simulator\",\n",
    "    \"noise\": {\"model\": \"ideal\"},\n",
    "    \n",
    "    \"input\": {\n",
    "        \"qubits\": 2,\n",
    "        \"gateset\": \"qis\",\n",
    "        \"circuit\": [\n",
    "            {\"gate\": \"h\", \"target\": 0},\n",
    "            {\"gate\": \"x\", \"target\": 1, \"control\": 0}\n",
    "        ]\n",
    "    },\n",
    "}"
   ]
  },
  {
   "cell_type": "markdown",
   "id": "17805afc-6999-4d67-9597-d78a703aef62",
   "metadata": {},
   "source": [
    "Send the request:"
   ]
  },
  {
   "cell_type": "code",
   "execution_count": null,
   "id": "432d5470-460b-4711-bc11-f354fb8c8ab3",
   "metadata": {},
   "outputs": [],
   "source": [
    "response_create_job = requests.post(\n",
    "    \"https://api.ionq.co/v0.4/jobs\",\n",
    "    headers=headers,\n",
    "    json=job_data\n",
    ")"
   ]
  },
  {
   "cell_type": "markdown",
   "id": "0bab0a3a-1a77-4100-a457-fdbd62f8ff93",
   "metadata": {},
   "source": [
    "The response (if the job was submitted successfully) has the job ID. A response code of 404 usually means you don't have the right credentials, access, permissions, etc. while a code of 400 usually means an issue with the syntax or structure. 201 means the job was submitted successfully, though it can still fail during subsequent steps."
   ]
  },
  {
   "cell_type": "code",
   "execution_count": null,
   "id": "b7a05b51-96b4-4c2d-9e95-c2d779101611",
   "metadata": {},
   "outputs": [],
   "source": [
    "response_create_job"
   ]
  },
  {
   "cell_type": "markdown",
   "id": "4e97c512-ff4f-478e-bb08-9fdbf50ee8d1",
   "metadata": {},
   "source": [
    "Look at the response body to get the status and job ID:"
   ]
  },
  {
   "cell_type": "code",
   "execution_count": null,
   "id": "7b27b595-d1cc-48e4-bc54-5133dbfe9131",
   "metadata": {},
   "outputs": [],
   "source": [
    "response_create_job.json()"
   ]
  },
  {
   "cell_type": "markdown",
   "id": "22030801-4aac-47f1-9253-b08f7288f074",
   "metadata": {},
   "source": [
    "The job ID is populated as soon as the job is submitted, but we have to send another request to get the updated status for this job. Save the job ID, from the create job response or the cloud console:"
   ]
  },
  {
   "cell_type": "code",
   "execution_count": null,
   "id": "982090a0-f3e4-4407-b251-2c39e7b28eff",
   "metadata": {},
   "outputs": [],
   "source": [
    "job_id_sim = response_create_job.json()['id']\n",
    "print(job_id_sim)"
   ]
  },
  {
   "cell_type": "markdown",
   "id": "14270e73-312a-4526-b807-72ec15803ec8",
   "metadata": {},
   "source": [
    "This is a `get` request to the endpoint `jobs/MY_JOB_ID`. We'll put the job ID into the URL and include the headers with the API key, but there is no data or other payload in this request."
   ]
  },
  {
   "cell_type": "code",
   "execution_count": null,
   "id": "6879016a-907d-4343-b3c5-4136dcde71fb",
   "metadata": {},
   "outputs": [],
   "source": [
    "response_get_job = requests.get(\n",
    "    f\"https://api.ionq.co/v0.4/jobs/{job_id_sim}\",\n",
    "    headers=headers\n",
    ")"
   ]
  },
  {
   "cell_type": "markdown",
   "id": "e95d9d58-b168-4af3-b3ae-a2508a9dd531",
   "metadata": {},
   "source": [
    "First look at the status:"
   ]
  },
  {
   "cell_type": "code",
   "execution_count": null,
   "id": "4f899894-6ac7-48fc-9c6d-81480526fe36",
   "metadata": {},
   "outputs": [],
   "source": [
    "response_get_job.json()['status']"
   ]
  },
  {
   "cell_type": "markdown",
   "id": "753b649c-357f-4f1e-9132-2d6330c8f22f",
   "metadata": {},
   "source": [
    "The full response contains a lot of other information about the job - some fields are based on your submission, some were populated by IonQ's cloud platform. Some job-related information, like the job cost and results, uses different API endpoints (see below)."
   ]
  },
  {
   "cell_type": "code",
   "execution_count": null,
   "id": "87072529-b6fa-4a3c-a046-a63163881e61",
   "metadata": {},
   "outputs": [],
   "source": [
    "response_get_job.json()"
   ]
  },
  {
   "cell_type": "code",
   "execution_count": null,
   "id": "7510c65d-e134-46c0-b1dc-01cd48943c18",
   "metadata": {},
   "outputs": [],
   "source": []
  },
  {
   "cell_type": "markdown",
   "id": "256f0f4e-7b6b-4c3b-b848-d6c719cbead9",
   "metadata": {},
   "source": [
    "The result probabilities can be requested using a specific URL. This is included in the response above, but you can also plug the job ID into the URL structure."
   ]
  },
  {
   "cell_type": "code",
   "execution_count": null,
   "id": "ac8661f7-4cb1-41ec-ae32-16e6238d62d3",
   "metadata": {},
   "outputs": [],
   "source": [
    "job_result_url = \"https://api.ionq.co\" + response_get_job.json()['results']['probabilities']['url']"
   ]
  },
  {
   "cell_type": "code",
   "execution_count": null,
   "id": "ed6d8521-ac52-4b89-bc3e-edba8e9a68ae",
   "metadata": {},
   "outputs": [],
   "source": [
    "job_result_url = f\"https://api.ionq.co/v0.4/jobs/{job_id_sim}/results/probabilities\""
   ]
  },
  {
   "cell_type": "code",
   "execution_count": null,
   "id": "dc96218e-26c3-46c3-b773-894a5dc5d231",
   "metadata": {},
   "outputs": [],
   "source": [
    "print(job_result_url)"
   ]
  },
  {
   "cell_type": "markdown",
   "id": "142918fb-45b4-4aa9-9ba2-b9267d45f00f",
   "metadata": {},
   "source": [
    "Send a GET request to this URL:"
   ]
  },
  {
   "cell_type": "code",
   "execution_count": null,
   "id": "bec02248-337e-4cb0-aa99-656542e9a68a",
   "metadata": {},
   "outputs": [],
   "source": [
    "response_get_result = requests.get(\n",
    "    job_result_url,\n",
    "    headers=headers\n",
    ")"
   ]
  },
  {
   "cell_type": "markdown",
   "id": "9d1e6fcf-1764-4cc2-8bfc-912140bfa674",
   "metadata": {},
   "source": [
    "This response is just a dictionary containing the probabilities for each state:"
   ]
  },
  {
   "cell_type": "code",
   "execution_count": null,
   "id": "50f18113-e2a6-4911-b619-c48bf220aed2",
   "metadata": {},
   "outputs": [],
   "source": [
    "response_get_result.json()"
   ]
  },
  {
   "cell_type": "markdown",
   "id": "50fcc3ec-acfc-4090-ac66-30e7df1e9579",
   "metadata": {},
   "source": [
    "In the future, `results` may include additional fields depending on the job type and result format."
   ]
  },
  {
   "cell_type": "code",
   "execution_count": null,
   "id": "915035fc-99a2-439f-8866-bb674d8ba516",
   "metadata": {},
   "outputs": [],
   "source": []
  },
  {
   "cell_type": "code",
   "execution_count": null,
   "id": "47d439a3-4609-47d0-b6fe-a00ebf018f77",
   "metadata": {},
   "outputs": [],
   "source": [
    "job_data_qpu = {\n",
    "    \"name\": \"API example - Aria 1\",\n",
    "    \"type\": \"ionq.circuit.v1\",\n",
    "\n",
    "    \"backend\": \"qpu.aria-1\",\n",
    "    \"shots\": 100,\n",
    "    \n",
    "    \"input\": {\n",
    "        \"qubits\": 2,\n",
    "        \"gateset\": \"qis\",\n",
    "        \"circuit\": [\n",
    "            {\"gate\": \"h\", \"target\": 0},\n",
    "            {\"gate\": \"x\", \"target\": 1, \"control\": 0}\n",
    "        ]\n",
    "    },\n",
    "}"
   ]
  },
  {
   "cell_type": "code",
   "execution_count": null,
   "id": "5de07804-bbcd-4b02-b7d1-98956846185f",
   "metadata": {},
   "outputs": [],
   "source": [
    "response_create_job_qpu = requests.post(\n",
    "    \"https://api.ionq.co/v0.4/jobs\",\n",
    "    headers=headers,\n",
    "    json=job_data_qpu\n",
    ")"
   ]
  },
  {
   "cell_type": "code",
   "execution_count": null,
   "id": "fc5cafbd-b9ed-4214-a036-fb8b35e2f218",
   "metadata": {},
   "outputs": [],
   "source": [
    "response_create_job_qpu.json()"
   ]
  },
  {
   "cell_type": "code",
   "execution_count": null,
   "id": "ce5504e3-9253-4908-a361-6173255033f3",
   "metadata": {},
   "outputs": [],
   "source": [
    "job_id_qpu1 = response_create_job_qpu.json()['id']"
   ]
  },
  {
   "cell_type": "markdown",
   "id": "b39b90b9-5c10-4760-ae55-747204cbf1e0",
   "metadata": {},
   "source": [
    "As before, let's set up a request to get the job status. We'll confirm that the job went from \"submitted\" to \"ready\" (queued)."
   ]
  },
  {
   "cell_type": "code",
   "execution_count": null,
   "id": "73212dbb-386e-452a-9242-fb45249860b2",
   "metadata": {},
   "outputs": [],
   "source": [
    "response_get_job_qpu = requests.get(\n",
    "    f\"https://api.ionq.co/v0.4/jobs/{job_id_qpu1}\",\n",
    "    headers=headers\n",
    ")"
   ]
  },
  {
   "cell_type": "code",
   "execution_count": null,
   "id": "2db43428-6a60-4636-b52c-1fa0efc66512",
   "metadata": {},
   "outputs": [],
   "source": [
    "response_get_job_qpu.json()['status']"
   ]
  },
  {
   "cell_type": "markdown",
   "id": "fece3ede-0c3a-4f39-b212-e3abc1fdb8fc",
   "metadata": {},
   "source": [
    "The full response for this job includes a lot of information, similar to the simulator job example above - but it doesn't include the result URL, because the result doesn't exist yet. Instead it shows that the result is `None`, for now."
   ]
  },
  {
   "cell_type": "markdown",
   "id": "53b404a0-cea9-49b9-802e-4e50ef296dff",
   "metadata": {},
   "source": [
    "Submit the job:"
   ]
  },
  {
   "cell_type": "code",
   "execution_count": null,
   "id": "ad05bab3-71eb-445d-b3fa-c6b0dc12cf66",
   "metadata": {},
   "outputs": [],
   "source": []
  },
  {
   "cell_type": "markdown",
   "id": "88808b07-0f7b-4184-85d8-d2fb44c55831",
   "metadata": {},
   "source": [
    "# Backends\n",
    "\n",
    "The API also includes several endpoints related to backend (simulator and QPU) status and characterization information. Some of these are also available without an API key."
   ]
  },
  {
   "cell_type": "markdown",
   "id": "26d3aad9-04f5-4e81-bbbe-addf8513bfa5",
   "metadata": {},
   "source": [
    "### Get current info for all backends\n",
    "\n",
    "Sending a GET request to the /backends endpoint returns a list of backends, with some status and queue information."
   ]
  },
  {
   "cell_type": "code",
   "execution_count": null,
   "id": "1a457e82-ad50-4e51-ac8a-db1e2b6ff781",
   "metadata": {},
   "outputs": [],
   "source": [
    "response_get_backends = requests.get(\n",
    "    \"https://api.ionq.co/v0.4/backends\",\n",
    "    headers=headers\n",
    ")"
   ]
  },
  {
   "cell_type": "code",
   "execution_count": null,
   "id": "4663919a-de45-4a27-8522-333ba4cce9c6",
   "metadata": {
    "scrolled": true
   },
   "outputs": [],
   "source": [
    "response_get_backends.json()"
   ]
  },
  {
   "cell_type": "code",
   "execution_count": null,
   "id": "a03110ab-d74f-4e17-bc4c-2d7a5c4bed71",
   "metadata": {},
   "outputs": [],
   "source": []
  },
  {
   "cell_type": "markdown",
   "id": "efce089d-3d48-4f7b-b3d0-c9a47d83bd7c",
   "metadata": {},
   "source": [
    "### Get a specific backend\n",
    "\n",
    "Similarly, /backends/SPECIFIC_QPU_NAME gives this information only for the specified backend. Let's look at Aria 1:"
   ]
  },
  {
   "cell_type": "code",
   "execution_count": null,
   "id": "2ba4329f-e936-4e15-a8fa-ea1857c272fd",
   "metadata": {},
   "outputs": [],
   "source": [
    "response_get_aria1 = requests.get(\n",
    "    f\"https://api.ionq.co/v0.4/backends/qpu.aria-1\",\n",
    "    headers=headers\n",
    ")"
   ]
  },
  {
   "cell_type": "code",
   "execution_count": null,
   "id": "0d42abe5-8600-45bb-b0e1-5fdfaff9d702",
   "metadata": {},
   "outputs": [],
   "source": [
    "response_get_aria1.json()"
   ]
  },
  {
   "cell_type": "markdown",
   "id": "6a22404b-9d8a-4be0-934f-fafe353b8cd1",
   "metadata": {},
   "source": [
    "Average queue time is in milliseconds. Since we're using a reservation, our jobs will skip the queue during this workshop, and we won't have to wait this long to run. In general, fair-share queueing means that your queue time might also be much shorter - for example, if the queue time was long because one or two users were running very large workloads, jobs from other users would likely get to skip at least part of the line."
   ]
  },
  {
   "cell_type": "code",
   "execution_count": null,
   "id": "05e88a32-3d3a-488f-931b-caefb80109e1",
   "metadata": {},
   "outputs": [],
   "source": [
    "response_get_aria1.json()['average_queue_time']/1000/60"
   ]
  },
  {
   "cell_type": "markdown",
   "id": "e8255c53-4243-487c-93ae-1b07761b992f",
   "metadata": {},
   "source": [
    "Last updated time is in UTC."
   ]
  },
  {
   "cell_type": "code",
   "execution_count": null,
   "id": "d46f02d9-2b36-4760-a176-e1c27dbbecda",
   "metadata": {},
   "outputs": [],
   "source": []
  },
  {
   "cell_type": "markdown",
   "id": "5c63b7f4-3d7f-4782-b7f1-8b669af4af5c",
   "metadata": {},
   "source": [
    "### Get characterization data\n",
    "\n",
    "The backend info includes a unique identifier for the system characterization, which we can use to pull recently recorded characterization data for the system.\n",
    "\n",
    "To get a characterization from its ID, use `/backends/QPU_NAME/characterizations/CHARACTERIZATION_ID`."
   ]
  },
  {
   "cell_type": "code",
   "execution_count": null,
   "id": "c10b2cd8-d2ae-41d6-b380-4c7f960b1631",
   "metadata": {},
   "outputs": [],
   "source": [
    "char_id = response_get_aria1.json()['characterization_id']"
   ]
  },
  {
   "cell_type": "code",
   "execution_count": null,
   "id": "5963ff59-95a5-41e6-a2e4-4550bd3934cc",
   "metadata": {},
   "outputs": [],
   "source": [
    "response_get_char = requests.get(\n",
    "    f\"https://api.ionq.co/v0.4/backends/qpu.aria-1/characterizations/{char_id}\",\n",
    "    headers=headers\n",
    ")"
   ]
  },
  {
   "cell_type": "markdown",
   "id": "2ec0e1de-aed6-49aa-97a3-abbcf6ec856c",
   "metadata": {},
   "source": [
    "This response includes the date and time this dataset was updated (typically midnight UTC), as well as other information about the system."
   ]
  },
  {
   "cell_type": "code",
   "execution_count": null,
   "id": "b3f985f2-cb72-47ca-9b06-6ee6d2389880",
   "metadata": {
    "scrolled": true
   },
   "outputs": [],
   "source": [
    "response_get_char.json()"
   ]
  },
  {
   "cell_type": "markdown",
   "id": "942512e1-f83d-4344-bdc8-b607b2557e4b",
   "metadata": {},
   "source": [
    "The most important (and most frequently updated) information is the fidelity, which shows the median error for 1Q DRB, 2Q DRB, and SPAM. These values represent a median of the data points recorded for different qubits and qubit pairs over a 24-hour period."
   ]
  },
  {
   "cell_type": "code",
   "execution_count": null,
   "id": "32b8f28b-c34c-41ae-90e0-7521c36f77a6",
   "metadata": {},
   "outputs": [],
   "source": [
    "response_get_char.json()['fidelity']"
   ]
  },
  {
   "cell_type": "code",
   "execution_count": null,
   "id": "71586f3c-0a63-49c2-92b8-6f754bc66e7a",
   "metadata": {},
   "outputs": [],
   "source": [
    "response_get_char.json()['date']"
   ]
  },
  {
   "cell_type": "code",
   "execution_count": null,
   "id": "c87c1e0c-9be0-4b18-8b24-3a32f67aeb9e",
   "metadata": {},
   "outputs": [],
   "source": []
  },
  {
   "cell_type": "markdown",
   "id": "323853eb-f9a8-4cf4-8eb6-81b4d5973352",
   "metadata": {},
   "source": [
    "### Get multiple characterizations\n",
    "\n",
    "We can also filter for characterization data from a specific date range. For example, if we want to look at all characterization data for Aria 1 between July 1 and July 10, we can specify start and end dates."
   ]
  },
  {
   "cell_type": "code",
   "execution_count": null,
   "id": "74bf3cd1-4981-4152-af85-c0af8615ec13",
   "metadata": {},
   "outputs": [],
   "source": [
    "response_get_chars = requests.get(\n",
    "    f\"https://api.ionq.co/v0.4/backends/qpu.aria-1/characterizations\",\n",
    "    headers=headers,\n",
    "    params={'start': '2025-07-01', 'end': '2025-07-10'}\n",
    ")"
   ]
  },
  {
   "cell_type": "markdown",
   "id": "b143cc22-61f9-4996-83ce-bb718038c5b3",
   "metadata": {},
   "source": [
    "We can loop over the data and pull out the date and fidelity for each stored characterization:"
   ]
  },
  {
   "cell_type": "code",
   "execution_count": null,
   "id": "4a16b168-ca8d-4667-89ef-8b4b829615fe",
   "metadata": {},
   "outputs": [],
   "source": [
    "for ch in response_get_chars.json()['characterizations']:\n",
    "    print(ch['date'])\n",
    "    print(ch['fidelity'])\n",
    "    print()"
   ]
  },
  {
   "cell_type": "code",
   "execution_count": null,
   "id": "90b68d7a-d06a-4f55-9edb-a9782dadb419",
   "metadata": {},
   "outputs": [],
   "source": []
  },
  {
   "cell_type": "markdown",
   "id": "1817e043-0bad-43d5-a7ba-fa6222a6ed29",
   "metadata": {},
   "source": [
    "## Wrap-up\n",
    "\n",
    "While API v0.4 is currently in beta and not all endpoints are fully documented, it will be officially released soon. More job types, result formats, and settings will also become available in the future. For now, we'd appreciate your feedback on \n",
    "\n",
    "https://docs.ionq.com/api-reference/v0.4/introduction"
   ]
  },
  {
   "cell_type": "code",
   "execution_count": null,
   "id": "b12132ff-2bbd-43ee-9845-97ddb83d1c84",
   "metadata": {},
   "outputs": [],
   "source": []
  }
 ],
 "metadata": {
  "kernelspec": {
   "display_name": "Python 3 (ipykernel)",
   "language": "python",
   "name": "python3"
  },
  "language_info": {
   "codemirror_mode": {
    "name": "ipython",
    "version": 3
   },
   "file_extension": ".py",
   "mimetype": "text/x-python",
   "name": "python",
   "nbconvert_exporter": "python",
   "pygments_lexer": "ipython3",
   "version": "3.10.12"
  }
 },
 "nbformat": 4,
 "nbformat_minor": 5
}
