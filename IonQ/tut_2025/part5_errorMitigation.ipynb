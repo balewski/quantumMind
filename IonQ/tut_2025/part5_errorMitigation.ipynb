{
 "cells": [
  {
   "cell_type": "markdown",
   "id": "659cae16-b348-4b8c-813d-a0767ced25c0",
   "metadata": {},
   "source": [
    "## Setup\n",
    "\n",
    "For these examples, you'll need:\n",
    "\n",
    "1. qiskit, version >=1.0 and <2.0\n",
    "2. qiskit-ionq\n",
    "3. An IonQ API key\n",
    "\n",
    "If this notebook was not launched from an environment where Qiskit and Qiskit-IonQ are installed, uncomment and run the next cell to install them in this notebook's kernel."
   ]
  },
  {
   "cell_type": "code",
   "execution_count": null,
   "id": "06bbfede-6cff-4df6-99f4-10acc54e5676",
   "metadata": {},
   "outputs": [],
   "source": [
    "#%pip install \"qiskit==1.4\" qiskit-ionq"
   ]
  },
  {
   "cell_type": "markdown",
   "id": "18a05c38-def9-4f67-b5c4-3379b9f60884",
   "metadata": {},
   "source": [
    "Set your API key as an environment variable from here, if needed:"
   ]
  },
  {
   "cell_type": "code",
   "execution_count": null,
   "id": "7d2accf7-475f-4916-bad9-788c4446b2b8",
   "metadata": {},
   "outputs": [],
   "source": [
    "import os\n",
    "os.environ[\"IONQ_API_KEY\"] = \"YOUR API KEY HERE\""
   ]
  },
  {
   "cell_type": "markdown",
   "id": "585b77dd-2169-4b48-b1e3-78e15b2e0f4f",
   "metadata": {},
   "source": [
    "Set up the IonQProvider for Qiskit:"
   ]
  },
  {
   "cell_type": "code",
   "execution_count": null,
   "id": "42a29b08-9bb1-4023-8666-1b2c72a63b0a",
   "metadata": {},
   "outputs": [],
   "source": [
    "from qiskit_ionq import IonQProvider\n",
    "provider = IonQProvider()"
   ]
  },
  {
   "cell_type": "markdown",
   "id": "8bbb23e3-5c6b-412d-9e6b-ba35d990c184",
   "metadata": {},
   "source": [
    "Get backends for the ideal simulator and for Aria:"
   ]
  },
  {
   "cell_type": "code",
   "execution_count": null,
   "id": "69f11195-7af3-4584-9b5f-8b39339d2dc5",
   "metadata": {},
   "outputs": [],
   "source": [
    "backend_sim = provider.get_backend(\"simulator\")\n",
    "backend_aria = provider.get_backend(\"qpu.aria-1\")"
   ]
  },
  {
   "cell_type": "code",
   "execution_count": null,
   "id": "ff1edb87-578d-4a2f-9147-2140bab6cfb2",
   "metadata": {},
   "outputs": [],
   "source": []
  },
  {
   "cell_type": "markdown",
   "id": "5b161220-6cf1-4d72-858b-8d15b8a23310",
   "metadata": {},
   "source": [
    "# Error mitigation: debiasing and sharpening\n",
    "\n",
    "Debiasing and sharpening are only currently available on our QPUs, not our simulators or noisy simulators.\n",
    "\n",
    "Debiasing is a job-level setting _on by default_ for jobs with 500 or more shots on any Aria or Forte QPU, but can be turned off. It is _off by default_ for jobs with fewer than 500 shots, and cannot be turned on.\n",
    "\n",
    "Sharpening is an option used for result retrieval; by default, result aggregation uses averaging (i.e., `sharpening=False`) but sharpening is an available option for any job run with debiasing. "
   ]
  },
  {
   "attachments": {},
   "cell_type": "markdown",
   "id": "5cd9782d-2253-4846-8d49-6216ead94790",
   "metadata": {},
   "source": [
    "## Debiasing (symmetrization)\n",
    "\n",
    "It's not easy to contrive a reproducible example that clearly shows the effect of debiasing - the error rates on our systems are relatively low, some errors change over time, and only some of the error is the systematic error addressed by debiasing.\n",
    "\n",
    "The more qubits and gate types we use, the more likely we will encounter the types of errors that are mitigated by debiasing. Let's make a GHZ state using 18 qubits:"
   ]
  },
  {
   "cell_type": "code",
   "execution_count": null,
   "id": "4a0a8f67-ccf7-484e-9926-6271e1351404",
   "metadata": {},
   "outputs": [],
   "source": [
    "from qiskit import QuantumCircuit\n",
    "n = 18\n",
    "\n",
    "qc = QuantumCircuit(n, name=f\"GHZ state, {n} qubits\")\n",
    "qc.h(0)\n",
    "for i in range(1,n):\n",
    "    qc.cx(0, i)\n",
    "qc.measure_all()"
   ]
  },
  {
   "cell_type": "markdown",
   "id": "a840f65e-605d-4dd1-aab3-505d6c5a9cff",
   "metadata": {},
   "source": [
    "Run it on the ideal simulator, and submit to Aria with and without debiasing. We use `error_mitigation=ErrorMitigation.DEBIASING` to explicitly set this option in Qiskit.\n",
    "\n",
    "(Since debiasing is on by default for jobs with at least 500 shots, we don't need to explicitly turn it on for the debiased job here, but we'll show it for completeness.)"
   ]
  },
  {
   "cell_type": "code",
   "execution_count": null,
   "id": "23b868f6-9122-45b0-89ba-d9067ff41853",
   "metadata": {},
   "outputs": [],
   "source": [
    "from qiskit_ionq import ErrorMitigation"
   ]
  },
  {
   "cell_type": "code",
   "execution_count": null,
   "id": "ede98095-8e11-40aa-856d-9a8078747d45",
   "metadata": {},
   "outputs": [],
   "source": [
    "job1_ideal = backend_sim.run(qc, shots=2500)\n",
    "\n",
    "job1_debiasing_on = backend_aria.run(\n",
    "    qc,\n",
    "    shots=2500,\n",
    "    error_mitigation=ErrorMitigation.DEBIASING\n",
    ")\n",
    "\n",
    "job1_debiasing_off = backend_aria.run(\n",
    "    qc,\n",
    "    shots=2500,\n",
    "    error_mitigation=ErrorMitigation.NO_DEBIASING\n",
    ")\n",
    "\n",
    "print(\"Job IDs:\")\n",
    "print(f\"Ideal simulation: {job1_ideal.job_id()}\")\n",
    "print(f\"Aria with debiasing on: {job1_debiasing_on.job_id()}\")\n",
    "print(f\"Aria with debiasing off: {job1_debiasing_off.job_id()}\")"
   ]
  },
  {
   "cell_type": "markdown",
   "id": "600be376-d560-43e8-91ee-e0906359ccac",
   "metadata": {},
   "source": [
    "Next, wait for these jobs to complete."
   ]
  },
  {
   "cell_type": "code",
   "execution_count": null,
   "id": "7a2bed8f-b6f3-4ee2-9485-3aabb1cd8b51",
   "metadata": {},
   "outputs": [],
   "source": [
    "print(job1_debiasing_on.status())\n",
    "print(job1_debiasing_off.status())"
   ]
  },
  {
   "cell_type": "markdown",
   "id": "01a644b5-03af-40ae-8180-187214c550af",
   "metadata": {},
   "source": [
    "Wait for the jobs to complete.\n",
    "\n",
    "Optional: retrieve jobs by their IDs (printed above or copied from the cloud console) if you needed to close this notebook and come back later."
   ]
  },
  {
   "cell_type": "code",
   "execution_count": null,
   "id": "8e9ed321-90dc-4acb-ba81-acf3f791240a",
   "metadata": {},
   "outputs": [],
   "source": [
    "#job1_ideal = sim_backend.retrieve_job(\"PASTE JOB ID HERE\")\n",
    "#job1_on = aria_backend.retrieve_job(\"PASTE JOB ID HERE\")\n",
    "#job1_off = aria_backend.retrieve_job(\"PASTE JOB ID HERE\")"
   ]
  },
  {
   "cell_type": "markdown",
   "id": "90dce9f5-507e-4118-b63d-465dd1d65eb5",
   "metadata": {},
   "source": [
    "For the QPU jobs, these are large histograms with many states, so we won't display all of the states. We're looking for the top two highest-probability states for each job, which should be the 0-state and the 1-state."
   ]
  },
  {
   "cell_type": "code",
   "execution_count": null,
   "id": "da8a4e99-a8ba-4560-b20a-78e7a0cdade8",
   "metadata": {},
   "outputs": [],
   "source": [
    "from qiskit.visualization import plot_histogram"
   ]
  },
  {
   "cell_type": "code",
   "execution_count": null,
   "id": "8b8616e6-a254-4e09-929c-411fe073d2b0",
   "metadata": {
    "scrolled": true
   },
   "outputs": [],
   "source": [
    "# ! don't run this until the jobs have completed\n",
    "\n",
    "plot_histogram(\n",
    "    [job1_ideal.get_counts(), job1_debiasing_on.get_counts(), job1_debiasing_off.get_counts()],\n",
    "    legend=[\"Ideal simulation\", \"Aria, debiasing on\", \"Aria, debiasing off\"],\n",
    "    figsize=(8,3),\n",
    "    number_to_keep=2\n",
    ")"
   ]
  },
  {
   "cell_type": "code",
   "execution_count": null,
   "id": "3c25ca18-733c-4bcd-83d0-439552288a08",
   "metadata": {},
   "outputs": [],
   "source": []
  },
  {
   "cell_type": "markdown",
   "id": "9fa8239a-6e3f-4b56-a2b3-6331a0a30b99",
   "metadata": {},
   "source": [
    "## Averaging vs sharpening\n",
    "\n",
    "For a job that was run with debiasing, you can aggregate the results from the different executions in two different ways\n",
    "\n",
    "Let's submit another job with debiasing on. This is a smaller circuit, but it yields a quantum state with different relative probabilities for several basis states."
   ]
  },
  {
   "cell_type": "code",
   "execution_count": null,
   "id": "c5b69396-7fef-43be-8c2b-c9366b3b1a16",
   "metadata": {},
   "outputs": [],
   "source": [
    "qc2 = QuantumCircuit(3, name=\"Sharpening example\")\n",
    "qc2.rx(3.14159/3, 0)\n",
    "qc2.rx(3.14159/3, 1)\n",
    "qc2.rx(3.14159/3, 2)\n",
    "qc2.cx(0, 1)\n",
    "qc2.cx(0, 2)\n",
    "qc2.measure_all()"
   ]
  },
  {
   "cell_type": "code",
   "execution_count": null,
   "id": "e7cb6f29-8131-4823-a607-36f41e7967d6",
   "metadata": {},
   "outputs": [],
   "source": [
    "job2_ideal = backend_sim.run(qc2)\n",
    "print(job2_ideal.job_id())"
   ]
  },
  {
   "cell_type": "code",
   "execution_count": null,
   "id": "554dabb0-b3f4-482d-aba0-cde20c2bb36f",
   "metadata": {},
   "outputs": [],
   "source": [
    "job2_debiasing_on = backend_aria.run(\n",
    "    qc2,\n",
    "    shots=2500,\n",
    "    error_mitigation=ErrorMitigation.DEBIASING\n",
    ")\n",
    "\n",
    "print(job2_debiasing_on.job_id())"
   ]
  },
  {
   "cell_type": "code",
   "execution_count": null,
   "id": "84c17da2-4cb3-4f53-aa66-24a381b48cab",
   "metadata": {},
   "outputs": [],
   "source": []
  },
  {
   "cell_type": "markdown",
   "id": "9ba4922b-5e26-45fe-802e-ad85d0f20fb6",
   "metadata": {},
   "source": [
    "While we wait for job #2 to run, let's go back and look at job #1, the GHZ state prep circuit we ran earlier.\n",
    "\n",
    "This job should have two states with equal probabilities, but on the actual QPU there were some results measured for other states. This happens even when we're using debiasing to run multiple circuit variants - debiasing reduces or removes some types of systematic error, but doesn't mitigate all types of error."
   ]
  },
  {
   "cell_type": "code",
   "execution_count": null,
   "id": "ee1ba52f-b429-4db1-9385-4adc4db41a5f",
   "metadata": {},
   "outputs": [],
   "source": [
    "plot_histogram(\n",
    "    job1_on.get_counts(),\n",
    "    figsize=(10,3),\n",
    "    number_to_keep=50\n",
    ")"
   ]
  },
  {
   "cell_type": "markdown",
   "id": "3d52147b-179d-489e-b875-cb7d920a4ccf",
   "metadata": {},
   "source": [
    "If we're trying to identify the highest-probability state or states, or we know that low-probability states only result from errors, we can aggregate the results via _sharpening_."
   ]
  },
  {
   "cell_type": "code",
   "execution_count": null,
   "id": "a65b1e4b-bfce-4351-aa51-1249c02c0c75",
   "metadata": {},
   "outputs": [],
   "source": [
    "plot_histogram(\n",
    "    [job1_on.get_counts(), job1_on.result(sharpen=True).get_counts()],\n",
    "    legend=[\"Debiasing + averaging\", \"Debiasing + sharpening\"],\n",
    "    figsize=(10,3),\n",
    "    number_to_keep=50\n",
    ")"
   ]
  },
  {
   "cell_type": "markdown",
   "id": "81898410-4f43-48ca-addd-6ac29c29db83",
   "metadata": {},
   "source": [
    "Here's what it looks like if we just plot the 0 and 1 states, and everything else:"
   ]
  },
  {
   "cell_type": "code",
   "execution_count": null,
   "id": "185b4e84-df12-42cb-82fc-6a0f547d4a50",
   "metadata": {},
   "outputs": [],
   "source": [
    "plot_histogram(\n",
    "    [job1_on.get_counts(), job1_on.result(sharpen=True).get_counts()],\n",
    "    legend=[\"Debiasing + averaging\", \"Debiasing + sharpening\"],\n",
    "    figsize=(10,3),\n",
    "    number_to_keep=2\n",
    ")"
   ]
  },
  {
   "cell_type": "markdown",
   "id": "4368b5c6-5ed9-489e-8959-dcc6e0e87318",
   "metadata": {},
   "source": [
    "All of the measurements associated with errors were removed from the result when we aggregate with sharpening: within each execution (group of shots), either the 0-state or the 1-state was always the clear winner of plurality voting, so all shots were assigned to one of those states.\n",
    "\n",
    "However, we may or may not have ended up with the expected distribution between the 0-state and the 1-state. So if our algorithm or application was based on successfully _identifying_ these two states, sharpening would help amplify them, but if we need their relative probabilities, sharpening would likely distort the distribution.\n",
    "\n",
    "Note that if you request sharpening and there is no clear winner of the plurality voting for a particular execution, that execution's results will be returned via averaging instead. This reduces the potential for sharpening to distort some types of very complex probability distributions, but it is still important to consider whether this type of aggregation makes sense for your application."
   ]
  },
  {
   "cell_type": "markdown",
   "id": "2cb7d09b-3588-4e3d-93aa-532411569823",
   "metadata": {},
   "source": [
    "Let's look at the second job, with the smaller circuit:"
   ]
  },
  {
   "cell_type": "code",
   "execution_count": null,
   "id": "6532d664-5aa3-4a31-b108-22538746baaa",
   "metadata": {},
   "outputs": [],
   "source": [
    "# Multipy the ideal probabilities by the number of shots instead of sampling\n",
    "ideal_counts = {key: int(val*2500) for key, val in job2_ideal.get_probabilities().items()}\n",
    "\n",
    "counts_with_averaging = job2_debiasing_on.result(sharpen=False).get_counts()\n",
    "# This is equivalent, because sharpen=False by default:\n",
    "# counts_with_averaging = job_debiasing_on.get_counts()\n",
    "\n",
    "counts_with_sharpening = job2_debiasing_on.result(sharpen=True).get_counts()"
   ]
  },
  {
   "cell_type": "code",
   "execution_count": null,
   "id": "5a0b8fdd-b0bf-4848-a616-90f391347c04",
   "metadata": {},
   "outputs": [],
   "source": [
    "plot_histogram(\n",
    "    [ideal_counts, counts_with_averaging, counts_with_sharpening],\n",
    "    legend=[\"Ideal\", \"Averaging\", \"Sharpening\"],\n",
    "    figsize=(10,3),\n",
    "    bar_labels=False\n",
    ")"
   ]
  },
  {
   "cell_type": "markdown",
   "id": "63478d3d-2c59-409f-9994-5333e7f37a7e",
   "metadata": {},
   "source": [
    "All of the shots from the low-probability states were absorbed into the 000 state by sharpening! If this result was for an optimization where we're trying to find the best solution (highest-probability state), this would amplify the probability for that state. However, if we needed the relative probabilities of all of the states, we'd be better off averaging."
   ]
  },
  {
   "cell_type": "markdown",
   "id": "2700582f-c7df-4233-a25e-fd837c0d5c91",
   "metadata": {},
   "source": [
    "More about debiasing and sharpening\n",
    "* [Enhancing quantum computer performance via symmetrization](https://arxiv.org/abs/2301.07233) on arXiv\n",
    "* [Debiasing and sharpening guide](https://ionq.com/resources/debiasing-and-sharpening) in our resource center\n",
    "* [Syntax for debiasing and sharpening with ionq-qiskit](https://docs.ionq.com/sdks/qiskit/error-mitigation-qiskit) in our docs"
   ]
  },
  {
   "cell_type": "code",
   "execution_count": null,
   "id": "a38c49f2-0937-4822-8057-d19c818c25e6",
   "metadata": {},
   "outputs": [],
   "source": []
  }
 ],
 "metadata": {
  "kernelspec": {
   "display_name": "Python 3 (ipykernel)",
   "language": "python",
   "name": "python3"
  },
  "language_info": {
   "codemirror_mode": {
    "name": "ipython",
    "version": 3
   },
   "file_extension": ".py",
   "mimetype": "text/x-python",
   "name": "python",
   "nbconvert_exporter": "python",
   "pygments_lexer": "ipython3",
   "version": "3.10.12"
  }
 },
 "nbformat": 4,
 "nbformat_minor": 5
}
