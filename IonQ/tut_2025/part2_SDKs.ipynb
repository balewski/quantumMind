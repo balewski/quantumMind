{
 "cells": [
  {
   "cell_type": "markdown",
   "id": "50070be2-0614-48c6-8ae2-0e0d7a1d15a5",
   "metadata": {},
   "source": [
    "## Setup\n",
    "\n",
    "To run these optional examples, you'll need:\n",
    "\n",
    "1. The core package and IonQ integration for each SDK example you'd like to run (the installation for these is also included at the beginning of each section)\n",
    "2. An IonQ API key\n",
    "\n",
    "Most SDK integrations will automatically find your API key if it's stored as an environment variable named `IONQ_API_KEY` (set external to this notebook, or using the code in the next cell), and most also provide an option to pass in your key directly (so you can import, load, or paste it in if needed)."
   ]
  },
  {
   "cell_type": "code",
   "execution_count": null,
   "id": "1a92b6f0-bf41-4945-a6e3-f6e3713b0fde",
   "metadata": {},
   "outputs": [],
   "source": [
    "import os\n",
    "os.environ[\"IONQ_API_KEY\"] = \"YOUR API KEY HERE\""
   ]
  },
  {
   "cell_type": "markdown",
   "id": "86026462-bae9-4538-afe1-2fb5a913436b",
   "metadata": {},
   "source": [
    "## Supported SDK examples\n",
    "\n",
    "While Qiskit is widely used, IonQ also supports a number of other quantum SDKs and frameworks. Here, we'll show a few selected examples; more information is available in our [docs](https://docs.ionq.com) and [resource center](). Not all SDKs currently support all available features and settings, but if there's something you'd like to see from a specific SDK, please let us know!"
   ]
  },
  {
   "cell_type": "markdown",
   "id": "0f1575f1-7135-473d-bd24-1417037976e9",
   "metadata": {},
   "source": [
    "### Cirq\n",
    "\n",
    "https://docs.ionq.com/sdks/cirq/index"
   ]
  },
  {
   "cell_type": "code",
   "execution_count": null,
   "id": "8958eead-bb55-4c68-9e99-49f9c99b42d2",
   "metadata": {},
   "outputs": [],
   "source": [
    "%%capture\n",
    "%pip install cirq cirq-ionq"
   ]
  },
  {
   "cell_type": "markdown",
   "id": "44d76c47-e686-42a2-80ba-eb0ea1f61bcf",
   "metadata": {},
   "source": [
    "For Cirq, we use a `Service` to connect to IonQ systems."
   ]
  },
  {
   "cell_type": "code",
   "execution_count": null,
   "id": "69b9b380-fb71-4fc2-bc95-21e54af34541",
   "metadata": {},
   "outputs": [],
   "source": [
    "import cirq_ionq\n",
    "service = cirq_ionq.Service()\n",
    "\n",
    "# To pass in an API key directly\n",
    "# service = cirq_ionq.Service(api_key=\"YOUR API KEY HERE\")"
   ]
  },
  {
   "cell_type": "markdown",
   "id": "6c819be5-b5d8-4919-a24a-08cc43355789",
   "metadata": {},
   "source": [
    "Build a circuit:"
   ]
  },
  {
   "cell_type": "code",
   "execution_count": null,
   "id": "033dd018-71e6-4f1e-8368-f01d72872553",
   "metadata": {},
   "outputs": [],
   "source": [
    "import cirq\n",
    "\n",
    "q0, q1 = cirq.LineQubit.range(2)\n",
    "qc_cirq = cirq.Circuit(\n",
    "    cirq.H(q0),\n",
    "    cirq.CNOT(q0, q1),\n",
    "    cirq.measure(q0, q1, key='x') \n",
    ")\n",
    "\n",
    "print(qc_cirq)"
   ]
  },
  {
   "cell_type": "markdown",
   "id": "7d3fbbed-00a0-474c-bcf2-616e125cb5ef",
   "metadata": {},
   "source": [
    "You can use `service.run()` (which waits and returns the result) or `service.create_job()` (async). The backend is specified using the `target` option rather than by creating a separate backend object."
   ]
  },
  {
   "cell_type": "code",
   "execution_count": null,
   "id": "fe3f8f95-0eeb-42ba-950a-2586bafaa49e",
   "metadata": {},
   "outputs": [],
   "source": [
    "job_cirq = service.create_job(\n",
    "    circuit=qc_cirq,\n",
    "    target=\"simulator\",\n",
    "    repetitions=1000,\n",
    "    name=\"Cirq example\",\n",
    "    extra_query_params={\"noise\": {\"model\": \"aria-1\"}}\n",
    ")"
   ]
  },
  {
   "cell_type": "code",
   "execution_count": null,
   "id": "34a82557-0718-4632-879b-0b99e2e82f1e",
   "metadata": {},
   "outputs": [],
   "source": [
    "print(job_cirq.status())"
   ]
  },
  {
   "cell_type": "code",
   "execution_count": null,
   "id": "903168c5-4454-42bf-b7ce-08bc5c647310",
   "metadata": {},
   "outputs": [],
   "source": [
    "job_cirq.job_id()"
   ]
  },
  {
   "cell_type": "code",
   "execution_count": null,
   "id": "c730e722-eb7e-4564-8ba0-8b66e080df3d",
   "metadata": {},
   "outputs": [],
   "source": [
    "result = job_cirq.results()[0].to_cirq_result()\n",
    "print(result.histogram(key='x'))"
   ]
  },
  {
   "cell_type": "code",
   "execution_count": null,
   "id": "05eee780-8811-40a3-a98e-19e2b6f551e4",
   "metadata": {},
   "outputs": [],
   "source": []
  },
  {
   "cell_type": "markdown",
   "id": "e02ee655-8d65-46fa-b6c8-f2eb4181e3ec",
   "metadata": {},
   "source": [
    "### PennyLane\n",
    "\n",
    "https://docs.ionq.com/sdks/pennylane"
   ]
  },
  {
   "cell_type": "code",
   "execution_count": null,
   "id": "65db9330-7700-41f2-a889-dfb047584a8a",
   "metadata": {},
   "outputs": [],
   "source": [
    "%%capture\n",
    "%pip install pennylane pennylane-ionq"
   ]
  },
  {
   "cell_type": "markdown",
   "id": "5afaaca7-9266-4d9e-aad9-ebd472d7c6f6",
   "metadata": {},
   "source": [
    "For PennyLane, setting up an IonQ device handles both the connection and backend selection."
   ]
  },
  {
   "cell_type": "code",
   "execution_count": null,
   "id": "5df10226-daf3-428b-a658-0869f89aba46",
   "metadata": {},
   "outputs": [],
   "source": [
    "import pennylane as qml\n",
    "\n",
    "# Setup the device\n",
    "dev = qml.device(\n",
    "    'ionq.simulator',\n",
    "    #api_key=\"your_api_key_here\",\n",
    "    wires=2\n",
    ")"
   ]
  },
  {
   "cell_type": "markdown",
   "id": "c95108a1-f42d-4ba2-a27f-0cd71f73272d",
   "metadata": {},
   "source": [
    "A circuit is defined as a qnode function that targets the specified device and returns results."
   ]
  },
  {
   "cell_type": "code",
   "execution_count": null,
   "id": "2b47ea23-6bea-4154-bcdc-42147624d0cf",
   "metadata": {},
   "outputs": [],
   "source": [
    "@qml.qnode(dev)\n",
    "def pennylane_bell_state():\n",
    "    qml.Hadamard(wires=0)\n",
    "    qml.CNOT(wires=[0, 1])\n",
    "    return qml.probs(wires=[0, 1])"
   ]
  },
  {
   "cell_type": "code",
   "execution_count": null,
   "id": "913d9b19-8462-4f67-9c33-0b882de0fd8d",
   "metadata": {},
   "outputs": [],
   "source": [
    "result = pennylane_bell_state()"
   ]
  },
  {
   "cell_type": "code",
   "execution_count": null,
   "id": "fa75ac1d-db03-4fc2-8db0-2b44f69f144f",
   "metadata": {},
   "outputs": [],
   "source": [
    "print(result)"
   ]
  },
  {
   "cell_type": "code",
   "execution_count": null,
   "id": "614590d3-c366-458a-89a1-cee1c1074957",
   "metadata": {},
   "outputs": [],
   "source": []
  },
  {
   "cell_type": "markdown",
   "id": "c62f0d85-6dbe-4625-9d00-ffbbe61186b9",
   "metadata": {},
   "source": [
    "### qBraid\n",
    "\n",
    "https://docs.ionq.com/sdks/qbraid/index"
   ]
  },
  {
   "cell_type": "code",
   "execution_count": null,
   "id": "91b8cff7-5ea1-4192-8a89-fb14e7e3293d",
   "metadata": {},
   "outputs": [],
   "source": [
    "%%capture\n",
    "%pip install 'qbraid[ionq]'"
   ]
  },
  {
   "cell_type": "markdown",
   "id": "bbd56c84-6294-44ad-8422-ee1d002e9df8",
   "metadata": {},
   "source": [
    "Like Qiskit, qBraid's integration uses a provider and a backend (here, a device)."
   ]
  },
  {
   "cell_type": "code",
   "execution_count": null,
   "id": "ee546b10-1468-43f7-aaaf-d48cd73deb65",
   "metadata": {},
   "outputs": [],
   "source": [
    "from qbraid.runtime import IonQProvider\n",
    "provider = IonQProvider()\n",
    "\n",
    "# provider = IonQProvider(\"api key here\")"
   ]
  },
  {
   "cell_type": "code",
   "execution_count": null,
   "id": "8246fc0d-3642-4bb0-a364-77bf5bfff0f4",
   "metadata": {},
   "outputs": [],
   "source": [
    "device = provider.get_device(\"simulator\")"
   ]
  },
  {
   "cell_type": "markdown",
   "id": "0c3ff1bd-aa4a-4ca3-a2af-3151d2ee0ba6",
   "metadata": {},
   "source": [
    "Circuits are defined in qasm, but qBraid's integration converts them to the format accepted by the IonQ API when running. (IonQ has limited support for accepting qasm directly.)"
   ]
  },
  {
   "cell_type": "code",
   "execution_count": null,
   "id": "ec4fe673-233e-470a-aa49-7f8f016b3f0c",
   "metadata": {},
   "outputs": [],
   "source": [
    "qasm = \"\"\"\n",
    "OPENQASM 3.0;\n",
    "qubit[2] q;\n",
    "h q[0];\n",
    "cx q[0], q[1];\n",
    "\"\"\""
   ]
  },
  {
   "cell_type": "markdown",
   "id": "ea93986b-15e2-4b6e-a007-6b4281ea79b8",
   "metadata": {},
   "source": [
    "To run the circuit via qBraid, pass it to `device.run()`."
   ]
  },
  {
   "cell_type": "code",
   "execution_count": null,
   "id": "a2e697ee-a2ad-4ebf-8e88-842dea43a3d7",
   "metadata": {},
   "outputs": [],
   "source": [
    "job = device.run(\n",
    "    qasm,\n",
    "    name=\"qBraid example\",\n",
    "    shots=1000,\n",
    "    noise={\"model\" : \"aria-1\"}\n",
    ")\n",
    "result = job.result()"
   ]
  },
  {
   "cell_type": "code",
   "execution_count": null,
   "id": "b727df78-7163-42be-b00c-5d21b5474044",
   "metadata": {},
   "outputs": [],
   "source": [
    "print(result.data.get_counts())"
   ]
  },
  {
   "cell_type": "code",
   "execution_count": null,
   "id": "a7d90218-72d5-4021-a225-c1fa73fdfe73",
   "metadata": {},
   "outputs": [],
   "source": []
  },
  {
   "cell_type": "markdown",
   "id": "c26d2aa3-9e71-434f-a51b-1d71558c542e",
   "metadata": {},
   "source": [
    "## CUDA-Q\n",
    "\n",
    "https://docs.ionq.com/sdks/cuda-q\n",
    "\n",
    "Local installation of CUDA-Q can be more complicated than other packages depending on your hardware, but this example works in cloud environments like Google Colab."
   ]
  },
  {
   "cell_type": "code",
   "execution_count": null,
   "id": "363745b5-9db9-4be2-97a7-8440e9eb7d58",
   "metadata": {},
   "outputs": [],
   "source": [
    "%%capture\n",
    "%pip install cudaq"
   ]
  },
  {
   "cell_type": "markdown",
   "id": "c28504fa-d5cc-4125-ab62-98ca54de8640",
   "metadata": {},
   "source": [
    "Specify an IonQ backend and connect to IonQ using `cudaq.set_target`. The target `ionq` is the simulator; QPUs are `ionq_qpu.aria-1`, etc.\n",
    "\n",
    "Note that CUDA-Q requires the API key to be stored as an environment variable."
   ]
  },
  {
   "cell_type": "code",
   "execution_count": null,
   "id": "6485abd3-50c0-4f90-876a-e1c865d9c013",
   "metadata": {},
   "outputs": [],
   "source": [
    "import cudaq\n",
    "cudaq.set_target('ionq', noise='aria-1')"
   ]
  },
  {
   "cell_type": "markdown",
   "id": "7b5030d9-57fb-4d08-bab5-5a9ce5a1532f",
   "metadata": {},
   "source": [
    "The circuit is defined as a CUDA-Q kernel:"
   ]
  },
  {
   "cell_type": "code",
   "execution_count": null,
   "id": "686be383-8f08-4469-8553-f72d605c13b0",
   "metadata": {},
   "outputs": [],
   "source": [
    "@cudaq.kernel\n",
    "def cudaq_example():\n",
    "    qubits = cudaq.qvector(2)\n",
    "    h(qubits[0])\n",
    "    x.ctrl(qubits[0], qubits[1])"
   ]
  },
  {
   "cell_type": "markdown",
   "id": "07a0d2ca-e6e9-4f03-9062-1abf5b16a051",
   "metadata": {},
   "source": [
    "The result is obtained by sampling from the kernel:"
   ]
  },
  {
   "cell_type": "code",
   "execution_count": null,
   "id": "012909d7-5c23-4a52-908f-a19cbd8aa2f4",
   "metadata": {},
   "outputs": [],
   "source": [
    "# Run the circuit and print results\n",
    "result = cudaq.sample(cudaq_example, shots_count=1000)\n",
    "print(result)"
   ]
  },
  {
   "cell_type": "code",
   "execution_count": null,
   "id": "e646219f-2353-4322-bb7a-caa054d47cdf",
   "metadata": {},
   "outputs": [],
   "source": []
  },
  {
   "cell_type": "markdown",
   "id": "86f16351-9732-4cdb-acc2-ad017f5cc34e",
   "metadata": {},
   "source": [
    "More information about these SDKs and other integrations can be found in our [docs](https://docs.ionq.com/) and [resource center](https://www.ionq.com/resources/)."
   ]
  },
  {
   "cell_type": "code",
   "execution_count": null,
   "id": "9d858117-75b9-4dc0-8102-27ae9648854b",
   "metadata": {},
   "outputs": [],
   "source": []
  }
 ],
 "metadata": {
  "kernelspec": {
   "display_name": "Python 3 (ipykernel)",
   "language": "python",
   "name": "python3"
  },
  "language_info": {
   "codemirror_mode": {
    "name": "ipython",
    "version": 3
   },
   "file_extension": ".py",
   "mimetype": "text/x-python",
   "name": "python",
   "nbconvert_exporter": "python",
   "pygments_lexer": "ipython3",
   "version": "3.10.12"
  }
 },
 "nbformat": 4,
 "nbformat_minor": 5
}
