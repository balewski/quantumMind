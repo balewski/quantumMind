{
 "cells": [
  {
   "cell_type": "markdown",
   "id": "50070be2-0614-48c6-8ae2-0e0d7a1d15a5",
   "metadata": {},
   "source": [
    "## Setup\n",
    "\n",
    "For these examples, you'll need:\n",
    "\n",
    "1. qiskit, version >=1.0 and <2.0\n",
    "2. qiskit-ionq\n",
    "3. An IonQ API key\n",
    "\n",
    "If this notebook was not launched from an environment where Qiskit and Qiskit-IonQ are installed, uncomment and run the next cell to install them in this notebook's kernel."
   ]
  },
  {
   "cell_type": "code",
   "execution_count": null,
   "id": "1dc20c69-801a-491f-a89c-7b53629dd4c2",
   "metadata": {},
   "outputs": [],
   "source": [
    "#%pip install \"qiskit==1.4\" qiskit-ionq"
   ]
  },
  {
   "cell_type": "markdown",
   "id": "57738838-296f-449f-985d-48aca6539284",
   "metadata": {},
   "source": [
    "You can generate an API key from the [IonQ Cloud Console](https://cloud.ionq.com/settings/keys).\n",
    "\n",
    "We generally recommend storing your API key as an environment variable, rather than including it in your code. However, for today's workshop we'll set it here:"
   ]
  },
  {
   "cell_type": "code",
   "execution_count": null,
   "id": "1a92b6f0-bf41-4945-a6e3-f6e3713b0fde",
   "metadata": {},
   "outputs": [],
   "source": [
    "import os\n",
    "os.environ[\"IONQ_API_KEY\"] = \"YOUR API KEY HERE\""
   ]
  },
  {
   "cell_type": "code",
   "execution_count": null,
   "id": "538e2d76-ac38-4e7b-8b8e-04d5cfe8803e",
   "metadata": {},
   "outputs": [],
   "source": []
  },
  {
   "cell_type": "markdown",
   "id": "eae9904e-ad17-4c68-b9b0-8800f18ddd45",
   "metadata": {},
   "source": [
    "## 1. Qiskit + IonQ Quantum Cloud simulator\n",
    "\n",
    "We'll build a simple \"hello world\" Bell state circuit using Qiskit, then run it on IonQ's cloud simulator.\n",
    "\n",
    "See also: our [guide](https://docs.ionq.com/sdks/qiskit) to getting started with Qiskit and IonQ backends."
   ]
  },
  {
   "cell_type": "markdown",
   "id": "5f6bfeb2-41dd-49b9-96e5-0e8ad39cff73",
   "metadata": {},
   "source": [
    "First, we'll set up the `IonQProvider`, which manages the connection to IonQ's systems."
   ]
  },
  {
   "cell_type": "code",
   "execution_count": null,
   "id": "92e28354-3556-4d63-8ff3-84e080145846",
   "metadata": {},
   "outputs": [],
   "source": [
    "from qiskit_ionq import IonQProvider\n",
    "provider = IonQProvider()"
   ]
  },
  {
   "cell_type": "markdown",
   "id": "8239b307-dbea-4534-9bf1-f006e1b7fe2a",
   "metadata": {},
   "source": [
    "This setup assumes that your environment variable is named `IONQ_API_KEY`, which enables qiskit-ionq to automatically find your API key. You can also pass the key into the provider directly.\n",
    "\n",
    "If you set up your API key as an environment variable with a different name (for example, if you are running jobs in multiple organizations or projects from the same environment), you can load that environment variable:\n",
    "```\n",
    "provider = IonQProvider(token=os.environ.get(\"IONQ_API_KEY_QCUF\"))\n",
    "```\n",
    "\n",
    "If you didn't set up your API key as an environment variable, you can paste it in directly (but be careful sharing or storing your code):\n",
    "```\n",
    "provider = IonQProvider(token=\"abc123-xxx-yyy-zzz\")\n",
    "```"
   ]
  },
  {
   "cell_type": "markdown",
   "id": "93d6373f-c0c7-46e6-ad74-4ca8384c401e",
   "metadata": {},
   "source": [
    "### Ideal simulation\n",
    "\n",
    "Once we have the provider, we'll use it to retrieve a backend, starting with IonQ's cloud simulator. The ideal simulator (with no noise model selected) goes up to 29 qubits."
   ]
  },
  {
   "cell_type": "code",
   "execution_count": null,
   "id": "3eb3d944-38d8-47c0-af48-13cce2f60bd0",
   "metadata": {},
   "outputs": [],
   "source": [
    "backend_sim = provider.get_backend(\"simulator\")"
   ]
  },
  {
   "cell_type": "markdown",
   "id": "23b7283c-26a4-4c48-83ea-bee83b5ea217",
   "metadata": {},
   "source": [
    "In general, this backend can be used in the same way as other backends in Qiskit (<2.0). Here, we'll construct a circuit directly and run it on the simulator backend:"
   ]
  },
  {
   "cell_type": "code",
   "execution_count": null,
   "id": "c9f1ac50-fc8e-481e-b450-3432e8858a1c",
   "metadata": {},
   "outputs": [],
   "source": [
    "from qiskit import QuantumCircuit\n",
    "\n",
    "# Create a basic Bell State circuit:\n",
    "qc_bell = QuantumCircuit(2, name=\"Ideal sim example\")\n",
    "qc_bell.h(0)\n",
    "qc_bell.cx(0, 1)\n",
    "qc_bell.measure_all()\n",
    "\n",
    "qc_bell.draw()"
   ]
  },
  {
   "cell_type": "markdown",
   "id": "bb417fb9-0108-471b-b88b-a5057256b112",
   "metadata": {},
   "source": [
    "Next, run the circuit on the ideal simulator backend. Although we can specify a number of shots, the ideal simulator performs a single statevector simulation and stores all of the probabilities. The number of shots specified here can be used for sampling from those probabilities when retrieving results."
   ]
  },
  {
   "cell_type": "code",
   "execution_count": null,
   "id": "b4f3304d-7a99-45e7-8eae-152da3a4cce5",
   "metadata": {},
   "outputs": [],
   "source": [
    "job_sim = backend_sim.run(\n",
    "    qc_bell,\n",
    "    shots=1000\n",
    ")"
   ]
  },
  {
   "cell_type": "markdown",
   "id": "7ff9bf31-5371-4a26-aa13-1d80005443bb",
   "metadata": {},
   "source": [
    "If you got an `IonQAPIError` that says \"405: Insufficient Scope\", the provider didn't find your API key, or it found an invalid key.\n",
    "\n",
    "We can check the job status here (or [on the \"My Jobs\" page of the IonQ Cloud Console](https://cloud.ionq.com/jobs/)). Since this is a small simulator job, it should complete quickly:"
   ]
  },
  {
   "cell_type": "code",
   "execution_count": null,
   "id": "d3c4cc90-cbcd-4637-8d2f-148b799c9c4b",
   "metadata": {},
   "outputs": [],
   "source": [
    "job_sim.status()"
   ]
  },
  {
   "cell_type": "markdown",
   "id": "1e97ad95-f0a5-4a2d-8907-ad2586ed8c90",
   "metadata": {},
   "source": [
    "For the ideal simulation, the result of the calculation is the probabilities:"
   ]
  },
  {
   "cell_type": "code",
   "execution_count": null,
   "id": "f14fe581-b096-4149-86a8-090a72eba7c8",
   "metadata": {},
   "outputs": [],
   "source": [
    "job_sim.get_probabilities()"
   ]
  },
  {
   "cell_type": "markdown",
   "id": "ede79be0-3700-4e1e-92e7-832783f59cc0",
   "metadata": {},
   "source": [
    "We can also look at the counts. These counts are based on sampling the specified number of shots from the stored probabilities, so they'll be different each time this command is run."
   ]
  },
  {
   "cell_type": "code",
   "execution_count": null,
   "id": "df5ddb6b-a027-47eb-b35b-c813bff4463c",
   "metadata": {},
   "outputs": [],
   "source": [
    "job_sim.get_counts()"
   ]
  },
  {
   "cell_type": "markdown",
   "id": "a1588a4c-35bb-4970-bb46-bc2cfaed4eb2",
   "metadata": {},
   "source": [
    "Visualizing the counts (or probabilities):"
   ]
  },
  {
   "cell_type": "code",
   "execution_count": null,
   "id": "ae92267e-c90a-46b1-a1ea-e455985682ca",
   "metadata": {},
   "outputs": [],
   "source": [
    "from qiskit.visualization import plot_histogram\n",
    "plot_histogram(job_sim.get_counts())"
   ]
  },
  {
   "cell_type": "markdown",
   "id": "cfa8ca4e-c584-4742-941f-81d6ffdc2e5a",
   "metadata": {},
   "source": [
    "The circuit visualization, histogram, and other job info can also be found in the [IonQ Cloud Console](https://cloud.ionq.com/jobs/).\n",
    "\n",
    "### Retrieving a job from its ID\n",
    "\n",
    "If we need to access a job's results later, we can use the job's unique identifier. As soon as a job is submitted, it is assigned a job ID, which you can get via the `.job_id()` method or from the cloud console."
   ]
  },
  {
   "cell_type": "code",
   "execution_count": null,
   "id": "c1dc964a-e4be-4ebe-b730-0785b254b27e",
   "metadata": {},
   "outputs": [],
   "source": [
    "print(job_sim.job_id())"
   ]
  },
  {
   "cell_type": "markdown",
   "id": "3057bd53-c556-4e36-ad0e-1d6fd16cd251",
   "metadata": {},
   "source": [
    "To retrieve a job, just set up a backend (with the same backend type and settings used to create the job) and call `.retrieve_job()`:"
   ]
  },
  {
   "cell_type": "code",
   "execution_count": null,
   "id": "a76e08ae-a665-4afc-9fcd-dc1a9af0c22c",
   "metadata": {},
   "outputs": [],
   "source": [
    "job_sim_retrieved = backend_sim.retrieve_job(\"YOUR JOB ID HERE\")"
   ]
  },
  {
   "cell_type": "markdown",
   "id": "475e3d0c-1fe0-4e58-9fec-52e420c18f04",
   "metadata": {},
   "source": [
    "Then we can get the result:"
   ]
  },
  {
   "cell_type": "code",
   "execution_count": null,
   "id": "e7d8175e-03d6-4779-ae1d-11eb15049e35",
   "metadata": {},
   "outputs": [],
   "source": [
    "job_sim_retrieved.get_probabilities()"
   ]
  },
  {
   "cell_type": "code",
   "execution_count": null,
   "id": "d0948162-c35d-443c-b55c-856c794aceea",
   "metadata": {},
   "outputs": [],
   "source": []
  },
  {
   "cell_type": "markdown",
   "id": "72eb2445-b29b-4d7c-a24c-d5becfc47e5f",
   "metadata": {},
   "source": [
    "### Multicircuit jobs\n",
    "\n",
    "We can also submit a set of multiple circuits (all using the same backend and settings). Each circuit is still executed independently, but they can be grouped together to help organize workflows or streamline code.\n",
    "\n",
    "Here, we'll set up a helper function to build example circuits with different numbers of qubits:"
   ]
  },
  {
   "cell_type": "code",
   "execution_count": null,
   "id": "4d899a11-e6ab-4cab-b273-a2b40ed72c11",
   "metadata": {},
   "outputs": [],
   "source": [
    "def create_ghz_circuit(n):\n",
    "    qc = QuantumCircuit(n, name=f\"{n}-qubit circuit\")\n",
    "    qc.h(0)\n",
    "    for i in range(1, n):\n",
    "        qc.cx(0, i)\n",
    "    qc.measure_all()\n",
    "    return qc"
   ]
  },
  {
   "cell_type": "code",
   "execution_count": null,
   "id": "55f7cad8-18db-4f7c-ba73-147d9465b27f",
   "metadata": {},
   "outputs": [],
   "source": [
    "qc_ghz2 = create_ghz_circuit(2)\n",
    "qc_ghz2.draw()"
   ]
  },
  {
   "cell_type": "code",
   "execution_count": null,
   "id": "ff4cdc5d-2105-4f0e-88b8-e1272b542f20",
   "metadata": {},
   "outputs": [],
   "source": [
    "qc_ghz3 = create_ghz_circuit(3)\n",
    "qc_ghz3.draw()"
   ]
  },
  {
   "cell_type": "code",
   "execution_count": null,
   "id": "c00d4305-dca7-4a71-aa6e-1d1c845c5a99",
   "metadata": {},
   "outputs": [],
   "source": [
    "qc_ghz4 = create_ghz_circuit(4)\n",
    "qc_ghz4.draw()"
   ]
  },
  {
   "cell_type": "markdown",
   "id": "01c932c8-0eb3-40a8-8261-68e1bd1f4280",
   "metadata": {},
   "source": [
    "To submit these circuits as one multicircuit job, we just provide a list of circuits to the backend:"
   ]
  },
  {
   "cell_type": "code",
   "execution_count": null,
   "id": "2a66427e-84db-482b-9059-0a41933aa63c",
   "metadata": {},
   "outputs": [],
   "source": [
    "job_multicirc = backend_sim.run(\n",
    "    [qc_ghz2, qc_ghz3, qc_ghz4],\n",
    "    shots=1000\n",
    ")"
   ]
  },
  {
   "cell_type": "markdown",
   "id": "c07846cf-d2dc-4b12-90ed-7acf911e87d9",
   "metadata": {},
   "source": [
    "On the [\"My Jobs\" page](https://cloud.ionq.com/jobs), this job will show as a multicircuit job with 3 circuits.\n",
    "\n",
    "Retrieving the parent job counts will give the results for all 3 circuits:"
   ]
  },
  {
   "cell_type": "code",
   "execution_count": null,
   "id": "1c716f2b-514a-4a79-b72e-5ed6d314747c",
   "metadata": {},
   "outputs": [],
   "source": [
    "job_multicirc.get_probabilities()"
   ]
  },
  {
   "cell_type": "code",
   "execution_count": null,
   "id": "1274a9e8-2aae-4da7-8f8d-b30e1a5b1f5b",
   "metadata": {},
   "outputs": [],
   "source": [
    "job_multicirc.get_counts()"
   ]
  },
  {
   "cell_type": "markdown",
   "id": "46be6bc9-dd25-4ed3-9398-3fa907678213",
   "metadata": {},
   "source": [
    "We can also retrieve the counts for a specific circuit:"
   ]
  },
  {
   "cell_type": "code",
   "execution_count": null,
   "id": "49426c21-2c6f-481f-81ab-06653eed1f3b",
   "metadata": {},
   "outputs": [],
   "source": [
    "job_multicirc.get_counts(qc_ghz3)"
   ]
  },
  {
   "cell_type": "markdown",
   "id": "a7acbbcc-0d4b-4c96-8251-c3d5ce0d31d6",
   "metadata": {},
   "source": [
    "A multicircuit job has a parent job ID, and each child job also has its own job ID, accessible via the cloud console."
   ]
  },
  {
   "cell_type": "code",
   "execution_count": null,
   "id": "3f816d8e-5d8b-4089-b684-9e67fcbbea70",
   "metadata": {},
   "outputs": [],
   "source": [
    "job_child1 = backend_sim.retrieve_job(\"YOUR JOB ID HERE\")"
   ]
  },
  {
   "cell_type": "markdown",
   "id": "d912c61e-c863-44f2-81c1-ee71a529d7c8",
   "metadata": {},
   "source": [
    "Submitting a set of individual circuits as a multicircuit job doesn't change how they are executed, but it can be convenient for structuring your code and organizing your jobs.\n",
    "\n",
    "There's no specific limit on the number of child circuits that can be included in a multicircuit submission - just the overall size of the job request being sent to our systems. Note that Qiskit retrieves all child job results when you request the counts for a parent job, which can take a long time or even time out if there are many large histograms to download. However, you can always retrieve each child job's result individually."
   ]
  },
  {
   "cell_type": "code",
   "execution_count": null,
   "id": "2f56dd07-5f32-4dff-9e7b-8c3df26e56fd",
   "metadata": {},
   "outputs": [],
   "source": []
  },
  {
   "cell_type": "markdown",
   "id": "49fa9a7c-d8b7-4b57-8560-e342829de9e1",
   "metadata": {},
   "source": [
    "### Noisy simulation\n",
    "\n",
    "Our cloud simulator can also be used with [noise models based on our QPUs](https://docs.ionq.com/guides/simulation-with-noise-models). Currently, each of these is implemented as a simple depolarizing model with parameters set based on hardware characterization, but more complex models may be available in the future.\n",
    "\n",
    "To use a noise model, set the simulator backend options:"
   ]
  },
  {
   "cell_type": "code",
   "execution_count": null,
   "id": "515362e3-1a79-4048-8728-9b2934a6c2dd",
   "metadata": {},
   "outputs": [],
   "source": [
    "backend_sim_forte = provider.get_backend(\"simulator\")\n",
    "backend_sim_forte.set_options(noise_model=\"forte-1\")"
   ]
  },
  {
   "cell_type": "markdown",
   "id": "c3c4d04a-4340-4081-b65a-192d66f26746",
   "metadata": {},
   "source": [
    "Optionally, you can also specify a random seed to get reproducible results:\n",
    "```\n",
    "backend_sim_forte.set_options(noise_model=\"forte-1\", seed=12345)\n",
    "```\n",
    "\n",
    "The circuit setup is the same as before (we'll change the name here):"
   ]
  },
  {
   "cell_type": "code",
   "execution_count": null,
   "id": "c329741f-f5a8-4a33-8b8d-aeefa13c4f00",
   "metadata": {},
   "outputs": [],
   "source": [
    "qc_bell = QuantumCircuit(2, name=\"Sim example with noise\")\n",
    "qc_bell.h(0)\n",
    "qc_bell.cx(0, 1)\n",
    "qc_bell.measure_all()"
   ]
  },
  {
   "cell_type": "markdown",
   "id": "b8098137-a840-4e5c-a49f-873cb5646a47",
   "metadata": {},
   "source": [
    "We'll submit to the simulator backend with noise model. This time, the number of shots determines the number of times the simulation is run. The default is 1024."
   ]
  },
  {
   "cell_type": "code",
   "execution_count": null,
   "id": "067eab95-f9e5-4efa-afd1-dc4134a6a26c",
   "metadata": {},
   "outputs": [],
   "source": [
    "job_noisy = backend_sim_forte.run(qc_bell, shots=1000)"
   ]
  },
  {
   "cell_type": "markdown",
   "id": "a5b47b2b-0e4a-416e-84dd-dc15077dd9c6",
   "metadata": {},
   "source": [
    "As before, we can check the job status here or in the cloud console:"
   ]
  },
  {
   "cell_type": "code",
   "execution_count": null,
   "id": "080a0b7a-704e-410e-8f0d-e4673eee236c",
   "metadata": {},
   "outputs": [],
   "source": [
    "job_noisy.status()"
   ]
  },
  {
   "cell_type": "markdown",
   "id": "5d017eca-46a1-4308-aa3b-f1e3c6521db7",
   "metadata": {},
   "source": [
    "And we can get the counts from the job:"
   ]
  },
  {
   "cell_type": "code",
   "execution_count": null,
   "id": "363e01ba-a895-4398-be46-4cd7f9c81d13",
   "metadata": {},
   "outputs": [],
   "source": [
    "job_noisy.get_counts()"
   ]
  },
  {
   "cell_type": "markdown",
   "id": "e3db228d-6030-4e11-b7d0-13044e4b42cb",
   "metadata": {},
   "source": [
    "In this case, there were some shots where the \"measured\" result of the simulation was 01 or 10 due to an error.\n",
    "\n",
    "We can also compare results for different noise models - we expect Aria-class systems to have more noise and higher error rates relative to Forte-class systems, and this is reflected in the noise models. These noise models are approximate and can't tell you specifically whether a circuit will give a good result on any specific system, but they can be used to understand the general effect of noise and qualitative trends."
   ]
  },
  {
   "cell_type": "code",
   "execution_count": null,
   "id": "f527b191-d02f-482a-a8f5-046df3a298b7",
   "metadata": {},
   "outputs": [],
   "source": [
    "backend_sim_aria = provider.get_backend(\"simulator\")\n",
    "backend_sim_aria.set_options(noise_model=\"aria-1\")"
   ]
  },
  {
   "cell_type": "code",
   "execution_count": null,
   "id": "67ace1a5-19f9-42ed-af6a-b1ac72ebfdb7",
   "metadata": {},
   "outputs": [],
   "source": [
    "job_noisy2 = backend_sim_aria.run(qc_bell, shots=1000)"
   ]
  },
  {
   "cell_type": "code",
   "execution_count": null,
   "id": "a1af776a-551d-4abc-9c0f-0397f4edde49",
   "metadata": {},
   "outputs": [],
   "source": [
    "job_noisy2.get_counts()"
   ]
  },
  {
   "cell_type": "code",
   "execution_count": null,
   "id": "25f14594-8fec-42bc-90ca-57804c3149c5",
   "metadata": {},
   "outputs": [],
   "source": [
    "plot_histogram(\n",
    "    [job_sim.get_counts(), job_noisy2.get_counts(), job_noisy.get_counts()],\n",
    "    legend=[\"Ideal\", \"Aria 1 noise model\", \"Forte noise model\"]\n",
    ")"
   ]
  },
  {
   "cell_type": "code",
   "execution_count": null,
   "id": "4eb541e3-091f-4ef0-b3f0-798f67853ed9",
   "metadata": {},
   "outputs": [],
   "source": []
  },
  {
   "cell_type": "markdown",
   "id": "81624547-d785-4d57-9161-e687bad7bc0e",
   "metadata": {},
   "source": [
    "### Additional settings\n",
    "\n",
    "You can pass in custom metadata or other API-supported arguments via `extra_query_params`.\n",
    "\n",
    "Here we'll use the same Bell state circuit as before, but we'll change the name (since the job name is derived from the Qiskit circuit name)."
   ]
  },
  {
   "cell_type": "code",
   "execution_count": null,
   "id": "b5898ab5-5969-450e-a7d8-2c43c2ec7559",
   "metadata": {},
   "outputs": [],
   "source": [
    "qc_bell.name = \"Custom metadata example\"\n",
    "\n",
    "backend_sim.run(\n",
    "    qc_bell,\n",
    "    shots=1000,\n",
    "    extra_query_params={'metadata': {'event': 'QCUF 2025'}}\n",
    ")"
   ]
  },
  {
   "cell_type": "markdown",
   "id": "62eac832-77b7-4abc-86f6-62c345601a98",
   "metadata": {},
   "source": [
    "Custom metadata fields are shown on the job detail page in the cloud console and can be used to organize and filter jobs (in the \"my jobs\" table or in your code)."
   ]
  },
  {
   "cell_type": "code",
   "execution_count": null,
   "id": "edb8704e-7974-42f8-afe3-7fc4756debb7",
   "metadata": {},
   "outputs": [],
   "source": []
  },
  {
   "cell_type": "markdown",
   "id": "ef643206-fc7c-4bab-839d-a16e35c8d446",
   "metadata": {},
   "source": [
    "## 2. Qiskit + IonQ QPU\n",
    "\n",
    "Running a circuit on IonQ hardware is very similar to running on our cloud simulators - just select a QPU backend. Depending on your access, options might include `qpu.aria-1`, `qpu.aria-2`, `qpu.forte-1`, `qpu.forte-enterprise-1`, or other future systems."
   ]
  },
  {
   "cell_type": "code",
   "execution_count": null,
   "id": "d9cc873e-4631-4429-8512-e0f83d95c73a",
   "metadata": {},
   "outputs": [],
   "source": [
    "backend_aria = provider.get_backend(\"qpu.aria-1\")"
   ]
  },
  {
   "cell_type": "code",
   "execution_count": null,
   "id": "55c443f3-ccd2-4cd6-9370-9a0a55757b6e",
   "metadata": {},
   "outputs": [],
   "source": [
    "qc_bell = QuantumCircuit(2, name=\"Aria 1 example\")\n",
    "qc_bell.h(0)\n",
    "qc_bell.cx(0, 1)\n",
    "qc_bell.measure_all()"
   ]
  },
  {
   "cell_type": "code",
   "execution_count": null,
   "id": "04ee80ac-856d-4f34-b02a-b276caea9c39",
   "metadata": {},
   "outputs": [],
   "source": [
    "job_aria = backend_aria.run(qc_bell, shots=100)"
   ]
  },
  {
   "cell_type": "markdown",
   "id": "1a09cb0e-8709-4b3c-95bc-d7a026cbe35c",
   "metadata": {},
   "source": [
    "In this case, the job may not run right away, and it will likely take longer to run on the QPU than on the simulator.\n",
    "\n",
    "We can check the job status to verify that the submission was accepted (if there's an issue with the circuit, or you don't have the right permissions or budget, it should fail right away)."
   ]
  },
  {
   "cell_type": "code",
   "execution_count": null,
   "id": "505c6764-43cd-475e-9eba-6a1da4fad642",
   "metadata": {},
   "outputs": [],
   "source": [
    "job_aria.status()"
   ]
  },
  {
   "cell_type": "markdown",
   "id": "bc926c18-0083-4705-a8f5-ebc7b937bacb",
   "metadata": {},
   "source": [
    "The job status will show as \"queued\" here, or \"ready\" in the cloud console, if the job has been accepted and is waiting for a system to be available.\n",
    "\n",
    "(Switch to slides)\n",
    "\n",
    "Check back later:"
   ]
  },
  {
   "cell_type": "code",
   "execution_count": null,
   "id": "c4ef758e-4312-43ee-853b-5ad96dbf7343",
   "metadata": {},
   "outputs": [],
   "source": [
    "job_aria.status()"
   ]
  },
  {
   "cell_type": "code",
   "execution_count": null,
   "id": "40268368-c925-4757-9cf1-441f7b47aa42",
   "metadata": {},
   "outputs": [],
   "source": [
    "job_aria.get_counts()"
   ]
  },
  {
   "cell_type": "code",
   "execution_count": null,
   "id": "f1e800be-f98e-4ed4-b0ee-d289b03d00e5",
   "metadata": {},
   "outputs": [],
   "source": []
  },
  {
   "cell_type": "code",
   "execution_count": null,
   "id": "9d858117-75b9-4dc0-8102-27ae9648854b",
   "metadata": {},
   "outputs": [],
   "source": []
  }
 ],
 "metadata": {
  "kernelspec": {
   "display_name": "Python 3 (ipykernel)",
   "language": "python",
   "name": "python3"
  },
  "language_info": {
   "codemirror_mode": {
    "name": "ipython",
    "version": 3
   },
   "file_extension": ".py",
   "mimetype": "text/x-python",
   "name": "python",
   "nbconvert_exporter": "python",
   "pygments_lexer": "ipython3",
   "version": "3.10.12"
  }
 },
 "nbformat": 4,
 "nbformat_minor": 5
}
