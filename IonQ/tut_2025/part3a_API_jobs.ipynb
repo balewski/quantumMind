{
 "cells": [
  {
   "cell_type": "markdown",
   "id": "f14b2e91-8ff9-40d3-8e65-9420c542d656",
   "metadata": {},
   "source": [
    "## Setup\n",
    "\n",
    "To run these examples, you'll need an IonQ API key for an organization that has full beta/preview access to our v0.4 API.\n",
    "\n",
    "As before, we'll make sure the API key is set up as an environment variable:"
   ]
  },
  {
   "cell_type": "code",
   "execution_count": null,
   "id": "98734bba-3651-447b-9b27-7d4b61c72fe6",
   "metadata": {},
   "outputs": [],
   "source": [
    "import os\n",
    "os.environ[\"IONQ_API_KEY\"] = \"YOUR API KEY HERE\""
   ]
  },
  {
   "cell_type": "markdown",
   "id": "d0df6b2d-fc92-4b08-8de3-18eb6855ce80",
   "metadata": {},
   "source": [
    "We'll use some built-in Python libraries as well (though you can work with the API directly in the command line or using other programming languages)."
   ]
  },
  {
   "cell_type": "code",
   "execution_count": null,
   "id": "8d7762bd-83ca-4e89-be47-d72bc1ff27e8",
   "metadata": {},
   "outputs": [],
   "source": [
    "import json\n",
    "import requests"
   ]
  },
  {
   "cell_type": "markdown",
   "id": "7187523d-5f4a-402d-b8dc-2631a7ff1fac",
   "metadata": {},
   "source": [
    "# API v0.4\n",
    "\n",
    "We're in the process of launching API v0.4 and upgrading our platform and integrations from API v0.3. We'll continue to support v0.3, and much of v0.4 will look similar, but there are some differences.\n",
    "\n",
    "Using the API is not required (you may find that an SDK is more convenient, and is sufficient for everything you need to do), but knowing what it does can provide a deeper understanding of how our SDK integrations and our systems work, and can provide access to some capabilities that aren't fully integrated into all SDKs."
   ]
  },
  {
   "attachments": {},
   "cell_type": "markdown",
   "id": "29378ca5-dd82-407c-8f2c-d7422e60d0ce",
   "metadata": {},
   "source": [
    "## Check access and credentials\n",
    "\n",
    "To check if we can connect to the API, we'll send a `GET` request to an endpoint that doesn't require authorization. If the response code is 200, this worked."
   ]
  },
  {
   "cell_type": "code",
   "execution_count": null,
   "id": "0aa4ea13-188d-49ac-93fb-bfdeab4acf69",
   "metadata": {},
   "outputs": [],
   "source": [
    "response = requests.get(\"https://api.ionq.co/v0.4/backends\")"
   ]
  },
  {
   "cell_type": "code",
   "execution_count": null,
   "id": "12b1a9dd-d87f-489d-bfa6-b0eaa03529df",
   "metadata": {},
   "outputs": [],
   "source": [
    "response"
   ]
  },
  {
   "cell_type": "markdown",
   "id": "fe5dcd58-be8a-4b93-a836-f61e5cc0b137",
   "metadata": {},
   "source": [
    "You might also see examples with slightly different formatting, as in our docs. Here, `requests.get(...)` is equivalent to `requests.request(\"GET\"...)`."
   ]
  },
  {
   "cell_type": "code",
   "execution_count": null,
   "id": "694f07fe-b1c8-45b8-b747-dbf0e4d7541b",
   "metadata": {},
   "outputs": [],
   "source": [
    "response = requests.request(\"GET\", \"https://api.ionq.co/v0.4/backends\")"
   ]
  },
  {
   "cell_type": "code",
   "execution_count": null,
   "id": "1e2a34e7-aa14-4d6b-b297-5c1652765477",
   "metadata": {},
   "outputs": [],
   "source": [
    "response"
   ]
  },
  {
   "cell_type": "markdown",
   "id": "43807fb8-2f61-4304-b9c3-81d38ea2bfcc",
   "metadata": {},
   "source": [
    "Next, set up the API request headers, which will include our authentication (API key). Here we're retrieving the key that was stored as an environment variable above (or external to this notebook), but you could also just put your API key here. We'll use the same headers for all requests that require authentication."
   ]
  },
  {
   "cell_type": "code",
   "execution_count": null,
   "id": "913719c7-3e4a-405f-bee5-faa116e1df59",
   "metadata": {},
   "outputs": [],
   "source": [
    "headers = {\n",
    "    \"Authorization\": f\"apiKey {os.getenv('IONQ_API_KEY')}\",\n",
    "    \"Content-Type\": \"application/json\",\n",
    "}"
   ]
  },
  {
   "cell_type": "markdown",
   "id": "565c0b01-63c3-41ff-a4a2-afa402344d21",
   "metadata": {},
   "source": [
    "Look at the headers (note that this prints your API key):"
   ]
  },
  {
   "cell_type": "code",
   "execution_count": null,
   "id": "502018bb-463c-45a1-b5c1-194b976fda9b",
   "metadata": {},
   "outputs": [],
   "source": [
    "headers"
   ]
  },
  {
   "cell_type": "markdown",
   "id": "6661b1f2-c144-4288-94ae-bbee53c9fe6b",
   "metadata": {},
   "source": [
    "Send a request that requires an API key - in this case, retrieving our recent jobs. We'll look at the content of the response later, but for now, a code of 200 indicates that the connection was successful."
   ]
  },
  {
   "cell_type": "code",
   "execution_count": null,
   "id": "eec87e9f-643b-42a4-a9a1-2c26508c04e1",
   "metadata": {},
   "outputs": [],
   "source": [
    "response = requests.get(\"https://api.ionq.co/v0.4/jobs\", headers=headers)"
   ]
  },
  {
   "cell_type": "code",
   "execution_count": null,
   "id": "77d4c5aa-d95c-475d-b2ed-fffaa52e15c9",
   "metadata": {},
   "outputs": [],
   "source": [
    "response"
   ]
  },
  {
   "cell_type": "code",
   "execution_count": null,
   "id": "e50369ee-640e-4a08-b762-9dba0d492319",
   "metadata": {},
   "outputs": [],
   "source": [
    "response.json()"
   ]
  },
  {
   "cell_type": "markdown",
   "id": "2de21e7c-76e8-4f3a-ba4c-a6af37527243",
   "metadata": {},
   "source": [
    "## API key info\n",
    "\n",
    "The \"who am I\" API endpoint returns information about the API key that was used to send the request. This can be especially useful if you're managing multiple API keys from different projects, and you want to confirm that jobs submitted with this API key will be sent to the correct project."
   ]
  },
  {
   "cell_type": "code",
   "execution_count": null,
   "id": "b9cb5825-b472-4048-834a-e8e47cd6a476",
   "metadata": {},
   "outputs": [],
   "source": [
    "response_whoami = requests.get(\n",
    "    f\"https://api.ionq.co/v0.4/whoami\",\n",
    "    headers=headers\n",
    ")"
   ]
  },
  {
   "cell_type": "markdown",
   "id": "db2838e2-26ce-41d0-81fc-70bfc3865861",
   "metadata": {},
   "source": [
    "View the response as json (effectively a Python dictionary):"
   ]
  },
  {
   "cell_type": "code",
   "execution_count": null,
   "id": "c8361894-c7c9-4a21-8765-5ee54b94ca96",
   "metadata": {},
   "outputs": [],
   "source": [
    "response_whoami.json()"
   ]
  },
  {
   "cell_type": "markdown",
   "id": "c8cb72ce-eb11-48df-aa4e-c8e463575262",
   "metadata": {},
   "source": [
    "This gives us a unique identifier for the key, the name we gave the key when we created it, and the unique identifier for the project it's tied to.\n",
    "\n",
    "Check the cloud console to see which project this key corresponds to."
   ]
  },
  {
   "cell_type": "code",
   "execution_count": null,
   "id": "0f6d202e-13bb-47bc-8c3f-db21f0fa5345",
   "metadata": {},
   "outputs": [],
   "source": [
    "print(f\"https://cloud.ionq.com/projects/{response_whoami.json()['project_id']}\")"
   ]
  },
  {
   "cell_type": "code",
   "execution_count": null,
   "id": "fe35db73-4d49-4354-a583-45f37cf3787a",
   "metadata": {},
   "outputs": [],
   "source": []
  },
  {
   "cell_type": "markdown",
   "id": "c96825b8-2c05-4839-a7df-38bb75c8f924",
   "metadata": {},
   "source": [
    "## Jobs\n",
    "\n",
    "The API can be used to submit a job, retrieve a job's results, and retrieve other information about the job."
   ]
  },
  {
   "cell_type": "markdown",
   "id": "947a6b20-5cb5-47c9-9e33-55ba00002f5e",
   "metadata": {},
   "source": [
    "### Create a job\n",
    "\n",
    "[Creating a job]() involves sending a POST request to `https://api.ionq.co/v0.4/jobs` with a payload containing the circuit, target backend, and job settings.\n",
    "\n",
    "Set up the job data in the required format. Additional information on the available fields is included in [the documentation for this API endpoint]() and more details about the circuit format can be found in [our guide to building circuits in the API]() (note that this page has not yet been updated for API v0.4, but the circuit format has not changed).\n",
    "\n",
    "Note that when you use `extra_query_params` when running a job in Qiskit or Cirq, the arguments included there are put into this request payload."
   ]
  },
  {
   "cell_type": "code",
   "execution_count": null,
   "id": "c1ca817e-9b1e-4ae5-b6ca-17091583044e",
   "metadata": {},
   "outputs": [],
   "source": [
    "job_data = {\n",
    "    \"name\": \"API example - sim\",\n",
    "    \"type\": \"ionq.circuit.v1\",\n",
    "    \n",
    "    \"backend\": \"simulator\",\n",
    "    \"noise\": {\"model\": \"ideal\"},\n",
    "    \n",
    "    \"input\": {\n",
    "        \"qubits\": 2,\n",
    "        \"gateset\": \"qis\",\n",
    "        \"circuit\": [\n",
    "            {\"gate\": \"h\", \"target\": 0},\n",
    "            {\"gate\": \"x\", \"target\": 1, \"control\": 0}\n",
    "        ]\n",
    "    },\n",
    "}"
   ]
  },
  {
   "cell_type": "markdown",
   "id": "17805afc-6999-4d67-9597-d78a703aef62",
   "metadata": {},
   "source": [
    "Send the request:"
   ]
  },
  {
   "cell_type": "code",
   "execution_count": null,
   "id": "432d5470-460b-4711-bc11-f354fb8c8ab3",
   "metadata": {},
   "outputs": [],
   "source": [
    "response_create_job = requests.post(\n",
    "    \"https://api.ionq.co/v0.4/jobs\",\n",
    "    headers=headers,\n",
    "    json=job_data\n",
    ")"
   ]
  },
  {
   "cell_type": "markdown",
   "id": "0bab0a3a-1a77-4100-a457-fdbd62f8ff93",
   "metadata": {},
   "source": [
    "The response (if the job was submitted successfully) has the job ID. A response code of 404 usually means you don't have the right credentials, access, permissions, etc. while a code of 400 usually means an issue with the syntax or structure. 201 means the job was submitted successfully, though it can still fail during subsequent steps."
   ]
  },
  {
   "cell_type": "code",
   "execution_count": null,
   "id": "b7a05b51-96b4-4c2d-9e95-c2d779101611",
   "metadata": {},
   "outputs": [],
   "source": [
    "response_create_job"
   ]
  },
  {
   "cell_type": "markdown",
   "id": "4e97c512-ff4f-478e-bb08-9fdbf50ee8d1",
   "metadata": {},
   "source": [
    "Look at the response body to get the status and job ID:"
   ]
  },
  {
   "cell_type": "code",
   "execution_count": null,
   "id": "7b27b595-d1cc-48e4-bc54-5133dbfe9131",
   "metadata": {},
   "outputs": [],
   "source": [
    "response_create_job.json()"
   ]
  },
  {
   "cell_type": "markdown",
   "id": "22030801-4aac-47f1-9253-b08f7288f074",
   "metadata": {},
   "source": [
    "The job ID is populated as soon as the job is submitted, but we have to send another request to get the updated status for this job. Save the job ID, from the create job response or the cloud console:"
   ]
  },
  {
   "cell_type": "code",
   "execution_count": null,
   "id": "982090a0-f3e4-4407-b251-2c39e7b28eff",
   "metadata": {},
   "outputs": [],
   "source": [
    "job_id_sim = response_create_job.json()['id']\n",
    "print(job_id_sim)"
   ]
  },
  {
   "cell_type": "markdown",
   "id": "5ae5754b-d2f5-4882-b7de-582f03fb8eee",
   "metadata": {},
   "source": [
    "### Get a job"
   ]
  },
  {
   "cell_type": "markdown",
   "id": "14270e73-312a-4526-b807-72ec15803ec8",
   "metadata": {},
   "source": [
    "This is a `get` request to the endpoint `jobs/MY_JOB_ID`. We'll put the job ID into the URL and include the headers with the API key, but there is no data or other payload in this request."
   ]
  },
  {
   "cell_type": "code",
   "execution_count": null,
   "id": "6879016a-907d-4343-b3c5-4136dcde71fb",
   "metadata": {},
   "outputs": [],
   "source": [
    "response_get_job = requests.get(\n",
    "    f\"https://api.ionq.co/v0.4/jobs/{job_id_sim}\",\n",
    "    headers=headers\n",
    ")"
   ]
  },
  {
   "cell_type": "markdown",
   "id": "e95d9d58-b168-4af3-b3ae-a2508a9dd531",
   "metadata": {},
   "source": [
    "First look at the status:"
   ]
  },
  {
   "cell_type": "code",
   "execution_count": null,
   "id": "4f899894-6ac7-48fc-9c6d-81480526fe36",
   "metadata": {},
   "outputs": [],
   "source": [
    "response_get_job.json()['status']"
   ]
  },
  {
   "cell_type": "markdown",
   "id": "753b649c-357f-4f1e-9132-2d6330c8f22f",
   "metadata": {},
   "source": [
    "The full response contains a lot of other information about the job - some fields are based on your submission, some were populated by IonQ's cloud platform. Some job-related information, like the job cost and results, uses different API endpoints (see below)."
   ]
  },
  {
   "cell_type": "code",
   "execution_count": null,
   "id": "87072529-b6fa-4a3c-a046-a63163881e61",
   "metadata": {},
   "outputs": [],
   "source": [
    "response_get_job.json()"
   ]
  },
  {
   "cell_type": "code",
   "execution_count": null,
   "id": "7510c65d-e134-46c0-b1dc-01cd48943c18",
   "metadata": {},
   "outputs": [],
   "source": []
  },
  {
   "cell_type": "markdown",
   "id": "fae9a74c-da9a-479e-b337-46355106b817",
   "metadata": {},
   "source": [
    "### Get a job's result probabilities"
   ]
  },
  {
   "cell_type": "markdown",
   "id": "256f0f4e-7b6b-4c3b-b848-d6c719cbead9",
   "metadata": {},
   "source": [
    "The result probabilities can be requested using a specific URL. This is included in the response above, but you can also plug the job ID into the URL structure."
   ]
  },
  {
   "cell_type": "code",
   "execution_count": null,
   "id": "ac8661f7-4cb1-41ec-ae32-16e6238d62d3",
   "metadata": {},
   "outputs": [],
   "source": [
    "job_result_url = \"https://api.ionq.co\" + response_get_job.json()['results']['probabilities']['url']"
   ]
  },
  {
   "cell_type": "code",
   "execution_count": null,
   "id": "ed6d8521-ac52-4b89-bc3e-edba8e9a68ae",
   "metadata": {},
   "outputs": [],
   "source": [
    "job_result_url = f\"https://api.ionq.co/v0.4/jobs/{job_id_sim}/results/probabilities\""
   ]
  },
  {
   "cell_type": "code",
   "execution_count": null,
   "id": "dc96218e-26c3-46c3-b773-894a5dc5d231",
   "metadata": {},
   "outputs": [],
   "source": [
    "print(job_result_url)"
   ]
  },
  {
   "cell_type": "markdown",
   "id": "142918fb-45b4-4aa9-9ba2-b9267d45f00f",
   "metadata": {},
   "source": [
    "Send a GET request to this URL:"
   ]
  },
  {
   "cell_type": "code",
   "execution_count": null,
   "id": "bec02248-337e-4cb0-aa99-656542e9a68a",
   "metadata": {},
   "outputs": [],
   "source": [
    "response_get_result = requests.get(\n",
    "    job_result_url,\n",
    "    headers=headers\n",
    ")"
   ]
  },
  {
   "cell_type": "markdown",
   "id": "9d1e6fcf-1764-4cc2-8bfc-912140bfa674",
   "metadata": {},
   "source": [
    "This response is just a dictionary containing the probabilities for each state:"
   ]
  },
  {
   "cell_type": "code",
   "execution_count": null,
   "id": "50f18113-e2a6-4911-b619-c48bf220aed2",
   "metadata": {},
   "outputs": [],
   "source": [
    "response_get_result.json()"
   ]
  },
  {
   "cell_type": "markdown",
   "id": "50fcc3ec-acfc-4090-ac66-30e7df1e9579",
   "metadata": {},
   "source": [
    "In the future, `results` may include additional fields depending on the job type and result format."
   ]
  },
  {
   "cell_type": "code",
   "execution_count": null,
   "id": "915035fc-99a2-439f-8866-bb674d8ba516",
   "metadata": {},
   "outputs": [],
   "source": []
  },
  {
   "cell_type": "markdown",
   "id": "479c7b14-6bd1-4b54-a361-d683fff03948",
   "metadata": {},
   "source": [
    "### Submit a job to a QPU\n",
    "\n",
    "QPU submission is similar to running on a simulator:"
   ]
  },
  {
   "cell_type": "code",
   "execution_count": null,
   "id": "47d439a3-4609-47d0-b6fe-a00ebf018f77",
   "metadata": {},
   "outputs": [],
   "source": [
    "job_data_qpu = {\n",
    "    \"name\": \"API example - Aria 1\",\n",
    "    \"type\": \"ionq.circuit.v1\",\n",
    "\n",
    "    \"backend\": \"qpu.aria-1\",\n",
    "    \"shots\": 100,\n",
    "    \n",
    "    \"input\": {\n",
    "        \"qubits\": 2,\n",
    "        \"gateset\": \"qis\",\n",
    "        \"circuit\": [\n",
    "            {\"gate\": \"h\", \"target\": 0},\n",
    "            {\"gate\": \"x\", \"target\": 1, \"control\": 0}\n",
    "        ]\n",
    "    },\n",
    "}"
   ]
  },
  {
   "cell_type": "code",
   "execution_count": null,
   "id": "5de07804-bbcd-4b02-b7d1-98956846185f",
   "metadata": {},
   "outputs": [],
   "source": [
    "response_create_job_qpu = requests.post(\n",
    "    \"https://api.ionq.co/v0.4/jobs\",\n",
    "    headers=headers,\n",
    "    json=job_data_qpu\n",
    ")"
   ]
  },
  {
   "cell_type": "code",
   "execution_count": null,
   "id": "fc5cafbd-b9ed-4214-a036-fb8b35e2f218",
   "metadata": {},
   "outputs": [],
   "source": [
    "response_create_job_qpu.json()"
   ]
  },
  {
   "cell_type": "code",
   "execution_count": null,
   "id": "ce5504e3-9253-4908-a361-6173255033f3",
   "metadata": {},
   "outputs": [],
   "source": [
    "job_id_qpu1 = response_create_job_qpu.json()['id']"
   ]
  },
  {
   "cell_type": "markdown",
   "id": "b39b90b9-5c10-4760-ae55-747204cbf1e0",
   "metadata": {},
   "source": [
    "As before, let's set up a request to get the job status. We'll confirm that the job went from \"submitted\" to \"ready\" (queued)."
   ]
  },
  {
   "cell_type": "code",
   "execution_count": null,
   "id": "73212dbb-386e-452a-9242-fb45249860b2",
   "metadata": {},
   "outputs": [],
   "source": [
    "response_get_job_qpu = requests.get(\n",
    "    f\"https://api.ionq.co/v0.4/jobs/{job_id_qpu1}\",\n",
    "    headers=headers\n",
    ")"
   ]
  },
  {
   "cell_type": "code",
   "execution_count": null,
   "id": "2db43428-6a60-4636-b52c-1fa0efc66512",
   "metadata": {},
   "outputs": [],
   "source": [
    "response_get_job_qpu.json()['status']"
   ]
  },
  {
   "cell_type": "markdown",
   "id": "fece3ede-0c3a-4f39-b212-e3abc1fdb8fc",
   "metadata": {},
   "source": [
    "The full response for this job includes a lot of information, similar to the simulator job example above - but it doesn't include the result URL, because the result doesn't exist yet. Instead it shows that the result is `None`, for now."
   ]
  },
  {
   "cell_type": "code",
   "execution_count": null,
   "id": "613b7d5f-e829-40be-bf4b-5f5f78e2d6b0",
   "metadata": {},
   "outputs": [],
   "source": [
    "response_get_job_qpu.json()"
   ]
  },
  {
   "cell_type": "markdown",
   "id": "4879878f-4567-4684-99c1-5f4f66b49d0d",
   "metadata": {},
   "source": [
    "If we try to retrieve the probabilities now, using the job ID and the standard result URL format, we'll get a 404 error because there was no result found at that URL."
   ]
  },
  {
   "cell_type": "code",
   "execution_count": null,
   "id": "49be1081-84e3-468e-b15c-f56be7d9b5df",
   "metadata": {},
   "outputs": [],
   "source": [
    "response_get_result_qpu = requests.get(\n",
    "    f\"https://api.ionq.co/v0.4/jobs/{job_id_qpu1}/results/probabilities\",\n",
    "    headers=headers\n",
    ")"
   ]
  },
  {
   "cell_type": "code",
   "execution_count": null,
   "id": "81148d20-1e59-4921-bcaf-442d1f58e8c9",
   "metadata": {},
   "outputs": [],
   "source": [
    "response_get_result_qpu.json()"
   ]
  },
  {
   "cell_type": "code",
   "execution_count": null,
   "id": "f0fb42d9-46b9-43cd-9e99-52d582a85921",
   "metadata": {},
   "outputs": [],
   "source": []
  },
  {
   "cell_type": "markdown",
   "id": "df6a2fb6-8d6c-4b62-a6f9-828f1911f8cb",
   "metadata": {},
   "source": [
    "### Retrieve QPU job results\n",
    "\n",
    "Let's check the cloud console and find a job ID from a completed QPU job, like the Qiskit example from earlier (you can retrieve any job using the API, regardless of how it was submitted):"
   ]
  },
  {
   "cell_type": "code",
   "execution_count": null,
   "id": "71c1ed65-8e0d-4ff4-9224-32e4c166acdd",
   "metadata": {},
   "outputs": [],
   "source": [
    "job_id_qpu2 = \"YOUR JOB ID HERE\""
   ]
  },
  {
   "cell_type": "code",
   "execution_count": null,
   "id": "7839ba6d-17a2-41fc-8b55-77669bb77916",
   "metadata": {},
   "outputs": [],
   "source": [
    "response_get_result_qpu2 = requests.get(\n",
    "    f\"https://api.ionq.co/v0.4/jobs/{job_id_qpu2}/results/probabilities\",\n",
    "    headers=headers\n",
    ")"
   ]
  },
  {
   "cell_type": "markdown",
   "id": "c1a1c043-4367-4021-b142-936e069bcc1b",
   "metadata": {},
   "source": [
    "As in the simulator example, this just returns a list of the measured states and their probabilities:"
   ]
  },
  {
   "cell_type": "code",
   "execution_count": null,
   "id": "fa318e38-2dbe-4d19-98ea-368c8b17863a",
   "metadata": {},
   "outputs": [],
   "source": [
    "response_get_result_qpu2.json()"
   ]
  },
  {
   "cell_type": "markdown",
   "id": "0cfdb832-2fb8-403d-9b4c-20f706d4974c",
   "metadata": {},
   "source": [
    "#### Probabilities and shot counts\n",
    "\n",
    "Job results are _stored_ as probabilities - not only for ideal simulation jobs where the actual result is the calculated probability, but also for QPU and noisy simulation jobs where the original result was a set of shot counts.\n",
    "\n",
    "We can get the total number of shots from the job info:"
   ]
  },
  {
   "cell_type": "code",
   "execution_count": null,
   "id": "c51484f8-0db2-4e89-acf3-b690b5700198",
   "metadata": {},
   "outputs": [],
   "source": [
    "response_get_job_qpu2 = requests.get(\n",
    "    f\"https://api.ionq.co/v0.4/jobs/{job_id_qpu2}\",\n",
    "    headers=headers\n",
    ")"
   ]
  },
  {
   "cell_type": "markdown",
   "id": "7214bc85-e54e-47fb-8a39-5cb46ef7d0aa",
   "metadata": {},
   "source": [
    "Then we can reconstruct a dictionary containing the number of shots:"
   ]
  },
  {
   "cell_type": "code",
   "execution_count": null,
   "id": "754cfb2a-1d92-4af0-805b-f9cfddebe6c9",
   "metadata": {},
   "outputs": [],
   "source": [
    "shots = response_get_job_qpu2.json()['shots']\n",
    "\n",
    "probs_dict = response_get_result_qpu2.json()\n",
    "\n",
    "counts_dict = dict()\n",
    "for key, val in probs_dict.items():\n",
    "    counts_dict[key] = int(val * shots)"
   ]
  },
  {
   "cell_type": "code",
   "execution_count": null,
   "id": "3467b2a4-aef8-4b31-8fb5-526754ca00c6",
   "metadata": {},
   "outputs": [],
   "source": [
    "counts_dict"
   ]
  },
  {
   "cell_type": "code",
   "execution_count": null,
   "id": "8eee1eaf-414e-40dd-ab8b-2f6e39b0ad51",
   "metadata": {},
   "outputs": [],
   "source": []
  },
  {
   "cell_type": "markdown",
   "id": "141907e1-c8fe-45af-907a-908fde1915c3",
   "metadata": {},
   "source": [
    "### Get a job's cost\n",
    "\n",
    "For QPU jobs, you can also see how much a job cost (or would have cost):"
   ]
  },
  {
   "cell_type": "code",
   "execution_count": null,
   "id": "d054bc7b-dded-45a4-8a78-64d8a9db4f24",
   "metadata": {},
   "outputs": [],
   "source": [
    "response_job_cost_qpu2 = requests.get(\n",
    "    f\"https://api.ionq.co/v0.4/jobs/{job_id_qpu2}/cost\",\n",
    "    headers=headers\n",
    ")"
   ]
  },
  {
   "cell_type": "markdown",
   "id": "02527470-46ef-43d5-ae1c-313fcec6b9e2",
   "metadata": {},
   "source": [
    "If this job actually ran, this will show the estimated and actual cost:"
   ]
  },
  {
   "cell_type": "code",
   "execution_count": null,
   "id": "1548c621-764d-41e3-8b48-fc9bf3df3bb8",
   "metadata": {},
   "outputs": [],
   "source": [
    "response_job_cost_qpu2.json()"
   ]
  },
  {
   "cell_type": "code",
   "execution_count": null,
   "id": "826760ef-8ba5-47bb-98da-dbf1be0d8094",
   "metadata": {},
   "outputs": [],
   "source": []
  },
  {
   "cell_type": "markdown",
   "id": "78bd716b-9170-4221-8874-0701c035cb8b",
   "metadata": {},
   "source": [
    "We can also request the cost for the other job from earlier:"
   ]
  },
  {
   "cell_type": "code",
   "execution_count": null,
   "id": "b26f1f49-57ce-4530-9e95-2481dd7ef9e4",
   "metadata": {},
   "outputs": [],
   "source": [
    "response_job_cost_qpu1 = requests.get(\n",
    "    f\"https://api.ionq.co/v0.4/jobs/{job_id_qpu1}/cost\",\n",
    "    headers=headers\n",
    ")"
   ]
  },
  {
   "cell_type": "code",
   "execution_count": null,
   "id": "da39f8a6-9f76-45b9-9c36-a43a249e9ac2",
   "metadata": {},
   "outputs": [],
   "source": [
    "response_job_cost_qpu1.json()"
   ]
  },
  {
   "cell_type": "code",
   "execution_count": null,
   "id": "0f6c58b8-7a5a-49af-8e99-953d5d3c6ebf",
   "metadata": {},
   "outputs": [],
   "source": []
  },
  {
   "cell_type": "markdown",
   "id": "44c6b93c-0fba-4fb6-b5a9-6318cd5816df",
   "metadata": {},
   "source": [
    "### Dry run\n",
    "\n",
    "Submitting a job with the `dry_run` option will perform the usual job submission process but will not actually add the job to the queue or run it. You can use this to test jobs and workflows (in addition to simulation and noisy simulation) as well as to get predicted job cost and timing information."
   ]
  },
  {
   "cell_type": "code",
   "execution_count": null,
   "id": "97f95813-9391-4f19-83d3-ee987535e7c2",
   "metadata": {},
   "outputs": [],
   "source": [
    "job_data_dryrun = {\n",
    "    \"name\": \"API example - dry run\",\n",
    "    \"type\": \"ionq.circuit.v1\",\n",
    "\n",
    "    # Don't actually submit to the QPU\n",
    "    \"dry_run\": True,\n",
    "\n",
    "    \"backend\": \"qpu.aria-1\",\n",
    "    \"shots\": 1000,\n",
    "    # Optionally, turn off debiasing\n",
    "    #\"settings\": {\"error_mitigation\": {\"debiasing\": False}},\n",
    "    \n",
    "    \"input\": {\n",
    "        \"qubits\": 2,\n",
    "        \"gateset\": \"qis\",\n",
    "        \"circuit\": [\n",
    "            {\"gate\": \"h\", \"target\": 0},\n",
    "            {\"gate\": \"x\", \"target\": 1, \"control\": 0}\n",
    "        ]\n",
    "    },\n",
    "}"
   ]
  },
  {
   "cell_type": "markdown",
   "id": "53b404a0-cea9-49b9-802e-4e50ef296dff",
   "metadata": {},
   "source": [
    "Submit the job:"
   ]
  },
  {
   "cell_type": "code",
   "execution_count": null,
   "id": "853ac47d-f3b8-4bd6-95d5-df83523c20c6",
   "metadata": {},
   "outputs": [],
   "source": [
    "response_create_job_dryrun = requests.post(\n",
    "    \"https://api.ionq.co/v0.4/jobs\",\n",
    "    headers=headers,\n",
    "    json=job_data_dryrun\n",
    ")"
   ]
  },
  {
   "cell_type": "code",
   "execution_count": null,
   "id": "ddcbe3bc-2ba9-46ac-bdc2-eb8270aeaefd",
   "metadata": {},
   "outputs": [],
   "source": [
    "response_create_job_dryrun.json()"
   ]
  },
  {
   "cell_type": "code",
   "execution_count": null,
   "id": "d13f3aae-08a0-4344-af21-a4b1d9ae5158",
   "metadata": {},
   "outputs": [],
   "source": [
    "job_id_dryrun = response_create_job_dryrun.json()['id']"
   ]
  },
  {
   "cell_type": "markdown",
   "id": "53ab0c8b-feec-4d6a-9b24-7b77dc6de3ea",
   "metadata": {},
   "source": [
    "The job status should change to \"completed\" instead of \"ready\", since it's not actually entering the queue. This should happen quickly."
   ]
  },
  {
   "cell_type": "code",
   "execution_count": null,
   "id": "67e58695-e4c8-4c5c-a47f-ad31e18cce56",
   "metadata": {},
   "outputs": [],
   "source": [
    "response_get_job_dryrun = requests.get(\n",
    "    f\"https://api.ionq.co/v0.4/jobs/{job_id_dryrun}\",\n",
    "    headers=headers\n",
    ")"
   ]
  },
  {
   "cell_type": "code",
   "execution_count": null,
   "id": "e960b7e9-816e-46d4-ae62-0195a98c7ef6",
   "metadata": {},
   "outputs": [],
   "source": [
    "response_get_job_dryrun.json()['status']"
   ]
  },
  {
   "cell_type": "markdown",
   "id": "b377a57d-9c11-48bd-a489-add0a13c02df",
   "metadata": {},
   "source": [
    "The response is similar to a queued job (with some information, like the submission time and predicted execution duration, already populated). However, this job is _completed_ with no results."
   ]
  },
  {
   "cell_type": "code",
   "execution_count": null,
   "id": "cc6ada40-d0c3-4316-8957-c592a833a55e",
   "metadata": {},
   "outputs": [],
   "source": [
    "response_get_job_dryrun.json()"
   ]
  },
  {
   "cell_type": "markdown",
   "id": "a7f1fd7c-77b9-488e-bcc1-c7d1e259e4ee",
   "metadata": {},
   "source": [
    "Check the predicted execution duration, which is measured in milliseconds. This doesn't give the full submission-to-results job duration (it doesn't include the queue or all pre/post-processing steps) or the direct billable time, but it can give an estimate of roughly how long the actual QPU execution part of the job will take."
   ]
  },
  {
   "cell_type": "code",
   "execution_count": null,
   "id": "d9a67f4c-f256-4698-9b00-88476f3a8d9e",
   "metadata": {},
   "outputs": [],
   "source": [
    "response_get_job_dryrun.json()['predicted_execution_duration_ms']"
   ]
  },
  {
   "cell_type": "markdown",
   "id": "36aa82ff-00e9-4647-9f2c-c768acad6f63",
   "metadata": {},
   "source": [
    "We can also request the cost:"
   ]
  },
  {
   "cell_type": "code",
   "execution_count": null,
   "id": "997e07a1-e3ca-4dde-9d59-d85409880363",
   "metadata": {},
   "outputs": [],
   "source": [
    "response_job_cost_dryrun = requests.get(\n",
    "    f\"https://api.ionq.co/v0.4/jobs/{job_id_dryrun}/cost\",\n",
    "    headers=headers\n",
    ")"
   ]
  },
  {
   "cell_type": "code",
   "execution_count": null,
   "id": "c522b89c-fea2-4189-93d2-2bb4229aa5eb",
   "metadata": {},
   "outputs": [],
   "source": [
    "response_job_cost_dryrun.json()"
   ]
  },
  {
   "cell_type": "markdown",
   "id": "810a311f-523b-4668-8e3a-9fd49bf5976c",
   "metadata": {},
   "source": [
    "This gives the estimated cost for the job, in credit expressed in USD."
   ]
  },
  {
   "cell_type": "code",
   "execution_count": null,
   "id": "5700d8f2-f25f-42a9-9caa-5760ae338b64",
   "metadata": {},
   "outputs": [],
   "source": []
  },
  {
   "cell_type": "markdown",
   "id": "f42b66c2-d993-41b9-b2dc-cf8701d6afb1",
   "metadata": {},
   "source": [
    "### Estimate cost without a circuit\n",
    "\n",
    "You can also get a cost estimate without actually preparing the job and submitting a dry run. The [estimate](https://docs.ionq.com/api-reference/v0.4/jobs/get-job-estimate) API endpoint gives a cost estimate based on gate and shot counts, backend, and error mitigation setting."
   ]
  },
  {
   "cell_type": "code",
   "execution_count": null,
   "id": "15d02907-3065-4af6-bf79-a93e388d64e7",
   "metadata": {},
   "outputs": [],
   "source": [
    "estimate = {\n",
    "    \"backend\": \"qpu.aria-1\",\n",
    "    \"qubits\": 25,\n",
    "    \"shots\": 1000,\n",
    "    \"1q_gates\": 400,\n",
    "    \"2q_gates\": 150,\n",
    "    \"error_mitigation\": True\n",
    "}"
   ]
  },
  {
   "cell_type": "code",
   "execution_count": null,
   "id": "1e2fff51-8c8d-4a76-8c99-6be1716a1728",
   "metadata": {},
   "outputs": [],
   "source": [
    "response_estimate = requests.get(\n",
    "    \"https://api.ionq.co/v0.4/jobs/estimate\",\n",
    "    headers=headers,\n",
    "    params=estimate\n",
    ")"
   ]
  },
  {
   "cell_type": "code",
   "execution_count": null,
   "id": "1a455395-6917-4c0d-9404-d6b4d848e6b1",
   "metadata": {},
   "outputs": [],
   "source": [
    "response_estimate.json()"
   ]
  },
  {
   "cell_type": "markdown",
   "id": "e3ab97e4-8665-412f-9ce1-f36efd90e61e",
   "metadata": {},
   "source": [
    "You can also do this in the docs."
   ]
  },
  {
   "cell_type": "code",
   "execution_count": null,
   "id": "ad05bab3-71eb-445d-b3fa-c6b0dc12cf66",
   "metadata": {},
   "outputs": [],
   "source": []
  },
  {
   "cell_type": "markdown",
   "id": "1817e043-0bad-43d5-a7ba-fa6222a6ed29",
   "metadata": {},
   "source": [
    "## Wrap-up\n",
    "\n",
    "While API v0.4 is currently in beta and not all endpoints are fully documented, it will be officially released soon. More job types, result formats, and settings will also become available in the future. For now, we'd appreciate your feedback on \n",
    "\n",
    "https://docs.ionq.com/api-reference/v0.4/introduction"
   ]
  },
  {
   "cell_type": "code",
   "execution_count": null,
   "id": "b12132ff-2bbd-43ee-9845-97ddb83d1c84",
   "metadata": {},
   "outputs": [],
   "source": []
  }
 ],
 "metadata": {
  "kernelspec": {
   "display_name": "Python 3 (ipykernel)",
   "language": "python",
   "name": "python3"
  },
  "language_info": {
   "codemirror_mode": {
    "name": "ipython",
    "version": 3
   },
   "file_extension": ".py",
   "mimetype": "text/x-python",
   "name": "python",
   "nbconvert_exporter": "python",
   "pygments_lexer": "ipython3",
   "version": "3.10.12"
  }
 },
 "nbformat": 4,
 "nbformat_minor": 5
}
