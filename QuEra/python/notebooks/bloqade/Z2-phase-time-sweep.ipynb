{
 "cells": [
  {
   "cell_type": "markdown",
   "id": "f14a6fd6-8b5e-43ce-a391-00bdfc5c5304",
   "metadata": {},
   "source": [
    "In this example we show how to create the Z2 ordered phase on a 1D chain of 11 atoms and how to perform a scan over the sweep time to understand the behavior of an adiabatic sweep and the effect of the Rydberg blockade on a many-body system."
   ]
  },
  {
   "cell_type": "code",
   "execution_count": 2,
   "id": "d77414c1-a49e-4cd4-879b-34a2bf31a3db",
   "metadata": {},
   "outputs": [
    {
     "name": "stderr",
     "output_type": "stream",
     "text": [
      "OpenBLAS WARNING - could not determine the L2 cache size on this system, assuming 256k\n",
      "OpenBLAS WARNING - could not determine the L2 cache size on this system, assuming 256k\n"
     ]
    }
   ],
   "source": [
    "from bloqade import save, load\n",
    "from bloqade.atom_arrangement import Chain\n",
    "import numpy as np\n",
    "import os, time\n",
    "import matplotlib.pyplot as plt"
   ]
  },
  {
   "cell_type": "code",
   "execution_count": 3,
   "id": "65a59539-e683-4559-8417-21091d2af2ab",
   "metadata": {},
   "outputs": [],
   "source": [
    "# Define relevant parameters for the lattice geometry and pulse schedule\n",
    "n_atoms = 11\n",
    "lattice_const = 6.1\n",
    "min_time_step = 0.05\n",
    "\n",
    "# Define Rabi amplitude and detuning values.\n",
    "# Note the addition of a \"sweep_time\" variable\n",
    "# for performing sweeps of time values.\n",
    "rabi_amplitude_values = [0.0, 15.8, 15.8, 0.0]\n",
    "rabi_detuning_values = [-16.33, -16.33, 16.33, 16.33]\n",
    "durations = [0.8, \"sweep_time\", 0.8]\n",
    "\n",
    "time_sweep_z2_prog = (\n",
    "    Chain(n_atoms, lattice_const)\n",
    "    .rydberg.rabi.amplitude.uniform.piecewise_linear(durations, rabi_amplitude_values)\n",
    "    .detuning.uniform.piecewise_linear(durations, rabi_detuning_values)\n",
    ")\n",
    "\n",
    "# Allow \"sweep_time\" to assume values from 0.05 to 2.4 microseconds for a total of\n",
    "# 20 possible values.\n",
    "# Starting at exactly 0.0 isn't feasible so we use the `min_time_step` defined\n",
    "# previously.\n",
    "time_sweep_z2_job = time_sweep_z2_prog.batch_assign(\n",
    "    sweep_time=np.linspace(min_time_step, 2.4, 20)\n",
    ")"
   ]
  },
  {
   "cell_type": "code",
   "execution_count": 4,
   "id": "a25e64c0-8e1b-4eee-afed-9c90f16ac688",
   "metadata": {},
   "outputs": [],
   "source": [
    "# util func extracting Z2-pahse probability\n",
    "def get_z2_probabilities(report):\n",
    "    z2_probabilities = []\n",
    "    for count in report.counts:\n",
    "        z2_probability = count[\"01010101010\"] / sum(list(count.values()))\n",
    "        z2_probabilities.append(z2_probability)\n",
    "\n",
    "    return z2_probabilities"
   ]
  },
  {
   "cell_type": "code",
   "execution_count": 5,
   "id": "3b597acd-08e5-49fd-8396-2988ff21f2ac",
   "metadata": {},
   "outputs": [],
   "source": [
    "t0=time.time()\n",
    "emu_batch = time_sweep_z2_job.braket.local_emulator().run(shots=1000)\n",
    "print('run elaT=%.1f sec'%(time.time()-t0))"
   ]
  },
  {
   "cell_type": "code",
   "execution_count": 7,
   "id": "00078640-f021-4be2-bbaf-ae38daf32ce1",
   "metadata": {},
   "outputs": [
    {
     "data": {
      "image/png": "[encoded data removed]",
      "text/plain": [
       "<Figure size 640x480 with 1 Axes>"
      ]
     },
     "metadata": {},
     "output_type": "display_data"
    }
   ],
   "source": [
    "emu_report = emu_batch.report()\n",
    "emu_probabilities = get_z2_probabilities(emu_report)\n",
    "emu_sweep_times = emu_report.list_param(\"sweep_time\")\n",
    "plt.plot(emu_sweep_times, emu_probabilities, label=\"Emulator\", color=\"#878787\")\n",
    "\n",
    "plt.show()"
   ]
  },
  {
   "cell_type": "code",
   "execution_count": 8,
   "id": "cbeeb67f-3cd9-44ee-be46-30d9c4d2de96",
   "metadata": {},
   "outputs": [
    {
     "data": {
      "text/plain": [
       "<bloqade.task.base.Report at 0x7f206ad6cf10>"
      ]
     },
     "execution_count": 8,
     "metadata": {},
     "output_type": "execute_result"
    }
   ],
   "source": [
    "emu_report"
   ]
  },
  {
   "cell_type": "code",
   "execution_count": null,
   "id": "b9518deb-8aed-4d3d-aee8-09bebb35fe22",
   "metadata": {},
   "outputs": [],
   "source": []
  }
 ],
 "metadata": {
  "kernelspec": {
   "display_name": "Python 3 (ipykernel)",
   "language": "python",
   "name": "python3"
  },
  "language_info": {
   "codemirror_mode": {
    "name": "ipython",
    "version": 3
   },
   "file_extension": ".py",
   "mimetype": "text/x-python",
   "name": "python",
   "nbconvert_exporter": "python",
   "pygments_lexer": "ipython3",
   "version": "3.10.12"
  }
 },
 "nbformat": 4,
 "nbformat_minor": 5
}
