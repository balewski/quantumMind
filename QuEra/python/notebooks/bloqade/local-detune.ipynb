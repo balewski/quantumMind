{
 "cells": [
  {
   "cell_type": "code",
   "execution_count": null,
   "id": "736a3a4a-9e82-4740-b941-4efdb5d45c3c",
   "metadata": {},
   "outputs": [],
   "source": [
    "from bokeh.io import output_notebook\n",
    "# This tells Bokeh to display output in the notebook versus opening a browser window\n",
    "output_notebook()"
   ]
  },
  {
   "cell_type": "code",
   "execution_count": null,
   "id": "0d023bed-df82-4af5-a325-4318dc6cee8b",
   "metadata": {},
   "outputs": [],
   "source": [
    "# toy problem with local detuning\n",
    "from bloqade import start\n",
    "import time\n",
    "\n",
    "# Define relevant parameters\n",
    "durations = [0.8, \"sweep_time\", 0.8]  # (us)\n",
    "register = start.add_position([(0,0),(5,0),(10,0)])  # (um)\n",
    "omega_max=15.7  # (rad/us)\n",
    "delta_glob_max=124.  # (rad/us)\n",
    "delta_loc_max=62.  # (rad/us)\n",
    "\n",
    "# add local detuning\n",
    "atomLab=[0,1,2]  # atom names labeled by their placement order. Counting from 0?\n",
    "atomScale=[0.7,0.5,0.3]  # (range [0,1])  those are  modulations for the common local detune\n",
    "\n",
    "prog = (\n",
    "    register\n",
    "    .rydberg.rabi.amplitude.uniform.piecewise_linear(\n",
    "        durations, values=[0.0, \"rabi_drive\", \"rabi_drive\", 0.0])\n",
    "    .rydberg.detuning.uniform.piecewise_linear(\n",
    "        durations, values=[\"detune_min\",\"detune_min\",\"detune_max\",\"detune_max\"])\n",
    "    .location(atomLab,atomScale).piecewise_linear(\n",
    "        durations, values=[0.,0.,\"detune_local\",\"detune_local\"])\n",
    ")\n",
    "\n",
    "job = prog.assign(sweep_time=1.2,rabi_drive=omega_max,\n",
    "            detune_min=-delta_glob_max, detune_max=delta_glob_max, detune_local=delta_loc_max)\n",
    "#print(program)\n",
    "t0=time.time()\n",
    "emu_batch = job.braket.local_emulator().run(100)\n",
    "print('run elaT=%.1f sec'%(time.time()-t0))\n",
    "report = emu_batch.report()\n",
    "counts=report.counts   # does it remove 'e' from pre-measure and is '1'=rydberg?\n",
    "print('Counts:',counts)\n"
   ]
  },
  {
   "cell_type": "code",
   "execution_count": null,
   "id": "7d64ee95-1ed2-46b0-b0df-a55b76d87a28",
   "metadata": {},
   "outputs": [],
   "source": [
    "print(prog)"
   ]
  },
  {
   "cell_type": "code",
   "execution_count": null,
   "id": "ab73b12b-abb4-4777-8566-7cc1166577ca",
   "metadata": {},
   "outputs": [],
   "source": [
    "emu_batch.source.show()"
   ]
  },
  {
   "cell_type": "code",
   "execution_count": null,
   "id": "c7814cce-e004-4d3a-a75d-80d0610bdfb6",
   "metadata": {},
   "outputs": [],
   "source": []
  }
 ],
 "metadata": {
  "kernelspec": {
   "display_name": "Python 3 (ipykernel)",
   "language": "python",
   "name": "python3"
  },
  "language_info": {
   "codemirror_mode": {
    "name": "ipython",
    "version": 3
   },
   "file_extension": ".py",
   "mimetype": "text/x-python",
   "name": "python",
   "nbconvert_exporter": "python",
   "pygments_lexer": "ipython3",
   "version": "3.10.12"
  }
 },
 "nbformat": 4,
 "nbformat_minor": 5
}
