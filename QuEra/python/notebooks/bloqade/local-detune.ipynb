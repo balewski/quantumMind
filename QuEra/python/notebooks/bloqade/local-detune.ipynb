{
 "cells": [
  {
   "cell_type": "markdown",
   "id": "0e1141d6-9f36-46e9-b551-877c1f643d3f",
   "metadata": {},
   "source": [
    "### Run job locally and on AWS"
   ]
  },
  {
   "cell_type": "code",
   "execution_count": 17,
   "id": "736a3a4a-9e82-4740-b941-4efdb5d45c3c",
   "metadata": {},
   "outputs": [
    {
     "data": {
      "text/html": [
       "    <style>\n",
       "        .bk-notebook-logo {\n",
       "            display: block;\n",
       "            width: 20px;\n",
       "            height: 20px;\n",
       "            background-image: url(data:image/png;base64,iVBORw0KGgoAAAANSUhEUgAAABQAAAAUCAYAAACNiR0NAAAABHNCSVQICAgIfAhkiAAAAAlwSFlzAAALEgAACxIB0t1+/AAAABx0RVh0U29mdHdhcmUAQWRvYmUgRmlyZXdvcmtzIENTNui8sowAAAOkSURBVDiNjZRtaJVlGMd/1/08zzln5zjP1LWcU9N0NkN8m2CYjpgQYQXqSs0I84OLIC0hkEKoPtiH3gmKoiJDU7QpLgoLjLIQCpEsNJ1vqUOdO7ppbuec5+V+rj4ctwzd8IIbbi6u+8f1539dt3A78eXC7QizUF7gyV1fD1Yqg4JWz84yffhm0qkFqBogB9rM8tZdtwVsPUhWhGcFJngGeWrPzHm5oaMmkfEg1usvLFyc8jLRqDOMru7AyC8saQr7GG7f5fvDeH7Ej8CM66nIF+8yngt6HWaKh7k49Soy9nXurCi1o3qUbS3zWfrYeQDTB/Qj6kX6Ybhw4B+bOYoLKCC9H3Nu/leUTZ1JdRWkkn2ldcCamzrcf47KKXdAJllSlxAOkRgyHsGC/zRday5Qld9DyoM4/q/rUoy/CXh3jzOu3bHUVZeU+DEn8FInkPBFlu3+nW3Nw0mk6vCDiWg8CeJaxEwuHS3+z5RgY+YBR6V1Z1nxSOfoaPa4LASWxxdNp+VWTk7+4vzaou8v8PN+xo+KY2xsw6une2frhw05CTYOmQvsEhjhWjn0bmXPjpE1+kplmmkP3suftwTubK9Vq22qKmrBhpY4jvd5afdRA3wGjFAgcnTK2s4hY0/GPNIb0nErGMCRxWOOX64Z8RAC4oCXdklmEvcL8o0BfkNK4lUg9HTl+oPlQxdNo3Mg4Nv175e/1LDGzZen30MEjRUtmXSfiTVu1kK8W4txyV6BMKlbgk3lMwYCiusNy9fVfvvwMxv8Ynl6vxoByANLTWplvuj/nF9m2+PDtt1eiHPBr1oIfhCChQMBw6Aw0UulqTKZdfVvfG7VcfIqLG9bcldL/+pdWTLxLUy8Qq38heUIjh4XlzZxzQm19lLFlr8vdQ97rjZVOLf8nclzckbcD4wxXMidpX30sFd37Fv/GtwwhzhxGVAprjbg0gCAEeIgwCZyTV2Z1REEW8O4py0wsjeloKoMr6iCY6dP92H6Vw/oTyICIthibxjm/DfN9lVz8IqtqKYLUXfoKVMVQVVJOElGjrnnUt9T9wbgp8AyYKaGlqingHZU/uG2NTZSVqwHQTWkx9hxjkpWDaCg6Ckj5qebgBVbT3V3NNXMSiWSDdGV3hrtzla7J+duwPOToIg42ChPQOQjspnSlp1V+Gjdged7+8UN5CRAV7a5EdFNwCjEaBR27b3W890TE7g24NAP/mMDXRWrGoFPQI9ls/MWO2dWFAar/xcOIImbbpA3zgAAAABJRU5ErkJggg==);\n",
       "        }\n",
       "    </style>\n",
       "    <div>\n",
       "        <a href=\"https://bokeh.org\" target=\"_blank\" class=\"bk-notebook-logo\"></a>\n",
       "        <span id=\"b1317f74-14a2-446a-802f-5861c61fbd0c\">Loading BokehJS ...</span>\n",
       "    </div>\n"
      ]
     },
     "metadata": {},
     "output_type": "display_data"
    },
    {
     "data": {
      "application/javascript": [
       "'use strict';\n",
       "(function(root) {\n",
       "  function now() {\n",
       "    return new Date();\n",
       "  }\n",
       "\n",
       "  const force = true;\n",
       "\n",
       "  if (typeof root._bokeh_onload_callbacks === \"undefined\" || force === true) {\n",
       "    root._bokeh_onload_callbacks = [];\n",
       "    root._bokeh_is_loading = undefined;\n",
       "  }\n",
       "\n",
       "const JS_MIME_TYPE = 'application/javascript';\n",
       "  const HTML_MIME_TYPE = 'text/html';\n",
       "  const EXEC_MIME_TYPE = 'application/vnd.bokehjs_exec.v0+json';\n",
       "  const CLASS_NAME = 'output_bokeh rendered_html';\n",
       "\n",
       "  /**\n",
       "   * Render data to the DOM node\n",
       "   */\n",
       "  function render(props, node) {\n",
       "    const script = document.createElement(\"script\");\n",
       "    node.appendChild(script);\n",
       "  }\n",
       "\n",
       "  /**\n",
       "   * Handle when an output is cleared or removed\n",
       "   */\n",
       "  function handleClearOutput(event, handle) {\n",
       "    function drop(id) {\n",
       "      const view = Bokeh.index.get_by_id(id)\n",
       "      if (view != null) {\n",
       "        view.model.document.clear()\n",
       "        Bokeh.index.delete(view)\n",
       "      }\n",
       "    }\n",
       "\n",
       "    const cell = handle.cell;\n",
       "\n",
       "    const id = cell.output_area._bokeh_element_id;\n",
       "    const server_id = cell.output_area._bokeh_server_id;\n",
       "\n",
       "    // Clean up Bokeh references\n",
       "    if (id != null) {\n",
       "      drop(id)\n",
       "    }\n",
       "\n",
       "    if (server_id !== undefined) {\n",
       "      // Clean up Bokeh references\n",
       "      const cmd_clean = \"from bokeh.io.state import curstate; print(curstate().uuid_to_server['\" + server_id + \"'].get_sessions()[0].document.roots[0]._id)\";\n",
       "      cell.notebook.kernel.execute(cmd_clean, {\n",
       "        iopub: {\n",
       "          output: function(msg) {\n",
       "            const id = msg.content.text.trim()\n",
       "            drop(id)\n",
       "          }\n",
       "        }\n",
       "      });\n",
       "      // Destroy server and session\n",
       "      const cmd_destroy = \"import bokeh.io.notebook as ion; ion.destroy_server('\" + server_id + \"')\";\n",
       "      cell.notebook.kernel.execute(cmd_destroy);\n",
       "    }\n",
       "  }\n",
       "\n",
       "  /**\n",
       "   * Handle when a new output is added\n",
       "   */\n",
       "  function handleAddOutput(event, handle) {\n",
       "    const output_area = handle.output_area;\n",
       "    const output = handle.output;\n",
       "\n",
       "    // limit handleAddOutput to display_data with EXEC_MIME_TYPE content only\n",
       "    if ((output.output_type != \"display_data\") || (!Object.prototype.hasOwnProperty.call(output.data, EXEC_MIME_TYPE))) {\n",
       "      return\n",
       "    }\n",
       "\n",
       "    const toinsert = output_area.element.find(\".\" + CLASS_NAME.split(' ')[0]);\n",
       "\n",
       "    if (output.metadata[EXEC_MIME_TYPE][\"id\"] !== undefined) {\n",
       "      toinsert[toinsert.length - 1].firstChild.textContent = output.data[JS_MIME_TYPE];\n",
       "      // store reference to embed id on output_area\n",
       "      output_area._bokeh_element_id = output.metadata[EXEC_MIME_TYPE][\"id\"];\n",
       "    }\n",
       "    if (output.metadata[EXEC_MIME_TYPE][\"server_id\"] !== undefined) {\n",
       "      const bk_div = document.createElement(\"div\");\n",
       "      bk_div.innerHTML = output.data[HTML_MIME_TYPE];\n",
       "      const script_attrs = bk_div.children[0].attributes;\n",
       "      for (let i = 0; i < script_attrs.length; i++) {\n",
       "        toinsert[toinsert.length - 1].firstChild.setAttribute(script_attrs[i].name, script_attrs[i].value);\n",
       "        toinsert[toinsert.length - 1].firstChild.textContent = bk_div.children[0].textContent\n",
       "      }\n",
       "      // store reference to server id on output_area\n",
       "      output_area._bokeh_server_id = output.metadata[EXEC_MIME_TYPE][\"server_id\"];\n",
       "    }\n",
       "  }\n",
       "\n",
       "  function register_renderer(events, OutputArea) {\n",
       "\n",
       "    function append_mime(data, metadata, element) {\n",
       "      // create a DOM node to render to\n",
       "      const toinsert = this.create_output_subarea(\n",
       "        metadata,\n",
       "        CLASS_NAME,\n",
       "        EXEC_MIME_TYPE\n",
       "      );\n",
       "      this.keyboard_manager.register_events(toinsert);\n",
       "      // Render to node\n",
       "      const props = {data: data, metadata: metadata[EXEC_MIME_TYPE]};\n",
       "      render(props, toinsert[toinsert.length - 1]);\n",
       "      element.append(toinsert);\n",
       "      return toinsert\n",
       "    }\n",
       "\n",
       "    /* Handle when an output is cleared or removed */\n",
       "    events.on('clear_output.CodeCell', handleClearOutput);\n",
       "    events.on('delete.Cell', handleClearOutput);\n",
       "\n",
       "    /* Handle when a new output is added */\n",
       "    events.on('output_added.OutputArea', handleAddOutput);\n",
       "\n",
       "    /**\n",
       "     * Register the mime type and append_mime function with output_area\n",
       "     */\n",
       "    OutputArea.prototype.register_mime_type(EXEC_MIME_TYPE, append_mime, {\n",
       "      /* Is output safe? */\n",
       "      safe: true,\n",
       "      /* Index of renderer in `output_area.display_order` */\n",
       "      index: 0\n",
       "    });\n",
       "  }\n",
       "\n",
       "  // register the mime type if in Jupyter Notebook environment and previously unregistered\n",
       "  if (root.Jupyter !== undefined) {\n",
       "    const events = require('base/js/events');\n",
       "    const OutputArea = require('notebook/js/outputarea').OutputArea;\n",
       "\n",
       "    if (OutputArea.prototype.mime_types().indexOf(EXEC_MIME_TYPE) == -1) {\n",
       "      register_renderer(events, OutputArea);\n",
       "    }\n",
       "  }\n",
       "  if (typeof (root._bokeh_timeout) === \"undefined\" || force === true) {\n",
       "    root._bokeh_timeout = Date.now() + 5000;\n",
       "    root._bokeh_failed_load = false;\n",
       "  }\n",
       "\n",
       "  const NB_LOAD_WARNING = {'data': {'text/html':\n",
       "     \"<div style='background-color: #fdd'>\\n\"+\n",
       "     \"<p>\\n\"+\n",
       "     \"BokehJS does not appear to have successfully loaded. If loading BokehJS from CDN, this \\n\"+\n",
       "     \"may be due to a slow or bad network connection. Possible fixes:\\n\"+\n",
       "     \"</p>\\n\"+\n",
       "     \"<ul>\\n\"+\n",
       "     \"<li>re-rerun `output_notebook()` to attempt to load from CDN again, or</li>\\n\"+\n",
       "     \"<li>use INLINE resources instead, as so:</li>\\n\"+\n",
       "     \"</ul>\\n\"+\n",
       "     \"<code>\\n\"+\n",
       "     \"from bokeh.resources import INLINE\\n\"+\n",
       "     \"output_notebook(resources=INLINE)\\n\"+\n",
       "     \"</code>\\n\"+\n",
       "     \"</div>\"}};\n",
       "\n",
       "  function display_loaded(error = null) {\n",
       "    const el = document.getElementById(\"b1317f74-14a2-446a-802f-5861c61fbd0c\");\n",
       "    if (el != null) {\n",
       "      const html = (() => {\n",
       "        if (typeof root.Bokeh === \"undefined\") {\n",
       "          if (error == null) {\n",
       "            return \"BokehJS is loading ...\";\n",
       "          } else {\n",
       "            return \"BokehJS failed to load.\";\n",
       "          }\n",
       "        } else {\n",
       "          const prefix = `BokehJS ${root.Bokeh.version}`;\n",
       "          if (error == null) {\n",
       "            return `${prefix} successfully loaded.`;\n",
       "          } else {\n",
       "            return `${prefix} <b>encountered errors</b> while loading and may not function as expected.`;\n",
       "          }\n",
       "        }\n",
       "      })();\n",
       "      el.innerHTML = html;\n",
       "\n",
       "      if (error != null) {\n",
       "        const wrapper = document.createElement(\"div\");\n",
       "        wrapper.style.overflow = \"auto\";\n",
       "        wrapper.style.height = \"5em\";\n",
       "        wrapper.style.resize = \"vertical\";\n",
       "        const content = document.createElement(\"div\");\n",
       "        content.style.fontFamily = \"monospace\";\n",
       "        content.style.whiteSpace = \"pre-wrap\";\n",
       "        content.style.backgroundColor = \"rgb(255, 221, 221)\";\n",
       "        content.textContent = error.stack ?? error.toString();\n",
       "        wrapper.append(content);\n",
       "        el.append(wrapper);\n",
       "      }\n",
       "    } else if (Date.now() < root._bokeh_timeout) {\n",
       "      setTimeout(() => display_loaded(error), 100);\n",
       "    }\n",
       "  }\n",
       "\n",
       "  function run_callbacks() {\n",
       "    try {\n",
       "      root._bokeh_onload_callbacks.forEach(function(callback) {\n",
       "        if (callback != null)\n",
       "          callback();\n",
       "      });\n",
       "    } finally {\n",
       "      delete root._bokeh_onload_callbacks\n",
       "    }\n",
       "    console.debug(\"Bokeh: all callbacks have finished\");\n",
       "  }\n",
       "\n",
       "  function load_libs(css_urls, js_urls, callback) {\n",
       "    if (css_urls == null) css_urls = [];\n",
       "    if (js_urls == null) js_urls = [];\n",
       "\n",
       "    root._bokeh_onload_callbacks.push(callback);\n",
       "    if (root._bokeh_is_loading > 0) {\n",
       "      console.debug(\"Bokeh: BokehJS is being loaded, scheduling callback at\", now());\n",
       "      return null;\n",
       "    }\n",
       "    if (js_urls == null || js_urls.length === 0) {\n",
       "      run_callbacks();\n",
       "      return null;\n",
       "    }\n",
       "    console.debug(\"Bokeh: BokehJS not loaded, scheduling load and callback at\", now());\n",
       "    root._bokeh_is_loading = css_urls.length + js_urls.length;\n",
       "\n",
       "    function on_load() {\n",
       "      root._bokeh_is_loading--;\n",
       "      if (root._bokeh_is_loading === 0) {\n",
       "        console.debug(\"Bokeh: all BokehJS libraries/stylesheets loaded\");\n",
       "        run_callbacks()\n",
       "      }\n",
       "    }\n",
       "\n",
       "    function on_error(url) {\n",
       "      console.error(\"failed to load \" + url);\n",
       "    }\n",
       "\n",
       "    for (let i = 0; i < css_urls.length; i++) {\n",
       "      const url = css_urls[i];\n",
       "      const element = document.createElement(\"link\");\n",
       "      element.onload = on_load;\n",
       "      element.onerror = on_error.bind(null, url);\n",
       "      element.rel = \"stylesheet\";\n",
       "      element.type = \"text/css\";\n",
       "      element.href = url;\n",
       "      console.debug(\"Bokeh: injecting link tag for BokehJS stylesheet: \", url);\n",
       "      document.body.appendChild(element);\n",
       "    }\n",
       "\n",
       "    for (let i = 0; i < js_urls.length; i++) {\n",
       "      const url = js_urls[i];\n",
       "      const element = document.createElement('script');\n",
       "      element.onload = on_load;\n",
       "      element.onerror = on_error.bind(null, url);\n",
       "      element.async = false;\n",
       "      element.src = url;\n",
       "      console.debug(\"Bokeh: injecting script tag for BokehJS library: \", url);\n",
       "      document.head.appendChild(element);\n",
       "    }\n",
       "  };\n",
       "\n",
       "  function inject_raw_css(css) {\n",
       "    const element = document.createElement(\"style\");\n",
       "    element.appendChild(document.createTextNode(css));\n",
       "    document.body.appendChild(element);\n",
       "  }\n",
       "\n",
       "  const js_urls = [\"https://cdn.bokeh.org/bokeh/release/bokeh-3.6.0.min.js\", \"https://cdn.bokeh.org/bokeh/release/bokeh-gl-3.6.0.min.js\", \"https://cdn.bokeh.org/bokeh/release/bokeh-widgets-3.6.0.min.js\", \"https://cdn.bokeh.org/bokeh/release/bokeh-tables-3.6.0.min.js\", \"https://cdn.bokeh.org/bokeh/release/bokeh-mathjax-3.6.0.min.js\"];\n",
       "  const css_urls = [];\n",
       "\n",
       "  const inline_js = [    function(Bokeh) {\n",
       "      Bokeh.set_log_level(\"info\");\n",
       "    },\n",
       "function(Bokeh) {\n",
       "    }\n",
       "  ];\n",
       "\n",
       "  function run_inline_js() {\n",
       "    if (root.Bokeh !== undefined || force === true) {\n",
       "      try {\n",
       "            for (let i = 0; i < inline_js.length; i++) {\n",
       "      inline_js[i].call(root, root.Bokeh);\n",
       "    }\n",
       "\n",
       "      } catch (error) {display_loaded(error);throw error;\n",
       "      }if (force === true) {\n",
       "        display_loaded();\n",
       "      }} else if (Date.now() < root._bokeh_timeout) {\n",
       "      setTimeout(run_inline_js, 100);\n",
       "    } else if (!root._bokeh_failed_load) {\n",
       "      console.log(\"Bokeh: BokehJS failed to load within specified timeout.\");\n",
       "      root._bokeh_failed_load = true;\n",
       "    } else if (force !== true) {\n",
       "      const cell = $(document.getElementById(\"b1317f74-14a2-446a-802f-5861c61fbd0c\")).parents('.cell').data().cell;\n",
       "      cell.output_area.append_execute_result(NB_LOAD_WARNING)\n",
       "    }\n",
       "  }\n",
       "\n",
       "  if (root._bokeh_is_loading === 0) {\n",
       "    console.debug(\"Bokeh: BokehJS loaded, going straight to plotting\");\n",
       "    run_inline_js();\n",
       "  } else {\n",
       "    load_libs(css_urls, js_urls, function() {\n",
       "      console.debug(\"Bokeh: BokehJS plotting callback run at\", now());\n",
       "      run_inline_js();\n",
       "    });\n",
       "  }\n",
       "}(window));"
      ],
      "application/vnd.bokehjs_load.v0+json": "'use strict';\n(function(root) {\n  function now() {\n    return new Date();\n  }\n\n  const force = true;\n\n  if (typeof root._bokeh_onload_callbacks === \"undefined\" || force === true) {\n    root._bokeh_onload_callbacks = [];\n    root._bokeh_is_loading = undefined;\n  }\n\n\n  if (typeof (root._bokeh_timeout) === \"undefined\" || force === true) {\n    root._bokeh_timeout = Date.now() + 5000;\n    root._bokeh_failed_load = false;\n  }\n\n  const NB_LOAD_WARNING = {'data': {'text/html':\n     \"<div style='background-color: #fdd'>\\n\"+\n     \"<p>\\n\"+\n     \"BokehJS does not appear to have successfully loaded. If loading BokehJS from CDN, this \\n\"+\n     \"may be due to a slow or bad network connection. Possible fixes:\\n\"+\n     \"</p>\\n\"+\n     \"<ul>\\n\"+\n     \"<li>re-rerun `output_notebook()` to attempt to load from CDN again, or</li>\\n\"+\n     \"<li>use INLINE resources instead, as so:</li>\\n\"+\n     \"</ul>\\n\"+\n     \"<code>\\n\"+\n     \"from bokeh.resources import INLINE\\n\"+\n     \"output_notebook(resources=INLINE)\\n\"+\n     \"</code>\\n\"+\n     \"</div>\"}};\n\n  function display_loaded(error = null) {\n    const el = document.getElementById(\"b1317f74-14a2-446a-802f-5861c61fbd0c\");\n    if (el != null) {\n      const html = (() => {\n        if (typeof root.Bokeh === \"undefined\") {\n          if (error == null) {\n            return \"BokehJS is loading ...\";\n          } else {\n            return \"BokehJS failed to load.\";\n          }\n        } else {\n          const prefix = `BokehJS ${root.Bokeh.version}`;\n          if (error == null) {\n            return `${prefix} successfully loaded.`;\n          } else {\n            return `${prefix} <b>encountered errors</b> while loading and may not function as expected.`;\n          }\n        }\n      })();\n      el.innerHTML = html;\n\n      if (error != null) {\n        const wrapper = document.createElement(\"div\");\n        wrapper.style.overflow = \"auto\";\n        wrapper.style.height = \"5em\";\n        wrapper.style.resize = \"vertical\";\n        const content = document.createElement(\"div\");\n        content.style.fontFamily = \"monospace\";\n        content.style.whiteSpace = \"pre-wrap\";\n        content.style.backgroundColor = \"rgb(255, 221, 221)\";\n        content.textContent = error.stack ?? error.toString();\n        wrapper.append(content);\n        el.append(wrapper);\n      }\n    } else if (Date.now() < root._bokeh_timeout) {\n      setTimeout(() => display_loaded(error), 100);\n    }\n  }\n\n  function run_callbacks() {\n    try {\n      root._bokeh_onload_callbacks.forEach(function(callback) {\n        if (callback != null)\n          callback();\n      });\n    } finally {\n      delete root._bokeh_onload_callbacks\n    }\n    console.debug(\"Bokeh: all callbacks have finished\");\n  }\n\n  function load_libs(css_urls, js_urls, callback) {\n    if (css_urls == null) css_urls = [];\n    if (js_urls == null) js_urls = [];\n\n    root._bokeh_onload_callbacks.push(callback);\n    if (root._bokeh_is_loading > 0) {\n      console.debug(\"Bokeh: BokehJS is being loaded, scheduling callback at\", now());\n      return null;\n    }\n    if (js_urls == null || js_urls.length === 0) {\n      run_callbacks();\n      return null;\n    }\n    console.debug(\"Bokeh: BokehJS not loaded, scheduling load and callback at\", now());\n    root._bokeh_is_loading = css_urls.length + js_urls.length;\n\n    function on_load() {\n      root._bokeh_is_loading--;\n      if (root._bokeh_is_loading === 0) {\n        console.debug(\"Bokeh: all BokehJS libraries/stylesheets loaded\");\n        run_callbacks()\n      }\n    }\n\n    function on_error(url) {\n      console.error(\"failed to load \" + url);\n    }\n\n    for (let i = 0; i < css_urls.length; i++) {\n      const url = css_urls[i];\n      const element = document.createElement(\"link\");\n      element.onload = on_load;\n      element.onerror = on_error.bind(null, url);\n      element.rel = \"stylesheet\";\n      element.type = \"text/css\";\n      element.href = url;\n      console.debug(\"Bokeh: injecting link tag for BokehJS stylesheet: \", url);\n      document.body.appendChild(element);\n    }\n\n    for (let i = 0; i < js_urls.length; i++) {\n      const url = js_urls[i];\n      const element = document.createElement('script');\n      element.onload = on_load;\n      element.onerror = on_error.bind(null, url);\n      element.async = false;\n      element.src = url;\n      console.debug(\"Bokeh: injecting script tag for BokehJS library: \", url);\n      document.head.appendChild(element);\n    }\n  };\n\n  function inject_raw_css(css) {\n    const element = document.createElement(\"style\");\n    element.appendChild(document.createTextNode(css));\n    document.body.appendChild(element);\n  }\n\n  const js_urls = [\"https://cdn.bokeh.org/bokeh/release/bokeh-3.6.0.min.js\", \"https://cdn.bokeh.org/bokeh/release/bokeh-gl-3.6.0.min.js\", \"https://cdn.bokeh.org/bokeh/release/bokeh-widgets-3.6.0.min.js\", \"https://cdn.bokeh.org/bokeh/release/bokeh-tables-3.6.0.min.js\", \"https://cdn.bokeh.org/bokeh/release/bokeh-mathjax-3.6.0.min.js\"];\n  const css_urls = [];\n\n  const inline_js = [    function(Bokeh) {\n      Bokeh.set_log_level(\"info\");\n    },\nfunction(Bokeh) {\n    }\n  ];\n\n  function run_inline_js() {\n    if (root.Bokeh !== undefined || force === true) {\n      try {\n            for (let i = 0; i < inline_js.length; i++) {\n      inline_js[i].call(root, root.Bokeh);\n    }\n\n      } catch (error) {display_loaded(error);throw error;\n      }if (force === true) {\n        display_loaded();\n      }} else if (Date.now() < root._bokeh_timeout) {\n      setTimeout(run_inline_js, 100);\n    } else if (!root._bokeh_failed_load) {\n      console.log(\"Bokeh: BokehJS failed to load within specified timeout.\");\n      root._bokeh_failed_load = true;\n    } else if (force !== true) {\n      const cell = $(document.getElementById(\"b1317f74-14a2-446a-802f-5861c61fbd0c\")).parents('.cell').data().cell;\n      cell.output_area.append_execute_result(NB_LOAD_WARNING)\n    }\n  }\n\n  if (root._bokeh_is_loading === 0) {\n    console.debug(\"Bokeh: BokehJS loaded, going straight to plotting\");\n    run_inline_js();\n  } else {\n    load_libs(css_urls, js_urls, function() {\n      console.debug(\"Bokeh: BokehJS plotting callback run at\", now());\n      run_inline_js();\n    });\n  }\n}(window));"
     },
     "metadata": {},
     "output_type": "display_data"
    },
    {
     "name": "stdout",
     "output_type": "stream",
     "text": [
      "bloqade                           0.15.14\n"
     ]
    }
   ],
   "source": [
    "from bokeh.io import output_notebook\n",
    "# This tells Bokeh to display output in the notebook versus opening a browser window\n",
    "output_notebook()\n",
    "! pip3 list |grep bloq"
   ]
  },
  {
   "cell_type": "code",
   "execution_count": 89,
   "id": "0d023bed-df82-4af5-a325-4318dc6cee8b",
   "metadata": {},
   "outputs": [
    {
     "name": "stdout",
     "output_type": "stream",
     "text": [
      "run elaT=0.1 sec\n",
      "Counts: [OrderedDict({'010': 68, '101': 23, '110': 8, '011': 1})]\n"
     ]
    }
   ],
   "source": [
    "# toy problem with local detuning\n",
    "from bloqade import start, save\n",
    "import time\n",
    "\n",
    "# Define relevant parameters\n",
    "durations = [0.8, \"sweep_time\", 0.8]  # (us)\n",
    "register = start.add_position([(0,0),(5,0),(10,0)])  # (um)\n",
    "omega_max=15.7  # (rad/us)\n",
    "delta_glob_max=124.  # (rad/us)\n",
    "delta_loc_max=-1.1  # (rad/us)\n",
    "\n",
    "# add local detuning\n",
    "atomLab=[0,1,2]  # atom names labeled by their placement order. Counting from 0?\n",
    "atomScale=[0.7,0.5,0.3]  # (range [0,1])  those are  modulations for the common local detune\n",
    "\n",
    "prog = (\n",
    "    register\n",
    "    .rydberg.rabi.amplitude.uniform.piecewise_linear(\n",
    "        durations, values=[0.0, \"rabi_drive\", \"rabi_drive\", 0.0])\n",
    "    .rydberg.detuning.uniform.piecewise_linear(\n",
    "        durations, values=[\"detune_min\",\"detune_min\",\"detune_max\",\"detune_max\"])\n",
    "    .location(atomLab,atomScale).piecewise_linear(\n",
    "        durations, values=[0.,0.,\"detune_local\",0.0])\n",
    ")\n",
    "\n",
    "job = prog.assign(sweep_time=1.2,rabi_drive=omega_max,\n",
    "            detune_min=-delta_glob_max, detune_max=delta_glob_max, detune_local=delta_loc_max)\n",
    "#print(program)\n",
    "t0=time.time()\n",
    "# your choice:\n",
    "#emu_batch = job.braket.local_emulator().run(100)  # run with Braket-AWS\n",
    "emu_batch = job.bloqade.python().run(100)   # run with Bloquade-python\n",
    "\n",
    "print('run elaT=%.1f sec'%(time.time()-t0))\n",
    "report = emu_batch.report()\n",
    "counts=report.counts()   # does it remove 'e' from pre-measure and is '1'=rydberg?\n",
    "print('Counts:',counts)\n"
   ]
  },
  {
   "cell_type": "code",
   "execution_count": 19,
   "id": "3d3b24ca-d371-49c3-a01d-7178187a5f2a",
   "metadata": {},
   "outputs": [
    {
     "data": {
      "text/html": [
       "\n",
       "  <div id=\"e64f5386-b6cd-4e4a-a16b-36f996ff254f\" data-root-id=\"p1514\" style=\"display: contents;\"></div>\n"
      ]
     },
     "metadata": {},
     "output_type": "display_data"
    },
    {
     "data": {
      "application/javascript": [
       "(function(root) {\n",
       "  function embed_document(root) {\n",
       "  const docs_json = {\"933b72f6-af78-4e0b-88b3-043b4d100d4c\":{\"version\":\"3.6.0\",\"title\":\"Bokeh Application\",\"roots\":[{\"type\":\"object\",\"name\":\"Column\",\"id\":\"p1514\",\"attributes\":{\"children\":[{\"type\":\"object\",\"name\":\"Figure\",\"id\":\"p1453\",\"attributes\":{\"width\":400,\"height\":400,\"x_range\":{\"type\":\"object\",\"name\":\"Range1d\",\"id\":\"p1479\",\"attributes\":{\"start\":-1.0,\"end\":11.0}},\"y_range\":{\"type\":\"object\",\"name\":\"Range1d\",\"id\":\"p1480\",\"attributes\":{\"start\":-1.0,\"end\":11.0}},\"x_scale\":{\"type\":\"object\",\"name\":\"LinearScale\",\"id\":\"p1462\"},\"y_scale\":{\"type\":\"object\",\"name\":\"LinearScale\",\"id\":\"p1463\"},\"title\":{\"type\":\"object\",\"name\":\"Title\",\"id\":\"p1460\"},\"renderers\":[{\"type\":\"object\",\"name\":\"GlyphRenderer\",\"id\":\"p1487\",\"attributes\":{\"data_source\":{\"type\":\"object\",\"name\":\"ColumnDataSource\",\"id\":\"p1444\",\"attributes\":{\"selected\":{\"type\":\"object\",\"name\":\"Selection\",\"id\":\"p1445\",\"attributes\":{\"indices\":[],\"line_indices\":[]}},\"selection_policy\":{\"type\":\"object\",\"name\":\"UnionRenderers\",\"id\":\"p1446\"},\"data\":{\"type\":\"map\",\"entries\":[[\"_x\",[0.0,5.0,10.0]],[\"_y\",[0.0,0.0,0.0]],[\"_labels\",[0,1,2]],[\"_colorwt\",[0,0,0]]]}}},\"view\":{\"type\":\"object\",\"name\":\"CDSView\",\"id\":\"p1488\",\"attributes\":{\"filter\":{\"type\":\"object\",\"name\":\"AllIndices\",\"id\":\"p1489\"}}},\"glyph\":{\"type\":\"object\",\"name\":\"Circle\",\"id\":\"p1484\",\"attributes\":{\"x\":{\"type\":\"field\",\"field\":\"_x\"},\"y\":{\"type\":\"field\",\"field\":\"_y\"},\"radius\":{\"type\":\"value\",\"value\":0.15},\"line_color\":{\"type\":\"value\",\"value\":\"#1f77b4\"},\"fill_color\":{\"type\":\"value\",\"value\":\"#1f77b4\"}}},\"nonselection_glyph\":{\"type\":\"object\",\"name\":\"Circle\",\"id\":\"p1485\",\"attributes\":{\"x\":{\"type\":\"field\",\"field\":\"_x\"},\"y\":{\"type\":\"field\",\"field\":\"_y\"},\"radius\":{\"type\":\"value\",\"value\":0.15},\"line_color\":{\"type\":\"value\",\"value\":\"#1f77b4\"},\"line_alpha\":{\"type\":\"value\",\"value\":0.1},\"fill_color\":{\"type\":\"value\",\"value\":\"#1f77b4\"},\"fill_alpha\":{\"type\":\"value\",\"value\":0.1},\"hatch_alpha\":{\"type\":\"value\",\"value\":0.1}}},\"muted_glyph\":{\"type\":\"object\",\"name\":\"Circle\",\"id\":\"p1486\",\"attributes\":{\"x\":{\"type\":\"field\",\"field\":\"_x\"},\"y\":{\"type\":\"field\",\"field\":\"_y\"},\"radius\":{\"type\":\"value\",\"value\":0.15},\"line_color\":{\"type\":\"value\",\"value\":\"#1f77b4\"},\"line_alpha\":{\"type\":\"value\",\"value\":0.2},\"fill_color\":{\"type\":\"value\",\"value\":\"#1f77b4\"},\"fill_alpha\":{\"type\":\"value\",\"value\":0.2},\"hatch_alpha\":{\"type\":\"value\",\"value\":0.2}}}}},{\"type\":\"object\",\"name\":\"GlyphRenderer\",\"id\":\"p1496\",\"attributes\":{\"data_source\":{\"type\":\"object\",\"name\":\"ColumnDataSource\",\"id\":\"p1447\",\"attributes\":{\"selected\":{\"type\":\"object\",\"name\":\"Selection\",\"id\":\"p1448\",\"attributes\":{\"indices\":[],\"line_indices\":[]}},\"selection_policy\":{\"type\":\"object\",\"name\":\"UnionRenderers\",\"id\":\"p1449\"},\"data\":{\"type\":\"map\",\"entries\":[[\"_x\",[]],[\"_y\",[]],[\"_labels\",[]],[\"_colorwt\",[]]]}}},\"view\":{\"type\":\"object\",\"name\":\"CDSView\",\"id\":\"p1497\",\"attributes\":{\"filter\":{\"type\":\"object\",\"name\":\"AllIndices\",\"id\":\"p1498\"}}},\"glyph\":{\"type\":\"object\",\"name\":\"Circle\",\"id\":\"p1493\",\"attributes\":{\"x\":{\"type\":\"field\",\"field\":\"_x\"},\"y\":{\"type\":\"field\",\"field\":\"_y\"},\"radius\":{\"type\":\"value\",\"value\":0.15},\"line_color\":{\"type\":\"value\",\"value\":\"grey\"},\"line_width\":{\"type\":\"value\",\"value\":2.0},\"fill_color\":{\"type\":\"value\",\"value\":\"grey\"},\"fill_alpha\":{\"type\":\"value\",\"value\":0.25},\"hatch_color\":{\"type\":\"value\",\"value\":\"grey\"}}},\"nonselection_glyph\":{\"type\":\"object\",\"name\":\"Circle\",\"id\":\"p1494\",\"attributes\":{\"x\":{\"type\":\"field\",\"field\":\"_x\"},\"y\":{\"type\":\"field\",\"field\":\"_y\"},\"radius\":{\"type\":\"value\",\"value\":0.15},\"line_color\":{\"type\":\"value\",\"value\":\"grey\"},\"line_alpha\":{\"type\":\"value\",\"value\":0.1},\"line_width\":{\"type\":\"value\",\"value\":2.0},\"fill_color\":{\"type\":\"value\",\"value\":\"grey\"},\"fill_alpha\":{\"type\":\"value\",\"value\":0.1},\"hatch_color\":{\"type\":\"value\",\"value\":\"grey\"},\"hatch_alpha\":{\"type\":\"value\",\"value\":0.1}}},\"muted_glyph\":{\"type\":\"object\",\"name\":\"Circle\",\"id\":\"p1495\",\"attributes\":{\"x\":{\"type\":\"field\",\"field\":\"_x\"},\"y\":{\"type\":\"field\",\"field\":\"_y\"},\"radius\":{\"type\":\"value\",\"value\":0.15},\"line_color\":{\"type\":\"value\",\"value\":\"grey\"},\"line_alpha\":{\"type\":\"value\",\"value\":0.2},\"line_width\":{\"type\":\"value\",\"value\":2.0},\"fill_color\":{\"type\":\"value\",\"value\":\"grey\"},\"fill_alpha\":{\"type\":\"value\",\"value\":0.2},\"hatch_color\":{\"type\":\"value\",\"value\":\"grey\"},\"hatch_alpha\":{\"type\":\"value\",\"value\":0.2}}}}},{\"type\":\"object\",\"name\":\"GlyphRenderer\",\"id\":\"p1506\",\"attributes\":{\"name\":\"Brad\",\"data_source\":{\"type\":\"object\",\"name\":\"ColumnDataSource\",\"id\":\"p1450\",\"attributes\":{\"selected\":{\"type\":\"object\",\"name\":\"Selection\",\"id\":\"p1451\",\"attributes\":{\"indices\":[],\"line_indices\":[]}},\"selection_policy\":{\"type\":\"object\",\"name\":\"UnionRenderers\",\"id\":\"p1452\"},\"data\":{\"type\":\"map\",\"entries\":[[\"_x\",[0.0,5.0,10.0]],[\"_y\",[0.0,0.0,0.0]],[\"_labels\",[0,1,2]]]}}},\"view\":{\"type\":\"object\",\"name\":\"CDSView\",\"id\":\"p1507\",\"attributes\":{\"filter\":{\"type\":\"object\",\"name\":\"AllIndices\",\"id\":\"p1508\"}}},\"glyph\":{\"type\":\"object\",\"name\":\"Circle\",\"id\":\"p1503\",\"attributes\":{\"x\":{\"type\":\"field\",\"field\":\"_x\"},\"y\":{\"type\":\"field\",\"field\":\"_y\"},\"radius\":{\"type\":\"value\",\"value\":0},\"line_color\":{\"type\":\"value\",\"value\":\"#1f77b4\"},\"line_width\":{\"type\":\"value\",\"value\":1.5},\"fill_color\":{\"type\":\"value\",\"value\":\"#1f77b4\"},\"fill_alpha\":{\"type\":\"value\",\"value\":0.5}}},\"nonselection_glyph\":{\"type\":\"object\",\"name\":\"Circle\",\"id\":\"p1504\",\"attributes\":{\"x\":{\"type\":\"field\",\"field\":\"_x\"},\"y\":{\"type\":\"field\",\"field\":\"_y\"},\"radius\":{\"type\":\"value\",\"value\":0},\"line_color\":{\"type\":\"value\",\"value\":\"#1f77b4\"},\"line_alpha\":{\"type\":\"value\",\"value\":0.1},\"line_width\":{\"type\":\"value\",\"value\":1.5},\"fill_color\":{\"type\":\"value\",\"value\":\"#1f77b4\"},\"fill_alpha\":{\"type\":\"value\",\"value\":0.1},\"hatch_alpha\":{\"type\":\"value\",\"value\":0.1}}},\"muted_glyph\":{\"type\":\"object\",\"name\":\"Circle\",\"id\":\"p1505\",\"attributes\":{\"x\":{\"type\":\"field\",\"field\":\"_x\"},\"y\":{\"type\":\"field\",\"field\":\"_y\"},\"radius\":{\"type\":\"value\",\"value\":0},\"line_color\":{\"type\":\"value\",\"value\":\"#1f77b4\"},\"line_alpha\":{\"type\":\"value\",\"value\":0.2},\"line_width\":{\"type\":\"value\",\"value\":1.5},\"fill_color\":{\"type\":\"value\",\"value\":\"#1f77b4\"},\"fill_alpha\":{\"type\":\"value\",\"value\":0.2},\"hatch_alpha\":{\"type\":\"value\",\"value\":0.2}}}}}],\"toolbar\":{\"type\":\"object\",\"name\":\"Toolbar\",\"id\":\"p1461\",\"attributes\":{\"tools\":[{\"type\":\"object\",\"name\":\"WheelZoomTool\",\"id\":\"p1474\",\"attributes\":{\"renderers\":\"auto\"}},{\"type\":\"object\",\"name\":\"ResetTool\",\"id\":\"p1475\"},{\"type\":\"object\",\"name\":\"UndoTool\",\"id\":\"p1476\"},{\"type\":\"object\",\"name\":\"RedoTool\",\"id\":\"p1477\"},{\"type\":\"object\",\"name\":\"PanTool\",\"id\":\"p1478\"},{\"type\":\"object\",\"name\":\"HoverTool\",\"id\":\"p1499\",\"attributes\":{\"renderers\":\"auto\",\"tooltips\":[[\"(x,y)\",\"(@_x, @_y)\"],[\"index: \",\"@_labels\"]]}}]}},\"toolbar_location\":\"above\",\"left\":[{\"type\":\"object\",\"name\":\"LinearAxis\",\"id\":\"p1469\",\"attributes\":{\"ticker\":{\"type\":\"object\",\"name\":\"BasicTicker\",\"id\":\"p1470\",\"attributes\":{\"mantissas\":[1,2,5]}},\"formatter\":{\"type\":\"object\",\"name\":\"BasicTickFormatter\",\"id\":\"p1471\"},\"major_label_policy\":{\"type\":\"object\",\"name\":\"AllLabels\",\"id\":\"p1472\"}}}],\"below\":[{\"type\":\"object\",\"name\":\"LinearAxis\",\"id\":\"p1464\",\"attributes\":{\"ticker\":{\"type\":\"object\",\"name\":\"BasicTicker\",\"id\":\"p1465\",\"attributes\":{\"mantissas\":[1,2,5]}},\"formatter\":{\"type\":\"object\",\"name\":\"BasicTickFormatter\",\"id\":\"p1466\"},\"major_label_policy\":{\"type\":\"object\",\"name\":\"AllLabels\",\"id\":\"p1467\"}}}],\"center\":[{\"type\":\"object\",\"name\":\"Grid\",\"id\":\"p1468\",\"attributes\":{\"axis\":{\"id\":\"p1464\"}}},{\"type\":\"object\",\"name\":\"Grid\",\"id\":\"p1473\",\"attributes\":{\"dimension\":1,\"axis\":{\"id\":\"p1469\"}}}]}},{\"type\":\"object\",\"name\":\"Row\",\"id\":\"p1513\",\"attributes\":{\"children\":[{\"type\":\"object\",\"name\":\"NumericInput\",\"id\":\"p1509\",\"attributes\":{\"js_property_callbacks\":{\"type\":\"map\",\"entries\":[[\"change:value\",[{\"type\":\"object\",\"name\":\"CustomJS\",\"id\":\"p1512\",\"attributes\":{\"args\":{\"type\":\"map\",\"entries\":[[\"other\",{\"id\":\"p1503\"}]]},\"code\":\"other.radius = this.value\"}}]]]},\"title\":\"Blockade radius (um):\",\"value\":0,\"low\":0,\"mode\":\"float\"}},{\"type\":\"object\",\"name\":\"Button\",\"id\":\"p1510\",\"attributes\":{\"js_event_callbacks\":{\"type\":\"map\",\"entries\":[[\"button_click\",[{\"type\":\"object\",\"name\":\"CustomJS\",\"id\":\"p1511\",\"attributes\":{\"args\":{\"type\":\"map\",\"entries\":[[\"cr\",{\"id\":\"p1506\"}]]},\"code\":\"cr.visible = !cr.visible;\"}}]]]},\"label\":\"Toggle\"}}]}}]}}]}};\n",
       "  const render_items = [{\"docid\":\"933b72f6-af78-4e0b-88b3-043b4d100d4c\",\"roots\":{\"p1514\":\"e64f5386-b6cd-4e4a-a16b-36f996ff254f\"},\"root_ids\":[\"p1514\"]}];\n",
       "  void root.Bokeh.embed.embed_items_notebook(docs_json, render_items);\n",
       "  }\n",
       "  if (root.Bokeh !== undefined) {\n",
       "    embed_document(root);\n",
       "  } else {\n",
       "    let attempts = 0;\n",
       "    const timer = setInterval(function(root) {\n",
       "      if (root.Bokeh !== undefined) {\n",
       "        clearInterval(timer);\n",
       "        embed_document(root);\n",
       "      } else {\n",
       "        attempts++;\n",
       "        if (attempts > 100) {\n",
       "          clearInterval(timer);\n",
       "          console.log(\"Bokeh: ERROR: Unable to run BokehJS code because BokehJS library is missing\");\n",
       "        }\n",
       "      }\n",
       "    }, 10, root)\n",
       "  }\n",
       "})(window);"
      ],
      "application/vnd.bokehjs_exec.v0+json": ""
     },
     "metadata": {
      "application/vnd.bokehjs_exec.v0+json": {
       "id": "p1514"
      }
     },
     "output_type": "display_data"
    }
   ],
   "source": [
    "register.show()"
   ]
  },
  {
   "cell_type": "code",
   "execution_count": 93,
   "id": "7d64ee95-1ed2-46b0-b0df-a55b76d87a28",
   "metadata": {
    "scrolled": true
   },
   "outputs": [],
   "source": [
    "#print(prog)"
   ]
  },
  {
   "cell_type": "code",
   "execution_count": 21,
   "id": "c7814cce-e004-4d3a-a75d-80d0610bdfb6",
   "metadata": {},
   "outputs": [
    {
     "name": "stdout",
     "output_type": "stream",
     "text": [
      "0.0 10000000.0 0.0 0.0\n"
     ]
    },
    {
     "data": {
      "text/html": [
       "\n",
       "  <div id=\"d2dc2cdb-df42-4478-b3cc-16e5f3e9b54f\" data-root-id=\"p1683\" style=\"display: contents;\"></div>\n"
      ]
     },
     "metadata": {},
     "output_type": "display_data"
    },
    {
     "data": {
      "application/javascript": [
       "(function(root) {\n",
       "  function embed_document(root) {\n",
       "  const docs_json = {\"5a4a737d-8b40-48c7-bae7-38136745a25d\":{\"version\":\"3.6.0\",\"title\":\"Bokeh Application\",\"roots\":[{\"type\":\"object\",\"name\":\"Column\",\"id\":\"p1683\",\"attributes\":{\"children\":[{\"type\":\"object\",\"name\":\"Column\",\"id\":\"p1680\",\"attributes\":{\"children\":[{\"type\":\"object\",\"name\":\"Div\",\"id\":\"p1672\",\"attributes\":{\"text\":\"Report: Local 2024-11-15 15:29:14.434259\"}},{\"type\":\"object\",\"name\":\"Row\",\"id\":\"p1679\",\"attributes\":{\"children\":[{\"type\":\"object\",\"name\":\"Button\",\"id\":\"p1674\",\"attributes\":{\"js_event_callbacks\":{\"type\":\"map\",\"entries\":[[\"button_click\",[{\"type\":\"object\",\"name\":\"CustomJS\",\"id\":\"p1675\",\"attributes\":{\"args\":{\"type\":\"map\",\"entries\":[[\"url\",\"https://bloqade.quera.com\"]]},\"code\":\"window.open(url)\"}}]]]},\"label\":\"Bloqade\",\"icon\":{\"type\":\"object\",\"name\":\"SVGIcon\",\"id\":\"p1673\",\"attributes\":{\"svg\":\"\\n    <!-- Generator: Adobe Illustrator 27.0.0, SVG Export Plug-In .\\n        SVG Version: 6.00 Build 0)  -->\\n\\n    <svg\\n    version=\\\"1.1\\\"\\n    id=\\\"Layer_1\\\"\\n    x=\\\"0px\\\"\\n    y=\\\"0px\\\"\\n    viewBox=\\\"0 0 120 125\\\"\\n    xml:space=\\\"preserve\\\"\\n    sodipodi:docname=\\\"logo.svg\\\"\\n    width=\\\"120\\\"\\n    height=\\\"125\\\"\\n    inkscape:version=\\\"1.3 (0e150ed, 2023-07-21)\\\"\\n    xmlns:inkscape=\\\"http://www.inkscape.org/namespaces/inkscape\\\"\\n    xmlns:sodipodi=\\\"http://sodipodi.sourceforge.net/DTD/sodipodi-0.dtd\\\"\\n    xmlns=\\\"http://www.w3.org/2000/svg\\\"\\n    xmlns:svg=\\\"http://www.w3.org/2000/svg\\\"><defs\\n    id=\\\"defs16\\\"><radialGradient\\n        id=\\\"SVGID_1_\\\"\\n        cx=\\\"284.23792\\\"\\n        cy=\\\"40.978001\\\"\\n        r=\\\"70.431198\\\"\\n        gradientUnits=\\\"userSpaceOnUse\\\">&#10;\\t\\t\\t\\t<stop\\n    offset=\\\"0\\\"\\n    style=\\\"stop-color:#FFFFFF\\\"\\n    id=\\\"stop7\\\" />&#10;\\t\\t\\t\\t<stop\\n    offset=\\\"0.1264\\\"\\n    style=\\\"stop-color:#FBFAFF\\\"\\n    id=\\\"stop8\\\" />&#10;\\t\\t\\t\\t<stop\\n    offset=\\\"0.2679\\\"\\n    style=\\\"stop-color:#F1EDFF\\\"\\n    id=\\\"stop9\\\" />&#10;\\t\\t\\t\\t<stop\\n    offset=\\\"0.4168\\\"\\n    style=\\\"stop-color:#E0D6FF\\\"\\n    id=\\\"stop10\\\" />&#10;\\t\\t\\t\\t<stop\\n    offset=\\\"0.5707\\\"\\n    style=\\\"stop-color:#C7B7FF\\\"\\n    id=\\\"stop11\\\" />&#10;\\t\\t\\t\\t<stop\\n    offset=\\\"0.7287\\\"\\n    style=\\\"stop-color:#A88FFF\\\"\\n    id=\\\"stop12\\\" />&#10;\\t\\t\\t\\t<stop\\n    offset=\\\"0.8875\\\"\\n    style=\\\"stop-color:#825EFF\\\"\\n    id=\\\"stop13\\\" />&#10;\\t\\t\\t\\t<stop\\n    offset=\\\"1\\\"\\n    style=\\\"stop-color:#6437FF\\\"\\n    id=\\\"stop14\\\" />&#10;\\t\\t\\t</radialGradient></defs><sodipodi:namedview\\n    id=\\\"namedview16\\\"\\n    pagecolor=\\\"#ffffff\\\"\\n    bordercolor=\\\"#000000\\\"\\n    borderopacity=\\\"0.25\\\"\\n    inkscape:showpageshadow=\\\"2\\\"\\n    inkscape:pageopacity=\\\"0.0\\\"\\n    inkscape:pagecheckerboard=\\\"0\\\"\\n    inkscape:deskcolor=\\\"#d1d1d1\\\"\\n    inkscape:zoom=\\\"1.3545752\\\"\\n    inkscape:cx=\\\"308.95296\\\"\\n    inkscape:cy=\\\"72.347407\\\"\\n    inkscape:window-width=\\\"1456\\\"\\n    inkscape:window-height=\\\"803\\\"\\n    inkscape:window-x=\\\"260\\\"\\n    inkscape:window-y=\\\"138\\\"\\n    inkscape:window-maximized=\\\"0\\\"\\n    inkscape:current-layer=\\\"Layer_1\\\" />&#10;<style\\n    type=\\\"text/css\\\"\\n    id=\\\"style1\\\">&#10;\\t.st0{fill:url(#SVGID_1_);}&#10;</style>&#10;&#10;<g\\n    id=\\\"g14\\\"\\n    transform=\\\"matrix(0.97296819,0,0,1,-234.63028,-11.63275)\\\">&#10;\\n    <path\\n    d=\\\"m 356,136.42 -15.67,-13.98 c -9.94,7.75 -22.57,12.47 -37.06,\\n    12.47 -35.88,0 -59.97,-28.13 -59.97,\\n    -60.64 v -0.34 c 0,-32.51 24.42,-60.98 60.3,\\n    -60.98 35.88,0 59.97,28.13 59.97,60.64 v 0.34 c 0,\\n    14.66 -5.22,28.64 -13.98,39.42 l 15.5,13.14 z m -25.1,\\n    -22.57 -22.07,-18.87 8.93,-9.94 22.07,20.04 c 6.4,\\n    -8.42 9.94,-19.03 9.94,-30.82 v -0.34 c 0,-26.78 -19.54,\\n    -48.68 -46.49,-48.68 -26.95,0 -46.15,\\n    21.56 -46.15,48.34 v 0.34 c 0,26.79 19.54,48.68 46.49,\\n    48.68 10.44,0 19.87,-3.19 27.28,-8.75 z\\\"\\n    id=\\\"path7\\\" />&#10;\\t\\t\\t<radialGradient\\n    id=\\\"radialGradient16\\\"\\n    cx=\\\"284.23792\\\"\\n    cy=\\\"40.978001\\\"\\n    r=\\\"70.431198\\\"\\n    gradientUnits=\\\"userSpaceOnUse\\\">&#10;\\t\\t\\t\\t<stop\\n    offset=\\\"0\\\"\\n    style=\\\"stop-color:#FFFFFF\\\"\\n    id=\\\"stop1\\\" />&#10;\\t\\t\\t\\t<stop\\n    offset=\\\"0.1264\\\"\\n    style=\\\"stop-color:#FBFAFF\\\"\\n    id=\\\"stop2\\\" />&#10;\\t\\t\\t\\t<stop\\n    offset=\\\"0.2679\\\"\\n    style=\\\"stop-color:#F1EDFF\\\"\\n    id=\\\"stop3\\\" />&#10;\\t\\t\\t\\t<stop\\n    offset=\\\"0.4168\\\"\\n    style=\\\"stop-color:#E0D6FF\\\"\\n    id=\\\"stop4\\\" />&#10;\\t\\t\\t\\t<stop\\n    offset=\\\"0.5707\\\"\\n    style=\\\"stop-color:#C7B7FF\\\"\\n    id=\\\"stop5\\\" />&#10;\\t\\t\\t\\t<stop\\n    offset=\\\"0.7287\\\"\\n    style=\\\"stop-color:#A88FFF\\\"\\n    id=\\\"stop6\\\" />&#10;\\t\\t\\t\\t<stop\\n    offset=\\\"0.8875\\\"\\n    style=\\\"stop-color:#825EFF\\\"\\n    id=\\\"stop15\\\" />&#10;\\t\\t\\t\\t<stop\\n    offset=\\\"1\\\"\\n    style=\\\"stop-color:#6437FF\\\"\\n    id=\\\"stop16\\\" />&#10;\\t\\t\\t</radialGradient>&#10;\\t\\t\\t<circle\\n    class=\\\"st0\\\"\\n    cx=\\\"303.78\\\"\\n    cy=\\\"74.68\\\"\\n    r=\\\"49.439999\\\"\\n    id=\\\"circle14\\\"\\n    style=\\\"fill:url(#SVGID_1_)\\\" />&#10;\\t\\t</g></svg>\\n    \"}}}},{\"type\":\"object\",\"name\":\"Button\",\"id\":\"p1677\",\"attributes\":{\"js_event_callbacks\":{\"type\":\"map\",\"entries\":[[\"button_click\",[{\"type\":\"object\",\"name\":\"CustomJS\",\"id\":\"p1678\",\"attributes\":{\"args\":{\"type\":\"map\",\"entries\":[[\"url\",\"https://www.quera.com/\"]]},\"code\":\"window.open(url)\"}}]]]},\"label\":\"QuEra\",\"icon\":{\"type\":\"object\",\"name\":\"SVGIcon\",\"id\":\"p1676\",\"attributes\":{\"svg\":\"\\n        <svg\\n    id=\\\"Layer_2\\\"\\n    viewBox=\\\"0 0 154.96999 188.87825\\\"\\n    version=\\\"1.1\\\"\\n    sodipodi:docname=\\\"logo black.svg\\\"\\n    width=\\\"154.96999\\\"\\n    height=\\\"188.87825\\\"\\n    inkscape:export-filename=\\\"QElogo.svg\\\"\\n    inkscape:export-xdpi=\\\"96\\\"\\n    inkscape:export-ydpi=\\\"96\\\"\\n    xmlns:inkscape=\\\"http://www.inkscape.org/namespaces/inkscape\\\"\\n    xmlns:sodipodi=\\\"http://sodipodi.sourceforge.net/DTD/sodipodi-0.dtd\\\"\\n    xmlns=\\\"http://www.w3.org/2000/svg\\\"\\n    xmlns:svg=\\\"http://www.w3.org/2000/svg\\\">\\n    <defs\\n        id=\\\"defs98\\\" />\\n    <sodipodi:namedview\\n        id=\\\"namedview98\\\"\\n        pagecolor=\\\"#ffffff\\\"\\n        bordercolor=\\\"#000000\\\"\\n        borderopacity=\\\"0.25\\\"\\n        inkscape:showpageshadow=\\\"2\\\"\\n        inkscape:pageopacity=\\\"0.0\\\"\\n        inkscape:pagecheckerboard=\\\"0\\\"\\n        inkscape:deskcolor=\\\"#d1d1d1\\\" />\\n    <g\\n        id=\\\"g98\\\"\\n        transform=\\\"translate(-90.150002,-1.4817416)\\\">\\n        <circle\\n        cx=\\\"154.87\\\"\\n        cy=\\\"178.75\\\"\\n        r=\\\"11.61\\\"\\n        id=\\\"circle7\\\" />\\n        <circle\\n        cx=\\\"-177.98538\\\"\\n        cy=\\\"126.21368\\\"\\n        r=\\\"11.61\\\"\\n        transform=\\\"rotate(-89.82)\\\"\\n        id=\\\"circle8\\\" />\\n        <circle\\n        cx=\\\"184.17\\\"\\n        cy=\\\"178.75\\\"\\n        r=\\\"11.61\\\"\\n        id=\\\"circle9\\\" />\\n        <circle\\n        cx=\\\"154.87\\\"\\n        cy=\\\"13.46\\\"\\n        r=\\\"11.61\\\"\\n        id=\\\"circle10\\\" />\\n        <circle\\n        cx=\\\"-12.696921\\\"\\n        cy=\\\"125.69522\\\"\\n        r=\\\"11.61\\\"\\n        transform=\\\"rotate(-89.82)\\\"\\n        id=\\\"circle11\\\" />\\n        <circle\\n        cx=\\\"184.17\\\"\\n        cy=\\\"13.46\\\"\\n        r=\\\"11.61\\\"\\n        id=\\\"circle12\\\" />\\n        <circle\\n        cx=\\\"101.76\\\"\\n        cy=\\\"159.53\\\"\\n        r=\\\"11.61\\\"\\n        id=\\\"circle13\\\" />\\n        <circle\\n        cx=\\\"101.76\\\"\\n        cy=\\\"126.13\\\"\\n        r=\\\"11.61\\\"\\n        id=\\\"circle14\\\" />\\n        <circle\\n        cx=\\\"101.76\\\"\\n        cy=\\\"95.919998\\\"\\n        r=\\\"11.61\\\"\\n        id=\\\"circle15\\\" />\\n        <circle\\n        cx=\\\"101.76\\\"\\n        cy=\\\"65.699997\\\"\\n        r=\\\"11.61\\\"\\n        id=\\\"circle16\\\" />\\n        <circle\\n        cx=\\\"101.76\\\"\\n        cy=\\\"35.490002\\\"\\n        r=\\\"11.61\\\"\\n        id=\\\"circle17\\\" />\\n        <circle\\n        cx=\\\"154.87\\\"\\n        cy=\\\"121.1\\\"\\n        r=\\\"11.61\\\"\\n        id=\\\"circle86\\\" />\\n        <circle\\n        cx=\\\"181.08\\\"\\n        cy=\\\"140.32001\\\"\\n        r=\\\"11.61\\\"\\n        id=\\\"circle87\\\" />\\n        <circle\\n        cx=\\\"233.50999\\\"\\n        cy=\\\"178.75\\\"\\n        r=\\\"11.61\\\"\\n        id=\\\"circle88\\\" />\\n        <circle\\n        cx=\\\"207.42\\\"\\n        cy=\\\"126.13\\\"\\n        r=\\\"11.61\\\"\\n        id=\\\"circle89\\\" />\\n        <circle\\n        cx=\\\"207.42\\\"\\n        cy=\\\"95.919998\\\"\\n        r=\\\"11.61\\\"\\n        id=\\\"circle90\\\" />\\n        <circle\\n        cx=\\\"207.42\\\"\\n        cy=\\\"65.699997\\\"\\n        r=\\\"11.61\\\"\\n        id=\\\"circle91\\\" />\\n        <circle\\n        cx=\\\"207.42\\\"\\n        cy=\\\"35.490002\\\"\\n        r=\\\"11.61\\\"\\n        id=\\\"circle92\\\" />\\n        <circle\\n        cx=\\\"207.42\\\"\\n        cy=\\\"159.53\\\"\\n        r=\\\"11.61\\\"\\n        id=\\\"circle93\\\" />\\n        <circle\\n        cx=\\\"102.38\\\"\\n        cy=\\\"126.13\\\"\\n        r=\\\"11.61\\\"\\n        id=\\\"circle94\\\" />\\n        <circle\\n        cx=\\\"102.38\\\"\\n        cy=\\\"95.919998\\\"\\n        r=\\\"11.61\\\"\\n        id=\\\"circle95\\\" />\\n        <circle\\n        cx=\\\"102.38\\\"\\n        cy=\\\"65.699997\\\"\\n        r=\\\"11.61\\\"\\n        id=\\\"circle96\\\" />\\n        <circle\\n        cx=\\\"102.38\\\"\\n        cy=\\\"35.490002\\\"\\n        r=\\\"11.61\\\"\\n        id=\\\"circle97\\\" />\\n        <circle\\n        cx=\\\"102.38\\\"\\n        cy=\\\"159.53\\\"\\n        r=\\\"11.61\\\"\\n        id=\\\"circle98\\\" />\\n    </g>\\n    </svg>\\n    \"}}}}]}}]}},{\"type\":\"object\",\"name\":\"Column\",\"id\":\"p1682\",\"attributes\":{\"children\":[{\"type\":\"object\",\"name\":\"MultiChoice\",\"id\":\"p1670\",\"attributes\":{\"js_property_callbacks\":{\"type\":\"map\",\"entries\":[[\"change:value\",[{\"type\":\"object\",\"name\":\"CustomJS\",\"id\":\"p1671\",\"attributes\":{\"args\":{\"type\":\"map\",\"entries\":[[\"figs\",[{\"type\":\"object\",\"name\":\"Row\",\"id\":\"p1669\",\"attributes\":{\"name\":\"task 0\",\"visible\":true,\"children\":[{\"type\":\"object\",\"name\":\"Div\",\"id\":\"p1522\",\"attributes\":{\"styles\":{\"type\":\"map\",\"entries\":[[\"overflow-y\",\"scroll\"]]},\"width\":100,\"height\":400,\"text\":\"<p> Assignments: </p><p>sweep_time = 1.2</p><p>rabi_drive = 15.7</p><p>detune_min = -124.0</p><p>detune_max = 124.0</p><p>detune_local = 62.0</p>\"}},{\"type\":\"object\",\"name\":\"Figure\",\"id\":\"p1523\",\"attributes\":{\"width\":400,\"height\":400,\"x_range\":{\"type\":\"object\",\"name\":\"FactorRange\",\"id\":\"p1533\",\"attributes\":{\"factors\":[\"[0]\",\"[1]\",\"[2]\",\"[3]\"]}},\"y_range\":{\"type\":\"object\",\"name\":\"DataRange1d\",\"id\":\"p1525\",\"attributes\":{\"start\":0}},\"x_scale\":{\"type\":\"object\",\"name\":\"CategoricalScale\",\"id\":\"p1534\"},\"y_scale\":{\"type\":\"object\",\"name\":\"LinearScale\",\"id\":\"p1535\"},\"title\":{\"type\":\"object\",\"name\":\"Title\",\"id\":\"p1526\",\"attributes\":{\"text\":\"task 0\"}},\"renderers\":[{\"type\":\"object\",\"name\":\"GlyphRenderer\",\"id\":\"p1563\",\"attributes\":{\"data_source\":{\"type\":\"object\",\"name\":\"ColumnDataSource\",\"id\":\"p1515\",\"attributes\":{\"selected\":{\"type\":\"object\",\"name\":\"Selection\",\"id\":\"p1516\",\"attributes\":{\"js_property_callbacks\":{\"type\":\"map\",\"entries\":[[\"change:indices\",[{\"type\":\"object\",\"name\":\"CustomJS\",\"id\":\"p1611\",\"attributes\":{\"args\":{\"type\":\"map\",\"entries\":[[\"tsrc\",{\"id\":\"p1515\"}],[\"xrng\",[[0,1,0],[0,1,1],[1,0,1],[1,1,0]]],[\"bitsrc\",{\"type\":\"object\",\"name\":\"ColumnDataSource\",\"id\":\"p1568\",\"attributes\":{\"selected\":{\"type\":\"object\",\"name\":\"Selection\",\"id\":\"p1569\",\"attributes\":{\"indices\":[],\"line_indices\":[]}},\"selection_policy\":{\"type\":\"object\",\"name\":\"UnionRenderers\",\"id\":\"p1570\"},\"data\":{\"type\":\"map\",\"entries\":[[\"_x\",[0.0,5000000.0,10000000.0]],[\"_y\",[0.0,0.0,0.0]],[\"_bits\",[0,0,0]],[\"_labels\",[0,1,2]]]}}}],[\"reg_obj\",{\"type\":\"object\",\"name\":\"GlyphRenderer\",\"id\":\"p1608\",\"attributes\":{\"name\":\"reg\",\"data_source\":{\"id\":\"p1568\"},\"view\":{\"type\":\"object\",\"name\":\"CDSView\",\"id\":\"p1609\",\"attributes\":{\"filter\":{\"type\":\"object\",\"name\":\"AllIndices\",\"id\":\"p1610\"}}},\"glyph\":{\"type\":\"object\",\"name\":\"Circle\",\"id\":\"p1605\",\"attributes\":{\"x\":{\"type\":\"field\",\"field\":\"_x\"},\"y\":{\"type\":\"field\",\"field\":\"_y\"},\"radius\":{\"type\":\"value\",\"value\":2000000.0},\"fill_color\":{\"type\":\"field\",\"field\":\"_bits\",\"transform\":{\"type\":\"object\",\"name\":\"LinearColorMapper\",\"id\":\"p1572\",\"attributes\":{\"palette\":[\"#000003\",\"#000004\",\"#000006\",\"#010007\",\"#010109\",\"#01010B\",\"#02020D\",\"#02020F\",\"#030311\",\"#040313\",\"#040415\",\"#050417\",\"#060519\",\"#07051B\",\"#08061D\",\"#09071F\",\"#0A0722\",\"#0B0824\",\"#0C0926\",\"#0D0A28\",\"#0E0A2A\",\"#0F0B2C\",\"#100C2F\",\"#110C31\",\"#120D33\",\"#140D35\",\"#150E38\",\"#160E3A\",\"#170F3C\",\"#180F3F\",\"#1A1041\",\"#1B1044\",\"#1C1046\",\"#1E1049\",\"#1F114B\",\"#20114D\",\"#221150\",\"#231152\",\"#251155\",\"#261157\",\"#281159\",\"#2A115C\",\"#2B115E\",\"#2D1060\",\"#2F1062\",\"#301065\",\"#321067\",\"#341068\",\"#350F6A\",\"#370F6C\",\"#390F6E\",\"#3B0F6F\",\"#3C0F71\",\"#3E0F72\",\"#400F73\",\"#420F74\",\"#430F75\",\"#450F76\",\"#470F77\",\"#481078\",\"#4A1079\",\"#4B1079\",\"#4D117A\",\"#4F117B\",\"#50127B\",\"#52127C\",\"#53137C\",\"#55137D\",\"#57147D\",\"#58157E\",\"#5A157E\",\"#5B167E\",\"#5D177E\",\"#5E177F\",\"#60187F\",\"#61187F\",\"#63197F\",\"#651A80\",\"#661A80\",\"#681B80\",\"#691C80\",\"#6B1C80\",\"#6C1D80\",\"#6E1E81\",\"#6F1E81\",\"#711F81\",\"#731F81\",\"#742081\",\"#762181\",\"#772181\",\"#792281\",\"#7A2281\",\"#7C2381\",\"#7E2481\",\"#7F2481\",\"#812581\",\"#822581\",\"#842681\",\"#852681\",\"#872781\",\"#892881\",\"#8A2881\",\"#8C2980\",\"#8D2980\",\"#8F2A80\",\"#912A80\",\"#922B80\",\"#942B80\",\"#952C80\",\"#972C7F\",\"#992D7F\",\"#9A2D7F\",\"#9C2E7F\",\"#9E2E7E\",\"#9F2F7E\",\"#A12F7E\",\"#A3307E\",\"#A4307D\",\"#A6317D\",\"#A7317D\",\"#A9327C\",\"#AB337C\",\"#AC337B\",\"#AE347B\",\"#B0347B\",\"#B1357A\",\"#B3357A\",\"#B53679\",\"#B63679\",\"#B83778\",\"#B93778\",\"#BB3877\",\"#BD3977\",\"#BE3976\",\"#C03A75\",\"#C23A75\",\"#C33B74\",\"#C53C74\",\"#C63C73\",\"#C83D72\",\"#CA3E72\",\"#CB3E71\",\"#CD3F70\",\"#CE4070\",\"#D0416F\",\"#D1426E\",\"#D3426D\",\"#D4436D\",\"#D6446C\",\"#D7456B\",\"#D9466A\",\"#DA4769\",\"#DC4869\",\"#DD4968\",\"#DE4A67\",\"#E04B66\",\"#E14C66\",\"#E24D65\",\"#E44E64\",\"#E55063\",\"#E65162\",\"#E75262\",\"#E85461\",\"#EA5560\",\"#EB5660\",\"#EC585F\",\"#ED595F\",\"#EE5B5E\",\"#EE5D5D\",\"#EF5E5D\",\"#F0605D\",\"#F1615C\",\"#F2635C\",\"#F3655C\",\"#F3675B\",\"#F4685B\",\"#F56A5B\",\"#F56C5B\",\"#F66E5B\",\"#F6705B\",\"#F7715B\",\"#F7735C\",\"#F8755C\",\"#F8775C\",\"#F9795C\",\"#F97B5D\",\"#F97D5D\",\"#FA7F5E\",\"#FA805E\",\"#FA825F\",\"#FB8460\",\"#FB8660\",\"#FB8861\",\"#FB8A62\",\"#FC8C63\",\"#FC8E63\",\"#FC9064\",\"#FC9265\",\"#FC9366\",\"#FD9567\",\"#FD9768\",\"#FD9969\",\"#FD9B6A\",\"#FD9D6B\",\"#FD9F6C\",\"#FDA16E\",\"#FDA26F\",\"#FDA470\",\"#FEA671\",\"#FEA873\",\"#FEAA74\",\"#FEAC75\",\"#FEAE76\",\"#FEAF78\",\"#FEB179\",\"#FEB37B\",\"#FEB57C\",\"#FEB77D\",\"#FEB97F\",\"#FEBB80\",\"#FEBC82\",\"#FEBE83\",\"#FEC085\",\"#FEC286\",\"#FEC488\",\"#FEC689\",\"#FEC78B\",\"#FEC98D\",\"#FECB8E\",\"#FDCD90\",\"#FDCF92\",\"#FDD193\",\"#FDD295\",\"#FDD497\",\"#FDD698\",\"#FDD89A\",\"#FDDA9C\",\"#FDDC9D\",\"#FDDD9F\",\"#FDDFA1\",\"#FDE1A3\",\"#FCE3A5\",\"#FCE5A6\",\"#FCE6A8\",\"#FCE8AA\",\"#FCEAAC\",\"#FCECAE\",\"#FCEEB0\",\"#FCF0B1\",\"#FCF1B3\",\"#FCF3B5\",\"#FCF5B7\",\"#FBF7B9\",\"#FBF9BB\",\"#FBFABD\",\"#FBFCBF\"],\"low\":0,\"high\":1}}},\"hatch_color\":{\"type\":\"field\",\"field\":\"_bits\",\"transform\":{\"id\":\"p1572\"}}}},\"nonselection_glyph\":{\"type\":\"object\",\"name\":\"Circle\",\"id\":\"p1606\",\"attributes\":{\"x\":{\"type\":\"field\",\"field\":\"_x\"},\"y\":{\"type\":\"field\",\"field\":\"_y\"},\"radius\":{\"type\":\"value\",\"value\":2000000.0},\"line_alpha\":{\"type\":\"value\",\"value\":0.1},\"fill_color\":{\"type\":\"field\",\"field\":\"_bits\",\"transform\":{\"id\":\"p1572\"}},\"fill_alpha\":{\"type\":\"value\",\"value\":0.1},\"hatch_color\":{\"type\":\"field\",\"field\":\"_bits\",\"transform\":{\"id\":\"p1572\"}},\"hatch_alpha\":{\"type\":\"value\",\"value\":0.1}}},\"muted_glyph\":{\"type\":\"object\",\"name\":\"Circle\",\"id\":\"p1607\",\"attributes\":{\"x\":{\"type\":\"field\",\"field\":\"_x\"},\"y\":{\"type\":\"field\",\"field\":\"_y\"},\"radius\":{\"type\":\"value\",\"value\":2000000.0},\"line_alpha\":{\"type\":\"value\",\"value\":0.2},\"fill_color\":{\"type\":\"field\",\"field\":\"_bits\",\"transform\":{\"id\":\"p1572\"}},\"fill_alpha\":{\"type\":\"value\",\"value\":0.2},\"hatch_color\":{\"type\":\"field\",\"field\":\"_bits\",\"transform\":{\"id\":\"p1572\"}},\"hatch_alpha\":{\"type\":\"value\",\"value\":0.2}}}}}],[\"preg\",{\"type\":\"object\",\"name\":\"Figure\",\"id\":\"p1573\",\"attributes\":{\"width\":400,\"height\":400,\"x_range\":{\"type\":\"object\",\"name\":\"Range1d\",\"id\":\"p1600\",\"attributes\":{\"start\":-5000000.0,\"end\":15000000.0}},\"y_range\":{\"type\":\"object\",\"name\":\"Range1d\",\"id\":\"p1601\",\"attributes\":{\"start\":-5000000.0,\"end\":15000000.0}},\"x_scale\":{\"type\":\"object\",\"name\":\"LinearScale\",\"id\":\"p1583\"},\"y_scale\":{\"type\":\"object\",\"name\":\"LinearScale\",\"id\":\"p1584\"},\"title\":{\"type\":\"object\",\"name\":\"Title\",\"id\":\"p1576\",\"attributes\":{\"text\":\"reg state\"}},\"renderers\":[{\"id\":\"p1608\"}],\"toolbar\":{\"type\":\"object\",\"name\":\"Toolbar\",\"id\":\"p1582\",\"attributes\":{\"tools\":[{\"type\":\"object\",\"name\":\"WheelZoomTool\",\"id\":\"p1595\",\"attributes\":{\"renderers\":\"auto\"}},{\"type\":\"object\",\"name\":\"ResetTool\",\"id\":\"p1596\"},{\"type\":\"object\",\"name\":\"UndoTool\",\"id\":\"p1597\"},{\"type\":\"object\",\"name\":\"RedoTool\",\"id\":\"p1598\"},{\"type\":\"object\",\"name\":\"PanTool\",\"id\":\"p1599\"},{\"type\":\"object\",\"name\":\"HoverTool\",\"id\":\"p1571\",\"attributes\":{\"renderers\":\"auto\",\"tooltips\":[[\"(x,y)\",\"(@_x, @_y)\"],[\"index: \",\"@_labels\"],[\"state: \",\"@_bits\"]]}}]}},\"toolbar_location\":\"above\",\"left\":[{\"type\":\"object\",\"name\":\"LinearAxis\",\"id\":\"p1590\",\"attributes\":{\"ticker\":{\"type\":\"object\",\"name\":\"BasicTicker\",\"id\":\"p1591\",\"attributes\":{\"mantissas\":[1,2,5]}},\"formatter\":{\"type\":\"object\",\"name\":\"BasicTickFormatter\",\"id\":\"p1592\"},\"major_label_policy\":{\"type\":\"object\",\"name\":\"AllLabels\",\"id\":\"p1593\"}}}],\"below\":[{\"type\":\"object\",\"name\":\"LinearAxis\",\"id\":\"p1585\",\"attributes\":{\"ticker\":{\"type\":\"object\",\"name\":\"BasicTicker\",\"id\":\"p1586\",\"attributes\":{\"mantissas\":[1,2,5]}},\"formatter\":{\"type\":\"object\",\"name\":\"BasicTickFormatter\",\"id\":\"p1587\"},\"axis_label\":\"(um)\",\"major_label_policy\":{\"type\":\"object\",\"name\":\"AllLabels\",\"id\":\"p1588\"}}}],\"center\":[{\"type\":\"object\",\"name\":\"Grid\",\"id\":\"p1589\",\"attributes\":{\"axis\":{\"id\":\"p1585\"}}},{\"type\":\"object\",\"name\":\"Grid\",\"id\":\"p1594\",\"attributes\":{\"dimension\":1,\"axis\":{\"id\":\"p1590\"}}}]}}]]},\"code\":\"\\n                            var sel_bar_i = tsrc.selected.indices[0];\\n                            bitsrc.data['_bits'] = xrng[sel_bar_i];\\n                            preg.title.text = \\\"reg state: [\\\" + sel_bar_i + \\\"]\\\";\\n                            bitsrc.change.emit();\\n                            reg_obj.change.emit();\\n                            preg.change.emit();\\n                          \"}}]]]},\"indices\":[],\"line_indices\":[]}},\"selection_policy\":{\"type\":\"object\",\"name\":\"UnionRenderers\",\"id\":\"p1517\"},\"data\":{\"type\":\"map\",\"entries\":[[\"tid\",[0,0,0,0]],[\"bitstrings\",[\"010\",\"011\",\"101\",\"110\"]],[\"cnts\",[59,28,11,2]],[\"bit_id\",[\"[0]\",\"[1]\",\"[2]\",\"[3]\"]]]}}},\"view\":{\"type\":\"object\",\"name\":\"CDSView\",\"id\":\"p1564\",\"attributes\":{\"filter\":{\"type\":\"object\",\"name\":\"AllIndices\",\"id\":\"p1565\"}}},\"glyph\":{\"type\":\"object\",\"name\":\"VBar\",\"id\":\"p1560\",\"attributes\":{\"x\":{\"type\":\"field\",\"field\":\"bit_id\"},\"width\":{\"type\":\"value\",\"value\":0.9},\"top\":{\"type\":\"field\",\"field\":\"cnts\"},\"line_color\":{\"type\":\"value\",\"value\":\"#d95f02\"},\"fill_color\":{\"type\":\"value\",\"value\":\"#d95f02\"},\"hatch_color\":{\"type\":\"value\",\"value\":\"#d95f02\"}}},\"nonselection_glyph\":{\"type\":\"object\",\"name\":\"VBar\",\"id\":\"p1561\",\"attributes\":{\"x\":{\"type\":\"field\",\"field\":\"bit_id\"},\"width\":{\"type\":\"value\",\"value\":0.9},\"top\":{\"type\":\"field\",\"field\":\"cnts\"},\"line_color\":{\"type\":\"value\",\"value\":\"#d95f02\"},\"line_alpha\":{\"type\":\"value\",\"value\":0.1},\"fill_color\":{\"type\":\"value\",\"value\":\"#d95f02\"},\"fill_alpha\":{\"type\":\"value\",\"value\":0.1},\"hatch_color\":{\"type\":\"value\",\"value\":\"#d95f02\"},\"hatch_alpha\":{\"type\":\"value\",\"value\":0.1}}},\"muted_glyph\":{\"type\":\"object\",\"name\":\"VBar\",\"id\":\"p1562\",\"attributes\":{\"x\":{\"type\":\"field\",\"field\":\"bit_id\"},\"width\":{\"type\":\"value\",\"value\":0.9},\"top\":{\"type\":\"field\",\"field\":\"cnts\"},\"line_color\":{\"type\":\"value\",\"value\":\"#d95f02\"},\"line_alpha\":{\"type\":\"value\",\"value\":0.2},\"fill_color\":{\"type\":\"value\",\"value\":\"#d95f02\"},\"fill_alpha\":{\"type\":\"value\",\"value\":0.2},\"hatch_color\":{\"type\":\"value\",\"value\":\"#d95f02\"},\"hatch_alpha\":{\"type\":\"value\",\"value\":0.2}}}}}],\"toolbar\":{\"type\":\"object\",\"name\":\"Toolbar\",\"id\":\"p1532\",\"attributes\":{\"tools\":[{\"type\":\"object\",\"name\":\"WheelZoomTool\",\"id\":\"p1546\",\"attributes\":{\"dimensions\":\"width\",\"renderers\":\"auto\"}},{\"type\":\"object\",\"name\":\"ResetTool\",\"id\":\"p1547\"},{\"type\":\"object\",\"name\":\"BoxZoomTool\",\"id\":\"p1548\",\"attributes\":{\"overlay\":{\"type\":\"object\",\"name\":\"BoxAnnotation\",\"id\":\"p1549\",\"attributes\":{\"syncable\":false,\"line_color\":\"black\",\"line_alpha\":1.0,\"line_width\":2,\"line_dash\":[4,4],\"fill_color\":\"lightgrey\",\"fill_alpha\":0.5,\"level\":\"overlay\",\"visible\":false,\"left\":{\"type\":\"number\",\"value\":\"nan\"},\"right\":{\"type\":\"number\",\"value\":\"nan\"},\"top\":{\"type\":\"number\",\"value\":\"nan\"},\"bottom\":{\"type\":\"number\",\"value\":\"nan\"},\"left_units\":\"canvas\",\"right_units\":\"canvas\",\"top_units\":\"canvas\",\"bottom_units\":\"canvas\",\"handles\":{\"type\":\"object\",\"name\":\"BoxInteractionHandles\",\"id\":\"p1555\",\"attributes\":{\"all\":{\"type\":\"object\",\"name\":\"AreaVisuals\",\"id\":\"p1554\",\"attributes\":{\"fill_color\":\"white\",\"hover_fill_color\":\"lightgray\"}}}}}}}},{\"type\":\"object\",\"name\":\"PanTool\",\"id\":\"p1556\",\"attributes\":{\"dimensions\":\"width\"}},{\"type\":\"object\",\"name\":\"HoverTool\",\"id\":\"p1566\",\"attributes\":{\"renderers\":\"auto\",\"tooltips\":[[\"counts: \",\"@cnts\"]]}},{\"type\":\"object\",\"name\":\"TapTool\",\"id\":\"p1567\",\"attributes\":{\"renderers\":[{\"id\":\"p1563\"}]}}],\"active_tap\":{\"id\":\"p1567\"}}},\"left\":[{\"type\":\"object\",\"name\":\"LinearAxis\",\"id\":\"p1541\",\"attributes\":{\"ticker\":{\"type\":\"object\",\"name\":\"BasicTicker\",\"id\":\"p1542\",\"attributes\":{\"mantissas\":[1,2,5]}},\"formatter\":{\"type\":\"object\",\"name\":\"BasicTickFormatter\",\"id\":\"p1543\"},\"axis_label\":\"Counts\",\"major_label_policy\":{\"type\":\"object\",\"name\":\"AllLabels\",\"id\":\"p1544\"}}}],\"below\":[{\"type\":\"object\",\"name\":\"CategoricalAxis\",\"id\":\"p1536\",\"attributes\":{\"ticker\":{\"type\":\"object\",\"name\":\"CategoricalTicker\",\"id\":\"p1537\"},\"formatter\":{\"type\":\"object\",\"name\":\"CategoricalTickFormatter\",\"id\":\"p1538\"},\"major_label_orientation\":0.7853981633974483,\"major_label_policy\":{\"type\":\"object\",\"name\":\"AllLabels\",\"id\":\"p1539\"}}}],\"center\":[{\"type\":\"object\",\"name\":\"Grid\",\"id\":\"p1540\",\"attributes\":{\"axis\":{\"id\":\"p1536\"},\"grid_line_color\":null}},{\"type\":\"object\",\"name\":\"Grid\",\"id\":\"p1545\",\"attributes\":{\"dimension\":1,\"axis\":{\"id\":\"p1541\"}}}]}},{\"id\":\"p1573\"},{\"type\":\"object\",\"name\":\"Figure\",\"id\":\"p1620\",\"attributes\":{\"width\":500,\"height\":400,\"x_range\":{\"type\":\"object\",\"name\":\"Range1d\",\"id\":\"p1647\",\"attributes\":{\"start\":-5000000.0,\"end\":15000000.0}},\"y_range\":{\"type\":\"object\",\"name\":\"Range1d\",\"id\":\"p1648\",\"attributes\":{\"start\":-5000000.0,\"end\":15000000.0}},\"x_scale\":{\"type\":\"object\",\"name\":\"LinearScale\",\"id\":\"p1630\"},\"y_scale\":{\"type\":\"object\",\"name\":\"LinearScale\",\"id\":\"p1631\"},\"title\":{\"type\":\"object\",\"name\":\"Title\",\"id\":\"p1623\",\"attributes\":{\"text\":\"rydberg density\"}},\"renderers\":[{\"type\":\"object\",\"name\":\"GlyphRenderer\",\"id\":\"p1655\",\"attributes\":{\"data_source\":{\"type\":\"object\",\"name\":\"ColumnDataSource\",\"id\":\"p1612\",\"attributes\":{\"selected\":{\"type\":\"object\",\"name\":\"Selection\",\"id\":\"p1613\",\"attributes\":{\"indices\":[],\"line_indices\":[]}},\"selection_policy\":{\"type\":\"object\",\"name\":\"UnionRenderers\",\"id\":\"p1614\"},\"data\":{\"type\":\"map\",\"entries\":[[\"_x\",[0.0,5000000.0,10000000.0]],[\"_y\",[0.0,0.0,0.0]],[\"_labels\",[0,1,2]],[\"_ryd\",[0.13,0.89,0.39]]]}}},\"view\":{\"type\":\"object\",\"name\":\"CDSView\",\"id\":\"p1656\",\"attributes\":{\"filter\":{\"type\":\"object\",\"name\":\"AllIndices\",\"id\":\"p1657\"}}},\"glyph\":{\"type\":\"object\",\"name\":\"Circle\",\"id\":\"p1652\",\"attributes\":{\"x\":{\"type\":\"field\",\"field\":\"_x\"},\"y\":{\"type\":\"field\",\"field\":\"_y\"},\"radius\":{\"type\":\"value\",\"value\":2000000.0},\"fill_color\":{\"type\":\"field\",\"field\":\"_ryd\",\"transform\":{\"type\":\"object\",\"name\":\"LinearColorMapper\",\"id\":\"p1619\",\"attributes\":{\"palette\":[\"#000003\",\"#000004\",\"#000006\",\"#010007\",\"#010109\",\"#01010B\",\"#02020D\",\"#02020F\",\"#030311\",\"#040313\",\"#040415\",\"#050417\",\"#060519\",\"#07051B\",\"#08061D\",\"#09071F\",\"#0A0722\",\"#0B0824\",\"#0C0926\",\"#0D0A28\",\"#0E0A2A\",\"#0F0B2C\",\"#100C2F\",\"#110C31\",\"#120D33\",\"#140D35\",\"#150E38\",\"#160E3A\",\"#170F3C\",\"#180F3F\",\"#1A1041\",\"#1B1044\",\"#1C1046\",\"#1E1049\",\"#1F114B\",\"#20114D\",\"#221150\",\"#231152\",\"#251155\",\"#261157\",\"#281159\",\"#2A115C\",\"#2B115E\",\"#2D1060\",\"#2F1062\",\"#301065\",\"#321067\",\"#341068\",\"#350F6A\",\"#370F6C\",\"#390F6E\",\"#3B0F6F\",\"#3C0F71\",\"#3E0F72\",\"#400F73\",\"#420F74\",\"#430F75\",\"#450F76\",\"#470F77\",\"#481078\",\"#4A1079\",\"#4B1079\",\"#4D117A\",\"#4F117B\",\"#50127B\",\"#52127C\",\"#53137C\",\"#55137D\",\"#57147D\",\"#58157E\",\"#5A157E\",\"#5B167E\",\"#5D177E\",\"#5E177F\",\"#60187F\",\"#61187F\",\"#63197F\",\"#651A80\",\"#661A80\",\"#681B80\",\"#691C80\",\"#6B1C80\",\"#6C1D80\",\"#6E1E81\",\"#6F1E81\",\"#711F81\",\"#731F81\",\"#742081\",\"#762181\",\"#772181\",\"#792281\",\"#7A2281\",\"#7C2381\",\"#7E2481\",\"#7F2481\",\"#812581\",\"#822581\",\"#842681\",\"#852681\",\"#872781\",\"#892881\",\"#8A2881\",\"#8C2980\",\"#8D2980\",\"#8F2A80\",\"#912A80\",\"#922B80\",\"#942B80\",\"#952C80\",\"#972C7F\",\"#992D7F\",\"#9A2D7F\",\"#9C2E7F\",\"#9E2E7E\",\"#9F2F7E\",\"#A12F7E\",\"#A3307E\",\"#A4307D\",\"#A6317D\",\"#A7317D\",\"#A9327C\",\"#AB337C\",\"#AC337B\",\"#AE347B\",\"#B0347B\",\"#B1357A\",\"#B3357A\",\"#B53679\",\"#B63679\",\"#B83778\",\"#B93778\",\"#BB3877\",\"#BD3977\",\"#BE3976\",\"#C03A75\",\"#C23A75\",\"#C33B74\",\"#C53C74\",\"#C63C73\",\"#C83D72\",\"#CA3E72\",\"#CB3E71\",\"#CD3F70\",\"#CE4070\",\"#D0416F\",\"#D1426E\",\"#D3426D\",\"#D4436D\",\"#D6446C\",\"#D7456B\",\"#D9466A\",\"#DA4769\",\"#DC4869\",\"#DD4968\",\"#DE4A67\",\"#E04B66\",\"#E14C66\",\"#E24D65\",\"#E44E64\",\"#E55063\",\"#E65162\",\"#E75262\",\"#E85461\",\"#EA5560\",\"#EB5660\",\"#EC585F\",\"#ED595F\",\"#EE5B5E\",\"#EE5D5D\",\"#EF5E5D\",\"#F0605D\",\"#F1615C\",\"#F2635C\",\"#F3655C\",\"#F3675B\",\"#F4685B\",\"#F56A5B\",\"#F56C5B\",\"#F66E5B\",\"#F6705B\",\"#F7715B\",\"#F7735C\",\"#F8755C\",\"#F8775C\",\"#F9795C\",\"#F97B5D\",\"#F97D5D\",\"#FA7F5E\",\"#FA805E\",\"#FA825F\",\"#FB8460\",\"#FB8660\",\"#FB8861\",\"#FB8A62\",\"#FC8C63\",\"#FC8E63\",\"#FC9064\",\"#FC9265\",\"#FC9366\",\"#FD9567\",\"#FD9768\",\"#FD9969\",\"#FD9B6A\",\"#FD9D6B\",\"#FD9F6C\",\"#FDA16E\",\"#FDA26F\",\"#FDA470\",\"#FEA671\",\"#FEA873\",\"#FEAA74\",\"#FEAC75\",\"#FEAE76\",\"#FEAF78\",\"#FEB179\",\"#FEB37B\",\"#FEB57C\",\"#FEB77D\",\"#FEB97F\",\"#FEBB80\",\"#FEBC82\",\"#FEBE83\",\"#FEC085\",\"#FEC286\",\"#FEC488\",\"#FEC689\",\"#FEC78B\",\"#FEC98D\",\"#FECB8E\",\"#FDCD90\",\"#FDCF92\",\"#FDD193\",\"#FDD295\",\"#FDD497\",\"#FDD698\",\"#FDD89A\",\"#FDDA9C\",\"#FDDC9D\",\"#FDDD9F\",\"#FDDFA1\",\"#FDE1A3\",\"#FCE3A5\",\"#FCE5A6\",\"#FCE6A8\",\"#FCE8AA\",\"#FCEAAC\",\"#FCECAE\",\"#FCEEB0\",\"#FCF0B1\",\"#FCF1B3\",\"#FCF3B5\",\"#FCF5B7\",\"#FBF7B9\",\"#FBF9BB\",\"#FBFABD\",\"#FBFCBF\"],\"low\":0.13,\"high\":0.89}}},\"hatch_color\":{\"type\":\"field\",\"field\":\"_ryd\",\"transform\":{\"id\":\"p1619\"}}}},\"nonselection_glyph\":{\"type\":\"object\",\"name\":\"Circle\",\"id\":\"p1653\",\"attributes\":{\"x\":{\"type\":\"field\",\"field\":\"_x\"},\"y\":{\"type\":\"field\",\"field\":\"_y\"},\"radius\":{\"type\":\"value\",\"value\":2000000.0},\"line_alpha\":{\"type\":\"value\",\"value\":0.1},\"fill_color\":{\"type\":\"field\",\"field\":\"_ryd\",\"transform\":{\"id\":\"p1619\"}},\"fill_alpha\":{\"type\":\"value\",\"value\":0.1},\"hatch_color\":{\"type\":\"field\",\"field\":\"_ryd\",\"transform\":{\"id\":\"p1619\"}},\"hatch_alpha\":{\"type\":\"value\",\"value\":0.1}}},\"muted_glyph\":{\"type\":\"object\",\"name\":\"Circle\",\"id\":\"p1654\",\"attributes\":{\"x\":{\"type\":\"field\",\"field\":\"_x\"},\"y\":{\"type\":\"field\",\"field\":\"_y\"},\"radius\":{\"type\":\"value\",\"value\":2000000.0},\"line_alpha\":{\"type\":\"value\",\"value\":0.2},\"fill_color\":{\"type\":\"field\",\"field\":\"_ryd\",\"transform\":{\"id\":\"p1619\"}},\"fill_alpha\":{\"type\":\"value\",\"value\":0.2},\"hatch_color\":{\"type\":\"field\",\"field\":\"_ryd\",\"transform\":{\"id\":\"p1619\"}},\"hatch_alpha\":{\"type\":\"value\",\"value\":0.2}}}}},{\"type\":\"object\",\"name\":\"GlyphRenderer\",\"id\":\"p1664\",\"attributes\":{\"data_source\":{\"type\":\"object\",\"name\":\"ColumnDataSource\",\"id\":\"p1615\",\"attributes\":{\"selected\":{\"type\":\"object\",\"name\":\"Selection\",\"id\":\"p1616\",\"attributes\":{\"indices\":[],\"line_indices\":[]}},\"selection_policy\":{\"type\":\"object\",\"name\":\"UnionRenderers\",\"id\":\"p1617\"},\"data\":{\"type\":\"map\",\"entries\":[[\"_x\",[]],[\"_y\",[]],[\"_labels\",[]],[\"_ryd\",[]]]}}},\"view\":{\"type\":\"object\",\"name\":\"CDSView\",\"id\":\"p1665\",\"attributes\":{\"filter\":{\"type\":\"object\",\"name\":\"AllIndices\",\"id\":\"p1666\"}}},\"glyph\":{\"type\":\"object\",\"name\":\"Circle\",\"id\":\"p1661\",\"attributes\":{\"x\":{\"type\":\"field\",\"field\":\"_x\"},\"y\":{\"type\":\"field\",\"field\":\"_y\"},\"radius\":{\"type\":\"value\",\"value\":2000000.0},\"line_width\":{\"type\":\"value\",\"value\":50000.0},\"fill_color\":{\"type\":\"field\",\"field\":\"_ryd\",\"transform\":{\"id\":\"p1619\"}},\"hatch_color\":{\"type\":\"field\",\"field\":\"_ryd\",\"transform\":{\"id\":\"p1619\"}}}},\"nonselection_glyph\":{\"type\":\"object\",\"name\":\"Circle\",\"id\":\"p1662\",\"attributes\":{\"x\":{\"type\":\"field\",\"field\":\"_x\"},\"y\":{\"type\":\"field\",\"field\":\"_y\"},\"radius\":{\"type\":\"value\",\"value\":2000000.0},\"line_alpha\":{\"type\":\"value\",\"value\":0.1},\"line_width\":{\"type\":\"value\",\"value\":50000.0},\"fill_color\":{\"type\":\"field\",\"field\":\"_ryd\",\"transform\":{\"id\":\"p1619\"}},\"fill_alpha\":{\"type\":\"value\",\"value\":0.1},\"hatch_color\":{\"type\":\"field\",\"field\":\"_ryd\",\"transform\":{\"id\":\"p1619\"}},\"hatch_alpha\":{\"type\":\"value\",\"value\":0.1}}},\"muted_glyph\":{\"type\":\"object\",\"name\":\"Circle\",\"id\":\"p1663\",\"attributes\":{\"x\":{\"type\":\"field\",\"field\":\"_x\"},\"y\":{\"type\":\"field\",\"field\":\"_y\"},\"radius\":{\"type\":\"value\",\"value\":2000000.0},\"line_alpha\":{\"type\":\"value\",\"value\":0.2},\"line_width\":{\"type\":\"value\",\"value\":50000.0},\"fill_color\":{\"type\":\"field\",\"field\":\"_ryd\",\"transform\":{\"id\":\"p1619\"}},\"fill_alpha\":{\"type\":\"value\",\"value\":0.2},\"hatch_color\":{\"type\":\"field\",\"field\":\"_ryd\",\"transform\":{\"id\":\"p1619\"}},\"hatch_alpha\":{\"type\":\"value\",\"value\":0.2}}}}}],\"toolbar\":{\"type\":\"object\",\"name\":\"Toolbar\",\"id\":\"p1629\",\"attributes\":{\"tools\":[{\"type\":\"object\",\"name\":\"WheelZoomTool\",\"id\":\"p1642\",\"attributes\":{\"renderers\":\"auto\"}},{\"type\":\"object\",\"name\":\"ResetTool\",\"id\":\"p1643\"},{\"type\":\"object\",\"name\":\"UndoTool\",\"id\":\"p1644\"},{\"type\":\"object\",\"name\":\"RedoTool\",\"id\":\"p1645\"},{\"type\":\"object\",\"name\":\"PanTool\",\"id\":\"p1646\"},{\"type\":\"object\",\"name\":\"HoverTool\",\"id\":\"p1618\",\"attributes\":{\"renderers\":\"auto\",\"tooltips\":[[\"(x,y)\",\"(@_x, @_y)\"],[\"index: \",\"@_labels\"],[\"ryd density: \",\"@_ryd\"]]}}]}},\"toolbar_location\":\"above\",\"left\":[{\"type\":\"object\",\"name\":\"LinearAxis\",\"id\":\"p1637\",\"attributes\":{\"ticker\":{\"type\":\"object\",\"name\":\"BasicTicker\",\"id\":\"p1638\",\"attributes\":{\"mantissas\":[1,2,5]}},\"formatter\":{\"type\":\"object\",\"name\":\"BasicTickFormatter\",\"id\":\"p1639\"},\"major_label_policy\":{\"type\":\"object\",\"name\":\"AllLabels\",\"id\":\"p1640\"}}}],\"right\":[{\"type\":\"object\",\"name\":\"ColorBar\",\"id\":\"p1667\",\"attributes\":{\"location\":[0,0],\"major_label_policy\":{\"type\":\"object\",\"name\":\"NoOverlap\",\"id\":\"p1668\"},\"label_standoff\":12,\"color_mapper\":{\"id\":\"p1619\"}}}],\"below\":[{\"type\":\"object\",\"name\":\"LinearAxis\",\"id\":\"p1632\",\"attributes\":{\"ticker\":{\"type\":\"object\",\"name\":\"BasicTicker\",\"id\":\"p1633\",\"attributes\":{\"mantissas\":[1,2,5]}},\"formatter\":{\"type\":\"object\",\"name\":\"BasicTickFormatter\",\"id\":\"p1634\"},\"axis_label\":\"(um)\",\"major_label_policy\":{\"type\":\"object\",\"name\":\"AllLabels\",\"id\":\"p1635\"}}}],\"center\":[{\"type\":\"object\",\"name\":\"Grid\",\"id\":\"p1636\",\"attributes\":{\"axis\":{\"id\":\"p1632\"}}},{\"type\":\"object\",\"name\":\"Grid\",\"id\":\"p1641\",\"attributes\":{\"dimension\":1,\"axis\":{\"id\":\"p1637\"}}}]}}]}}]],[\"options\",[\"task 0\"]],[\"nelem\",1]]},\"code\":\"\\n                        const vals = this.value\\n                        for(let i=0;i<nelem;i++){\\n                            figs[i].visible=false;\\n                            for(let j=0;j<vals.length;j++){\\n                                if(vals[j]==options[i]){\\n                                    figs[i].visible=true;\\n                                    break;\\n                                }\\n                            }\\n                        }\\n                    \"}}]]]},\"options\":[\"task 0\"],\"value\":[\"task 0\"]}},{\"type\":\"object\",\"name\":\"Column\",\"id\":\"p1681\",\"attributes\":{\"children\":[{\"id\":\"p1669\"}]}}]}}]}}]}};\n",
       "  const render_items = [{\"docid\":\"5a4a737d-8b40-48c7-bae7-38136745a25d\",\"roots\":{\"p1683\":\"d2dc2cdb-df42-4478-b3cc-16e5f3e9b54f\"},\"root_ids\":[\"p1683\"]}];\n",
       "  void root.Bokeh.embed.embed_items_notebook(docs_json, render_items);\n",
       "  }\n",
       "  if (root.Bokeh !== undefined) {\n",
       "    embed_document(root);\n",
       "  } else {\n",
       "    let attempts = 0;\n",
       "    const timer = setInterval(function(root) {\n",
       "      if (root.Bokeh !== undefined) {\n",
       "        clearInterval(timer);\n",
       "        embed_document(root);\n",
       "      } else {\n",
       "        attempts++;\n",
       "        if (attempts > 100) {\n",
       "          clearInterval(timer);\n",
       "          console.log(\"Bokeh: ERROR: Unable to run BokehJS code because BokehJS library is missing\");\n",
       "        }\n",
       "      }\n",
       "    }, 10, root)\n",
       "  }\n",
       "})(window);"
      ],
      "application/vnd.bokehjs_exec.v0+json": ""
     },
     "metadata": {
      "application/vnd.bokehjs_exec.v0+json": {
       "id": "p1683"
      }
     },
     "output_type": "display_data"
    }
   ],
   "source": [
    "report.show()"
   ]
  },
  {
   "cell_type": "code",
   "execution_count": 29,
   "id": "ab73b12b-abb4-4777-8566-7cc1166577ca",
   "metadata": {},
   "outputs": [
    {
     "name": "stdout",
     "output_type": "stream",
     "text": [
      "run elaT=8.4 sec\n"
     ]
    }
   ],
   "source": [
    "hw_batch = job.braket.aquila().run_async(10,use_experimental=True)\n",
    "print('run elaT=%.1f sec'%(time.time()-t0))"
   ]
  },
  {
   "cell_type": "code",
   "execution_count": 31,
   "id": "255a28a4-bd1e-469d-93bc-aaa6746375ac",
   "metadata": {},
   "outputs": [],
   "source": [
    "save(hw_batch,'myDetune.json')"
   ]
  },
  {
   "cell_type": "code",
   "execution_count": 87,
   "id": "05c4a0b2-a120-46eb-9f83-73a033cd7f48",
   "metadata": {},
   "outputs": [
    {
     "name": "stdout",
     "output_type": "stream",
     "text": [
      " Retrieve the job arn:aws:braket:us-east-1:765483381942:quantum-task/ee191b55-cfa9-4b11-a1ba-a578c3567a06\n"
     ]
    }
   ],
   "source": [
    "import json\n",
    "from pprint import pprint\n",
    "from braket.aws import AwsQuantumTask\n",
    "\n",
    "# Load the job ID from the JSON file\n",
    "with open('myDetune.json', 'r') as f:\n",
    "    data = json.load(f)['bloqade.task.batch.RemoteBatch']['tasks'][0][1]['bloqade.task.braket.BraketTask']\n",
    "    #pprint(data)\n",
    "    job_id = data['task_id']\n",
    "    #pprint(data['bloqade.task.batch.RemoteBatch'])\n",
    "#1job_id='arn:aws:braket:us-east-1:765483381942:quantum-task/ee191b55-cfa9-4b11-a1ba-a578c3567a06'\n",
    "print(' Retrieve the job',job_id)\n",
    "hw_batch3 = AwsQuantumTask(arn=job_id)"
   ]
  },
  {
   "cell_type": "code",
   "execution_count": 88,
   "id": "7543ad20-578f-46d0-8ad7-9df0658ad5ca",
   "metadata": {},
   "outputs": [
    {
     "name": "stdout",
     "output_type": "stream",
     "text": [
      "Job status: COMPLETED\n",
      "Counts3: {'rgr': 9, 'ggr': 1}\n"
     ]
    }
   ],
   "source": [
    "# Check the status of the job\n",
    "status = hw_batch3.state()\n",
    "print(f\"Job status: {status}\")\n",
    "# Get the results if the job is completed\n",
    "if status == 'COMPLETED':\n",
    "    result = hw_batch3.result()\n",
    "    #print(result)\n",
    "    #print(dir(result))\n",
    "    counts = result.get_counts()\n",
    "    #counts=result.counts()   # does it remove 'e' from pre-measure and is '1'=rydberg?\n",
    "    print('Counts3:',counts)\n"
   ]
  },
  {
   "cell_type": "code",
   "execution_count": 82,
   "id": "ac3905b1-f5d8-4d71-b805-695f17a8f67d",
   "metadata": {},
   "outputs": [
    {
     "data": {
      "text/plain": [
       "TaskMetadata(braketSchemaHeader=BraketSchemaHeader(name='braket.task_result.task_metadata', version='1'), id='arn:aws:braket:us-east-1:765483381942:quantum-task/ee191b55-cfa9-4b11-a1ba-a578c3567a06', shots=10, deviceId='arn:aws:braket:us-east-1::device/qpu/quera/Aquila', deviceParameters=None, createdAt='2024-11-16T03:31:19.515Z', endedAt='2024-11-16T03:51:06.138Z', status='COMPLETED', failureReason=None)"
      ]
     },
     "execution_count": 82,
     "metadata": {},
     "output_type": "execute_result"
    }
   ],
   "source": [
    "result.task_metadata"
   ]
  },
  {
   "cell_type": "code",
   "execution_count": 83,
   "id": "3b9dcca2-1e4d-4143-a66f-8c633ae3854c",
   "metadata": {},
   "outputs": [
    {
     "data": {
      "text/plain": [
       "AdditionalMetadata(action=Program(braketSchemaHeader=BraketSchemaHeader(name='braket.ir.ahs.program', version='1'), setup=Setup(ahs_register=AtomArrangement(sites=[[Decimal('0.0'), Decimal('0.0')], [Decimal('0.000005'), Decimal('0.0')], [Decimal('0.00001'), Decimal('0.0')]], filling=[1, 1, 1])), hamiltonian=Hamiltonian(drivingFields=[DrivingField(amplitude=PhysicalField(time_series=TimeSeries(values=[Decimal('0.0'), Decimal('15700000.0'), Decimal('15700000.0'), Decimal('0.0')], times=[Decimal('0.0'), Decimal('8E-7'), Decimal('0.000002'), Decimal('0.0000028')]), pattern='uniform'), phase=PhysicalField(time_series=TimeSeries(values=[Decimal('0.0'), Decimal('0.0')], times=[Decimal('0.0'), Decimal('0.0000028')]), pattern='uniform'), detuning=PhysicalField(time_series=TimeSeries(values=[Decimal('-124000000.0'), Decimal('-124000000.0'), Decimal('124000000.0'), Decimal('124000000.0')], times=[Decimal('0.0'), Decimal('8E-7'), Decimal('0.000002'), Decimal('0.0000028')]), pattern='uniform'))], localDetuning=[LocalDetuning(magnitude=PhysicalField(time_series=TimeSeries(values=[Decimal('0.0'), Decimal('0.0'), Decimal('-1100000.0'), Decimal('0.0')], times=[Decimal('0.0'), Decimal('8E-7'), Decimal('0.000002'), Decimal('0.0000028')]), pattern=[Decimal('0.7'), Decimal('0.5'), Decimal('0.3')]))])), dwaveMetadata=None, ionqMetadata=None, rigettiMetadata=None, oqcMetadata=None, xanaduMetadata=None, queraMetadata=QueraMetadata(braketSchemaHeader=BraketSchemaHeader(name='braket.task_result.quera_metadata', version='1'), numSuccessfulShots=10), simulatorMetadata=None, iqmMetadata=None)"
      ]
     },
     "execution_count": 83,
     "metadata": {},
     "output_type": "execute_result"
    }
   ],
   "source": [
    "result.additional_metadata"
   ]
  }
 ],
 "metadata": {
  "kernelspec": {
   "display_name": "Python 3 (ipykernel)",
   "language": "python",
   "name": "python3"
  },
  "language_info": {
   "codemirror_mode": {
    "name": "ipython",
    "version": 3
   },
   "file_extension": ".py",
   "mimetype": "text/x-python",
   "name": "python",
   "nbconvert_exporter": "python",
   "pygments_lexer": "ipython3",
   "version": "3.12.3"
  }
 },
 "nbformat": 4,
 "nbformat_minor": 5
}
