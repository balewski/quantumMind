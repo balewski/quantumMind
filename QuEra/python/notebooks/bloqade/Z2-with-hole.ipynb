{
 "cells": [
  {
   "cell_type": "code",
   "execution_count": null,
   "id": "f868c735-6da2-4b9e-8e85-8304958a71fe",
   "metadata": {},
   "outputs": [],
   "source": [
    "# create Z2-phase with a hole"
   ]
  },
  {
   "cell_type": "code",
   "execution_count": null,
   "id": "f71d5fea-7548-4f66-bdb4-1c1097ddb5d8",
   "metadata": {},
   "outputs": [],
   "source": [
    "from bloqade import save, load\n",
    "from bloqade.atom_arrangement import Chain\n",
    "import numpy as np\n",
    "import os, time"
   ]
  },
  {
   "cell_type": "code",
   "execution_count": null,
   "id": "a3945e30-5a83-46aa-8b81-0333f95b463d",
   "metadata": {},
   "outputs": [],
   "source": [
    "from collections import OrderedDict\n",
    "def invert_keys(D):  # maps g-->0, r -->1  to stick with computer science convention\n",
    "    # Lambda function to invert the '0's and '1's\n",
    "    invert_binary = lambda s: s.replace('0', '2').replace('1', '0').replace('2', '1')\n",
    "    D_inverted = [OrderedDict((invert_binary(k), v) for k, v in d.items()) for d in D]\n",
    "    return D_inverted\n"
   ]
  },
  {
   "cell_type": "code",
   "execution_count": null,
   "id": "2640420e-45d4-49ff-be51-f3a7affe0773",
   "metadata": {},
   "outputs": [],
   "source": [
    "# Define relevant parameters for the lattice geometry and pulse schedule\n",
    "n_atoms = 9 #\n",
    "lattice_const = 6.1\n",
    "\n",
    "# Define Rabi amplitude and detuning values.\n",
    "rabi_amplitude = [0.0, 15., 15., 0.0]\n",
    "delta_glob = [-16, -16, 16, 16]\n",
    "durations = [0.5, \"sweep_time\", 0.5]\n",
    "\n",
    "prog1 = (\n",
    "    Chain(n_atoms, lattice_const)\n",
    "    .rydberg.rabi.amplitude.uniform.piecewise_linear(durations, rabi_amplitude)\n",
    "    .detuning.uniform.piecewise_linear(durations, delta_glob)\n",
    ")"
   ]
  },
  {
   "cell_type": "code",
   "execution_count": null,
   "id": "59617513-03f7-41dc-bc2e-b105e3089240",
   "metadata": {},
   "outputs": [],
   "source": [
    "job1 = prog1.assign(sweep_time=3.0)\n",
    "#print(program)\n",
    "t0=time.time()\n",
    "emu1 = job1.braket.local_emulator().run(100)\n",
    "print('run elaT=%.1f sec'%(time.time()-t0))\n",
    "report1 = emu1.report()"
   ]
  },
  {
   "cell_type": "code",
   "execution_count": null,
   "id": "6cd44376-a9d6-49c6-bf28-e6515493bf36",
   "metadata": {},
   "outputs": [],
   "source": [
    "counts1=invert_keys(report1.counts)   #  is '1'=rydberg\n",
    "print('Counts1:',counts1)"
   ]
  },
  {
   "cell_type": "code",
   "execution_count": null,
   "id": "2b8eb3cc-a422-4a9e-a1f1-bdf0defa334c",
   "metadata": {},
   "outputs": [],
   "source": [
    "# use detunning to suppress 1-state on atom #2 counting form 0 ,the  goal state is: 100010101 "
   ]
  },
  {
   "cell_type": "code",
   "execution_count": null,
   "id": "7f7ed34e-bf85-4ecc-be60-ac4e1460406f",
   "metadata": {},
   "outputs": [],
   "source": [
    "delta_glob2 = [-16, -16, -16, -16]\n",
    "delta_local2 = [0., 0.,  32., 32]\n",
    "atomLab=[i for i in range(n_atoms) ]\n",
    "atomScale=[1. for i in range(n_atoms) ]; atomScale[2]=0.\n",
    "\n",
    "prog2 = (\n",
    "    Chain(n_atoms, lattice_const)\n",
    "    .rydberg.rabi.amplitude.uniform.piecewise_linear(durations, rabi_amplitude)\n",
    "    .detuning.uniform.piecewise_linear(durations, delta_glob2)\n",
    "    .location(atomLab,atomScale).piecewise_linear(durations, values=delta_local2)\n",
    ")"
   ]
  },
  {
   "cell_type": "code",
   "execution_count": null,
   "id": "9ac40725-b616-41c2-afd2-2e2760003179",
   "metadata": {},
   "outputs": [],
   "source": [
    "print('atoms subject to detune:',atomScale)"
   ]
  },
  {
   "cell_type": "code",
   "execution_count": null,
   "id": "1b147af3-fede-4eee-8977-1e805ce6cd3b",
   "metadata": {},
   "outputs": [],
   "source": [
    "job2 = prog2.assign(sweep_time=3.0)\n",
    "t0=time.time()\n",
    "emu2 = job2.braket.local_emulator().run(100)\n",
    "print('run elaT=%.1f sec'%(time.time()-t0))\n",
    "report2 = emu2.report()"
   ]
  },
  {
   "cell_type": "code",
   "execution_count": null,
   "id": "69e0f6c7-6b49-41dc-8e0f-283a67e73fec",
   "metadata": {},
   "outputs": [],
   "source": [
    "counts2=invert_keys(report2.counts)    #  is '1'=rydberg\n",
    "print('Counts2:',counts2)"
   ]
  },
  {
   "cell_type": "code",
   "execution_count": null,
   "id": "d26e9937-d1ee-41e5-a5b0-b8ed4df9ae2c",
   "metadata": {},
   "outputs": [],
   "source": []
  }
 ],
 "metadata": {
  "kernelspec": {
   "display_name": "Python 3 (ipykernel)",
   "language": "python",
   "name": "python3"
  },
  "language_info": {
   "codemirror_mode": {
    "name": "ipython",
    "version": 3
   },
   "file_extension": ".py",
   "mimetype": "text/x-python",
   "name": "python",
   "nbconvert_exporter": "python",
   "pygments_lexer": "ipython3",
   "version": "3.10.12"
  }
 },
 "nbformat": 4,
 "nbformat_minor": 5
}
