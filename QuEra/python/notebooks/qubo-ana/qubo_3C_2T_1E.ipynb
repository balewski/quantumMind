{
 "cells": [
  {
   "cell_type": "code",
   "execution_count": 1,
   "id": "cd786f59-8856-49d0-9b0c-efb4056f53ff",
   "metadata": {},
   "outputs": [
    {
     "name": "stderr",
     "output_type": "stream",
     "text": [
      "OpenBLAS WARNING - could not determine the L2 cache size on this system, assuming 256k\n"
     ]
    }
   ],
   "source": [
    "# Import NumPy library\n",
    "import numpy as np\n",
    "import networkx as nx\n",
    "import matplotlib.pyplot as plt\n",
    "from pprint import pprint"
   ]
  },
  {
   "cell_type": "markdown",
   "id": "d6a61759-3c20-4d5b-a2c7-fa1aef03efe7",
   "metadata": {},
   "source": [
    "some text before\n",
    "<details>\n",
    "<summary>Click to expand the description!</summary>\n",
    "\n",
    "This Jupyter notebook demonstrates the basics of numerical operations in Python using NumPy. We will load the necessary NumPy library in one cell and compute the sine function for a range of values from 0 to \\(2\\pi\\) in the next.\n",
    "\n",
    "</details>"
   ]
  },
  {
   "cell_type": "code",
   "execution_count": 2,
   "id": "243820c3-6bb4-4e95-9c8b-9cdfd39dbcc9",
   "metadata": {},
   "outputs": [],
   "source": [
    "def create_nx_graph(graph_dict, graph_type=''):\n",
    "    \"\"\"\n",
    "    Create a NetworkX graph object from a dictionary representation of a graph.\n",
    "    \n",
    "    :param graph_dict: dict, Dictionary containing graph information.\n",
    "                       Nodes are keys, values are another dict where keys are connected nodes and values are edge weights.\n",
    "    :param graph_type: str, '1dir' to create a directed graph, '2dir' to create an undirected graph.\n",
    "    :return: NetworkX graph object\n",
    "    \"\"\"\n",
    "    if graph_type == 'dir':\n",
    "        G = nx.DiGraph()  # Create an empty Directed Graph object\n",
    "    else: \n",
    "        G = nx.Graph()  # Create an empty Graph object\n",
    "    \n",
    "    # Add nodes and edges to the graph\n",
    "    for node, connections in graph_dict.items():\n",
    "        G.add_node(node, weight=connections.pop('weight', None))  # Add node with weight if it exists\n",
    "        for connected_node, weight in connections.items():\n",
    "            G.add_edge(node, connected_node, weight=weight)  # Add edge with weight\n",
    "    \n",
    "    return G\n",
    "\n",
    "# Example usage:\n",
    "    \n",
    "# Creating an undirected graph\n",
    "#G_ud = create_nx_graph(graph_dict)\n",
    "\n",
    "# Creating a directed graph\n",
    "#G_1d = create_nx_graph(graph_dict, 'dir')\n"
   ]
  },
  {
   "cell_type": "code",
   "execution_count": 3,
   "id": "7d70ad10-12f5-4bf7-b875-d846a1259740",
   "metadata": {},
   "outputs": [],
   "source": [
    "def print_graph(G,txt=''):\n",
    "    \"\"\"\n",
    "    Print the nodes with weights and the edges with weights of a NetworkX graph object.\n",
    "    \n",
    "    :param G: NetworkX graph object\n",
    "    \"\"\"\n",
    "    # Printing nodes with weights\n",
    "    print(\"\\n\"+txt+\" Nodes with weights \")\n",
    "    for node, data in G.nodes(data=True):\n",
    "        print(f\"Node: {node}, Weight: {data['weight']}\")\n",
    "\n",
    "    is1d=isinstance(G, nx.DiGraph)\n",
    "    # Printing edges with weights\n",
    "    if is1d: print(\"Edges (1-directional) with weights:\") \n",
    "    else: print(\"Edges (uni-directional) with weights:\")\n",
    "    for u, v, weight in G.edges(data='weight'):\n",
    "        print(f\"edge: ({u}, {v}), weight: {weight}\")\n",
    "\n",
    "# Using the function to display nodes with weights and edges with weights of the graph G\n",
    "#print_graph(G_ud)"
   ]
  },
  {
   "cell_type": "code",
   "execution_count": 4,
   "id": "a9b8caf7-dd12-4938-a74b-bce3a04741ee",
   "metadata": {},
   "outputs": [],
   "source": [
    "def draw_custom_graph(G, ax):\n",
    "    \"\"\"\n",
    "    Draw the graph on a specified matplotlib axis.\n",
    "    \n",
    "    :param G: NetworkX graph object\n",
    "    :param ax: Matplotlib axis\n",
    "    \"\"\"\n",
    "    #pos = nx.spring_layout(G)  # Define the layout\n",
    "    pos = nx.drawing.layout.planar_layout(G)  \n",
    "\n",
    "    #pos = nx.drawing.nx_pydot.pydot_layout(G, prog='dot')  # tree from top\n",
    "    is1d=isinstance(G, nx.DiGraph)\n",
    "    print('pos:',pos,type(pos), 'is1d=',is1d)\n",
    "    \n",
    "    # Determine node colors and shapes based on graph type\n",
    "    node_color = 'lightblue' if is1d else 'yellow'\n",
    "    node_shape = 'o' if is1d  else 's'\n",
    "    \n",
    "    # Draw nodes with size 500\n",
    "    nx.draw_networkx_nodes(G, pos, node_color=node_color, node_size=500, node_shape=node_shape, edgecolors='black', linewidths=1, ax=ax)\n",
    "    \n",
    "    # Draw edges with arrow heads\n",
    "    #nx.draw_networkx_edges(G, pos, arrows=True, ax=ax)\n",
    "   \n",
    "    # Draw edges with arrowstyle based on graph type, ensuring arrows are not hidden\n",
    "    if is1d:\n",
    "         nx.draw_networkx_edges(G, pos, arrows=True, arrowstyle='-|>', arrowsize=20, ax=ax)#, connectionstyle='arc3,rad=-0.3')\n",
    "    else:      \n",
    "        nx.draw_networkx_edges(G, pos, arrows=True, arrowsize=20, ax=ax)\n",
    "        \n",
    "    # Draw labels inside nodes\n",
    "    nx.draw_networkx_labels(G, pos, font_weight='bold', font_color='black', ax=ax)\n",
    "\n",
    "    # Draw node weights\n",
    "    node_weight = nx.get_node_attributes(G, 'weight')\n",
    "    print('nn', node_weight)\n",
    "    for nn in node_weight: \n",
    "        #print('zzz',pos[nn],str(node_weight[nn]))\n",
    "        x0,y0=pos[nn]#+(0.07,.07)\n",
    "        print('pp',nn,x0,x0)\n",
    "        ax.text(x0+0.05,y0+0.01 ,str(node_weight[nn]))\n",
    "\n",
    "    # Draw edge weights\n",
    "    edge_labels = nx.get_edge_attributes(G, 'weight')\n",
    "    nx.draw_networkx_edge_labels(G, pos, edge_labels=edge_labels, ax=ax)\n",
    "\n",
    "    tit='' if is1d else 'directed'\n",
    "    ax.set_title('Graph '+tit)\n",
    "    ax.axis('off')  # Turn off the axis\n",
    "\n",
    "# Example usage:\n",
    "if 0:\n",
    "    fig, axs = plt.subplots(1, 2, figsize=(10, 5))  # Create a canvas with 2 axes\n",
    "    draw_custom_graph(G_cn, axs[0])  # Draw on the first axis\n",
    "    plt.tight_layout()\n",
    "    plt.show()"
   ]
  },
  {
   "cell_type": "code",
   "execution_count": 5,
   "id": "a956ea1a-b93a-4dc4-9b49-881c9dae0e3c",
   "metadata": {},
   "outputs": [],
   "source": [
    "# INPUT : CN compute nodes & TASKS for : 2C_3T_2E\n",
    "graph_CN = {\n",
    "    \"C0\": {\"weight\": 1,\"C1\": 4} ,\n",
    "    \"C1\": {\"weight\": 2,\"C0\": 4}\n",
    "}\n",
    "graph_TASK = {\n",
    "    \"T0\": { \"weight\": 3,\"T1\": 2,\"T2\": 20,},\n",
    "    \"T1\": {\"weight\": 10},\n",
    "    \"T2\": {\"weight\": 4}\n",
    "}"
   ]
  },
  {
   "cell_type": "code",
   "execution_count": 6,
   "id": "f7ba0372-c5b6-47dd-ad35-8565998769e3",
   "metadata": {},
   "outputs": [],
   "source": [
    "if 1: # INPUT : CN compute nodes & TASKS for : 3C_2T_1E\n",
    "    graph_CN = {\n",
    "        \"C0\": {\"weight\": 5,\"C1\": 3} ,\n",
    "        \"C1\": {\"weight\": 2,\"C0\": 3,\"C2\": 4},\n",
    "        \"C2\": {\"weight\": 1,\"C1\": 4}\n",
    "    }\n",
    "    graph_TASK = {\n",
    "        \"T0\": { \"weight\": 7,\"T1\": 5},\n",
    "        \"T1\": {\"weight\": 8}\n",
    "    }"
   ]
  },
  {
   "cell_type": "code",
   "execution_count": 7,
   "id": "ba7d329d-33b0-460d-8239-a6d4df9c0388",
   "metadata": {},
   "outputs": [
    {
     "name": "stdout",
     "output_type": "stream",
     "text": [
      "\n",
      "Compute  Nodes with weights \n",
      "Node: C0, Weight: 5\n",
      "Node: C1, Weight: 2\n",
      "Node: C2, Weight: 1\n",
      "Edges (uni-directional) with weights:\n",
      "edge: (C0, C1), weight: 3\n",
      "edge: (C1, C2), weight: 4\n",
      "\n",
      "Tasks  Nodes with weights \n",
      "Node: T0, Weight: 7\n",
      "Node: T1, Weight: 8\n",
      "Edges (1-directional) with weights:\n",
      "edge: (T0, T1), weight: 5\n"
     ]
    }
   ],
   "source": [
    "G_cn = create_nx_graph(graph_CN)\n",
    "G_t = create_nx_graph(graph_TASK, 'dir')\n",
    "print_graph(G_cn,'Compute ')\n",
    "print_graph(G_t,'Tasks ')\n",
    "\n",
    "# G_t[\"t0\"] returns an AtlasView, which is a view into the adjacency dictionary for the node \"t0\". \n",
    "# G_t.nodes[\"t0\"]['weight']  returns node weight"
   ]
  },
  {
   "cell_type": "code",
   "execution_count": 8,
   "id": "f9fdf981-8e51-43c6-9756-75bb53d2e395",
   "metadata": {},
   "outputs": [
    {
     "name": "stdout",
     "output_type": "stream",
     "text": [
      "pos: {'C0': array([-1.        , -0.33333333]), 'C1': array([ 1.        , -0.33333333]), 'C2': array([0.        , 0.66666667])} <class 'dict'> is1d= False\n",
      "nn {'C0': 5, 'C1': 2, 'C2': 1}\n",
      "pp C0 -1.0 -1.0\n",
      "pp C1 1.0 1.0\n",
      "pp C2 0.0 0.0\n",
      "pos: {'T0': array([-1.,  0.]), 'T1': array([1., 0.])} <class 'dict'> is1d= True\n",
      "nn {'T0': 7, 'T1': 8}\n",
      "pp T0 -1.0 -1.0\n",
      "pp T1 1.0 1.0\n"
     ]
    },
    {
     "name": "stderr",
     "output_type": "stream",
     "text": [
      "/tmp/ipykernel_18/4173005992.py:27: DeprecationWarning: `alltrue` is deprecated as of NumPy 1.25.0, and will be removed in NumPy 2.0. Please use `all` instead.\n",
      "  nx.draw_networkx_edges(G, pos, arrows=True, arrowstyle='-|>', arrowsize=20, ax=ax)#, connectionstyle='arc3,rad=-0.3')\n"
     ]
    },
    {
     "data": {
      "image/png": "[encoded data removed]",
      "text/plain": [
       "<Figure size 1000x500 with 2 Axes>"
      ]
     },
     "metadata": {},
     "output_type": "display_data"
    }
   ],
   "source": [
    "# Example usage:\n",
    "fig, axs = plt.subplots(1, 2, figsize=(10, 5))  # Create a canvas with 2 axes\n",
    "draw_custom_graph(G_cn, axs[0])  # Draw on the first axis\n",
    "draw_custom_graph(G_t, axs[1])  # Draw on the second axis\n",
    "plt.tight_layout()\n",
    "plt.show()"
   ]
  },
  {
   "cell_type": "code",
   "execution_count": 9,
   "id": "f7ebf2f0-48dc-4693-b0f4-3448c906c3dd",
   "metadata": {},
   "outputs": [
    {
     "name": "stdout",
     "output_type": "stream",
     "text": [
      "nTask=2, nCN=3, nAtom=6\n",
      "computeCost(C-T): \n",
      "{('C0', 'T0'): 35,\n",
      " ('C0', 'T1'): 40,\n",
      " ('C1', 'T0'): 14,\n",
      " ('C1', 'T1'): 16,\n",
      " ('C2', 'T0'): 7,\n",
      " ('C2', 'T1'): 8}\n",
      "transferCost(C-T,C-T): \n",
      "{(('C0', 'T0'), ('C1', 'T1')): 15,\n",
      " (('C1', 'T0'), ('C0', 'T1')): 15,\n",
      " (('C1', 'T0'), ('C2', 'T1')): 20,\n",
      " (('C2', 'T0'), ('C1', 'T1')): 20}\n"
     ]
    }
   ],
   "source": [
    "# itemize cost \n",
    "if 1:\n",
    "    nTask=len(G_t)\n",
    "    nCN=len(G_cn)\n",
    "    nAtom=nTask*nCN\n",
    "    print('nTask=%d, nCN=%d, nAtom=%d'%(nTask,nCN,nAtom))\n",
    "\n",
    "    computeCost={}    \n",
    "    for tN in G_t:        \n",
    "        work=G_t.nodes[tN]['weight']\n",
    "        for cN in G_cn:\n",
    "            price=G_cn.nodes[cN]['weight']\n",
    "            #print(iC,'CN:',tN,price)\n",
    "            computeCost[(cN,tN)]=price*work\n",
    "    print('computeCost(C-T): ');pprint(computeCost)\n",
    "\n",
    "    transferCost={}\n",
    "    for tN in G_t:  \n",
    "        tDesc=G_t[tN]\n",
    "        if len(tDesc)==0: continue\n",
    "        dNL=sorted(tDesc)\n",
    "        #print('task desc:',tN,dNL)\n",
    "        for tM in dNL:\n",
    "            coal=tDesc[tM]['weight']\n",
    "            #print(tM,coal)\n",
    "            for iC,cN in enumerate(G_cn):\n",
    "                cDesc=G_cn[cN]\n",
    "                #print(cN,'cDes:',cDesc)\n",
    "                cNL=sorted(cDesc)\n",
    "                for cM in cNL:\n",
    "                    price=cDesc[cM]['weight']\n",
    "                    #print(cN,cM,price,coal,price*coal)\n",
    "                    transferCost[((cN,tN),(cM,tM))]=coal*price\n",
    "    print('transferCost(C-T,C-T): ');pprint(transferCost)\n"
   ]
  },
  {
   "cell_type": "code",
   "execution_count": 10,
   "id": "02164daa-d6c1-489b-a5e2-828f484091b2",
   "metadata": {},
   "outputs": [
    {
     "name": "stdout",
     "output_type": "stream",
     "text": [
      "atomId(C-T):\n",
      "{('C0', 'T0'): 0,\n",
      " ('C0', 'T1'): 3,\n",
      " ('C1', 'T0'): 1,\n",
      " ('C1', 'T1'): 4,\n",
      " ('C2', 'T0'): 2,\n",
      " ('C2', 'T1'): 5}\n",
      "xorConstr:\n",
      "{(0, 1, 2), (3, 4, 5)}\n"
     ]
    }
   ],
   "source": [
    "# index atoms and constraints\n",
    "if 1:    \n",
    "    i=0\n",
    "    atomId={}\n",
    "    xorConstr=set()\n",
    "    for tN in G_t:\n",
    "        xors=()\n",
    "        for cN in G_cn:\n",
    "            atomId[(cN,tN)]=i \n",
    "            xors+=(i,)\n",
    "            i+=1\n",
    "        xorConstr.add(xors)\n",
    "    print('atomId(C-T):'); pprint(atomId)\n",
    "    print('xorConstr:'); pprint(xorConstr)"
   ]
  },
  {
   "cell_type": "code",
   "execution_count": 11,
   "id": "2acbc508-24c6-44d3-9b41-2fedf5b5c176",
   "metadata": {},
   "outputs": [
    {
     "name": "stdout",
     "output_type": "stream",
     "text": [
      "eneOne(aid):\n",
      "{0: 35, 1: 14, 2: 7, 3: 40, 4: 16, 5: 8}\n",
      "enePair(aid-aid):\n",
      "{(0, 4): 15, (1, 3): 15, (1, 5): 20, (2, 4): 20}\n",
      "{(0, 1): 100, (0, 2): 100, (1, 2): 100} {0: -50, 1: -50, 2: -50}\n",
      "{(3, 4): 100, (3, 5): 100, (4, 5): 100} {3: -50, 4: -50, 5: -50}\n",
      "\n",
      "Final eneOne(aid):\n",
      "{0: -15, 1: -36, 2: -43, 3: -10, 4: -34, 5: -42}\n",
      "Final enePair(aid-aid):\n",
      "{(0, 1): 100,\n",
      " (0, 2): 100,\n",
      " (0, 4): 15,\n",
      " (1, 2): 100,\n",
      " (1, 3): 15,\n",
      " (1, 5): 20,\n",
      " (2, 4): 20,\n",
      " (3, 4): 100,\n",
      " (3, 5): 100,\n",
      " (4, 5): 100}\n"
     ]
    }
   ],
   "source": [
    "# itemized cost to QUBO\n",
    "if 1:\n",
    "   eneOne={}  # one atom energy\n",
    "   for ctN in  computeCost:\n",
    "       aid=atomId[ctN]\n",
    "       eneOne[aid]=computeCost[ctN]\n",
    "   print('eneOne(aid):'); pprint(eneOne)\n",
    "   enePair={}  # atom-pair  energy\n",
    "   for ctN1,ctN2 in transferCost:\n",
    "       #continue\n",
    "       aid1,aid2=atomId[ctN1],atomId[ctN2]\n",
    "       enePair[(aid1,aid2)]=transferCost[(ctN1,ctN2)]\n",
    "   print('enePair(aid-aid):'); pprint(enePair)  \n",
    "    \n",
    "   # ..... add constraint energy\n",
    "   def xor2(a,b): # 2*a*b -a -b\n",
    "       myCost=100       \n",
    "       return { (a,b):2*myCost}, {a:-myCost , b:-myCost }\n",
    "   def xor3(a,b,c): # 2ab + 2ac +2bc  -a -b -c\n",
    "       myCost=50       \n",
    "       return {(a,b):2*myCost, (a,c):2*myCost, (b,c):2*myCost} ,{a:-myCost , b:-myCost , c:-myCost }\n",
    "\n",
    "   for ab in xorConstr:\n",
    "       bill2L,bill1L=xor3(*ab)\n",
    "       print(bill2L,bill1L )\n",
    "       for aaid in bill2L:\n",
    "           if aaid not in enePair: enePair[aaid]=0\n",
    "           enePair[aaid]+=bill2L[aaid]    \n",
    "       for aid in bill1L:\n",
    "           if aid not in eneOne: eneOne[aid]=0\n",
    "           eneOne[aid]+=bill1L[aid]\n",
    "           \n",
    "   print('\\nFinal eneOne(aid):'); pprint(eneOne) \n",
    "   print('Final enePair(aid-aid):'); pprint(enePair)  "
   ]
  },
  {
   "cell_type": "code",
   "execution_count": 12,
   "id": "90332e1d-6242-4b6d-bddf-9829ae5074b7",
   "metadata": {},
   "outputs": [],
   "source": [
    "def atom_graph_from_edge_energy(edgePair,base4um=100):\n",
    "    \"\"\"\n",
    "    Create a graph from a dictionary of edge pairs with weights.\n",
    "\n",
    "    :param edgePair: Dictionary with (node1, node2) tuples as keys and edge length as values\n",
    "    :return: A NetworkX graph object\n",
    "    \"\"\"\n",
    "    G = nx.Graph()\n",
    "    for (node1, node2), energy in edgePair.items():\n",
    "        length=4 * np.power(base4um/energy,1/.6)\n",
    "        length=float('%.1f'%length)\n",
    "        G.add_edge(node1, node2, length=length)\n",
    "    return G\n",
    "GenePair=atom_graph_from_edge_energy(enePair) \n",
    "\n"
   ]
  },
  {
   "cell_type": "code",
   "execution_count": 13,
   "id": "d89cdc15-e5cd-4f90-8b18-9fe04a53737e",
   "metadata": {},
   "outputs": [
    {
     "name": "stdout",
     "output_type": "stream",
     "text": [
      "The graph is not planar and cannot be drawn without edges crossing.\n"
     ]
    },
    {
     "data": {
      "image/png": "[encoded data removed]",
      "text/plain": [
       "<Figure size 800x600 with 1 Axes>"
      ]
     },
     "metadata": {},
     "output_type": "display_data"
    }
   ],
   "source": [
    "def draw_atom_graph_to_scale(G, ax):\n",
    "    \"\"\"\n",
    "    Draw the graph to scale on a specified matplotlib axis.\n",
    "\n",
    "    :param G: NetworkX graph object\n",
    "    :param ax: Matplotlib axis\n",
    "    \"\"\"\n",
    "    # Check if the graph is planar\n",
    "    is_planar, embedding = nx.check_planarity(G)\n",
    "    is_planar=False\n",
    "    if is_planar:\n",
    "        print(\"The graph is planar and can be drawn without edges crossing.\")\n",
    "        pos = nx.planar_layout(G)\n",
    "        # Now you can use 'pos' to draw the graph with plt or with nx.draw\n",
    "    else:\n",
    "        print(\"The graph is not planar and cannot be drawn without edges crossing.\")\n",
    "        pos = nx.spring_layout(G, weight='length', scale=1)  # Get positions for all nodes\n",
    "\n",
    "    # Draw the graph\n",
    "    nx.draw(G, pos, with_labels=True, ax=ax)\n",
    "\n",
    "    # Draw edge labels to show the weights (edge lengths)\n",
    "    edge_labels = nx.get_edge_attributes(G, 'length')\n",
    "    nx.draw_networkx_edge_labels(G, pos, edge_labels=edge_labels, ax=ax)\n",
    "\n",
    "# Example usage:\n",
    "G=GenePair\n",
    "fig, ax = plt.subplots(figsize=(8, 6))\n",
    "draw_atom_graph_to_scale(G, ax)\n",
    "plt.show()\n"
   ]
  },
  {
   "cell_type": "code",
   "execution_count": 14,
   "id": "3d4c9f75-d7cc-4d81-99e6-bc811361322b",
   "metadata": {},
   "outputs": [
    {
     "data": {
      "text/plain": [
       "AtlasView({4: {'length': 94.5}, 1: {'length': 4.0}, 2: {'length': 4.0}})"
      ]
     },
     "execution_count": 14,
     "metadata": {},
     "output_type": "execute_result"
    }
   ],
   "source": [
    "sorted(GenePair)\n",
    "GenePair[0]"
   ]
  },
  {
   "cell_type": "code",
   "execution_count": null,
   "id": "f434562b-9162-4b3e-84b9-48f8c6393d47",
   "metadata": {},
   "outputs": [],
   "source": []
  },
  {
   "cell_type": "code",
   "execution_count": null,
   "id": "3d713060-511b-4621-bd51-040f9deebe22",
   "metadata": {},
   "outputs": [],
   "source": []
  }
 ],
 "metadata": {
  "kernelspec": {
   "display_name": "Python 3 (ipykernel)",
   "language": "python",
   "name": "python3"
  },
  "language_info": {
   "codemirror_mode": {
    "name": "ipython",
    "version": 3
   },
   "file_extension": ".py",
   "mimetype": "text/x-python",
   "name": "python",
   "nbconvert_exporter": "python",
   "pygments_lexer": "ipython3",
   "version": "3.10.12"
  }
 },
 "nbformat": 4,
 "nbformat_minor": 5
}
