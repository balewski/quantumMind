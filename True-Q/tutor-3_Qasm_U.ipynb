{
 "cells": [
  {
   "cell_type": "code",
   "execution_count": 8,
   "id": "d697d4c4",
   "metadata": {},
   "outputs": [],
   "source": [
    "import trueq as tq\n",
    "import yaml"
   ]
  },
  {
   "cell_type": "code",
   "execution_count": 9,
   "id": "eb0dd74d",
   "metadata": {},
   "outputs": [],
   "source": [
    "numQubits=1\n",
    "qubit_labels = [i for i in range(numQubits)]\n",
    "n_random_cycles = 1\n",
    "n_circuits = 1\n",
    "circL = tq.make_srb(qubit_labels, n_random_cycles, n_circuits, twirl='U', compiled_pauli=False)"
   ]
  },
  {
   "cell_type": "code",
   "execution_count": 10,
   "id": "934e0892",
   "metadata": {},
   "outputs": [
    {
     "name": "stdout",
     "output_type": "stream",
     "text": [
      "// True-Q Version: 2.10.0\n",
      "// Circuit Key:\n",
      "// {'compiled_pauli': 'I', 'n_random_cycles': 1, 'protocol': 'SRB', 'twirl': ('trueq.Twirl', {(0,): 'U'})}\n",
      "OPENQASM 2.0;\n",
      "\n",
      "qreg q[1];\n",
      "creg c[1];\n",
      "U(2.4398259970496854,-0.18548437572079787,2.080627788581321) q[0];\n",
      "barrier q;\n",
      "U(2.4398259970496854,1.0609648650084722,-2.9561082778689953) q[0];\n",
      "barrier q;\n",
      "measure q[0] -> c[0];\n"
     ]
    }
   ],
   "source": [
    "# test  export to QASM works using U3\n",
    "circ=circL[0]\n",
    "circQasm1=circ.to_qasm()\n",
    "print(circQasm1)"
   ]
  },
  {
   "cell_type": "code",
   "execution_count": 11,
   "id": "0a7d925c",
   "metadata": {},
   "outputs": [],
   "source": [
    "# read back QASM as TQ\n",
    "circ2=tq.interface.QASM.to_trueq_circ(circQasm1)"
   ]
  },
  {
   "cell_type": "code",
   "execution_count": 7,
   "id": "6be61cf7",
   "metadata": {},
   "outputs": [
    {
     "data": {
      "text/html": [
       "<div style='width:707.0px;height:269px'><svg xmlns=\"http://www.w3.org/2000/svg\" xmlns:xlink=\"http://www.w3.org/1999/xlink\" version=\"1.1\" width='707.0px' height='269px' class=\"circuit-svg\" style='width: 707.0px;height: 269px;'> <style type=\"text/css\"> .circuit-svg text { font-family: \"sans-serif, Arial, Helvetica\"; font-size: 26; user-select: none; } .circuit-svg line { stroke: black; stroke-width: 2.0; text_anchor = end; } .circuit-svg .operation > rect{ fill: #f4f4f4; stroke: black; stroke-width: 2.0; } .circuit-svg g:hover > line{ stroke-width: 4.0; } .circuit-svg g:hover > rect{ stroke-width: 4.0; } .circuit-svg g.operation:hover g.svgtooltip { display: block; } .circuit-svg g.svgtooltip { display: none; } </style> <line x1='50' x2='207.0' y1='27' y2='27'/> <text x='35' y='32.2' text-anchor=\"middle\"> 0 </text> <g class=\"operation\"> <rect x=\"0\" y=\"0\" width=\"20\" height=\"20\" style=\"fill:white; stroke:none;\"/> <g transform=\"translate(2, 2) scale(0.04, 0.04)\" fill=\"#2697d0\"> <path d=\"M356.004,61.156c-81.37-81.47-213.377-81.551-294.848-0.182c-81.47,81.371-81.552,213.379-0.181,294.85 c81.369,81.47,213.378,81.551,294.849,0.181C437.293,274.636,437.375,142.626,356.004,61.156z M237.6,340.786 c0,3.217-2.607,5.822-5.822,5.822h-46.576c-3.215,0-5.822-2.605-5.822-5.822V167.885c0-3.217,2.607-5.822,5.822-5.822h46.576 c3.215,0,5.822,2.604,5.822,5.822V340.786z M208.49,137.901c-18.618,0-33.766-15.146-33.766-33.765 c0-18.617,15.147-33.766,33.766-33.766c18.619,0,33.766,15.148,33.766,33.766C242.256,122.755,227.107,137.901,208.49,137.901z\"/> </g> <g class=\"svgtooltip\"> <text y=\"94\"> <tspan x=\"60\" font-weight=\"bold\">Key: </tspan> <tspan x=\"60\" dx=\"1em\" dy=\"1.25em\">qasm: </tspan> <tspan x=\"60\" dx=\"10em\" dy=\"0em\">2.0 </tspan> <tspan x=\"60\" dx=\"1em\" dy=\"1.25em\">meas: </tspan> <tspan x=\"60\" dx=\"10em\" dy=\"0em\">(0,) </tspan> <tspan x=\"60\" dx=\"1em\" dy=\"1.25em\">qregs: </tspan> <tspan x=\"60\" dx=\"10em\" dy=\"0em\">(('q', (0,)),) </tspan> <tspan x=\"60\" dx=\"1em\" dy=\"1.25em\">cregs: </tspan> <tspan x=\"60\" dx=\"10em\" dy=\"0em\">(('c', (0,)),) </tspan> </text> </g> </g> <rect x=\"55\" y=\"2.0\" width=\"45.0\" height=\"49.0\" fill=\"none\" stroke=\"darkgrey\" rx='5'/> <g class=\"operation\"> <g class=\"svgtooltip\" dominant-baseline=\"hanging\"> <rect x=\"57.0\" y=\"69\" width=\"405.0\" height=\"198.0\" style=\"fill: white; stroke:darkgrey;\"/> <text y=\"83.0\" font-size=\"14\"> <tspan x=\"67.0\" font-weight=\"bold\">Labels:</tspan> <tspan x=\"67.0\" dx=\"1em\" dy=\"1em\">(0,)</tspan> <tspan x=\"67.0\" font-weight=\"bold\" dy=\"1.5em\">Name:</tspan> <tspan x=\"67.0\" dx=\"1em\" dy=\"1em\">U</tspan> <tspan x=\"67.0\" dy=\"1.5em\" font-weight=\"bold\">Parameters:</tspan> <tspan x=\"67.0\" dx=\"1em\" dy=\"1em\"> theta: 0.91 </tspan> <tspan x=\"67.0\" dx=\"1em\" dy=\"1em\"> phi: -0.43 </tspan> <tspan x=\"67.0\" dx=\"1em\" dy=\"1em\"> Lambda: -0.87 </tspan> </text> <text y=\"83.0\" font-size=\"14\"> <tspan x=\"217.0\" dy=\"0em\" font-weight=\"bold\">Generators:</tspan> <tspan x=\"217.0\" dx=\"1em\" dy=\"1em\"> Z: -68.90 </tspan> <tspan x=\"217.0\" dx=\"1em\" dy=\"1em\"> Y: 54.40 </tspan> <tspan x=\"217.0\" dx=\"1em\" dy=\"1em\"> X: -12.17 </tspan> </text> <g transform=\"translate(367.0, 83)\"> <svg xmlns=\"http://www.w3.org/2000/svg\" xmlns:xlink=\"http://www.w3.org/1999/xlink\" version=\"1.1\" width='85.0px' height='85.0px' class='matrix-svg'> <rect x=\"0.0\" y=\"0.0\" width=\"42.5\" height=\"42.5\" fill=\"#cfb09a\" fill-opacity=\"1.0\" stroke=\"none\"/> <text fill=\"black\" font-size=\"14.166666666666666\" dominant-baseline=\"middle\" text-anchor=\"middle\"> <tspan x=\"21.25\" y=\"21.25\" dy=\"-0.4em\"> 0.72 </tspan> <tspan x=\"21.25\" y=\"21.25\" dy=\"0.65em\"> 0.54j </tspan> </text> <rect x=\"42.5\" y=\"0.0\" width=\"42.5\" height=\"42.5\" fill=\"#3b113a\" fill-opacity=\"0.4891560774129157\" stroke=\"none\"/> <text fill=\"black\" font-size=\"14.166666666666666\" dominant-baseline=\"middle\" text-anchor=\"middle\"> <tspan x=\"63.75\" y=\"21.25\" dy=\"-0.4em\"> -0.43 </tspan> <tspan x=\"63.75\" y=\"21.25\" dy=\"0.65em\"> 0.10j </tspan> </text> <rect x=\"0.0\" y=\"42.5\" width=\"42.5\" height=\"42.5\" fill=\"#ded2d3\" fill-opacity=\"0.4891560774129157\" stroke=\"none\"/> <text fill=\"black\" font-size=\"14.166666666666666\" dominant-baseline=\"middle\" text-anchor=\"middle\"> <tspan x=\"21.25\" y=\"63.75\" dy=\"-0.4em\"> 0.43 </tspan> <tspan x=\"21.25\" y=\"63.75\" dy=\"0.65em\"> 0.10j </tspan> </text> <rect x=\"42.5\" y=\"42.5\" width=\"42.5\" height=\"42.5\" fill=\"#a4beca\" fill-opacity=\"1.0\" stroke=\"none\"/> <text fill=\"black\" font-size=\"14.166666666666666\" dominant-baseline=\"middle\" text-anchor=\"middle\"> <tspan x=\"63.75\" y=\"63.75\" dy=\"-0.4em\"> 0.72 </tspan> <tspan x=\"63.75\" y=\"63.75\" dy=\"0.65em\"> -0.54j </tspan> </text> <rect x=\"0\" y=\"0\" width=\"85.0\" height=\"85.0\" fill=\"none\" stroke=\"black\" stroke-width=\"2\"/> </svg> </g> </g> <line x1='77.0' x2='77.0' y1='27' y2='27'/> <rect x=\"62.0\" y=\"17.0\" width=\"30\" height=\"20\"/> <text x='77.0' y='31.8' text-anchor=\"middle\"> </text> </g> <rect x=\"104.0\" y=\"2.0\" width=\"45.0\" height=\"49.0\" fill=\"none\" stroke=\"#2697d0\" rx='5'/> <text x=\"111.0\" y=\"12.5\" font-size=\"10\" fill='#2697d0'>1</text> <g class=\"operation\"> <g class=\"svgtooltip\" dominant-baseline=\"hanging\"> <rect x=\"106.0\" y=\"69\" width=\"405.0\" height=\"198.0\" style=\"fill: white; stroke:darkgrey;\"/> <text y=\"83.0\" font-size=\"14\"> <tspan x=\"116.0\" font-weight=\"bold\">Labels:</tspan> <tspan x=\"116.0\" dx=\"1em\" dy=\"1em\">(0,)</tspan> <tspan x=\"116.0\" font-weight=\"bold\" dy=\"1.5em\">Name:</tspan> <tspan x=\"116.0\" dx=\"1em\" dy=\"1em\">U</tspan> <tspan x=\"116.0\" dy=\"1.5em\" font-weight=\"bold\">Parameters:</tspan> <tspan x=\"116.0\" dx=\"1em\" dy=\"1em\"> theta: 0.91 </tspan> <tspan x=\"116.0\" dx=\"1em\" dy=\"1em\"> phi: -2.27 </tspan> <tspan x=\"116.0\" dx=\"1em\" dy=\"1em\"> Lambda: -2.71 </tspan> </text> <text y=\"83.0\" font-size=\"14\"> <tspan x=\"266.0\" dy=\"0em\" font-weight=\"bold\">Generators:</tspan> <tspan x=\"266.0\" dx=\"1em\" dy=\"1em\"> Z: -210.97 </tspan> <tspan x=\"266.0\" dx=\"1em\" dy=\"1em\"> Y: 166.56 </tspan> <tspan x=\"266.0\" dx=\"1em\" dy=\"1em\"> X: -37.27 </tspan> </text> <g transform=\"translate(416.0, 83)\"> <svg xmlns=\"http://www.w3.org/2000/svg\" xmlns:xlink=\"http://www.w3.org/1999/xlink\" version=\"1.1\" width='85.0px' height='85.0px' class='matrix-svg'> <rect x=\"0.0\" y=\"0.0\" width=\"42.5\" height=\"42.5\" fill=\"#65194b\" fill-opacity=\"1.0\" stroke=\"none\"/> <text fill=\"white\" font-size=\"14.166666666666666\" dominant-baseline=\"middle\" text-anchor=\"middle\"> <tspan x=\"21.25\" y=\"21.25\" dy=\"-0.4em\"> -0.72 </tspan> <tspan x=\"21.25\" y=\"21.25\" dy=\"0.65em\"> 0.54j </tspan> </text> <rect x=\"42.5\" y=\"0.0\" width=\"42.5\" height=\"42.5\" fill=\"#3b113a\" fill-opacity=\"0.48915607741291567\" stroke=\"none\"/> <text fill=\"black\" font-size=\"14.166666666666666\" dominant-baseline=\"middle\" text-anchor=\"middle\"> <tspan x=\"63.75\" y=\"21.25\" dy=\"-0.4em\"> -0.43 </tspan> <tspan x=\"63.75\" y=\"21.25\" dy=\"0.65em\"> 0.10j </tspan> </text> <rect x=\"0.0\" y=\"42.5\" width=\"42.5\" height=\"42.5\" fill=\"#ded2d3\" fill-opacity=\"0.48915607741291567\" stroke=\"none\"/> <text fill=\"black\" font-size=\"14.166666666666666\" dominant-baseline=\"middle\" text-anchor=\"middle\"> <tspan x=\"21.25\" y=\"63.75\" dy=\"-0.4em\"> 0.43 </tspan> <tspan x=\"21.25\" y=\"63.75\" dy=\"0.65em\"> 0.10j </tspan> </text> <rect x=\"42.5\" y=\"42.5\" width=\"42.5\" height=\"42.5\" fill=\"#541f7f\" fill-opacity=\"1.0\" stroke=\"none\"/> <text fill=\"white\" font-size=\"14.166666666666666\" dominant-baseline=\"middle\" text-anchor=\"middle\"> <tspan x=\"63.75\" y=\"63.75\" dy=\"-0.4em\"> -0.72 </tspan> <tspan x=\"63.75\" y=\"63.75\" dy=\"0.65em\"> -0.54j </tspan> </text> <rect x=\"0\" y=\"0\" width=\"85.0\" height=\"85.0\" fill=\"none\" stroke=\"black\" stroke-width=\"2\"/> </svg> </g> </g> <line x1='126.0' x2='126.0' y1='27' y2='27'/> <rect x=\"111.0\" y=\"17.0\" width=\"30\" height=\"20\"/> <text x='126.0' y='31.8' text-anchor=\"middle\"> </text> </g> <rect x=\"153.0\" y=\"2.0\" width=\"45.0\" height=\"49.0\" fill=\"none\" stroke=\"#2697d0\" rx='5'/> <text x=\"160.0\" y=\"12.5\" font-size=\"10\" fill='#2697d0'>2</text> <g class=\"operation\"> <g class=\"svgtooltip\" dominant-baseline=\"hanging\"> <rect x=\"155.0\" y=\"69\" width=\"170\" height=\"198.0\" style=\"fill: white; stroke:darkgrey;\"/> <text y=\"83.0\" font-size=\"14\"> <tspan x=\"165.0\" font-weight=\"bold\">Labels:</tspan> <tspan x=\"165.0\" dx=\"1em\" dy=\"1em\">(0,)</tspan> <tspan x=\"165.0\" font-weight=\"bold\" dy=\"1.5em\">Name:</tspan> <tspan x=\"165.0\" dx=\"1em\" dy=\"1em\">Meas</tspan> </text> </g> <line x1='175.0' x2='175.0' y1='27' y2='27'/> <rect x=\"160.0\" y=\"17.0\" width=\"30\" height=\"20\"/> <text x='175.0' y='31.8' text-anchor=\"middle\"> M </text> </g> </svg></div>"
      ],
      "text/plain": [
       "DisplayWrapper(<svg xmlns=\"http://w...)"
      ]
     },
     "execution_count": 7,
     "metadata": {},
     "output_type": "execute_result"
    }
   ],
   "source": [
    "circ2[0].draw()"
   ]
  },
  {
   "cell_type": "code",
   "execution_count": null,
   "id": "ae0ba4e5",
   "metadata": {},
   "outputs": [],
   "source": []
  }
 ],
 "metadata": {
  "kernelspec": {
   "display_name": "Python 3 (ipykernel)",
   "language": "python",
   "name": "python3"
  },
  "language_info": {
   "codemirror_mode": {
    "name": "ipython",
    "version": 3
   },
   "file_extension": ".py",
   "mimetype": "text/x-python",
   "name": "python",
   "nbconvert_exporter": "python",
   "pygments_lexer": "ipython3",
   "version": "3.9.2"
  }
 },
 "nbformat": 4,
 "nbformat_minor": 5
}
