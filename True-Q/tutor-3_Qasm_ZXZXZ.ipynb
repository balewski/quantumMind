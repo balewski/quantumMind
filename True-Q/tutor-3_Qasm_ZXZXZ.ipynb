{
 "cells": [
  {
   "cell_type": "code",
   "execution_count": 9,
   "id": "cd852652",
   "metadata": {},
   "outputs": [],
   "source": [
    "import trueq as tq\n",
    "import yaml"
   ]
  },
  {
   "cell_type": "code",
   "execution_count": 10,
   "id": "fc089a73",
   "metadata": {},
   "outputs": [],
   "source": [
    "numQubits=1\n",
    "qubit_labels = [i for i in range(numQubits)]\n",
    "n_random_cycles = 1\n",
    "n_circuits = 1\n",
    "circL = tq.make_srb(qubit_labels, n_random_cycles, n_circuits, twirl='U', compiled_pauli=False)"
   ]
  },
  {
   "cell_type": "code",
   "execution_count": 11,
   "id": "ec8c4415",
   "metadata": {},
   "outputs": [
    {
     "name": "stdout",
     "output_type": "stream",
     "text": [
      "// True-Q Version: 2.10.0\n",
      "// Circuit Key:\n",
      "// {'compiled_pauli': 'I', 'n_random_cycles': 1, 'protocol': 'SRB', 'twirl': ('trueq.Twirl', {(0,): 'U'})}\n",
      "OPENQASM 2.0;\n",
      "gate z(theta) q { U(0,0,0.017453292519943295*theta) q; }\n",
      "gate x q0\n",
      "{\n",
      "    U(1.5707963267948966,-1.5707963267948966,1.5707963267948966) q0;\n",
      "}\n",
      "gate cnot q0, q1\n",
      "{\n",
      "    CX q0,q1;\n",
      "}\n",
      "qreg q[1];\n",
      "creg c[1];\n",
      "z(-112.66450454554861) q[0];\n",
      "x q[0];\n",
      "z(145.8837285718869) q[0];\n",
      "x q[0];\n",
      "z(31.491456035115167) q[0];\n",
      "barrier q;\n",
      "z(-31.491456035115167) q[0];\n",
      "x q[0];\n",
      "z(145.8837285718869) q[0];\n",
      "x q[0];\n",
      "z(-247.3354954544532) q[0];\n",
      "barrier q;\n",
      "measure q[0] -> c[0];\n"
     ]
    }
   ],
   "source": [
    "# test  export to QASM works using U3\n",
    "circ1=circL[0]\n",
    "circQasm1=circ1.to_qasm()\n",
    "print(circQasm1)"
   ]
  },
  {
   "cell_type": "code",
   "execution_count": 12,
   "id": "d1a508b1",
   "metadata": {},
   "outputs": [],
   "source": [
    "# read back U3-ASM as TQ\n",
    "circ1r=tq.interface.QASM.to_trueq_circ(circQasm1)"
   ]
  },
  {
   "cell_type": "code",
   "execution_count": 13,
   "id": "8dd2d8b4",
   "metadata": {},
   "outputs": [],
   "source": [
    "# define new basis gates\n",
    "zxzxz01={\n",
    "'Name': 'MyDevice',\n",
    "'N_Systems': 2,\n",
    "'Mode': 'ZXZXZ',\n",
    "'Dimension': 2,\n",
    "'Gates': [\n",
    "    {'z': {'Hamiltonian': [['Z', 'phi']], 'Involving': {'(0,)': '()', '(1,)': '()','(2,)': '()'}}},\n",
    "    {'x': {'Hamiltonian': [['X', 90]], 'Involving': {'(0,)': '()', '(1,)': '()', '(2,)': '()'}}},\n",
    "    {'cnot': {'Involving': {'(1, 0)': '()','(1,2)':'()'},\n",
    "            'Matrix': [[1, 0, 0, 0],\n",
    "                       [0, 1, 0, 0],\n",
    "                       [0, 0, 0, 1],\n",
    "                       [0, 0, 1, 0]]\n",
    "            }\n",
    "    }\n",
    "    ],\n",
    "}"
   ]
  },
  {
   "cell_type": "code",
   "execution_count": 14,
   "id": "4247e4dd",
   "metadata": {},
   "outputs": [
    {
     "name": "stdout",
     "output_type": "stream",
     "text": [
      "gate z(theta) q { U(0,0,0.017453292519943295*theta) q; }\n",
      "gate x q0\n",
      "{\n",
      "    U(1.5707963267948966,-1.5707963267948966,1.5707963267948966) q0;\n",
      "}\n",
      "gate cnot q0, q1\n",
      "{\n",
      "    CX q0,q1;\n",
      "}\n"
     ]
    }
   ],
   "source": [
    "# transpile TQ circi to new basis\n",
    "config = tq.Config.from_yaml(yaml.dump(zxzxz01))\n",
    "tq.interface.QASM.set_config(config)\n",
    "transpiler = tq.Compiler.from_config(config)\n",
    "trCircL = transpiler.compile(circL)\n",
    "#  info about decoding?\n",
    "print(tq.interface.QASM.get_header())"
   ]
  },
  {
   "cell_type": "code",
   "execution_count": 15,
   "id": "eb317a12",
   "metadata": {},
   "outputs": [
    {
     "name": "stdout",
     "output_type": "stream",
     "text": [
      "// True-Q Version: 2.10.0\n",
      "// Circuit Key:\n",
      "// {'compiled_pauli': 'I', 'n_random_cycles': 1, 'protocol': 'SRB', 'twirl': ('trueq.Twirl', {(0,): 'U'})}\n",
      "OPENQASM 2.0;\n",
      "gate z(theta) q { U(0,0,0.017453292519943295*theta) q; }\n",
      "gate x q0\n",
      "{\n",
      "    U(1.5707963267948966,-1.5707963267948966,1.5707963267948966) q0;\n",
      "}\n",
      "gate cnot q0, q1\n",
      "{\n",
      "    CX q0,q1;\n",
      "}\n",
      "qreg q[1];\n",
      "creg c[1];\n",
      "z(-112.66450454554861) q[0];\n",
      "x q[0];\n",
      "z(145.8837285718869) q[0];\n",
      "x q[0];\n",
      "z(31.491456035115167) q[0];\n",
      "barrier q;\n",
      "z(-31.491456035115167) q[0];\n",
      "x q[0];\n",
      "z(145.8837285718869) q[0];\n",
      "x q[0];\n",
      "z(-247.3354954544532) q[0];\n",
      "barrier q;\n",
      "measure q[0] -> c[0];\n"
     ]
    }
   ],
   "source": [
    "# test  export to QASM works using  Z,X90 \n",
    "circ2=trCircL[0]\n",
    "circQasm2=circ2.to_qasm()\n",
    "print(circQasm2)"
   ]
  },
  {
   "cell_type": "code",
   "execution_count": 16,
   "id": "fc64ba06",
   "metadata": {},
   "outputs": [],
   "source": [
    "# read back QASM as TQ\n",
    "circ2r=tq.interface.QASM.to_trueq_circ(circQasm2)"
   ]
  },
  {
   "cell_type": "code",
   "execution_count": 17,
   "id": "db8c6609",
   "metadata": {},
   "outputs": [
    {
     "data": {
      "text/html": [
       "<div style='width:1099.0px;height:269px'><svg xmlns=\"http://www.w3.org/2000/svg\" xmlns:xlink=\"http://www.w3.org/1999/xlink\" version=\"1.1\" width='1099.0px' height='269px' class=\"circuit-svg\" style='width: 1099.0px;height: 269px;'> <style type=\"text/css\"> .circuit-svg text { font-family: \"sans-serif, Arial, Helvetica\"; font-size: 26; user-select: none; } .circuit-svg line { stroke: black; stroke-width: 2.0; text_anchor = end; } .circuit-svg .operation > rect{ fill: #f4f4f4; stroke: black; stroke-width: 2.0; } .circuit-svg g:hover > line{ stroke-width: 4.0; } .circuit-svg g:hover > rect{ stroke-width: 4.0; } .circuit-svg g.operation:hover g.svgtooltip { display: block; } .circuit-svg g.svgtooltip { display: none; } </style> <line x1='50' x2='599.0' y1='27' y2='27'/> <text x='35' y='32.2' text-anchor=\"middle\"> 0 </text> <g class=\"operation\"> <rect x=\"0\" y=\"0\" width=\"20\" height=\"20\" style=\"fill:white; stroke:none;\"/> <g transform=\"translate(2, 2) scale(0.04, 0.04)\" fill=\"#2697d0\"> <path d=\"M356.004,61.156c-81.37-81.47-213.377-81.551-294.848-0.182c-81.47,81.371-81.552,213.379-0.181,294.85 c81.369,81.47,213.378,81.551,294.849,0.181C437.293,274.636,437.375,142.626,356.004,61.156z M237.6,340.786 c0,3.217-2.607,5.822-5.822,5.822h-46.576c-3.215,0-5.822-2.605-5.822-5.822V167.885c0-3.217,2.607-5.822,5.822-5.822h46.576 c3.215,0,5.822,2.604,5.822,5.822V340.786z M208.49,137.901c-18.618,0-33.766-15.146-33.766-33.765 c0-18.617,15.147-33.766,33.766-33.766c18.619,0,33.766,15.148,33.766,33.766C242.256,122.755,227.107,137.901,208.49,137.901z\"/> </g> <g class=\"svgtooltip\"> <text y=\"94\"> <tspan x=\"60\" font-weight=\"bold\">Key: </tspan> <tspan x=\"60\" dx=\"1em\" dy=\"1.25em\">qasm: </tspan> <tspan x=\"60\" dx=\"10em\" dy=\"0em\">2.0 </tspan> <tspan x=\"60\" dx=\"1em\" dy=\"1.25em\">meas: </tspan> <tspan x=\"60\" dx=\"10em\" dy=\"0em\">(0,) </tspan> <tspan x=\"60\" dx=\"1em\" dy=\"1.25em\">qregs: </tspan> <tspan x=\"60\" dx=\"10em\" dy=\"0em\">(('q', (0,)),) </tspan> <tspan x=\"60\" dx=\"1em\" dy=\"1.25em\">cregs: </tspan> <tspan x=\"60\" dx=\"10em\" dy=\"0em\">(('c', (0,)),) </tspan> </text> </g> </g> <rect x=\"55\" y=\"2.0\" width=\"45.0\" height=\"49.0\" fill=\"none\" stroke=\"darkgrey\" rx='5'/> <g class=\"operation\"> <g class=\"svgtooltip\" dominant-baseline=\"hanging\"> <rect x=\"57.0\" y=\"69\" width=\"405.0\" height=\"198.0\" style=\"fill: white; stroke:darkgrey;\"/> <text y=\"83.0\" font-size=\"14\"> <tspan x=\"67.0\" font-weight=\"bold\">Labels:</tspan> <tspan x=\"67.0\" dx=\"1em\" dy=\"1em\">(0,)</tspan> <tspan x=\"67.0\" font-weight=\"bold\" dy=\"1.5em\">Name:</tspan> <tspan x=\"67.0\" dx=\"1em\" dy=\"1em\">z</tspan> <tspan x=\"67.0\" dy=\"1.5em\" font-weight=\"bold\">Parameters:</tspan> <tspan x=\"67.0\" dx=\"1em\" dy=\"1em\"> theta: -112.66 </tspan> </text> <text y=\"83.0\" font-size=\"14\"> <tspan x=\"217.0\" dy=\"0em\" font-weight=\"bold\">Generators:</tspan> <tspan x=\"217.0\" dx=\"1em\" dy=\"1em\"> Z: -112.66 </tspan> </text> <g transform=\"translate(367.0, 83)\"> <svg xmlns=\"http://www.w3.org/2000/svg\" xmlns:xlink=\"http://www.w3.org/1999/xlink\" version=\"1.1\" width='85.0px' height='85.0px' class='matrix-svg'> <rect x=\"0.0\" y=\"0.0\" width=\"42.5\" height=\"42.5\" fill=\"#c78f72\" fill-opacity=\"1.0\" stroke=\"none\"/> <text fill=\"black\" font-size=\"14.166666666666666\" dominant-baseline=\"middle\" text-anchor=\"middle\"> <tspan x=\"21.25\" y=\"21.25\" dy=\"-0.4em\"> 0.55 </tspan> <tspan x=\"21.25\" y=\"21.25\" dy=\"0.65em\"> 0.83j </tspan> </text> <rect x=\"42.5\" y=\"0.0\" width=\"42.5\" height=\"42.5\" fill=\"#e1d8e1\" fill-opacity=\"0.0\" stroke=\"none\"/> <text fill=\"black\" font-size=\"14.166666666666666\" dominant-baseline=\"middle\" text-anchor=\"middle\"> </text> <rect x=\"0.0\" y=\"42.5\" width=\"42.5\" height=\"42.5\" fill=\"#e1d8e1\" fill-opacity=\"0.0\" stroke=\"none\"/> <text fill=\"black\" font-size=\"14.166666666666666\" dominant-baseline=\"middle\" text-anchor=\"middle\"> </text> <rect x=\"42.5\" y=\"42.5\" width=\"42.5\" height=\"42.5\" fill=\"#81a6c3\" fill-opacity=\"1.0\" stroke=\"none\"/> <text fill=\"black\" font-size=\"14.166666666666666\" dominant-baseline=\"middle\" text-anchor=\"middle\"> <tspan x=\"63.75\" y=\"63.75\" dy=\"-0.4em\"> 0.55 </tspan> <tspan x=\"63.75\" y=\"63.75\" dy=\"0.65em\"> -0.83j </tspan> </text> <rect x=\"0\" y=\"0\" width=\"85.0\" height=\"85.0\" fill=\"none\" stroke=\"black\" stroke-width=\"2\"/> </svg> </g> </g> <line x1='77.0' x2='77.0' y1='27' y2='27'/> <rect x=\"62.0\" y=\"17.0\" width=\"30\" height=\"20\"/> <text x='77.0' y='31.8' text-anchor=\"middle\"> </text> </g> <rect x=\"104.0\" y=\"2.0\" width=\"45.0\" height=\"49.0\" fill=\"none\" stroke=\"darkgrey\" rx='5'/> <g class=\"operation\"> <g class=\"svgtooltip\" dominant-baseline=\"hanging\"> <rect x=\"106.0\" y=\"69\" width=\"405.0\" height=\"198.0\" style=\"fill: white; stroke:darkgrey;\"/> <text y=\"83.0\" font-size=\"14\"> <tspan x=\"116.0\" font-weight=\"bold\">Labels:</tspan> <tspan x=\"116.0\" dx=\"1em\" dy=\"1em\">(0,)</tspan> <tspan x=\"116.0\" font-weight=\"bold\" dy=\"1.5em\">Name:</tspan> <tspan x=\"116.0\" dx=\"1em\" dy=\"1em\">x</tspan> <tspan x=\"116.0\" dy=\"1.5em\" font-weight=\"bold\">Aliases:</tspan> <tspan x=\"116.0\" dx=\"1em\" dy=\"1em\">Gate.sx</tspan> <tspan x=\"116.0\" dx=\"1em\" dy=\"1em\">Gate.cliff5</tspan> <tspan x=\"116.0\" dy=\"1.5em\" font-weight=\"bold\">Parameters:</tspan> </text> <text y=\"83.0\" font-size=\"14\"> <tspan x=\"266.0\" dy=\"0em\" font-weight=\"bold\">Generators:</tspan> <tspan x=\"266.0\" dx=\"1em\" dy=\"1em\"> X: 90.00 </tspan> </text> <g transform=\"translate(416.0, 83)\"> <svg xmlns=\"http://www.w3.org/2000/svg\" xmlns:xlink=\"http://www.w3.org/1999/xlink\" version=\"1.1\" width='85.0px' height='85.0px' class='matrix-svg'> <rect x=\"0.0\" y=\"0.0\" width=\"42.5\" height=\"42.5\" fill=\"#e1d8e1\" fill-opacity=\"0.9999999999999992\" stroke=\"none\"/> <text fill=\"black\" font-size=\"14.166666666666666\" dominant-baseline=\"middle\" text-anchor=\"middle\"> <tspan x=\"21.25\" y=\"21.25\" dy=\"0.1em\"> 0.71 </tspan> </text> <rect x=\"42.5\" y=\"0.0\" width=\"42.5\" height=\"42.5\" fill=\"#6175ba\" fill-opacity=\"1.0\" stroke=\"none\"/> <text fill=\"white\" font-size=\"14.166666666666666\" dominant-baseline=\"middle\" text-anchor=\"middle\"> <tspan x=\"63.75\" y=\"21.25\" dy=\"0.1em\"> -0.71j </tspan> </text> <rect x=\"0.0\" y=\"42.5\" width=\"42.5\" height=\"42.5\" fill=\"#6175ba\" fill-opacity=\"1.0\" stroke=\"none\"/> <text fill=\"white\" font-size=\"14.166666666666666\" dominant-baseline=\"middle\" text-anchor=\"middle\"> <tspan x=\"21.25\" y=\"63.75\" dy=\"0.1em\"> -0.71j </tspan> </text> <rect x=\"42.5\" y=\"42.5\" width=\"42.5\" height=\"42.5\" fill=\"#e1d8e1\" fill-opacity=\"0.9999999999999992\" stroke=\"none\"/> <text fill=\"black\" font-size=\"14.166666666666666\" dominant-baseline=\"middle\" text-anchor=\"middle\"> <tspan x=\"63.75\" y=\"63.75\" dy=\"0.1em\"> 0.71 </tspan> </text> <rect x=\"0\" y=\"0\" width=\"85.0\" height=\"85.0\" fill=\"none\" stroke=\"black\" stroke-width=\"2\"/> </svg> </g> </g> <line x1='126.0' x2='126.0' y1='27' y2='27'/> <rect x=\"111.0\" y=\"17.0\" width=\"30\" height=\"20\"/> <text x='126.0' y='31.8' text-anchor=\"middle\"> SX </text> </g> <rect x=\"153.0\" y=\"2.0\" width=\"45.0\" height=\"49.0\" fill=\"none\" stroke=\"darkgrey\" rx='5'/> <g class=\"operation\"> <g class=\"svgtooltip\" dominant-baseline=\"hanging\"> <rect x=\"155.0\" y=\"69\" width=\"405.0\" height=\"198.0\" style=\"fill: white; stroke:darkgrey;\"/> <text y=\"83.0\" font-size=\"14\"> <tspan x=\"165.0\" font-weight=\"bold\">Labels:</tspan> <tspan x=\"165.0\" dx=\"1em\" dy=\"1em\">(0,)</tspan> <tspan x=\"165.0\" font-weight=\"bold\" dy=\"1.5em\">Name:</tspan> <tspan x=\"165.0\" dx=\"1em\" dy=\"1em\">z</tspan> <tspan x=\"165.0\" dy=\"1.5em\" font-weight=\"bold\">Parameters:</tspan> <tspan x=\"165.0\" dx=\"1em\" dy=\"1em\"> theta: 145.88 </tspan> </text> <text y=\"83.0\" font-size=\"14\"> <tspan x=\"315.0\" dy=\"0em\" font-weight=\"bold\">Generators:</tspan> <tspan x=\"315.0\" dx=\"1em\" dy=\"1em\"> Z: 145.88 </tspan> </text> <g transform=\"translate(465.0, 83)\"> <svg xmlns=\"http://www.w3.org/2000/svg\" xmlns:xlink=\"http://www.w3.org/1999/xlink\" version=\"1.1\" width='85.0px' height='85.0px' class='matrix-svg'> <rect x=\"0.0\" y=\"0.0\" width=\"42.5\" height=\"42.5\" fill=\"#6c8fbf\" fill-opacity=\"1.0\" stroke=\"none\"/> <text fill=\"black\" font-size=\"14.166666666666666\" dominant-baseline=\"middle\" text-anchor=\"middle\"> <tspan x=\"21.25\" y=\"21.25\" dy=\"-0.4em\"> 0.29 </tspan> <tspan x=\"21.25\" y=\"21.25\" dy=\"0.65em\"> -0.96j </tspan> </text> <rect x=\"42.5\" y=\"0.0\" width=\"42.5\" height=\"42.5\" fill=\"#e1d8e1\" fill-opacity=\"0.0\" stroke=\"none\"/> <text fill=\"black\" font-size=\"14.166666666666666\" dominant-baseline=\"middle\" text-anchor=\"middle\"> </text> <rect x=\"0.0\" y=\"42.5\" width=\"42.5\" height=\"42.5\" fill=\"#e1d8e1\" fill-opacity=\"0.0\" stroke=\"none\"/> <text fill=\"black\" font-size=\"14.166666666666666\" dominant-baseline=\"middle\" text-anchor=\"middle\"> </text> <rect x=\"42.5\" y=\"42.5\" width=\"42.5\" height=\"42.5\" fill=\"#bf725c\" fill-opacity=\"1.0\" stroke=\"none\"/> <text fill=\"black\" font-size=\"14.166666666666666\" dominant-baseline=\"middle\" text-anchor=\"middle\"> <tspan x=\"63.75\" y=\"63.75\" dy=\"-0.4em\"> 0.29 </tspan> <tspan x=\"63.75\" y=\"63.75\" dy=\"0.65em\"> 0.96j </tspan> </text> <rect x=\"0\" y=\"0\" width=\"85.0\" height=\"85.0\" fill=\"none\" stroke=\"black\" stroke-width=\"2\"/> </svg> </g> </g> <line x1='175.0' x2='175.0' y1='27' y2='27'/> <rect x=\"160.0\" y=\"17.0\" width=\"30\" height=\"20\"/> <text x='175.0' y='31.8' text-anchor=\"middle\"> </text> </g> <rect x=\"202.0\" y=\"2.0\" width=\"45.0\" height=\"49.0\" fill=\"none\" stroke=\"darkgrey\" rx='5'/> <g class=\"operation\"> <g class=\"svgtooltip\" dominant-baseline=\"hanging\"> <rect x=\"204.0\" y=\"69\" width=\"405.0\" height=\"198.0\" style=\"fill: white; stroke:darkgrey;\"/> <text y=\"83.0\" font-size=\"14\"> <tspan x=\"214.0\" font-weight=\"bold\">Labels:</tspan> <tspan x=\"214.0\" dx=\"1em\" dy=\"1em\">(0,)</tspan> <tspan x=\"214.0\" font-weight=\"bold\" dy=\"1.5em\">Name:</tspan> <tspan x=\"214.0\" dx=\"1em\" dy=\"1em\">x</tspan> <tspan x=\"214.0\" dy=\"1.5em\" font-weight=\"bold\">Aliases:</tspan> <tspan x=\"214.0\" dx=\"1em\" dy=\"1em\">Gate.sx</tspan> <tspan x=\"214.0\" dx=\"1em\" dy=\"1em\">Gate.cliff5</tspan> <tspan x=\"214.0\" dy=\"1.5em\" font-weight=\"bold\">Parameters:</tspan> </text> <text y=\"83.0\" font-size=\"14\"> <tspan x=\"364.0\" dy=\"0em\" font-weight=\"bold\">Generators:</tspan> <tspan x=\"364.0\" dx=\"1em\" dy=\"1em\"> X: 90.00 </tspan> </text> <g transform=\"translate(514.0, 83)\"> <svg xmlns=\"http://www.w3.org/2000/svg\" xmlns:xlink=\"http://www.w3.org/1999/xlink\" version=\"1.1\" width='85.0px' height='85.0px' class='matrix-svg'> <rect x=\"0.0\" y=\"0.0\" width=\"42.5\" height=\"42.5\" fill=\"#e1d8e1\" fill-opacity=\"0.9999999999999992\" stroke=\"none\"/> <text fill=\"black\" font-size=\"14.166666666666666\" dominant-baseline=\"middle\" text-anchor=\"middle\"> <tspan x=\"21.25\" y=\"21.25\" dy=\"0.1em\"> 0.71 </tspan> </text> <rect x=\"42.5\" y=\"0.0\" width=\"42.5\" height=\"42.5\" fill=\"#6175ba\" fill-opacity=\"1.0\" stroke=\"none\"/> <text fill=\"white\" font-size=\"14.166666666666666\" dominant-baseline=\"middle\" text-anchor=\"middle\"> <tspan x=\"63.75\" y=\"21.25\" dy=\"0.1em\"> -0.71j </tspan> </text> <rect x=\"0.0\" y=\"42.5\" width=\"42.5\" height=\"42.5\" fill=\"#6175ba\" fill-opacity=\"1.0\" stroke=\"none\"/> <text fill=\"white\" font-size=\"14.166666666666666\" dominant-baseline=\"middle\" text-anchor=\"middle\"> <tspan x=\"21.25\" y=\"63.75\" dy=\"0.1em\"> -0.71j </tspan> </text> <rect x=\"42.5\" y=\"42.5\" width=\"42.5\" height=\"42.5\" fill=\"#e1d8e1\" fill-opacity=\"0.9999999999999992\" stroke=\"none\"/> <text fill=\"black\" font-size=\"14.166666666666666\" dominant-baseline=\"middle\" text-anchor=\"middle\"> <tspan x=\"63.75\" y=\"63.75\" dy=\"0.1em\"> 0.71 </tspan> </text> <rect x=\"0\" y=\"0\" width=\"85.0\" height=\"85.0\" fill=\"none\" stroke=\"black\" stroke-width=\"2\"/> </svg> </g> </g> <line x1='224.0' x2='224.0' y1='27' y2='27'/> <rect x=\"209.0\" y=\"17.0\" width=\"30\" height=\"20\"/> <text x='224.0' y='31.8' text-anchor=\"middle\"> SX </text> </g> <rect x=\"251.0\" y=\"2.0\" width=\"45.0\" height=\"49.0\" fill=\"none\" stroke=\"darkgrey\" rx='5'/> <g class=\"operation\"> <g class=\"svgtooltip\" dominant-baseline=\"hanging\"> <rect x=\"253.0\" y=\"69\" width=\"405.0\" height=\"198.0\" style=\"fill: white; stroke:darkgrey;\"/> <text y=\"83.0\" font-size=\"14\"> <tspan x=\"263.0\" font-weight=\"bold\">Labels:</tspan> <tspan x=\"263.0\" dx=\"1em\" dy=\"1em\">(0,)</tspan> <tspan x=\"263.0\" font-weight=\"bold\" dy=\"1.5em\">Name:</tspan> <tspan x=\"263.0\" dx=\"1em\" dy=\"1em\">z</tspan> <tspan x=\"263.0\" dy=\"1.5em\" font-weight=\"bold\">Parameters:</tspan> <tspan x=\"263.0\" dx=\"1em\" dy=\"1em\"> theta: 31.49 </tspan> </text> <text y=\"83.0\" font-size=\"14\"> <tspan x=\"413.0\" dy=\"0em\" font-weight=\"bold\">Generators:</tspan> <tspan x=\"413.0\" dx=\"1em\" dy=\"1em\"> Z: 31.49 </tspan> </text> <g transform=\"translate(563.0, 83)\"> <svg xmlns=\"http://www.w3.org/2000/svg\" xmlns:xlink=\"http://www.w3.org/1999/xlink\" version=\"1.1\" width='85.0px' height='85.0px' class='matrix-svg'> <rect x=\"0.0\" y=\"0.0\" width=\"42.5\" height=\"42.5\" fill=\"#cfd4d9\" fill-opacity=\"1.0\" stroke=\"none\"/> <text fill=\"black\" font-size=\"14.166666666666666\" dominant-baseline=\"middle\" text-anchor=\"middle\"> <tspan x=\"21.25\" y=\"21.25\" dy=\"-0.4em\"> 0.96 </tspan> <tspan x=\"21.25\" y=\"21.25\" dy=\"0.65em\"> -0.27j </tspan> </text> <rect x=\"42.5\" y=\"0.0\" width=\"42.5\" height=\"42.5\" fill=\"#e1d8e1\" fill-opacity=\"0.0\" stroke=\"none\"/> <text fill=\"black\" font-size=\"14.166666666666666\" dominant-baseline=\"middle\" text-anchor=\"middle\"> </text> <rect x=\"0.0\" y=\"42.5\" width=\"42.5\" height=\"42.5\" fill=\"#e1d8e1\" fill-opacity=\"0.0\" stroke=\"none\"/> <text fill=\"black\" font-size=\"14.166666666666666\" dominant-baseline=\"middle\" text-anchor=\"middle\"> </text> <rect x=\"42.5\" y=\"42.5\" width=\"42.5\" height=\"42.5\" fill=\"#dccecc\" fill-opacity=\"1.0\" stroke=\"none\"/> <text fill=\"black\" font-size=\"14.166666666666666\" dominant-baseline=\"middle\" text-anchor=\"middle\"> <tspan x=\"63.75\" y=\"63.75\" dy=\"-0.4em\"> 0.96 </tspan> <tspan x=\"63.75\" y=\"63.75\" dy=\"0.65em\"> 0.27j </tspan> </text> <rect x=\"0\" y=\"0\" width=\"85.0\" height=\"85.0\" fill=\"none\" stroke=\"black\" stroke-width=\"2\"/> </svg> </g> </g> <line x1='273.0' x2='273.0' y1='27' y2='27'/> <rect x=\"258.0\" y=\"17.0\" width=\"30\" height=\"20\"/> <text x='273.0' y='31.8' text-anchor=\"middle\"> </text> </g> <rect x=\"300.0\" y=\"2.0\" width=\"45.0\" height=\"49.0\" fill=\"none\" stroke=\"#2697d0\" rx='5'/> <text x=\"307.0\" y=\"12.5\" font-size=\"10\" fill='#2697d0'>1</text> <g class=\"operation\"> <g class=\"svgtooltip\" dominant-baseline=\"hanging\"> <rect x=\"302.0\" y=\"69\" width=\"405.0\" height=\"198.0\" style=\"fill: white; stroke:darkgrey;\"/> <text y=\"83.0\" font-size=\"14\"> <tspan x=\"312.0\" font-weight=\"bold\">Labels:</tspan> <tspan x=\"312.0\" dx=\"1em\" dy=\"1em\">(0,)</tspan> <tspan x=\"312.0\" font-weight=\"bold\" dy=\"1.5em\">Name:</tspan> <tspan x=\"312.0\" dx=\"1em\" dy=\"1em\">z</tspan> <tspan x=\"312.0\" dy=\"1.5em\" font-weight=\"bold\">Parameters:</tspan> <tspan x=\"312.0\" dx=\"1em\" dy=\"1em\"> theta: -31.49 </tspan> </text> <text y=\"83.0\" font-size=\"14\"> <tspan x=\"462.0\" dy=\"0em\" font-weight=\"bold\">Generators:</tspan> <tspan x=\"462.0\" dx=\"1em\" dy=\"1em\"> Z: -31.49 </tspan> </text> <g transform=\"translate(612.0, 83)\"> <svg xmlns=\"http://www.w3.org/2000/svg\" xmlns:xlink=\"http://www.w3.org/1999/xlink\" version=\"1.1\" width='85.0px' height='85.0px' class='matrix-svg'> <rect x=\"0.0\" y=\"0.0\" width=\"42.5\" height=\"42.5\" fill=\"#dccecc\" fill-opacity=\"1.0\" stroke=\"none\"/> <text fill=\"black\" font-size=\"14.166666666666666\" dominant-baseline=\"middle\" text-anchor=\"middle\"> <tspan x=\"21.25\" y=\"21.25\" dy=\"-0.4em\"> 0.96 </tspan> <tspan x=\"21.25\" y=\"21.25\" dy=\"0.65em\"> 0.27j </tspan> </text> <rect x=\"42.5\" y=\"0.0\" width=\"42.5\" height=\"42.5\" fill=\"#e1d8e1\" fill-opacity=\"0.0\" stroke=\"none\"/> <text fill=\"black\" font-size=\"14.166666666666666\" dominant-baseline=\"middle\" text-anchor=\"middle\"> </text> <rect x=\"0.0\" y=\"42.5\" width=\"42.5\" height=\"42.5\" fill=\"#e1d8e1\" fill-opacity=\"0.0\" stroke=\"none\"/> <text fill=\"black\" font-size=\"14.166666666666666\" dominant-baseline=\"middle\" text-anchor=\"middle\"> </text> <rect x=\"42.5\" y=\"42.5\" width=\"42.5\" height=\"42.5\" fill=\"#cfd4d9\" fill-opacity=\"1.0\" stroke=\"none\"/> <text fill=\"black\" font-size=\"14.166666666666666\" dominant-baseline=\"middle\" text-anchor=\"middle\"> <tspan x=\"63.75\" y=\"63.75\" dy=\"-0.4em\"> 0.96 </tspan> <tspan x=\"63.75\" y=\"63.75\" dy=\"0.65em\"> -0.27j </tspan> </text> <rect x=\"0\" y=\"0\" width=\"85.0\" height=\"85.0\" fill=\"none\" stroke=\"black\" stroke-width=\"2\"/> </svg> </g> </g> <line x1='322.0' x2='322.0' y1='27' y2='27'/> <rect x=\"307.0\" y=\"17.0\" width=\"30\" height=\"20\"/> <text x='322.0' y='31.8' text-anchor=\"middle\"> </text> </g> <rect x=\"349.0\" y=\"2.0\" width=\"45.0\" height=\"49.0\" fill=\"none\" stroke=\"#2697d0\" rx='5'/> <text x=\"356.0\" y=\"12.5\" font-size=\"10\" fill='#2697d0'>1</text> <g class=\"operation\"> <g class=\"svgtooltip\" dominant-baseline=\"hanging\"> <rect x=\"351.0\" y=\"69\" width=\"405.0\" height=\"198.0\" style=\"fill: white; stroke:darkgrey;\"/> <text y=\"83.0\" font-size=\"14\"> <tspan x=\"361.0\" font-weight=\"bold\">Labels:</tspan> <tspan x=\"361.0\" dx=\"1em\" dy=\"1em\">(0,)</tspan> <tspan x=\"361.0\" font-weight=\"bold\" dy=\"1.5em\">Name:</tspan> <tspan x=\"361.0\" dx=\"1em\" dy=\"1em\">x</tspan> <tspan x=\"361.0\" dy=\"1.5em\" font-weight=\"bold\">Aliases:</tspan> <tspan x=\"361.0\" dx=\"1em\" dy=\"1em\">Gate.sx</tspan> <tspan x=\"361.0\" dx=\"1em\" dy=\"1em\">Gate.cliff5</tspan> <tspan x=\"361.0\" dy=\"1.5em\" font-weight=\"bold\">Parameters:</tspan> </text> <text y=\"83.0\" font-size=\"14\"> <tspan x=\"511.0\" dy=\"0em\" font-weight=\"bold\">Generators:</tspan> <tspan x=\"511.0\" dx=\"1em\" dy=\"1em\"> X: 90.00 </tspan> </text> <g transform=\"translate(661.0, 83)\"> <svg xmlns=\"http://www.w3.org/2000/svg\" xmlns:xlink=\"http://www.w3.org/1999/xlink\" version=\"1.1\" width='85.0px' height='85.0px' class='matrix-svg'> <rect x=\"0.0\" y=\"0.0\" width=\"42.5\" height=\"42.5\" fill=\"#e1d8e1\" fill-opacity=\"0.9999999999999992\" stroke=\"none\"/> <text fill=\"black\" font-size=\"14.166666666666666\" dominant-baseline=\"middle\" text-anchor=\"middle\"> <tspan x=\"21.25\" y=\"21.25\" dy=\"0.1em\"> 0.71 </tspan> </text> <rect x=\"42.5\" y=\"0.0\" width=\"42.5\" height=\"42.5\" fill=\"#6175ba\" fill-opacity=\"1.0\" stroke=\"none\"/> <text fill=\"white\" font-size=\"14.166666666666666\" dominant-baseline=\"middle\" text-anchor=\"middle\"> <tspan x=\"63.75\" y=\"21.25\" dy=\"0.1em\"> -0.71j </tspan> </text> <rect x=\"0.0\" y=\"42.5\" width=\"42.5\" height=\"42.5\" fill=\"#6175ba\" fill-opacity=\"1.0\" stroke=\"none\"/> <text fill=\"white\" font-size=\"14.166666666666666\" dominant-baseline=\"middle\" text-anchor=\"middle\"> <tspan x=\"21.25\" y=\"63.75\" dy=\"0.1em\"> -0.71j </tspan> </text> <rect x=\"42.5\" y=\"42.5\" width=\"42.5\" height=\"42.5\" fill=\"#e1d8e1\" fill-opacity=\"0.9999999999999992\" stroke=\"none\"/> <text fill=\"black\" font-size=\"14.166666666666666\" dominant-baseline=\"middle\" text-anchor=\"middle\"> <tspan x=\"63.75\" y=\"63.75\" dy=\"0.1em\"> 0.71 </tspan> </text> <rect x=\"0\" y=\"0\" width=\"85.0\" height=\"85.0\" fill=\"none\" stroke=\"black\" stroke-width=\"2\"/> </svg> </g> </g> <line x1='371.0' x2='371.0' y1='27' y2='27'/> <rect x=\"356.0\" y=\"17.0\" width=\"30\" height=\"20\"/> <text x='371.0' y='31.8' text-anchor=\"middle\"> SX </text> </g> <rect x=\"398.0\" y=\"2.0\" width=\"45.0\" height=\"49.0\" fill=\"none\" stroke=\"#2697d0\" rx='5'/> <text x=\"405.0\" y=\"12.5\" font-size=\"10\" fill='#2697d0'>1</text> <g class=\"operation\"> <g class=\"svgtooltip\" dominant-baseline=\"hanging\"> <rect x=\"400.0\" y=\"69\" width=\"405.0\" height=\"198.0\" style=\"fill: white; stroke:darkgrey;\"/> <text y=\"83.0\" font-size=\"14\"> <tspan x=\"410.0\" font-weight=\"bold\">Labels:</tspan> <tspan x=\"410.0\" dx=\"1em\" dy=\"1em\">(0,)</tspan> <tspan x=\"410.0\" font-weight=\"bold\" dy=\"1.5em\">Name:</tspan> <tspan x=\"410.0\" dx=\"1em\" dy=\"1em\">z</tspan> <tspan x=\"410.0\" dy=\"1.5em\" font-weight=\"bold\">Parameters:</tspan> <tspan x=\"410.0\" dx=\"1em\" dy=\"1em\"> theta: 145.88 </tspan> </text> <text y=\"83.0\" font-size=\"14\"> <tspan x=\"560.0\" dy=\"0em\" font-weight=\"bold\">Generators:</tspan> <tspan x=\"560.0\" dx=\"1em\" dy=\"1em\"> Z: 145.88 </tspan> </text> <g transform=\"translate(710.0, 83)\"> <svg xmlns=\"http://www.w3.org/2000/svg\" xmlns:xlink=\"http://www.w3.org/1999/xlink\" version=\"1.1\" width='85.0px' height='85.0px' class='matrix-svg'> <rect x=\"0.0\" y=\"0.0\" width=\"42.5\" height=\"42.5\" fill=\"#6c8fbf\" fill-opacity=\"1.0\" stroke=\"none\"/> <text fill=\"black\" font-size=\"14.166666666666666\" dominant-baseline=\"middle\" text-anchor=\"middle\"> <tspan x=\"21.25\" y=\"21.25\" dy=\"-0.4em\"> 0.29 </tspan> <tspan x=\"21.25\" y=\"21.25\" dy=\"0.65em\"> -0.96j </tspan> </text> <rect x=\"42.5\" y=\"0.0\" width=\"42.5\" height=\"42.5\" fill=\"#e1d8e1\" fill-opacity=\"0.0\" stroke=\"none\"/> <text fill=\"black\" font-size=\"14.166666666666666\" dominant-baseline=\"middle\" text-anchor=\"middle\"> </text> <rect x=\"0.0\" y=\"42.5\" width=\"42.5\" height=\"42.5\" fill=\"#e1d8e1\" fill-opacity=\"0.0\" stroke=\"none\"/> <text fill=\"black\" font-size=\"14.166666666666666\" dominant-baseline=\"middle\" text-anchor=\"middle\"> </text> <rect x=\"42.5\" y=\"42.5\" width=\"42.5\" height=\"42.5\" fill=\"#bf725c\" fill-opacity=\"1.0\" stroke=\"none\"/> <text fill=\"black\" font-size=\"14.166666666666666\" dominant-baseline=\"middle\" text-anchor=\"middle\"> <tspan x=\"63.75\" y=\"63.75\" dy=\"-0.4em\"> 0.29 </tspan> <tspan x=\"63.75\" y=\"63.75\" dy=\"0.65em\"> 0.96j </tspan> </text> <rect x=\"0\" y=\"0\" width=\"85.0\" height=\"85.0\" fill=\"none\" stroke=\"black\" stroke-width=\"2\"/> </svg> </g> </g> <line x1='420.0' x2='420.0' y1='27' y2='27'/> <rect x=\"405.0\" y=\"17.0\" width=\"30\" height=\"20\"/> <text x='420.0' y='31.8' text-anchor=\"middle\"> </text> </g> <rect x=\"447.0\" y=\"2.0\" width=\"45.0\" height=\"49.0\" fill=\"none\" stroke=\"#2697d0\" rx='5'/> <text x=\"454.0\" y=\"12.5\" font-size=\"10\" fill='#2697d0'>1</text> <g class=\"operation\"> <g class=\"svgtooltip\" dominant-baseline=\"hanging\"> <rect x=\"449.0\" y=\"69\" width=\"405.0\" height=\"198.0\" style=\"fill: white; stroke:darkgrey;\"/> <text y=\"83.0\" font-size=\"14\"> <tspan x=\"459.0\" font-weight=\"bold\">Labels:</tspan> <tspan x=\"459.0\" dx=\"1em\" dy=\"1em\">(0,)</tspan> <tspan x=\"459.0\" font-weight=\"bold\" dy=\"1.5em\">Name:</tspan> <tspan x=\"459.0\" dx=\"1em\" dy=\"1em\">x</tspan> <tspan x=\"459.0\" dy=\"1.5em\" font-weight=\"bold\">Aliases:</tspan> <tspan x=\"459.0\" dx=\"1em\" dy=\"1em\">Gate.sx</tspan> <tspan x=\"459.0\" dx=\"1em\" dy=\"1em\">Gate.cliff5</tspan> <tspan x=\"459.0\" dy=\"1.5em\" font-weight=\"bold\">Parameters:</tspan> </text> <text y=\"83.0\" font-size=\"14\"> <tspan x=\"609.0\" dy=\"0em\" font-weight=\"bold\">Generators:</tspan> <tspan x=\"609.0\" dx=\"1em\" dy=\"1em\"> X: 90.00 </tspan> </text> <g transform=\"translate(759.0, 83)\"> <svg xmlns=\"http://www.w3.org/2000/svg\" xmlns:xlink=\"http://www.w3.org/1999/xlink\" version=\"1.1\" width='85.0px' height='85.0px' class='matrix-svg'> <rect x=\"0.0\" y=\"0.0\" width=\"42.5\" height=\"42.5\" fill=\"#e1d8e1\" fill-opacity=\"0.9999999999999992\" stroke=\"none\"/> <text fill=\"black\" font-size=\"14.166666666666666\" dominant-baseline=\"middle\" text-anchor=\"middle\"> <tspan x=\"21.25\" y=\"21.25\" dy=\"0.1em\"> 0.71 </tspan> </text> <rect x=\"42.5\" y=\"0.0\" width=\"42.5\" height=\"42.5\" fill=\"#6175ba\" fill-opacity=\"1.0\" stroke=\"none\"/> <text fill=\"white\" font-size=\"14.166666666666666\" dominant-baseline=\"middle\" text-anchor=\"middle\"> <tspan x=\"63.75\" y=\"21.25\" dy=\"0.1em\"> -0.71j </tspan> </text> <rect x=\"0.0\" y=\"42.5\" width=\"42.5\" height=\"42.5\" fill=\"#6175ba\" fill-opacity=\"1.0\" stroke=\"none\"/> <text fill=\"white\" font-size=\"14.166666666666666\" dominant-baseline=\"middle\" text-anchor=\"middle\"> <tspan x=\"21.25\" y=\"63.75\" dy=\"0.1em\"> -0.71j </tspan> </text> <rect x=\"42.5\" y=\"42.5\" width=\"42.5\" height=\"42.5\" fill=\"#e1d8e1\" fill-opacity=\"0.9999999999999992\" stroke=\"none\"/> <text fill=\"black\" font-size=\"14.166666666666666\" dominant-baseline=\"middle\" text-anchor=\"middle\"> <tspan x=\"63.75\" y=\"63.75\" dy=\"0.1em\"> 0.71 </tspan> </text> <rect x=\"0\" y=\"0\" width=\"85.0\" height=\"85.0\" fill=\"none\" stroke=\"black\" stroke-width=\"2\"/> </svg> </g> </g> <line x1='469.0' x2='469.0' y1='27' y2='27'/> <rect x=\"454.0\" y=\"17.0\" width=\"30\" height=\"20\"/> <text x='469.0' y='31.8' text-anchor=\"middle\"> SX </text> </g> <rect x=\"496.0\" y=\"2.0\" width=\"45.0\" height=\"49.0\" fill=\"none\" stroke=\"#2697d0\" rx='5'/> <text x=\"503.0\" y=\"12.5\" font-size=\"10\" fill='#2697d0'>1</text> <g class=\"operation\"> <g class=\"svgtooltip\" dominant-baseline=\"hanging\"> <rect x=\"498.0\" y=\"69\" width=\"405.0\" height=\"198.0\" style=\"fill: white; stroke:darkgrey;\"/> <text y=\"83.0\" font-size=\"14\"> <tspan x=\"508.0\" font-weight=\"bold\">Labels:</tspan> <tspan x=\"508.0\" dx=\"1em\" dy=\"1em\">(0,)</tspan> <tspan x=\"508.0\" font-weight=\"bold\" dy=\"1.5em\">Name:</tspan> <tspan x=\"508.0\" dx=\"1em\" dy=\"1em\">z</tspan> <tspan x=\"508.0\" dy=\"1.5em\" font-weight=\"bold\">Parameters:</tspan> <tspan x=\"508.0\" dx=\"1em\" dy=\"1em\"> theta: -247.34 </tspan> </text> <text y=\"83.0\" font-size=\"14\"> <tspan x=\"658.0\" dy=\"0em\" font-weight=\"bold\">Generators:</tspan> <tspan x=\"658.0\" dx=\"1em\" dy=\"1em\"> Z: -247.34 </tspan> </text> <g transform=\"translate(808.0, 83)\"> <svg xmlns=\"http://www.w3.org/2000/svg\" xmlns:xlink=\"http://www.w3.org/1999/xlink\" version=\"1.1\" width='85.0px' height='85.0px' class='matrix-svg'> <rect x=\"0.0\" y=\"0.0\" width=\"42.5\" height=\"42.5\" fill=\"#872750\" fill-opacity=\"1.0\" stroke=\"none\"/> <text fill=\"white\" font-size=\"14.166666666666666\" dominant-baseline=\"middle\" text-anchor=\"middle\"> <tspan x=\"21.25\" y=\"21.25\" dy=\"-0.4em\"> -0.55 </tspan> <tspan x=\"21.25\" y=\"21.25\" dy=\"0.65em\"> 0.83j </tspan> </text> <rect x=\"42.5\" y=\"0.0\" width=\"42.5\" height=\"42.5\" fill=\"#e1d8e1\" fill-opacity=\"0.0\" stroke=\"none\"/> <text fill=\"black\" font-size=\"14.166666666666666\" dominant-baseline=\"middle\" text-anchor=\"middle\"> </text> <rect x=\"0.0\" y=\"42.5\" width=\"42.5\" height=\"42.5\" fill=\"#e1d8e1\" fill-opacity=\"0.0\" stroke=\"none\"/> <text fill=\"black\" font-size=\"14.166666666666666\" dominant-baseline=\"middle\" text-anchor=\"middle\"> </text> <rect x=\"42.5\" y=\"42.5\" width=\"42.5\" height=\"42.5\" fill=\"#5c3da0\" fill-opacity=\"1.0\" stroke=\"none\"/> <text fill=\"white\" font-size=\"14.166666666666666\" dominant-baseline=\"middle\" text-anchor=\"middle\"> <tspan x=\"63.75\" y=\"63.75\" dy=\"-0.4em\"> -0.55 </tspan> <tspan x=\"63.75\" y=\"63.75\" dy=\"0.65em\"> -0.83j </tspan> </text> <rect x=\"0\" y=\"0\" width=\"85.0\" height=\"85.0\" fill=\"none\" stroke=\"black\" stroke-width=\"2\"/> </svg> </g> </g> <line x1='518.0' x2='518.0' y1='27' y2='27'/> <rect x=\"503.0\" y=\"17.0\" width=\"30\" height=\"20\"/> <text x='518.0' y='31.8' text-anchor=\"middle\"> </text> </g> <rect x=\"545.0\" y=\"2.0\" width=\"45.0\" height=\"49.0\" fill=\"none\" stroke=\"#2697d0\" rx='5'/> <text x=\"552.0\" y=\"12.5\" font-size=\"10\" fill='#2697d0'>2</text> <g class=\"operation\"> <g class=\"svgtooltip\" dominant-baseline=\"hanging\"> <rect x=\"547.0\" y=\"69\" width=\"170\" height=\"198.0\" style=\"fill: white; stroke:darkgrey;\"/> <text y=\"83.0\" font-size=\"14\"> <tspan x=\"557.0\" font-weight=\"bold\">Labels:</tspan> <tspan x=\"557.0\" dx=\"1em\" dy=\"1em\">(0,)</tspan> <tspan x=\"557.0\" font-weight=\"bold\" dy=\"1.5em\">Name:</tspan> <tspan x=\"557.0\" dx=\"1em\" dy=\"1em\">Meas</tspan> </text> </g> <line x1='567.0' x2='567.0' y1='27' y2='27'/> <rect x=\"552.0\" y=\"17.0\" width=\"30\" height=\"20\"/> <text x='567.0' y='31.8' text-anchor=\"middle\"> M </text> </g> </svg></div>"
      ],
      "text/plain": [
       "DisplayWrapper(<svg xmlns=\"http://w...)"
      ]
     },
     "execution_count": 17,
     "metadata": {},
     "output_type": "execute_result"
    }
   ],
   "source": [
    "circ2r[0].draw()"
   ]
  },
  {
   "cell_type": "code",
   "execution_count": null,
   "id": "7c9db831",
   "metadata": {},
   "outputs": [],
   "source": []
  }
 ],
 "metadata": {
  "kernelspec": {
   "display_name": "Python 3 (ipykernel)",
   "language": "python",
   "name": "python3"
  },
  "language_info": {
   "codemirror_mode": {
    "name": "ipython",
    "version": 3
   },
   "file_extension": ".py",
   "mimetype": "text/x-python",
   "name": "python",
   "nbconvert_exporter": "python",
   "pygments_lexer": "ipython3",
   "version": "3.9.2"
  }
 },
 "nbformat": 4,
 "nbformat_minor": 5
}
